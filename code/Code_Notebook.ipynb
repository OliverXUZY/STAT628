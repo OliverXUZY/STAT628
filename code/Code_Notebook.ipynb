{
 "cells": [
  {
   "cell_type": "markdown",
   "metadata": {},
   "source": [
    "# Codes"
   ]
  },
  {
   "cell_type": "markdown",
   "metadata": {},
   "source": [
    "## Initialize"
   ]
  },
  {
   "cell_type": "code",
   "execution_count": 45,
   "metadata": {},
   "outputs": [
    {
     "name": "stderr",
     "output_type": "stream",
     "text": [
      "Loading required package: KernSmooth\n",
      "KernSmooth 2.23 loaded\n",
      "Copyright M. P. Wand 1997-2009\n"
     ]
    }
   ],
   "source": [
    "if (!require(\"ggplot2\")) {      # If loading package fails,\n",
    "  install.packages(\"ggplot2\")   # download it from internet,\n",
    "  stopifnot(require(\"ggplot2\")) # and insist that it load.\n",
    "}\n",
    "if (!require(\"ggpubr\")) {\n",
    "  install.packages(\"ggpubr\")\n",
    "  stopifnot(require(\"ggpubr\"))\n",
    "}\n",
    "if (!require(\"car\")) {\n",
    "  install.packages(\"car\")\n",
    "  stopifnot(require(\"car\"))\n",
    "}\n",
    "if (!require(\"MASS\")) {\n",
    "  install.packages(\"MASS\")\n",
    "  stopifnot(require(\"MASS\"))\n",
    "}\n",
    "if (!require(\"leaps\")) {\n",
    "  install.packages(\"leaps\")\n",
    "  stopifnot(require(\"leaps\"))\n",
    "}\n",
    "if (!require(\"KernSmooth\")) {\n",
    "  install.packages(\"KernSmooth\")\n",
    "  stopifnot(require(\"KernSmooth\"))\n",
    "}"
   ]
  },
  {
   "cell_type": "markdown",
   "metadata": {},
   "source": [
    "## Data Processing"
   ]
  },
  {
   "cell_type": "markdown",
   "metadata": {},
   "source": [
    "### Sumamrize Data"
   ]
  },
  {
   "cell_type": "code",
   "execution_count": 10,
   "metadata": {},
   "outputs": [],
   "source": [
    "setwd(\"..\") # 设置父目录为工作目录"
   ]
  },
  {
   "cell_type": "code",
   "execution_count": 11,
   "metadata": {},
   "outputs": [
    {
     "data": {
      "text/html": [
       "<table>\n",
       "<thead><tr><th scope=col>IDNO</th><th scope=col>BODYFAT</th><th scope=col>DENSITY</th><th scope=col>AGE</th><th scope=col>WEIGHT</th><th scope=col>HEIGHT</th><th scope=col>ADIPOSITY</th><th scope=col>NECK</th><th scope=col>CHEST</th><th scope=col>ABDOMEN</th><th scope=col>HIP</th><th scope=col>THIGH</th><th scope=col>KNEE</th><th scope=col>ANKLE</th><th scope=col>BICEPS</th><th scope=col>FOREARM</th><th scope=col>WRIST</th></tr></thead>\n",
       "<tbody>\n",
       "\t<tr><td>1     </td><td>12.6  </td><td>1.0708</td><td>23    </td><td>154.25</td><td>67.75 </td><td>23.7  </td><td>36.2  </td><td> 93.1 </td><td> 85.2 </td><td> 94.5 </td><td>59.0  </td><td>37.3  </td><td>21.9  </td><td>32.0  </td><td>27.4  </td><td>17.1  </td></tr>\n",
       "\t<tr><td>2     </td><td> 6.9  </td><td>1.0853</td><td>22    </td><td>173.25</td><td>72.25 </td><td>23.4  </td><td>38.5  </td><td> 93.6 </td><td> 83.0 </td><td> 98.7 </td><td>58.7  </td><td>37.3  </td><td>23.4  </td><td>30.5  </td><td>28.9  </td><td>18.2  </td></tr>\n",
       "\t<tr><td>3     </td><td>24.6  </td><td>1.0414</td><td>22    </td><td>154.00</td><td>66.25 </td><td>24.7  </td><td>34.0  </td><td> 95.8 </td><td> 87.9 </td><td> 99.2 </td><td>59.6  </td><td>38.9  </td><td>24.0  </td><td>28.8  </td><td>25.2  </td><td>16.6  </td></tr>\n",
       "\t<tr><td>4     </td><td>10.9  </td><td>1.0751</td><td>26    </td><td>184.75</td><td>72.25 </td><td>24.9  </td><td>37.4  </td><td>101.8 </td><td> 86.4 </td><td>101.2 </td><td>60.1  </td><td>37.3  </td><td>22.8  </td><td>32.4  </td><td>29.4  </td><td>18.2  </td></tr>\n",
       "\t<tr><td>5     </td><td>27.8  </td><td>1.0340</td><td>24    </td><td>184.25</td><td>71.25 </td><td>25.6  </td><td>34.4  </td><td> 97.3 </td><td>100.0 </td><td>101.9 </td><td>63.2  </td><td>42.2  </td><td>24.0  </td><td>32.2  </td><td>27.7  </td><td>17.7  </td></tr>\n",
       "\t<tr><td>6     </td><td>20.6  </td><td>1.0502</td><td>24    </td><td>210.25</td><td>74.75 </td><td>26.5  </td><td>39.0  </td><td>104.5 </td><td> 94.4 </td><td>107.8 </td><td>66.0  </td><td>42.0  </td><td>25.6  </td><td>35.7  </td><td>30.6  </td><td>18.8  </td></tr>\n",
       "</tbody>\n",
       "</table>\n"
      ],
      "text/latex": [
       "\\begin{tabular}{r|lllllllllllllllll}\n",
       " IDNO & BODYFAT & DENSITY & AGE & WEIGHT & HEIGHT & ADIPOSITY & NECK & CHEST & ABDOMEN & HIP & THIGH & KNEE & ANKLE & BICEPS & FOREARM & WRIST\\\\\n",
       "\\hline\n",
       "\t 1      & 12.6   & 1.0708 & 23     & 154.25 & 67.75  & 23.7   & 36.2   &  93.1  &  85.2  &  94.5  & 59.0   & 37.3   & 21.9   & 32.0   & 27.4   & 17.1  \\\\\n",
       "\t 2      &  6.9   & 1.0853 & 22     & 173.25 & 72.25  & 23.4   & 38.5   &  93.6  &  83.0  &  98.7  & 58.7   & 37.3   & 23.4   & 30.5   & 28.9   & 18.2  \\\\\n",
       "\t 3      & 24.6   & 1.0414 & 22     & 154.00 & 66.25  & 24.7   & 34.0   &  95.8  &  87.9  &  99.2  & 59.6   & 38.9   & 24.0   & 28.8   & 25.2   & 16.6  \\\\\n",
       "\t 4      & 10.9   & 1.0751 & 26     & 184.75 & 72.25  & 24.9   & 37.4   & 101.8  &  86.4  & 101.2  & 60.1   & 37.3   & 22.8   & 32.4   & 29.4   & 18.2  \\\\\n",
       "\t 5      & 27.8   & 1.0340 & 24     & 184.25 & 71.25  & 25.6   & 34.4   &  97.3  & 100.0  & 101.9  & 63.2   & 42.2   & 24.0   & 32.2   & 27.7   & 17.7  \\\\\n",
       "\t 6      & 20.6   & 1.0502 & 24     & 210.25 & 74.75  & 26.5   & 39.0   & 104.5  &  94.4  & 107.8  & 66.0   & 42.0   & 25.6   & 35.7   & 30.6   & 18.8  \\\\\n",
       "\\end{tabular}\n"
      ],
      "text/markdown": [
       "\n",
       "| IDNO | BODYFAT | DENSITY | AGE | WEIGHT | HEIGHT | ADIPOSITY | NECK | CHEST | ABDOMEN | HIP | THIGH | KNEE | ANKLE | BICEPS | FOREARM | WRIST |\n",
       "|---|---|---|---|---|---|---|---|---|---|---|---|---|---|---|---|---|\n",
       "| 1      | 12.6   | 1.0708 | 23     | 154.25 | 67.75  | 23.7   | 36.2   |  93.1  |  85.2  |  94.5  | 59.0   | 37.3   | 21.9   | 32.0   | 27.4   | 17.1   |\n",
       "| 2      |  6.9   | 1.0853 | 22     | 173.25 | 72.25  | 23.4   | 38.5   |  93.6  |  83.0  |  98.7  | 58.7   | 37.3   | 23.4   | 30.5   | 28.9   | 18.2   |\n",
       "| 3      | 24.6   | 1.0414 | 22     | 154.00 | 66.25  | 24.7   | 34.0   |  95.8  |  87.9  |  99.2  | 59.6   | 38.9   | 24.0   | 28.8   | 25.2   | 16.6   |\n",
       "| 4      | 10.9   | 1.0751 | 26     | 184.75 | 72.25  | 24.9   | 37.4   | 101.8  |  86.4  | 101.2  | 60.1   | 37.3   | 22.8   | 32.4   | 29.4   | 18.2   |\n",
       "| 5      | 27.8   | 1.0340 | 24     | 184.25 | 71.25  | 25.6   | 34.4   |  97.3  | 100.0  | 101.9  | 63.2   | 42.2   | 24.0   | 32.2   | 27.7   | 17.7   |\n",
       "| 6      | 20.6   | 1.0502 | 24     | 210.25 | 74.75  | 26.5   | 39.0   | 104.5  |  94.4  | 107.8  | 66.0   | 42.0   | 25.6   | 35.7   | 30.6   | 18.8   |\n",
       "\n"
      ],
      "text/plain": [
       "  IDNO BODYFAT DENSITY AGE WEIGHT HEIGHT ADIPOSITY NECK CHEST ABDOMEN HIP  \n",
       "1 1    12.6    1.0708  23  154.25 67.75  23.7      36.2  93.1  85.2    94.5\n",
       "2 2     6.9    1.0853  22  173.25 72.25  23.4      38.5  93.6  83.0    98.7\n",
       "3 3    24.6    1.0414  22  154.00 66.25  24.7      34.0  95.8  87.9    99.2\n",
       "4 4    10.9    1.0751  26  184.75 72.25  24.9      37.4 101.8  86.4   101.2\n",
       "5 5    27.8    1.0340  24  184.25 71.25  25.6      34.4  97.3 100.0   101.9\n",
       "6 6    20.6    1.0502  24  210.25 74.75  26.5      39.0 104.5  94.4   107.8\n",
       "  THIGH KNEE ANKLE BICEPS FOREARM WRIST\n",
       "1 59.0  37.3 21.9  32.0   27.4    17.1 \n",
       "2 58.7  37.3 23.4  30.5   28.9    18.2 \n",
       "3 59.6  38.9 24.0  28.8   25.2    16.6 \n",
       "4 60.1  37.3 22.8  32.4   29.4    18.2 \n",
       "5 63.2  42.2 24.0  32.2   27.7    17.7 \n",
       "6 66.0  42.0 25.6  35.7   30.6    18.8 "
      ]
     },
     "metadata": {},
     "output_type": "display_data"
    }
   ],
   "source": [
    "data.original = read.csv(\"data/BodyFat.csv\")\n",
    "head(data.original)"
   ]
  },
  {
   "cell_type": "code",
   "execution_count": 12,
   "metadata": {},
   "outputs": [
    {
     "data": {
      "text/html": [
       "<ol class=list-inline>\n",
       "\t<li>252</li>\n",
       "\t<li>17</li>\n",
       "</ol>\n"
      ],
      "text/latex": [
       "\\begin{enumerate*}\n",
       "\\item 252\n",
       "\\item 17\n",
       "\\end{enumerate*}\n"
      ],
      "text/markdown": [
       "1. 252\n",
       "2. 17\n",
       "\n",
       "\n"
      ],
      "text/plain": [
       "[1] 252  17"
      ]
     },
     "metadata": {},
     "output_type": "display_data"
    }
   ],
   "source": [
    "dim(data.original)"
   ]
  },
  {
   "cell_type": "code",
   "execution_count": 21,
   "metadata": {},
   "outputs": [
    {
     "data": {
      "text/plain": [
       "    BODYFAT           AGE            WEIGHT          HEIGHT     \n",
       " Min.   : 0.00   Min.   :22.00   Min.   :118.5   Min.   :29.50  \n",
       " 1st Qu.:12.80   1st Qu.:35.75   1st Qu.:159.0   1st Qu.:68.25  \n",
       " Median :19.00   Median :43.00   Median :176.5   Median :70.00  \n",
       " Mean   :18.94   Mean   :44.88   Mean   :178.9   Mean   :70.15  \n",
       " 3rd Qu.:24.60   3rd Qu.:54.00   3rd Qu.:197.0   3rd Qu.:72.25  \n",
       " Max.   :45.10   Max.   :81.00   Max.   :363.1   Max.   :77.75  \n",
       "   ADIPOSITY          NECK           CHEST           ABDOMEN      \n",
       " Min.   :18.10   Min.   :31.10   Min.   : 79.30   Min.   : 69.40  \n",
       " 1st Qu.:23.10   1st Qu.:36.40   1st Qu.: 94.35   1st Qu.: 84.58  \n",
       " Median :25.05   Median :38.00   Median : 99.65   Median : 90.95  \n",
       " Mean   :25.44   Mean   :37.99   Mean   :100.82   Mean   : 92.56  \n",
       " 3rd Qu.:27.32   3rd Qu.:39.42   3rd Qu.:105.38   3rd Qu.: 99.33  \n",
       " Max.   :48.90   Max.   :51.20   Max.   :136.20   Max.   :148.10  \n",
       "      HIP            THIGH            KNEE           ANKLE          BICEPS     \n",
       " Min.   : 85.0   Min.   :47.20   Min.   :33.00   Min.   :19.1   Min.   :24.80  \n",
       " 1st Qu.: 95.5   1st Qu.:56.00   1st Qu.:36.98   1st Qu.:22.0   1st Qu.:30.20  \n",
       " Median : 99.3   Median :59.00   Median :38.50   Median :22.8   Median :32.05  \n",
       " Mean   : 99.9   Mean   :59.41   Mean   :38.59   Mean   :23.1   Mean   :32.27  \n",
       " 3rd Qu.:103.5   3rd Qu.:62.35   3rd Qu.:39.92   3rd Qu.:24.0   3rd Qu.:34.33  \n",
       " Max.   :147.7   Max.   :87.30   Max.   :49.10   Max.   :33.9   Max.   :45.00  \n",
       "    FOREARM          WRIST      \n",
       " Min.   :21.00   Min.   :15.80  \n",
       " 1st Qu.:27.30   1st Qu.:17.60  \n",
       " Median :28.70   Median :18.30  \n",
       " Mean   :28.66   Mean   :18.23  \n",
       " 3rd Qu.:30.00   3rd Qu.:18.80  \n",
       " Max.   :34.90   Max.   :21.40  "
      ]
     },
     "metadata": {},
     "output_type": "display_data"
    }
   ],
   "source": [
    "data = data.original[,c(-1,-3)]\n",
    "index = 1:252\n",
    "summary(data)"
   ]
  },
  {
   "cell_type": "code",
   "execution_count": 22,
   "metadata": {},
   "outputs": [
    {
     "data": {
      "image/png": "[encoded data removed]",
      "text/plain": [
       "Plot with title \"WRIST\""
      ]
     },
     "metadata": {},
     "output_type": "display_data"
    }
   ],
   "source": [
    "par(mfrow = c(3,5))\n",
    "for(i in 1:15){\n",
    "  plot(data[,i], main = colnames(data)[i], ylab = \"\", xlab = \"\", \n",
    "       pch = 20, col = \"gray\")\n",
    "}\n",
    "par(mfrow = c(1,1))"
   ]
  },
  {
   "cell_type": "markdown",
   "metadata": {},
   "source": [
    "### potential outliers"
   ]
  },
  {
   "cell_type": "code",
   "execution_count": 23,
   "metadata": {},
   "outputs": [
    {
     "data": {
      "text/html": [
       "<table>\n",
       "<thead><tr><th></th><th scope=col>BODYFAT</th><th scope=col>AGE</th><th scope=col>WEIGHT</th><th scope=col>HEIGHT</th><th scope=col>ADIPOSITY</th><th scope=col>NECK</th><th scope=col>CHEST</th><th scope=col>ABDOMEN</th><th scope=col>HIP</th><th scope=col>THIGH</th><th scope=col>KNEE</th><th scope=col>ANKLE</th><th scope=col>BICEPS</th><th scope=col>FOREARM</th><th scope=col>WRIST</th></tr></thead>\n",
       "<tbody>\n",
       "\t<tr><th scope=row>31</th><td>12.3  </td><td>32    </td><td>182.00</td><td>73.75 </td><td>23.6  </td><td>38.7  </td><td>100.5 </td><td> 88.7 </td><td> 99.8 </td><td>57.5  </td><td>38.7  </td><td>33.9  </td><td>32.5  </td><td>27.7  </td><td>18.4  </td></tr>\n",
       "\t<tr><th scope=row>39</th><td>33.8  </td><td>46    </td><td>363.15</td><td>72.25 </td><td>48.9  </td><td>51.2  </td><td>136.2 </td><td>148.1 </td><td>147.7 </td><td>87.3  </td><td>49.1  </td><td>29.6  </td><td>45.0  </td><td>29.0  </td><td>21.4  </td></tr>\n",
       "\t<tr><th scope=row>41</th><td>33.1  </td><td>45    </td><td>262.75</td><td>68.75 </td><td>39.1  </td><td>43.2  </td><td>128.3 </td><td>126.2 </td><td>125.6 </td><td>72.5  </td><td>39.6  </td><td>26.6  </td><td>36.4  </td><td>32.7  </td><td>21.4  </td></tr>\n",
       "\t<tr><th scope=row>42</th><td>31.7  </td><td>44    </td><td>205.00</td><td>29.50 </td><td>29.9  </td><td>36.6  </td><td>106.0 </td><td>104.3 </td><td>115.5 </td><td>70.6  </td><td>42.5  </td><td>23.7  </td><td>33.6  </td><td>28.7  </td><td>17.4  </td></tr>\n",
       "\t<tr><th scope=row>86</th><td>25.8  </td><td>67    </td><td>167.00</td><td>67.50 </td><td>26.0  </td><td>36.5  </td><td> 98.9 </td><td> 89.7 </td><td> 96.2 </td><td>54.7  </td><td>37.8  </td><td>33.7  </td><td>32.4  </td><td>27.7  </td><td>18.2  </td></tr>\n",
       "\t<tr><th scope=row>172</th><td> 1.9  </td><td>35    </td><td>125.75</td><td>65.50 </td><td>20.6  </td><td>34.0  </td><td> 90.8 </td><td> 75.0 </td><td> 89.2 </td><td>50.0  </td><td>34.8  </td><td>22.0  </td><td>24.8  </td><td>25.9  </td><td>16.9  </td></tr>\n",
       "\t<tr><th scope=row>182</th><td> 0.0  </td><td>40    </td><td>118.50</td><td>68.00 </td><td>18.1  </td><td>33.8  </td><td> 79.3 </td><td> 69.4 </td><td> 85.0 </td><td>47.2  </td><td>33.5  </td><td>20.2  </td><td>27.7  </td><td>24.6  </td><td>16.5  </td></tr>\n",
       "\t<tr><th scope=row>216</th><td>45.1  </td><td>51    </td><td>219.00</td><td>64.00 </td><td>37.6  </td><td>41.2  </td><td>119.8 </td><td>122.1 </td><td>112.8 </td><td>62.5  </td><td>36.9  </td><td>23.6  </td><td>34.7  </td><td>29.1  </td><td>18.4  </td></tr>\n",
       "</tbody>\n",
       "</table>\n"
      ],
      "text/latex": [
       "\\begin{tabular}{r|lllllllllllllll}\n",
       "  & BODYFAT & AGE & WEIGHT & HEIGHT & ADIPOSITY & NECK & CHEST & ABDOMEN & HIP & THIGH & KNEE & ANKLE & BICEPS & FOREARM & WRIST\\\\\n",
       "\\hline\n",
       "\t31 & 12.3   & 32     & 182.00 & 73.75  & 23.6   & 38.7   & 100.5  &  88.7  &  99.8  & 57.5   & 38.7   & 33.9   & 32.5   & 27.7   & 18.4  \\\\\n",
       "\t39 & 33.8   & 46     & 363.15 & 72.25  & 48.9   & 51.2   & 136.2  & 148.1  & 147.7  & 87.3   & 49.1   & 29.6   & 45.0   & 29.0   & 21.4  \\\\\n",
       "\t41 & 33.1   & 45     & 262.75 & 68.75  & 39.1   & 43.2   & 128.3  & 126.2  & 125.6  & 72.5   & 39.6   & 26.6   & 36.4   & 32.7   & 21.4  \\\\\n",
       "\t42 & 31.7   & 44     & 205.00 & 29.50  & 29.9   & 36.6   & 106.0  & 104.3  & 115.5  & 70.6   & 42.5   & 23.7   & 33.6   & 28.7   & 17.4  \\\\\n",
       "\t86 & 25.8   & 67     & 167.00 & 67.50  & 26.0   & 36.5   &  98.9  &  89.7  &  96.2  & 54.7   & 37.8   & 33.7   & 32.4   & 27.7   & 18.2  \\\\\n",
       "\t172 &  1.9   & 35     & 125.75 & 65.50  & 20.6   & 34.0   &  90.8  &  75.0  &  89.2  & 50.0   & 34.8   & 22.0   & 24.8   & 25.9   & 16.9  \\\\\n",
       "\t182 &  0.0   & 40     & 118.50 & 68.00  & 18.1   & 33.8   &  79.3  &  69.4  &  85.0  & 47.2   & 33.5   & 20.2   & 27.7   & 24.6   & 16.5  \\\\\n",
       "\t216 & 45.1   & 51     & 219.00 & 64.00  & 37.6   & 41.2   & 119.8  & 122.1  & 112.8  & 62.5   & 36.9   & 23.6   & 34.7   & 29.1   & 18.4  \\\\\n",
       "\\end{tabular}\n"
      ],
      "text/markdown": [
       "\n",
       "| <!--/--> | BODYFAT | AGE | WEIGHT | HEIGHT | ADIPOSITY | NECK | CHEST | ABDOMEN | HIP | THIGH | KNEE | ANKLE | BICEPS | FOREARM | WRIST |\n",
       "|---|---|---|---|---|---|---|---|---|---|---|---|---|---|---|---|\n",
       "| 31 | 12.3   | 32     | 182.00 | 73.75  | 23.6   | 38.7   | 100.5  |  88.7  |  99.8  | 57.5   | 38.7   | 33.9   | 32.5   | 27.7   | 18.4   |\n",
       "| 39 | 33.8   | 46     | 363.15 | 72.25  | 48.9   | 51.2   | 136.2  | 148.1  | 147.7  | 87.3   | 49.1   | 29.6   | 45.0   | 29.0   | 21.4   |\n",
       "| 41 | 33.1   | 45     | 262.75 | 68.75  | 39.1   | 43.2   | 128.3  | 126.2  | 125.6  | 72.5   | 39.6   | 26.6   | 36.4   | 32.7   | 21.4   |\n",
       "| 42 | 31.7   | 44     | 205.00 | 29.50  | 29.9   | 36.6   | 106.0  | 104.3  | 115.5  | 70.6   | 42.5   | 23.7   | 33.6   | 28.7   | 17.4   |\n",
       "| 86 | 25.8   | 67     | 167.00 | 67.50  | 26.0   | 36.5   |  98.9  |  89.7  |  96.2  | 54.7   | 37.8   | 33.7   | 32.4   | 27.7   | 18.2   |\n",
       "| 172 |  1.9   | 35     | 125.75 | 65.50  | 20.6   | 34.0   |  90.8  |  75.0  |  89.2  | 50.0   | 34.8   | 22.0   | 24.8   | 25.9   | 16.9   |\n",
       "| 182 |  0.0   | 40     | 118.50 | 68.00  | 18.1   | 33.8   |  79.3  |  69.4  |  85.0  | 47.2   | 33.5   | 20.2   | 27.7   | 24.6   | 16.5   |\n",
       "| 216 | 45.1   | 51     | 219.00 | 64.00  | 37.6   | 41.2   | 119.8  | 122.1  | 112.8  | 62.5   | 36.9   | 23.6   | 34.7   | 29.1   | 18.4   |\n",
       "\n"
      ],
      "text/plain": [
       "    BODYFAT AGE WEIGHT HEIGHT ADIPOSITY NECK CHEST ABDOMEN HIP   THIGH KNEE\n",
       "31  12.3    32  182.00 73.75  23.6      38.7 100.5  88.7    99.8 57.5  38.7\n",
       "39  33.8    46  363.15 72.25  48.9      51.2 136.2 148.1   147.7 87.3  49.1\n",
       "41  33.1    45  262.75 68.75  39.1      43.2 128.3 126.2   125.6 72.5  39.6\n",
       "42  31.7    44  205.00 29.50  29.9      36.6 106.0 104.3   115.5 70.6  42.5\n",
       "86  25.8    67  167.00 67.50  26.0      36.5  98.9  89.7    96.2 54.7  37.8\n",
       "172  1.9    35  125.75 65.50  20.6      34.0  90.8  75.0    89.2 50.0  34.8\n",
       "182  0.0    40  118.50 68.00  18.1      33.8  79.3  69.4    85.0 47.2  33.5\n",
       "216 45.1    51  219.00 64.00  37.6      41.2 119.8 122.1   112.8 62.5  36.9\n",
       "    ANKLE BICEPS FOREARM WRIST\n",
       "31  33.9  32.5   27.7    18.4 \n",
       "39  29.6  45.0   29.0    21.4 \n",
       "41  26.6  36.4   32.7    21.4 \n",
       "42  23.7  33.6   28.7    17.4 \n",
       "86  33.7  32.4   27.7    18.2 \n",
       "172 22.0  24.8   25.9    16.9 \n",
       "182 20.2  27.7   24.6    16.5 \n",
       "216 23.6  34.7   29.1    18.4 "
      ]
     },
     "metadata": {},
     "output_type": "display_data"
    }
   ],
   "source": [
    "RMIndex = which(data[,1]<2 | data[,1]==max(data[,1]) | \n",
    "                  data[,3]==max(data[,3]) | data[,4]==min(data[,4]) | \n",
    "                  data[,5] > 35 | \n",
    "                  data[,6]==max(data[,6]) | data[,7]>125 | \n",
    "                  data[,8]==max(data[,8]) | data[,9]>120 | \n",
    "                  data[,10]==max(data[,10]) | data[,11]==max(data[,11]) | \n",
    "                  data[,11]==max(data[,11]) | data[,12]>29 | \n",
    "                  data[,13]==max(data[,13]))\n",
    "\n",
    "data[RMIndex,]"
   ]
  },
  {
   "cell_type": "markdown",
   "metadata": {},
   "source": [
    "### scatter plot matrix"
   ]
  },
  {
   "cell_type": "code",
   "execution_count": 18,
   "metadata": {},
   "outputs": [
    {
     "data": {
      "image/png": "[encoded data removed]",
      "text/plain": [
       "plot without title"
      ]
     },
     "metadata": {},
     "output_type": "display_data"
    }
   ],
   "source": [
    "pcolor = \"cadetblue\"\n",
    "\n",
    "color = rep(pcolor, 252)\n",
    "color[data[,1]<2 | data[,1]==max(data[,1])] = \"red\"\n",
    "sp1 = ggplot(data, aes(y=BODYFAT, x = index)) + geom_point(color = color) + \n",
    "  annotate(\"text\", y = data[data[,1]<2 | data[,1]==max(data[,1]),1], \n",
    "           x = which(data[,1]<2 | data[,1]==max(data[,1]))+20,  \n",
    "           label= which(data[,1]<2 | data[,1]==max(data[,1]))) + \n",
    "  ggtitle(\"BODYFAT\") + xlab(\"\") + ylab(\"\") + \n",
    "  theme(plot.title = element_text(color=\"#993333\", size=10, face=\"bold\",hjust = 0.5), \n",
    "        axis.text = element_blank(), axis.ticks = element_blank())\n",
    "\n",
    "color = rep(pcolor, 252)\n",
    "sp2 = ggplot(data, aes(y=AGE, x = index)) + geom_point(color = color) + \n",
    "  ggtitle(\"BODYFAT\") + xlab(\"\") + ylab(\"\") + \n",
    "  ggtitle(\"AGE\") + xlab(\"\") + ylab(\"\") + \n",
    "  theme(plot.title = element_text(color=\"#993333\", size=10, face=\"bold\",hjust = 0.5), \n",
    "        axis.text = element_blank(), axis.ticks = element_blank())\n",
    "\n",
    "color = rep(pcolor, 252)\n",
    "color[data[,3]==max(data[,3])] = \"red\"\n",
    "sp3 = ggplot(data, aes(y=WEIGHT, x = index)) + geom_point(color = color) + \n",
    "  annotate(\"text\", y = data[data[,3]==max(data[,3]),3], \n",
    "           x = which(data[,3]==max(data[,3]))+20,  \n",
    "           label= which(data[,3]==max(data[,3]))) + \n",
    "  ggtitle(\"BODYFAT\") + xlab(\"\") + ylab(\"\") + \n",
    "  ggtitle(\"WEIGHT\") + xlab(\"\") + ylab(\"\") + \n",
    "  theme(plot.title = element_text(color=\"#993333\", size=10, face=\"bold\",hjust = 0.5), \n",
    "        axis.text = element_blank(), axis.ticks = element_blank())\n",
    "\n",
    "color = rep(pcolor, 252)\n",
    "color[data[,4]==min(data[,4])] = \"red\"\n",
    "sp4 = ggplot(data, aes(y=HEIGHT, x = index)) + geom_point(color = color) + \n",
    "  annotate(\"text\", y = data[data[,4]==min(data[,4]),4], \n",
    "           x = which(data[,4]==min(data[,4]))+20,  \n",
    "           label= which(data[,4]==min(data[,4]))) + \n",
    "  ggtitle(\"HEIGHT\") + xlab(\"\") + ylab(\"\") + \n",
    "  theme(plot.title = element_text(color=\"#993333\", size=10, face=\"bold\",hjust = 0.5), \n",
    "        axis.text = element_blank(), axis.ticks = element_blank())\n",
    "\n",
    "color = rep(pcolor, 252)\n",
    "color[data[,5] > 35] = \"red\"\n",
    "sp5 = ggplot(data, aes(y=ADIPOSITY, x = index)) + geom_point(color = color) + \n",
    "  annotate(\"text\", y = data[data[,5] > 35,5], \n",
    "           x = which(data[,5] > 35)+20,  \n",
    "           label= which(data[,5] > 35)) + \n",
    "  ggtitle(\"ADIPOSITY\") + xlab(\"\") + ylab(\"\") + \n",
    "  theme(plot.title = element_text(color=\"#993333\", size=10, face=\"bold\",hjust = 0.5), \n",
    "        axis.text = element_blank(), axis.ticks = element_blank())\n",
    "\n",
    "color = rep(pcolor, 252)\n",
    "color[data[,6]==max(data[,6])] = \"red\"\n",
    "sp6 = ggplot(data, aes(y=NECK, x = index)) + geom_point(color = color) + \n",
    "  annotate(\"text\", y = data[data[,6]==max(data[,6]),6], \n",
    "           x = which(data[,6]==max(data[,6]))+20,  \n",
    "           label= which(data[,6]==max(data[,6]))) + \n",
    "  ggtitle(\"NECK\") + xlab(\"\") + ylab(\"\") + \n",
    "  theme(plot.title = element_text(color=\"#993333\", size=10, face=\"bold\",hjust = 0.5), \n",
    "        axis.text = element_blank(), axis.ticks = element_blank())\n",
    "\n",
    "color = rep(pcolor, 252)\n",
    "color[data[,7]>125] = \"red\"\n",
    "sp7 = ggplot(data, aes(y=CHEST, x = index)) + geom_point(color = color) + \n",
    "  annotate(\"text\", y = data[data[,7]>125,7], \n",
    "           x = which(data[,7]>125)+20,  \n",
    "           label= which(data[,7]>125)) + \n",
    "  ggtitle(\"CHEST\") + xlab(\"\") + ylab(\"\") + \n",
    "  theme(plot.title = element_text(color=\"#993333\", size=10, face=\"bold\",hjust = 0.5), \n",
    "        axis.text = element_blank(), axis.ticks = element_blank())\n",
    "\n",
    "color = rep(pcolor, 252)\n",
    "color[data[,8]==max(data[,8])] = \"red\"\n",
    "sp8 = ggplot(data, aes(y=ABDOMEN, x = index)) + geom_point(color = color) + \n",
    "  annotate(\"text\", y = data[data[,8]==max(data[,8]),8], \n",
    "           x = which(data[,8]==max(data[,8]))+20,  \n",
    "           label= which(data[,8]==max(data[,8]))) + \n",
    "  ggtitle(\"ABDOMEN\") + xlab(\"\") + ylab(\"\") + \n",
    "  theme(plot.title = element_text(color=\"#993333\", size=10, face=\"bold\",hjust = 0.5), \n",
    "        axis.text = element_blank(), axis.ticks = element_blank())\n",
    "\n",
    "color = rep(pcolor, 252)\n",
    "color[data[,9]>120] = \"red\"\n",
    "sp9 = ggplot(data, aes(y=HIP, x = index)) + geom_point(color = color) + \n",
    "  annotate(\"text\", y = data[data[,9]>120,9], \n",
    "           x = which(data[,9]>120)+20,  \n",
    "           label= which(data[,9]>120)) + \n",
    "  ggtitle(\"HIP\") + xlab(\"\") + ylab(\"\") + \n",
    "  theme(plot.title = element_text(color=\"#993333\", size=10, face=\"bold\",hjust = 0.5), \n",
    "        axis.text = element_blank(), axis.ticks = element_blank())\n",
    "\n",
    "color = rep(pcolor, 252)\n",
    "color[data[,10]==max(data[,10])] = \"red\"\n",
    "sp10 = ggplot(data, aes(y=THIGH, x = index)) + geom_point(color = color) + \n",
    "  annotate(\"text\", y = data[data[,10]==max(data[,10]),10], \n",
    "           x = which(data[,10]==max(data[,10]))+20,  \n",
    "           label= which(data[,10]==max(data[,10]))) + \n",
    "  ggtitle(\"THIGH\") + xlab(\"\") + ylab(\"\") + \n",
    "  theme(plot.title = element_text(color=\"#993333\", size=10, face=\"bold\",hjust = 0.5), \n",
    "        axis.text = element_blank(), axis.ticks = element_blank())\n",
    "\n",
    "color = rep(pcolor, 252)\n",
    "color[data[,11]==max(data[,11])] = \"red\"\n",
    "sp11 = ggplot(data, aes(y=KNEE, x = index)) + geom_point(color = color) + \n",
    "  annotate(\"text\", y = data[data[,11]==max(data[,11]),11], \n",
    "           x = which(data[,11]==max(data[,11]))+20,  \n",
    "           label= which(data[,11]==max(data[,11]))) + \n",
    "  ggtitle(\"KNEE\") + xlab(\"\") + ylab(\"\") + \n",
    "  theme(plot.title = element_text(color=\"#993333\", size=10, face=\"bold\",hjust = 0.5), \n",
    "        axis.text = element_blank(), axis.ticks = element_blank())\n",
    "\n",
    "color = rep(pcolor, 252)\n",
    "color[data[,12]>29] = \"red\"\n",
    "sp12 = ggplot(data, aes(y=ANKLE, x = index)) + geom_point(color = color) + \n",
    "  annotate(\"text\", y = data[data[,12]>29,12], \n",
    "           x = which(data[,12]>29)+20,  \n",
    "           label= which(data[,12]>29)) + \n",
    "  ggtitle(\"ANKLE\") + xlab(\"\") + ylab(\"\") + \n",
    "  theme(plot.title = element_text(color=\"#993333\", size=10, face=\"bold\",hjust = 0.5), \n",
    "        axis.text = element_blank(), axis.ticks = element_blank())\n",
    "\n",
    "color = rep(pcolor, 252)\n",
    "color[data[,13]==max(data[,13])] = \"red\"\n",
    "sp13 = ggplot(data, aes(y=BICEPS, x = index)) + geom_point(color = color) + \n",
    "  annotate(\"text\", y = data[data[,13]==max(data[,13]),13], \n",
    "           x = which(data[,13]==max(data[,13]))+20,  \n",
    "           label= which(data[,13]==max(data[,13]))) + \n",
    "  ggtitle(\"BICEPS\") + xlab(\"\") + ylab(\"\") + \n",
    "  theme(plot.title = element_text(color=\"#993333\", size=10, face=\"bold\",hjust = 0.5), \n",
    "        axis.text = element_blank(), axis.ticks = element_blank())\n",
    "\n",
    "color = rep(pcolor, 252)\n",
    "sp14 = ggplot(data, aes(y=FOREARM, x = index)) + geom_point(color = color) + \n",
    "  ggtitle(\"FOREARM\") + xlab(\"\") + ylab(\"\") + \n",
    "  theme(plot.title = element_text(color=\"#993333\", size=10, face=\"bold\",hjust = 0.5), \n",
    "        axis.text = element_blank(), axis.ticks = element_blank())\n",
    "\n",
    "color = rep(pcolor, 252)\n",
    "sp15 = ggplot(data, aes(y=WRIST, x = index)) + geom_point(color = color) + \n",
    "  ggtitle(\"WRIST\") + xlab(\"\") + ylab(\"\") + \n",
    "  theme(plot.title = element_text(color=\"#993333\", size=10, face=\"bold\",hjust = 0.5), \n",
    "        axis.text = element_blank(), axis.ticks = element_blank())\n",
    "\n",
    "ggarrange(sp1,sp2,sp3,sp4,sp5,sp6,sp7,sp8,sp9,sp10,sp11,sp12,sp13,sp14,sp15,ncol=5,nrow=3)"
   ]
  },
  {
   "cell_type": "markdown",
   "metadata": {},
   "source": [
    "### modify height of NO.42"
   ]
  },
  {
   "cell_type": "code",
   "execution_count": 24,
   "metadata": {},
   "outputs": [],
   "source": [
    "c1 = 0.4535922921969\n",
    "c2 = 0.0254\n",
    "height42 = sqrt(data[42,3]*c1/data[42,5])/c2\n",
    "data[42, 4] = height42\n",
    "RMIndex = c(31, 39, 86, 172, 182, 216)\n",
    "index = 1:252\n",
    "index = index[-RMIndex]"
   ]
  },
  {
   "cell_type": "markdown",
   "metadata": {},
   "source": [
    "### compare recalculated bmi and ADIPOSITY"
   ]
  },
  {
   "cell_type": "code",
   "execution_count": 26,
   "metadata": {},
   "outputs": [
    {
     "name": "stdout",
     "output_type": "stream",
     "text": [
      "[1] 163 221\n",
      "[1] 24.4 24.5\n",
      "[1] 27.40693 21.67806\n"
     ]
    }
   ],
   "source": [
    "bmi = data[,3]*c1/(data[,4]*c2)^2\n",
    "bmi_error_index = which(abs(bmi-data[,5])>1)\n",
    "print(bmi_error_index)\n",
    "print(data[bmi_error_index,5])\n",
    "print(bmi[bmi_error_index])"
   ]
  },
  {
   "cell_type": "code",
   "execution_count": 27,
   "metadata": {},
   "outputs": [],
   "source": [
    "data[bmi_error_index,5] = bmi[bmi_error_index]"
   ]
  },
  {
   "cell_type": "markdown",
   "metadata": {},
   "source": [
    "### simple linear regression"
   ]
  },
  {
   "cell_type": "code",
   "execution_count": 29,
   "metadata": {},
   "outputs": [
    {
     "data": {
      "text/plain": [
       "\n",
       "Call:\n",
       "lm(formula = BODYFAT ~ ., data = data[-RMIndex, ])\n",
       "\n",
       "Residuals:\n",
       "    Min      1Q  Median      3Q     Max \n",
       "-9.5930 -2.7941 -0.0726  2.6856  9.0127 \n",
       "\n",
       "Coefficients:\n",
       "             Estimate Std. Error t value Pr(>|t|)    \n",
       "(Intercept) -47.62325   55.93741  -0.851  0.39545    \n",
       "AGE           0.05849    0.03022   1.935  0.05418 .  \n",
       "WEIGHT       -0.15907    0.15611  -1.019  0.30928    \n",
       "HEIGHT        0.56474    0.79924   0.707  0.48053    \n",
       "ADIPOSITY     1.14036    1.13160   1.008  0.31463    \n",
       "NECK         -0.36288    0.21825  -1.663  0.09773 .  \n",
       "CHEST        -0.12259    0.10299  -1.190  0.23512    \n",
       "ABDOMEN       0.80991    0.08503   9.525  < 2e-16 ***\n",
       "HIP          -0.18890    0.13741  -1.375  0.17055    \n",
       "THIGH         0.18179    0.13828   1.315  0.18993    \n",
       "KNEE          0.05234    0.23442   0.223  0.82353    \n",
       "ANKLE        -0.06360    0.33398  -0.190  0.84914    \n",
       "BICEPS        0.11559    0.15965   0.724  0.46980    \n",
       "FOREARM       0.24847    0.19265   1.290  0.19843    \n",
       "WRIST        -1.55816    0.51231  -3.041  0.00263 ** \n",
       "---\n",
       "Signif. codes:  0 '***' 0.001 '**' 0.01 '*' 0.05 '.' 0.1 ' ' 1\n",
       "\n",
       "Residual standard error: 3.903 on 231 degrees of freedom\n",
       "Multiple R-squared:  0.738,\tAdjusted R-squared:  0.7221 \n",
       "F-statistic: 46.47 on 14 and 231 DF,  p-value: < 2.2e-16\n"
      ]
     },
     "metadata": {},
     "output_type": "display_data"
    }
   ],
   "source": [
    "lm.naive = lm(BODYFAT~., data = data[-RMIndex,])\n",
    "summary(lm.naive)"
   ]
  },
  {
   "cell_type": "code",
   "execution_count": 30,
   "metadata": {},
   "outputs": [
    {
     "data": {
      "text/html": [
       "<dl class=dl-horizontal>\n",
       "\t<dt>AGE</dt>\n",
       "\t\t<dd>2.34041101012118</dd>\n",
       "\t<dt>WEIGHT</dt>\n",
       "\t\t<dd>279.200988557249</dd>\n",
       "\t<dt>HEIGHT</dt>\n",
       "\t\t<dd>67.7971353529057</dd>\n",
       "\t<dt>ADIPOSITY</dt>\n",
       "\t\t<dd>216.416089772455</dd>\n",
       "\t<dt>NECK</dt>\n",
       "\t\t<dd>3.94524019023082</dd>\n",
       "\t<dt>CHEST</dt>\n",
       "\t\t<dd>10.8992827866639</dd>\n",
       "\t<dt>ABDOMEN</dt>\n",
       "\t\t<dd>11.5567251767386</dd>\n",
       "\t<dt>HIP</dt>\n",
       "\t\t<dd>12.4869086231431</dd>\n",
       "\t<dt>THIGH</dt>\n",
       "\t\t<dd>7.36272774597513</dd>\n",
       "\t<dt>KNEE</dt>\n",
       "\t\t<dd>4.70912964549268</dd>\n",
       "\t<dt>ANKLE</dt>\n",
       "\t\t<dd>3.20355969589338</dd>\n",
       "\t<dt>BICEPS</dt>\n",
       "\t\t<dd>3.42323504268868</dd>\n",
       "\t<dt>FOREARM</dt>\n",
       "\t\t<dd>2.43173555484636</dd>\n",
       "\t<dt>WRIST</dt>\n",
       "\t\t<dd>3.51214967840353</dd>\n",
       "</dl>\n"
      ],
      "text/latex": [
       "\\begin{description*}\n",
       "\\item[AGE] 2.34041101012118\n",
       "\\item[WEIGHT] 279.200988557249\n",
       "\\item[HEIGHT] 67.7971353529057\n",
       "\\item[ADIPOSITY] 216.416089772455\n",
       "\\item[NECK] 3.94524019023082\n",
       "\\item[CHEST] 10.8992827866639\n",
       "\\item[ABDOMEN] 11.5567251767386\n",
       "\\item[HIP] 12.4869086231431\n",
       "\\item[THIGH] 7.36272774597513\n",
       "\\item[KNEE] 4.70912964549268\n",
       "\\item[ANKLE] 3.20355969589338\n",
       "\\item[BICEPS] 3.42323504268868\n",
       "\\item[FOREARM] 2.43173555484636\n",
       "\\item[WRIST] 3.51214967840353\n",
       "\\end{description*}\n"
      ],
      "text/markdown": [
       "AGE\n",
       ":   2.34041101012118WEIGHT\n",
       ":   279.200988557249HEIGHT\n",
       ":   67.7971353529057ADIPOSITY\n",
       ":   216.416089772455NECK\n",
       ":   3.94524019023082CHEST\n",
       ":   10.8992827866639ABDOMEN\n",
       ":   11.5567251767386HIP\n",
       ":   12.4869086231431THIGH\n",
       ":   7.36272774597513KNEE\n",
       ":   4.70912964549268ANKLE\n",
       ":   3.20355969589338BICEPS\n",
       ":   3.42323504268868FOREARM\n",
       ":   2.43173555484636WRIST\n",
       ":   3.51214967840353\n",
       "\n"
      ],
      "text/plain": [
       "       AGE     WEIGHT     HEIGHT  ADIPOSITY       NECK      CHEST    ABDOMEN \n",
       "  2.340411 279.200989  67.797135 216.416090   3.945240  10.899283  11.556725 \n",
       "       HIP      THIGH       KNEE      ANKLE     BICEPS    FOREARM      WRIST \n",
       " 12.486909   7.362728   4.709130   3.203560   3.423235   2.431736   3.512150 "
      ]
     },
     "metadata": {},
     "output_type": "display_data"
    }
   ],
   "source": [
    "vif(lm.naive)"
   ]
  },
  {
   "cell_type": "code",
   "execution_count": 31,
   "metadata": {},
   "outputs": [
    {
     "data": {
      "text/html": [
       "44.9489513452005"
      ],
      "text/latex": [
       "44.9489513452005"
      ],
      "text/markdown": [
       "44.9489513452005"
      ],
      "text/plain": [
       "[1] 44.94895"
      ]
     },
     "metadata": {},
     "output_type": "display_data"
    }
   ],
   "source": [
    "mean(vif(lm.naive))"
   ]
  },
  {
   "cell_type": "markdown",
   "metadata": {},
   "source": [
    "### Model Diagnostics"
   ]
  },
  {
   "cell_type": "code",
   "execution_count": 32,
   "metadata": {},
   "outputs": [
    {
     "name": "stderr",
     "output_type": "stream",
     "text": [
      "Warning message in is.na(x):\n",
      "\"is.na()不适用于类别为'expression'的非串列或非矢量\"Warning message in is.na(x):\n",
      "\"is.na()不适用于类别为'expression'的非串列或非矢量\""
     ]
    },
    {
     "data": {
      "image/png": "[encoded data removed]",
      "text/plain": [
       "plot without title"
      ]
     },
     "metadata": {},
     "output_type": "display_data"
    }
   ],
   "source": [
    "# scatter plot\n",
    "df = data.frame(fit = lm.naive$fitted.values, res = lm.naive$residuals)\n",
    "rp1 = ggplot(df,aes(x = fit, y = res)) + geom_point(color = pcolor, cex = 2) + \n",
    "  ggtitle(\"Fitted Values v.s. Studentized Residuals\") +\n",
    "  xlab(\"Fitted Values\") + ylab(\"Studentized residuals\") + \n",
    "  theme(plot.title = element_text(color=\"#993333\", size=16, face=\"bold\",hjust = 0.5),\n",
    "        axis.title.x = element_text(color=\"#993333\", size=14, face=\"bold\"),\n",
    "        axis.title.y = element_text(color=\"#993333\", size=14, face=\"bold\")) + \n",
    "  geom_smooth(method = lm, se = TRUE)\n",
    "\n",
    "# qq plot\n",
    "q1 = quantile(lm.naive$residuals, c(0.25, 0.75), type = 5)\n",
    "q2 = qnorm(c(0.25, 0.75))\n",
    "slope = diff(q1)/diff(q2)\n",
    "int = q1[1]-slope*q2[1]\n",
    "qp1 = ggplot() +\n",
    "  geom_qq(aes(sample = lm.naive$residuals), color = pcolor, cex = 2) +\n",
    "  geom_abline(intercept = int, slope = slope,\n",
    "              color = \"brown2\", size = 1, alpha = 0.8)+\n",
    "  ggtitle(\"QQ-Plot\") + ylab(\"Standardized Residuals\") + xlab(\"Theoretical Quantiles\") + \n",
    "  theme(plot.title = element_text(color=\"#993333\", size=16, face=\"bold\",hjust = 0.5),\n",
    "        axis.title.x = element_text(color=\"#993333\", size=14, face=\"bold\"),\n",
    "        axis.title.y = element_text(color=\"#993333\", size=14, face=\"bold\"))\n",
    "\n",
    "### Studentized Residual\n",
    "\n",
    "lm.stdres = stdres(lm.naive)\n",
    "df = data.frame(fit = lm.naive$fitted.values, str = lm.stdres)\n",
    "srp1 = ggplot(df,aes(x = fit, y = str)) + geom_point(color = pcolor, cex = 2) + \n",
    "  ggtitle(\"Fitted Values v.s. Studentized Residuals\") +\n",
    "  xlab(\"Fitted Values\") + ylab(\"Studentized residuals\") + \n",
    "  theme( plot.title = element_text(color=\"#993333\", size=16, face=\"bold\",hjust = 0.5),\n",
    "         axis.title.x = element_text(color=\"#993333\", size=14, face=\"bold\"),\n",
    "         axis.title.y = element_text(color=\"#993333\", size=14, face=\"bold\"))\n",
    "\n",
    "### Leverage Value\n",
    "\n",
    "lm.hats=hatvalues(lm.naive)\n",
    "df = data.frame(x = 1:length(index), y = lm.hats)\n",
    "h0 = 28/246 # Rule of thumb for judging outliers\n",
    "srp2 = ggplot(df,aes(x=x,xend=x,y=0,yend=y,label = index)) + geom_segment() + \n",
    "  annotate(\"text\", x=which(lm.hats>h0), y=lm.hats[lm.hats>h0] + 0.01,  label= index[which(lm.hats>h0)]) +\n",
    "  annotate(\"text\", x = 255, y = h0-0.007, label = expression(2*p/n)) + \n",
    "  geom_hline(yintercept=h0, linetype= \"dashed\", color = \"navyblue\", size=1) + \n",
    "  ggtitle(\"Leverage Value\") + xlab(\"Index\") + ylab(\"Leverage Value\") + \n",
    "  theme( plot.title = element_text(color=\"#993333\", size=16, face=\"bold\",hjust = 0.5),\n",
    "         axis.title.x = element_text(color=\"#993333\", size=14, face=\"bold\"),\n",
    "         axis.title.y = element_text(color=\"#993333\", size=14, face=\"bold\"))\n",
    "\n",
    "### DFFITS\n",
    "\n",
    "lm.dffits = dffits(lm.naive)\n",
    "df = data.frame(x = 1:length(index), y = lm.dffits)\n",
    "d0 = 2*sqrt(14/246) # Rule of thumb for judging influential points\n",
    "srp3 = ggplot(df,aes(x=x,xend=x,y=0,yend=y,label = index)) + geom_segment() + \n",
    "  annotate(\"text\", x = which(abs(lm.dffits)>d0), y=lm.dffits[abs(lm.dffits)>d0],  label= index[which(abs(lm.dffits)>d0)]) +\n",
    "  geom_hline(yintercept=c(-1*d0, 0, d0), linetype=c(\"dashed\",\"solid\",\"dashed\"), \n",
    "             color = \"navyblue\", size=1) + \n",
    "  annotate(\"text\", x = 255, y = d0-0.05, label = expression(2*sqrt(p/n))) +\n",
    "  ggtitle(\"DFFITS\") + xlab(\"Index\") + ylab(\"DFFITS\") + \n",
    "  theme( plot.title = element_text(color=\"#993333\", size=16, face=\"bold\",hjust = 0.5),\n",
    "         axis.title.x = element_text(color=\"#993333\", size=14, face=\"bold\"),\n",
    "         axis.title.y = element_text(color=\"#993333\", size=14, face=\"bold\"))\n",
    "\n",
    "### Cook's Distance\n",
    "\n",
    "lm.cooksD=cooks.distance(lm.naive)\n",
    "df = data.frame(x = 1:length(index), y = lm.cooksD)\n",
    "c0 = qf(0.5, 14, 232)\n",
    "srp4 = ggplot(df,aes(x=x,xend=x,y=0,yend=y,label = index)) + geom_segment() + \n",
    "  geom_hline(yintercept=c0, linetype= \"dashed\", color = \"navyblue\", size=1) + \n",
    "  annotate(\"text\", x = 255, y = c0-0.05, label = expression(F[paste(\"p,n-p\", sep=\"\")])) +\n",
    "  ggtitle(\"Cook's Distance\") + xlab(\"Index\") + ylab(\"Cook's Distance\") + \n",
    "  theme( plot.title = element_text(color=\"#993333\", size=16, face=\"bold\",hjust = 0.5),\n",
    "         axis.title.x = element_text(color=\"#993333\", size=14, face=\"bold\"),\n",
    "         axis.title.y = element_text(color=\"#993333\", size=14, face=\"bold\"))\n",
    "\n",
    "ggarrange(srp1, qp1, srp2, srp3, ncol=2, nrow=2)"
   ]
  },
  {
   "cell_type": "code",
   "execution_count": 33,
   "metadata": {},
   "outputs": [
    {
     "data": {
      "text/html": [
       "<table>\n",
       "<thead><tr><th></th><th scope=col>BODYFAT</th><th scope=col>AGE</th><th scope=col>WEIGHT</th><th scope=col>HEIGHT</th><th scope=col>ADIPOSITY</th><th scope=col>NECK</th><th scope=col>CHEST</th><th scope=col>ABDOMEN</th><th scope=col>HIP</th><th scope=col>THIGH</th><th scope=col>KNEE</th><th scope=col>ANKLE</th><th scope=col>BICEPS</th><th scope=col>FOREARM</th><th scope=col>WRIST</th></tr></thead>\n",
       "<tbody>\n",
       "\t<tr><th scope=row>41</th><td>33.1    </td><td>45      </td><td>262.75  </td><td>68.75   </td><td>39.10000</td><td>43.2    </td><td>128.3   </td><td>126.2   </td><td>125.6   </td><td>72.5    </td><td>39.6    </td><td>26.6    </td><td>36.4    </td><td>32.7    </td><td>21.4    </td></tr>\n",
       "\t<tr><th scope=row>54</th><td> 7.1    </td><td>49      </td><td>152.75  </td><td>73.50   </td><td>19.90000</td><td>35.1    </td><td> 93.3   </td><td> 79.6   </td><td> 91.6   </td><td>52.6    </td><td>37.6    </td><td>22.6    </td><td>38.5    </td><td>27.4    </td><td>18.5    </td></tr>\n",
       "\t<tr><th scope=row>221</th><td>12.7    </td><td>54      </td><td>153.25  </td><td>70.50   </td><td>21.67806</td><td>38.5    </td><td> 99.0   </td><td> 91.8   </td><td> 96.2   </td><td>57.7    </td><td>38.1    </td><td>23.9    </td><td>31.4    </td><td>29.9    </td><td>18.9    </td></tr>\n",
       "</tbody>\n",
       "</table>\n"
      ],
      "text/latex": [
       "\\begin{tabular}{r|lllllllllllllll}\n",
       "  & BODYFAT & AGE & WEIGHT & HEIGHT & ADIPOSITY & NECK & CHEST & ABDOMEN & HIP & THIGH & KNEE & ANKLE & BICEPS & FOREARM & WRIST\\\\\n",
       "\\hline\n",
       "\t41 & 33.1     & 45       & 262.75   & 68.75    & 39.10000 & 43.2     & 128.3    & 126.2    & 125.6    & 72.5     & 39.6     & 26.6     & 36.4     & 32.7     & 21.4    \\\\\n",
       "\t54 &  7.1     & 49       & 152.75   & 73.50    & 19.90000 & 35.1     &  93.3    &  79.6    &  91.6    & 52.6     & 37.6     & 22.6     & 38.5     & 27.4     & 18.5    \\\\\n",
       "\t221 & 12.7     & 54       & 153.25   & 70.50    & 21.67806 & 38.5     &  99.0    &  91.8    &  96.2    & 57.7     & 38.1     & 23.9     & 31.4     & 29.9     & 18.9    \\\\\n",
       "\\end{tabular}\n"
      ],
      "text/markdown": [
       "\n",
       "| <!--/--> | BODYFAT | AGE | WEIGHT | HEIGHT | ADIPOSITY | NECK | CHEST | ABDOMEN | HIP | THIGH | KNEE | ANKLE | BICEPS | FOREARM | WRIST |\n",
       "|---|---|---|---|---|---|---|---|---|---|---|---|---|---|---|---|\n",
       "| 41 | 33.1     | 45       | 262.75   | 68.75    | 39.10000 | 43.2     | 128.3    | 126.2    | 125.6    | 72.5     | 39.6     | 26.6     | 36.4     | 32.7     | 21.4     |\n",
       "| 54 |  7.1     | 49       | 152.75   | 73.50    | 19.90000 | 35.1     |  93.3    |  79.6    |  91.6    | 52.6     | 37.6     | 22.6     | 38.5     | 27.4     | 18.5     |\n",
       "| 221 | 12.7     | 54       | 153.25   | 70.50    | 21.67806 | 38.5     |  99.0    |  91.8    |  96.2    | 57.7     | 38.1     | 23.9     | 31.4     | 29.9     | 18.9     |\n",
       "\n"
      ],
      "text/plain": [
       "    BODYFAT AGE WEIGHT HEIGHT ADIPOSITY NECK CHEST ABDOMEN HIP   THIGH KNEE\n",
       "41  33.1    45  262.75 68.75  39.10000  43.2 128.3 126.2   125.6 72.5  39.6\n",
       "54   7.1    49  152.75 73.50  19.90000  35.1  93.3  79.6    91.6 52.6  37.6\n",
       "221 12.7    54  153.25 70.50  21.67806  38.5  99.0  91.8    96.2 57.7  38.1\n",
       "    ANKLE BICEPS FOREARM WRIST\n",
       "41  26.6  36.4   32.7    21.4 \n",
       "54  22.6  38.5   27.4    18.5 \n",
       "221 23.9  31.4   29.9    18.9 "
      ]
     },
     "metadata": {},
     "output_type": "display_data"
    }
   ],
   "source": [
    "data[index[which(lm.hats>h0 & abs(lm.dffits)>d0)],]"
   ]
  },
  {
   "cell_type": "markdown",
   "metadata": {},
   "source": [
    "### save modified data"
   ]
  },
  {
   "cell_type": "code",
   "execution_count": 35,
   "metadata": {},
   "outputs": [],
   "source": [
    "data.mod = data.original[-RMIndex,]\n",
    "data.mod[,c(-1,-3)] = data[-RMIndex,]\n",
    "write.csv(data.mod, file = \"data/Modyfied_BodyFat.csv\", row.names = FALSE)"
   ]
  },
  {
   "cell_type": "markdown",
   "metadata": {},
   "source": [
    "## Model Selection"
   ]
  },
  {
   "cell_type": "markdown",
   "metadata": {},
   "source": [
    "### forward AIC selection"
   ]
  },
  {
   "cell_type": "code",
   "execution_count": 36,
   "metadata": {
    "scrolled": false
   },
   "outputs": [
    {
     "name": "stdout",
     "output_type": "stream",
     "text": [
      "Start:  AIC=986.04\n",
      "BODYFAT ~ 1\n",
      "\n",
      "            Df Sum of Sq     RSS    AIC\n",
      "+ ABDOMEN    1    8905.8  4527.7 720.51\n",
      "+ ADIPOSITY  1    7055.8  6377.7 804.79\n",
      "+ CHEST      1    6307.6  7125.9 832.08\n",
      "+ HIP        1    5190.7  8242.8 867.89\n",
      "+ WEIGHT     1    4924.6  8508.9 875.71\n",
      "+ THIGH      1    4034.7  9398.8 900.18\n",
      "+ KNEE       1    3428.2 10005.3 915.56\n",
      "+ NECK       1    2895.3 10538.2 928.33\n",
      "+ BICEPS     1    2890.1 10543.4 928.45\n",
      "+ FOREARM    1    1661.8 11771.6 955.56\n",
      "+ WRIST      1    1355.0 12078.5 961.89\n",
      "+ ANKLE      1    1103.1 12330.4 966.97\n",
      "+ AGE        1    1053.9 12379.6 967.94\n",
      "<none>                   13433.5 986.04\n",
      "+ HEIGHT     1       3.3 13430.2 987.98\n",
      "\n",
      "Step:  AIC=720.51\n",
      "BODYFAT ~ ABDOMEN\n",
      "\n",
      "            Df Sum of Sq     RSS    AIC\n",
      "+ WEIGHT     1     610.2  3917.5 686.90\n",
      "+ WRIST      1     567.9  3959.8 689.54\n",
      "+ HEIGHT     1     467.3  4060.5 695.72\n",
      "+ NECK       1     381.3  4146.5 700.87\n",
      "+ ANKLE      1     327.4  4200.3 704.04\n",
      "+ HIP        1     262.5  4265.2 707.82\n",
      "+ KNEE       1     208.2  4319.5 710.93\n",
      "+ CHEST      1     204.0  4323.7 711.17\n",
      "+ AGE        1     105.8  4421.9 716.69\n",
      "+ FOREARM    1      98.9  4428.8 717.08\n",
      "+ BICEPS     1      98.6  4429.1 717.09\n",
      "+ THIGH      1      73.7  4454.0 718.47\n",
      "<none>                    4527.7 720.51\n",
      "+ ADIPOSITY  1      17.8  4509.9 721.54\n",
      "- ABDOMEN    1    8905.8 13433.5 986.04\n",
      "\n",
      "Step:  AIC=686.9\n",
      "BODYFAT ~ ABDOMEN + WEIGHT\n",
      "\n",
      "            Df Sum of Sq    RSS    AIC\n",
      "+ WRIST      1     176.6 3741.0 677.55\n",
      "+ THIGH      1      73.3 3844.3 684.26\n",
      "+ NECK       1      64.7 3852.8 684.80\n",
      "+ ADIPOSITY  1      32.3 3885.2 686.86\n",
      "<none>                   3917.5 686.90\n",
      "+ HEIGHT     1      29.5 3888.1 687.04\n",
      "+ BICEPS     1      25.8 3891.8 687.28\n",
      "+ FOREARM    1      13.3 3904.3 688.07\n",
      "+ CHEST      1       8.0 3909.5 688.40\n",
      "+ ANKLE      1       7.7 3909.8 688.42\n",
      "+ HIP        1       4.6 3912.9 688.61\n",
      "+ AGE        1       4.5 3913.1 688.62\n",
      "+ KNEE       1       2.8 3914.7 688.72\n",
      "- WEIGHT     1     610.2 4527.7 720.51\n",
      "- ABDOMEN    1    4591.4 8508.9 875.71\n",
      "\n",
      "Step:  AIC=677.55\n",
      "BODYFAT ~ ABDOMEN + WEIGHT + WRIST\n",
      "\n",
      "            Df Sum of Sq    RSS    AIC\n",
      "+ BICEPS     1      41.0 3699.9 676.84\n",
      "+ FOREARM    1      40.3 3700.7 676.89\n",
      "+ ADIPOSITY  1      36.4 3704.5 677.15\n",
      "+ HEIGHT     1      32.6 3708.3 677.40\n",
      "+ THIGH      1      31.0 3710.0 677.51\n",
      "<none>                   3741.0 677.55\n",
      "+ AGE        1      18.6 3722.4 678.33\n",
      "+ NECK       1      10.3 3730.7 678.88\n",
      "+ KNEE       1       7.8 3733.2 679.04\n",
      "+ CHEST      1       3.6 3737.4 679.32\n",
      "+ ANKLE      1       1.0 3740.0 679.49\n",
      "+ HIP        1       0.4 3740.5 679.53\n",
      "- WRIST      1     176.6 3917.5 686.90\n",
      "- WEIGHT     1     218.8 3959.8 689.54\n",
      "- ABDOMEN    1    4408.4 8149.3 867.09\n",
      "\n",
      "Step:  AIC=676.84\n",
      "BODYFAT ~ ABDOMEN + WEIGHT + WRIST + BICEPS\n",
      "\n",
      "            Df Sum of Sq    RSS    AIC\n",
      "<none>                   3699.9 676.84\n",
      "+ AGE        1      22.2 3677.7 677.36\n",
      "+ NECK       1      20.3 3679.6 677.49\n",
      "+ FOREARM    1      19.3 3680.6 677.55\n",
      "- BICEPS     1      41.0 3741.0 677.55\n",
      "+ ADIPOSITY  1      19.2 3680.7 677.56\n",
      "+ THIGH      1      16.5 3683.4 677.74\n",
      "+ HEIGHT     1      16.0 3683.9 677.78\n",
      "+ KNEE       1       9.6 3690.3 678.20\n",
      "+ CHEST      1       7.0 3693.0 678.38\n",
      "+ ANKLE      1       3.0 3696.9 678.64\n",
      "+ HIP        1       0.4 3699.5 678.81\n",
      "- WRIST      1     191.8 3891.8 687.28\n",
      "- WEIGHT     1     257.3 3957.2 691.38\n",
      "- ABDOMEN    1    4449.1 8149.0 869.08\n"
     ]
    },
    {
     "data": {
      "text/plain": [
       "\n",
       "Call:\n",
       "lm(formula = BODYFAT ~ ABDOMEN + WEIGHT + WRIST + BICEPS, data = data[-RMIndex, \n",
       "    ])\n",
       "\n",
       "Coefficients:\n",
       "(Intercept)      ABDOMEN       WEIGHT        WRIST       BICEPS  \n",
       "   -25.7433       0.8791      -0.1035      -1.3965       0.2279  \n"
      ]
     },
     "metadata": {},
     "output_type": "display_data"
    }
   ],
   "source": [
    "biggest = formula(lm(BODYFAT~., data[-RMIndex,]))\n",
    "step(lm(BODYFAT~1, data = data[-RMIndex,]), direction = \"both\", scope = biggest)"
   ]
  },
  {
   "cell_type": "code",
   "execution_count": 37,
   "metadata": {},
   "outputs": [
    {
     "data": {
      "text/plain": [
       "\n",
       "Call:\n",
       "lm(formula = BODYFAT ~ ABDOMEN + WEIGHT + WRIST + BICEPS, data = data[-RMIndex, \n",
       "    ])\n",
       "\n",
       "Residuals:\n",
       "    Min      1Q  Median      3Q     Max \n",
       "-9.1900 -2.8154 -0.1131  2.9533  8.6847 \n",
       "\n",
       "Coefficients:\n",
       "             Estimate Std. Error t value Pr(>|t|)    \n",
       "(Intercept) -25.74333    6.43701  -3.999 8.45e-05 ***\n",
       "ABDOMEN       0.87913    0.05164  17.023  < 2e-16 ***\n",
       "WEIGHT       -0.10347    0.02528  -4.094 5.80e-05 ***\n",
       "WRIST        -1.39650    0.39509  -3.535 0.000489 ***\n",
       "BICEPS        0.22788    0.13942   1.635 0.103455    \n",
       "---\n",
       "Signif. codes:  0 '***' 0.001 '**' 0.01 '*' 0.05 '.' 0.1 ' ' 1\n",
       "\n",
       "Residual standard error: 3.918 on 241 degrees of freedom\n",
       "Multiple R-squared:  0.7246,\tAdjusted R-squared:   0.72 \n",
       "F-statistic: 158.5 on 4 and 241 DF,  p-value: < 2.2e-16\n"
      ]
     },
     "metadata": {},
     "output_type": "display_data"
    }
   ],
   "source": [
    "summary(lm(BODYFAT~ABDOMEN+WEIGHT+WRIST+BICEPS, data[-RMIndex,]))"
   ]
  },
  {
   "cell_type": "markdown",
   "metadata": {},
   "source": [
    "### Pairwise Plot"
   ]
  },
  {
   "cell_type": "code",
   "execution_count": 38,
   "metadata": {},
   "outputs": [
    {
     "data": {
      "image/png": "[encoded data removed]",
      "text/plain": [
       "plot without title"
      ]
     },
     "metadata": {},
     "output_type": "display_data"
    }
   ],
   "source": [
    "panel.hist_line = function(x,...)\n",
    "{\n",
    "  usr = par(\"usr\"); on.exit(par(usr))\n",
    "  par(usr = c(usr[1:2],0,1.5))\n",
    "  h = hist(x,plot = FALSE)\n",
    "  breaks = h$breaks;nB = length(breaks)\n",
    "  y = h$counts;y = y/max(y)\n",
    "  rect(breaks[-nB],0,breaks[-1],y,col = \"cyan\")\n",
    "}\n",
    "panel_cor = function(x,y,digits = 2,prefix = \"\",cex.cor,...)\n",
    "{\n",
    "  usr = par(\"usr\"); on.exit(par(usr))\n",
    "  par(usr = c(0,1,0,1))\n",
    "  r = abs(cor(x,y))\n",
    "  txt = format(c(r,0.123456789),digits = digits)[1]\n",
    "  txt = paste0(prefix,txt)\n",
    "  if(missing(cex.cor)) cex.cor = 0.8/strwidth(txt)\n",
    "  text(0.5,0.5,txt,cex = 4)\n",
    "}\n",
    "pairs(data[,c(3,8,13,15)],upper.panel = panel.smooth,lower.panel = panel_cor,\n",
    "      cex = 1.5,pch = 16,col = \"dodgerblue3\", bg = \"navy blue\",\n",
    "      diag.panel = panel.hist_line, cex.labels = 2,font.labels = 2)"
   ]
  },
  {
   "cell_type": "markdown",
   "metadata": {},
   "source": [
    "### R^2, Cp, bic, best subset"
   ]
  },
  {
   "cell_type": "code",
   "execution_count": 39,
   "metadata": {},
   "outputs": [
    {
     "data": {
      "text/html": [
       "<table>\n",
       "<thead><tr><th></th><th scope=col>(Intercept)</th><th scope=col>WEIGHT</th><th scope=col>ABDOMEN</th><th scope=col>BICEPS</th><th scope=col>WRIST</th><th scope=col>rsq</th><th scope=col>rss</th><th scope=col>adjr2</th><th scope=col>cp</th><th scope=col>bic</th></tr></thead>\n",
       "<tbody>\n",
       "\t<tr><th scope=row>3</th><td>1         </td><td>1         </td><td>1         </td><td>0         </td><td>1         </td><td>0.7215197 </td><td> 3740.961 </td><td>0.7180675 </td><td>  5.671657</td><td>-292.46707</td></tr>\n",
       "\t<tr><th scope=row>3</th><td>1         </td><td>1         </td><td>1         </td><td>1         </td><td>0         </td><td>0.7102945 </td><td> 3891.756 </td><td>0.7067031 </td><td> 15.493820</td><td>-282.74569</td></tr>\n",
       "\t<tr><th scope=row>2</th><td>1         </td><td>1         </td><td>1         </td><td>0         </td><td>0         </td><td>0.7083749 </td><td> 3917.543 </td><td>0.7059746 </td><td> 15.173503</td><td>-286.62637</td></tr>\n",
       "\t<tr><th scope=row>3</th><td>1         </td><td>0         </td><td>1         </td><td>1         </td><td>1         </td><td>0.7054212 </td><td> 3957.220 </td><td>0.7017694 </td><td> 19.757932</td><td>-278.64206</td></tr>\n",
       "\t<tr><th scope=row>2</th><td>1         </td><td>0         </td><td>1         </td><td>0         </td><td>1         </td><td>0.7052308 </td><td> 3959.779 </td><td>0.7028047 </td><td> 17.924565</td><td>-283.98841</td></tr>\n",
       "\t<tr><th scope=row>2</th><td>1         </td><td>0         </td><td>1         </td><td>1         </td><td>0         </td><td>0.6702921 </td><td> 4429.128 </td><td>0.6675784 </td><td> 48.496131</td><td>-256.43284</td></tr>\n",
       "\t<tr><th scope=row>1</th><td>1         </td><td>0         </td><td>1         </td><td>0         </td><td>0         </td><td>0.6629524 </td><td> 4527.725 </td><td>0.6615710 </td><td> 52.918394</td><td>-256.52198</td></tr>\n",
       "\t<tr><th scope=row>1</th><td>1         </td><td>1         </td><td>0         </td><td>0         </td><td>0         </td><td>0.3665898 </td><td> 8508.908 </td><td>0.3639939 </td><td>312.237156</td><td>-101.32206</td></tr>\n",
       "\t<tr><th scope=row>1</th><td>1         </td><td>0         </td><td>0         </td><td>1         </td><td>0         </td><td>0.2151378 </td><td>10543.438 </td><td>0.2119211 </td><td>444.758501</td><td> -48.58211</td></tr>\n",
       "</tbody>\n",
       "</table>\n"
      ],
      "text/latex": [
       "\\begin{tabular}{r|llllllllll}\n",
       "  & (Intercept) & WEIGHT & ABDOMEN & BICEPS & WRIST & rsq & rss & adjr2 & cp & bic\\\\\n",
       "\\hline\n",
       "\t3 & 1          & 1          & 1          & 0          & 1          & 0.7215197  &  3740.961  & 0.7180675  &   5.671657 & -292.46707\\\\\n",
       "\t3 & 1          & 1          & 1          & 1          & 0          & 0.7102945  &  3891.756  & 0.7067031  &  15.493820 & -282.74569\\\\\n",
       "\t2 & 1          & 1          & 1          & 0          & 0          & 0.7083749  &  3917.543  & 0.7059746  &  15.173503 & -286.62637\\\\\n",
       "\t3 & 1          & 0          & 1          & 1          & 1          & 0.7054212  &  3957.220  & 0.7017694  &  19.757932 & -278.64206\\\\\n",
       "\t2 & 1          & 0          & 1          & 0          & 1          & 0.7052308  &  3959.779  & 0.7028047  &  17.924565 & -283.98841\\\\\n",
       "\t2 & 1          & 0          & 1          & 1          & 0          & 0.6702921  &  4429.128  & 0.6675784  &  48.496131 & -256.43284\\\\\n",
       "\t1 & 1          & 0          & 1          & 0          & 0          & 0.6629524  &  4527.725  & 0.6615710  &  52.918394 & -256.52198\\\\\n",
       "\t1 & 1          & 1          & 0          & 0          & 0          & 0.3665898  &  8508.908  & 0.3639939  & 312.237156 & -101.32206\\\\\n",
       "\t1 & 1          & 0          & 0          & 1          & 0          & 0.2151378  & 10543.438  & 0.2119211  & 444.758501 &  -48.58211\\\\\n",
       "\\end{tabular}\n"
      ],
      "text/markdown": [
       "\n",
       "| <!--/--> | (Intercept) | WEIGHT | ABDOMEN | BICEPS | WRIST | rsq | rss | adjr2 | cp | bic |\n",
       "|---|---|---|---|---|---|---|---|---|---|---|\n",
       "| 3 | 1          | 1          | 1          | 0          | 1          | 0.7215197  |  3740.961  | 0.7180675  |   5.671657 | -292.46707 |\n",
       "| 3 | 1          | 1          | 1          | 1          | 0          | 0.7102945  |  3891.756  | 0.7067031  |  15.493820 | -282.74569 |\n",
       "| 2 | 1          | 1          | 1          | 0          | 0          | 0.7083749  |  3917.543  | 0.7059746  |  15.173503 | -286.62637 |\n",
       "| 3 | 1          | 0          | 1          | 1          | 1          | 0.7054212  |  3957.220  | 0.7017694  |  19.757932 | -278.64206 |\n",
       "| 2 | 1          | 0          | 1          | 0          | 1          | 0.7052308  |  3959.779  | 0.7028047  |  17.924565 | -283.98841 |\n",
       "| 2 | 1          | 0          | 1          | 1          | 0          | 0.6702921  |  4429.128  | 0.6675784  |  48.496131 | -256.43284 |\n",
       "| 1 | 1          | 0          | 1          | 0          | 0          | 0.6629524  |  4527.725  | 0.6615710  |  52.918394 | -256.52198 |\n",
       "| 1 | 1          | 1          | 0          | 0          | 0          | 0.3665898  |  8508.908  | 0.3639939  | 312.237156 | -101.32206 |\n",
       "| 1 | 1          | 0          | 0          | 1          | 0          | 0.2151378  | 10543.438  | 0.2119211  | 444.758501 |  -48.58211 |\n",
       "\n"
      ],
      "text/plain": [
       "  (Intercept) WEIGHT ABDOMEN BICEPS WRIST rsq       rss       adjr2    \n",
       "3 1           1      1       0      1     0.7215197  3740.961 0.7180675\n",
       "3 1           1      1       1      0     0.7102945  3891.756 0.7067031\n",
       "2 1           1      1       0      0     0.7083749  3917.543 0.7059746\n",
       "3 1           0      1       1      1     0.7054212  3957.220 0.7017694\n",
       "2 1           0      1       0      1     0.7052308  3959.779 0.7028047\n",
       "2 1           0      1       1      0     0.6702921  4429.128 0.6675784\n",
       "1 1           0      1       0      0     0.6629524  4527.725 0.6615710\n",
       "1 1           1      0       0      0     0.3665898  8508.908 0.3639939\n",
       "1 1           0      0       1      0     0.2151378 10543.438 0.2119211\n",
       "  cp         bic       \n",
       "3   5.671657 -292.46707\n",
       "3  15.493820 -282.74569\n",
       "2  15.173503 -286.62637\n",
       "3  19.757932 -278.64206\n",
       "2  17.924565 -283.98841\n",
       "2  48.496131 -256.43284\n",
       "1  52.918394 -256.52198\n",
       "1 312.237156 -101.32206\n",
       "1 444.758501  -48.58211"
      ]
     },
     "metadata": {},
     "output_type": "display_data"
    }
   ],
   "source": [
    "my.regsub <- function(matrix,y,nbest,method,nvmax=8){\n",
    "  temp <- regsubsets(matrix,y,nbest=nbest,method=method,nvmax=nvmax)\n",
    "  temp.mat <- cbind(summary(temp)$which,\n",
    "                    summary(temp)$rsq,summary(temp)$rss,\n",
    "                    summary(temp)$adjr2,summary(temp)$cp,\n",
    "                    summary(temp)$bic)\n",
    "  dimnames(temp.mat)[[2]] <- c(dimnames(summary(temp)$which)[[2]],\n",
    "                               \"rsq\", \"rss\", \"adjr2\", \"cp\", \"bic\")\n",
    "  return(temp.mat)\n",
    "}\n",
    "\n",
    "N = 3\n",
    "sele = my.regsub(data[-RMIndex,c(3,8,13,15)],y=data[-RMIndex,1],nbest=N,nvmax = N,method=\"exhaustive\")\n",
    "sele[order(sele[,which(colnames(sele) == 'rsq')],decreasing = TRUE),]"
   ]
  },
  {
   "cell_type": "markdown",
   "metadata": {},
   "source": [
    "### global best subset"
   ]
  },
  {
   "cell_type": "code",
   "execution_count": 41,
   "metadata": {},
   "outputs": [
    {
     "data": {
      "text/html": [
       "<table>\n",
       "<thead><tr><th></th><th scope=col>(Intercept)</th><th scope=col>AGE</th><th scope=col>WEIGHT</th><th scope=col>HEIGHT</th><th scope=col>ADIPOSITY</th><th scope=col>NECK</th><th scope=col>CHEST</th><th scope=col>ABDOMEN</th><th scope=col>HIP</th><th scope=col>THIGH</th><th scope=col>KNEE</th><th scope=col>ANKLE</th><th scope=col>BICEPS</th><th scope=col>FOREARM</th><th scope=col>WRIST</th><th scope=col>rsq</th><th scope=col>rss</th><th scope=col>adjr2</th><th scope=col>cp</th><th scope=col>bic</th></tr></thead>\n",
       "<tbody>\n",
       "\t<tr><th scope=row>3</th><td>1         </td><td>0         </td><td>1         </td><td>0         </td><td>0         </td><td>0         </td><td>0         </td><td>1         </td><td>0         </td><td>0         </td><td>0         </td><td>0         </td><td>0         </td><td>0         </td><td>1         </td><td>0.7215197 </td><td>3740.961  </td><td>0.7180675 </td><td>  7.515235</td><td>-292.4671 </td></tr>\n",
       "\t<tr><th scope=row>3</th><td>1         </td><td>0         </td><td>0         </td><td>1         </td><td>0         </td><td>0         </td><td>0         </td><td>1         </td><td>0         </td><td>0         </td><td>0         </td><td>0         </td><td>0         </td><td>0         </td><td>1         </td><td>0.7202763 </td><td>3757.665  </td><td>0.7168087 </td><td>  8.611477</td><td>-291.3711 </td></tr>\n",
       "\t<tr><th scope=row>3</th><td>1         </td><td>1         </td><td>0         </td><td>0         </td><td>0         </td><td>0         </td><td>0         </td><td>1         </td><td>0         </td><td>0         </td><td>0         </td><td>0         </td><td>0         </td><td>0         </td><td>1         </td><td>0.7170458 </td><td>3801.062  </td><td>0.7135381 </td><td> 11.459552</td><td>-288.5464 </td></tr>\n",
       "\t<tr><th scope=row>2</th><td>1         </td><td>0         </td><td>1         </td><td>0         </td><td>0         </td><td>0         </td><td>0         </td><td>1         </td><td>0         </td><td>0         </td><td>0         </td><td>0         </td><td>0         </td><td>0         </td><td>0         </td><td>0.7083749 </td><td>3917.543  </td><td>0.7059746 </td><td> 17.104103</td><td>-286.6264 </td></tr>\n",
       "\t<tr><th scope=row>2</th><td>1         </td><td>0         </td><td>0         </td><td>0         </td><td>0         </td><td>0         </td><td>0         </td><td>1         </td><td>0         </td><td>0         </td><td>0         </td><td>0         </td><td>0         </td><td>0         </td><td>1         </td><td>0.7052308 </td><td>3959.779  </td><td>0.7028047 </td><td> 19.875979</td><td>-283.9884 </td></tr>\n",
       "\t<tr><th scope=row>2</th><td>1         </td><td>0         </td><td>0         </td><td>1         </td><td>0         </td><td>0         </td><td>0         </td><td>1         </td><td>0         </td><td>0         </td><td>0         </td><td>0         </td><td>0         </td><td>0         </td><td>0         </td><td>0.6977357 </td><td>4060.463  </td><td>0.6952480 </td><td> 26.483807</td><td>-277.8116 </td></tr>\n",
       "\t<tr><th scope=row>1</th><td>1         </td><td>0         </td><td>0         </td><td>0         </td><td>0         </td><td>0         </td><td>0         </td><td>1         </td><td>0         </td><td>0         </td><td>0         </td><td>0         </td><td>0         </td><td>0         </td><td>0         </td><td>0.6629524 </td><td>4527.725  </td><td>0.6615710 </td><td> 55.149697</td><td>-256.5220 </td></tr>\n",
       "\t<tr><th scope=row>1</th><td>1         </td><td>0         </td><td>0         </td><td>0         </td><td>1         </td><td>0         </td><td>0         </td><td>0         </td><td>0         </td><td>0         </td><td>0         </td><td>0         </td><td>0         </td><td>0         </td><td>0         </td><td>0.5252362 </td><td>6377.734  </td><td>0.5232904 </td><td>176.563804</td><td>-172.2440 </td></tr>\n",
       "\t<tr><th scope=row>1</th><td>1         </td><td>0         </td><td>0         </td><td>0         </td><td>0         </td><td>0         </td><td>1         </td><td>0         </td><td>0         </td><td>0         </td><td>0         </td><td>0         </td><td>0         </td><td>0         </td><td>0         </td><td>0.4695412 </td><td>7125.912  </td><td>0.4673672 </td><td>225.665913</td><td>-144.9565 </td></tr>\n",
       "</tbody>\n",
       "</table>\n"
      ],
      "text/latex": [
       "\\begin{tabular}{r|llllllllllllllllllll}\n",
       "  & (Intercept) & AGE & WEIGHT & HEIGHT & ADIPOSITY & NECK & CHEST & ABDOMEN & HIP & THIGH & KNEE & ANKLE & BICEPS & FOREARM & WRIST & rsq & rss & adjr2 & cp & bic\\\\\n",
       "\\hline\n",
       "\t3 & 1          & 0          & 1          & 0          & 0          & 0          & 0          & 1          & 0          & 0          & 0          & 0          & 0          & 0          & 1          & 0.7215197  & 3740.961   & 0.7180675  &   7.515235 & -292.4671 \\\\\n",
       "\t3 & 1          & 0          & 0          & 1          & 0          & 0          & 0          & 1          & 0          & 0          & 0          & 0          & 0          & 0          & 1          & 0.7202763  & 3757.665   & 0.7168087  &   8.611477 & -291.3711 \\\\\n",
       "\t3 & 1          & 1          & 0          & 0          & 0          & 0          & 0          & 1          & 0          & 0          & 0          & 0          & 0          & 0          & 1          & 0.7170458  & 3801.062   & 0.7135381  &  11.459552 & -288.5464 \\\\\n",
       "\t2 & 1          & 0          & 1          & 0          & 0          & 0          & 0          & 1          & 0          & 0          & 0          & 0          & 0          & 0          & 0          & 0.7083749  & 3917.543   & 0.7059746  &  17.104103 & -286.6264 \\\\\n",
       "\t2 & 1          & 0          & 0          & 0          & 0          & 0          & 0          & 1          & 0          & 0          & 0          & 0          & 0          & 0          & 1          & 0.7052308  & 3959.779   & 0.7028047  &  19.875979 & -283.9884 \\\\\n",
       "\t2 & 1          & 0          & 0          & 1          & 0          & 0          & 0          & 1          & 0          & 0          & 0          & 0          & 0          & 0          & 0          & 0.6977357  & 4060.463   & 0.6952480  &  26.483807 & -277.8116 \\\\\n",
       "\t1 & 1          & 0          & 0          & 0          & 0          & 0          & 0          & 1          & 0          & 0          & 0          & 0          & 0          & 0          & 0          & 0.6629524  & 4527.725   & 0.6615710  &  55.149697 & -256.5220 \\\\\n",
       "\t1 & 1          & 0          & 0          & 0          & 1          & 0          & 0          & 0          & 0          & 0          & 0          & 0          & 0          & 0          & 0          & 0.5252362  & 6377.734   & 0.5232904  & 176.563804 & -172.2440 \\\\\n",
       "\t1 & 1          & 0          & 0          & 0          & 0          & 0          & 1          & 0          & 0          & 0          & 0          & 0          & 0          & 0          & 0          & 0.4695412  & 7125.912   & 0.4673672  & 225.665913 & -144.9565 \\\\\n",
       "\\end{tabular}\n"
      ],
      "text/markdown": [
       "\n",
       "| <!--/--> | (Intercept) | AGE | WEIGHT | HEIGHT | ADIPOSITY | NECK | CHEST | ABDOMEN | HIP | THIGH | KNEE | ANKLE | BICEPS | FOREARM | WRIST | rsq | rss | adjr2 | cp | bic |\n",
       "|---|---|---|---|---|---|---|---|---|---|---|---|---|---|---|---|---|---|---|---|---|\n",
       "| 3 | 1          | 0          | 1          | 0          | 0          | 0          | 0          | 1          | 0          | 0          | 0          | 0          | 0          | 0          | 1          | 0.7215197  | 3740.961   | 0.7180675  |   7.515235 | -292.4671  |\n",
       "| 3 | 1          | 0          | 0          | 1          | 0          | 0          | 0          | 1          | 0          | 0          | 0          | 0          | 0          | 0          | 1          | 0.7202763  | 3757.665   | 0.7168087  |   8.611477 | -291.3711  |\n",
       "| 3 | 1          | 1          | 0          | 0          | 0          | 0          | 0          | 1          | 0          | 0          | 0          | 0          | 0          | 0          | 1          | 0.7170458  | 3801.062   | 0.7135381  |  11.459552 | -288.5464  |\n",
       "| 2 | 1          | 0          | 1          | 0          | 0          | 0          | 0          | 1          | 0          | 0          | 0          | 0          | 0          | 0          | 0          | 0.7083749  | 3917.543   | 0.7059746  |  17.104103 | -286.6264  |\n",
       "| 2 | 1          | 0          | 0          | 0          | 0          | 0          | 0          | 1          | 0          | 0          | 0          | 0          | 0          | 0          | 1          | 0.7052308  | 3959.779   | 0.7028047  |  19.875979 | -283.9884  |\n",
       "| 2 | 1          | 0          | 0          | 1          | 0          | 0          | 0          | 1          | 0          | 0          | 0          | 0          | 0          | 0          | 0          | 0.6977357  | 4060.463   | 0.6952480  |  26.483807 | -277.8116  |\n",
       "| 1 | 1          | 0          | 0          | 0          | 0          | 0          | 0          | 1          | 0          | 0          | 0          | 0          | 0          | 0          | 0          | 0.6629524  | 4527.725   | 0.6615710  |  55.149697 | -256.5220  |\n",
       "| 1 | 1          | 0          | 0          | 0          | 1          | 0          | 0          | 0          | 0          | 0          | 0          | 0          | 0          | 0          | 0          | 0.5252362  | 6377.734   | 0.5232904  | 176.563804 | -172.2440  |\n",
       "| 1 | 1          | 0          | 0          | 0          | 0          | 0          | 1          | 0          | 0          | 0          | 0          | 0          | 0          | 0          | 0          | 0.4695412  | 7125.912   | 0.4673672  | 225.665913 | -144.9565  |\n",
       "\n"
      ],
      "text/plain": [
       "  (Intercept) AGE WEIGHT HEIGHT ADIPOSITY NECK CHEST ABDOMEN HIP THIGH KNEE\n",
       "3 1           0   1      0      0         0    0     1       0   0     0   \n",
       "3 1           0   0      1      0         0    0     1       0   0     0   \n",
       "3 1           1   0      0      0         0    0     1       0   0     0   \n",
       "2 1           0   1      0      0         0    0     1       0   0     0   \n",
       "2 1           0   0      0      0         0    0     1       0   0     0   \n",
       "2 1           0   0      1      0         0    0     1       0   0     0   \n",
       "1 1           0   0      0      0         0    0     1       0   0     0   \n",
       "1 1           0   0      0      1         0    0     0       0   0     0   \n",
       "1 1           0   0      0      0         0    1     0       0   0     0   \n",
       "  ANKLE BICEPS FOREARM WRIST rsq       rss      adjr2     cp         bic      \n",
       "3 0     0      0       1     0.7215197 3740.961 0.7180675   7.515235 -292.4671\n",
       "3 0     0      0       1     0.7202763 3757.665 0.7168087   8.611477 -291.3711\n",
       "3 0     0      0       1     0.7170458 3801.062 0.7135381  11.459552 -288.5464\n",
       "2 0     0      0       0     0.7083749 3917.543 0.7059746  17.104103 -286.6264\n",
       "2 0     0      0       1     0.7052308 3959.779 0.7028047  19.875979 -283.9884\n",
       "2 0     0      0       0     0.6977357 4060.463 0.6952480  26.483807 -277.8116\n",
       "1 0     0      0       0     0.6629524 4527.725 0.6615710  55.149697 -256.5220\n",
       "1 0     0      0       0     0.5252362 6377.734 0.5232904 176.563804 -172.2440\n",
       "1 0     0      0       0     0.4695412 7125.912 0.4673672 225.665913 -144.9565"
      ]
     },
     "metadata": {},
     "output_type": "display_data"
    }
   ],
   "source": [
    "sele = my.regsub(data[-RMIndex,2:15],y=data[-RMIndex,1],nbest=N,nvmax = N,method=\"exhaustive\")\n",
    "sele[order(sele[,which(colnames(sele) == 'rsq')],decreasing = TRUE),]"
   ]
  },
  {
   "cell_type": "markdown",
   "metadata": {},
   "source": [
    "### final model"
   ]
  },
  {
   "cell_type": "code",
   "execution_count": 42,
   "metadata": {},
   "outputs": [
    {
     "data": {
      "text/plain": [
       "\n",
       "Call:\n",
       "lm(formula = BODYFAT ~ WEIGHT + ABDOMEN, data = data[-RMIndex, \n",
       "    ])\n",
       "\n",
       "Residuals:\n",
       "     Min       1Q   Median       3Q      Max \n",
       "-10.0357  -2.9598  -0.0551   2.8637   9.9458 \n",
       "\n",
       "Coefficients:\n",
       "             Estimate Std. Error t value Pr(>|t|)    \n",
       "(Intercept) -41.44787    2.49994 -16.580  < 2e-16 ***\n",
       "WEIGHT       -0.12070    0.01962  -6.152 3.13e-09 ***\n",
       "ABDOMEN       0.88646    0.05253  16.876  < 2e-16 ***\n",
       "---\n",
       "Signif. codes:  0 '***' 0.001 '**' 0.01 '*' 0.05 '.' 0.1 ' ' 1\n",
       "\n",
       "Residual standard error: 4.015 on 243 degrees of freedom\n",
       "Multiple R-squared:  0.7084,\tAdjusted R-squared:  0.706 \n",
       "F-statistic: 295.1 on 2 and 243 DF,  p-value: < 2.2e-16\n"
      ]
     },
     "metadata": {},
     "output_type": "display_data"
    }
   ],
   "source": [
    "lm.final = lm(BODYFAT~WEIGHT+ABDOMEN, data[-RMIndex,])\n",
    "summary(lm.final)"
   ]
  },
  {
   "cell_type": "markdown",
   "metadata": {},
   "source": [
    "### model diagnostics"
   ]
  },
  {
   "cell_type": "code",
   "execution_count": 43,
   "metadata": {},
   "outputs": [
    {
     "name": "stderr",
     "output_type": "stream",
     "text": [
      "Warning message in is.na(x):\n",
      "\"is.na()不适用于类别为'expression'的非串列或非矢量\"Warning message in is.na(x):\n",
      "\"is.na()不适用于类别为'expression'的非串列或非矢量\""
     ]
    },
    {
     "data": {
      "image/png": "[encoded data removed]",
      "text/plain": [
       "plot without title"
      ]
     },
     "metadata": {},
     "output_type": "display_data"
    }
   ],
   "source": [
    "# scatter plot\n",
    "df = data.frame(fit = lm.final$fitted.values, res = lm.final$residuals)\n",
    "rp2 = ggplot(df,aes(x = fit, y = res)) + geom_point(color = pcolor, cex = 2) + \n",
    "  ggtitle(\"Fitted Values v.s. Studentized Residuals\") +\n",
    "  xlab(\"Fitted Values\") + ylab(\"Studentized residuals\") + \n",
    "  theme(plot.title = element_text(color=\"#993333\", size=16, face=\"bold\",hjust = 0.5),\n",
    "        axis.title.x = element_text(color=\"#993333\", size=14, face=\"bold\"),\n",
    "        axis.title.y = element_text(color=\"#993333\", size=14, face=\"bold\")) + \n",
    "  geom_smooth(method = lm, se = TRUE)\n",
    "\n",
    "# qq plot\n",
    "q1 = quantile(lm.final$residuals, c(0.25, 0.75), type = 5)\n",
    "q2 = qnorm(c(0.25, 0.75))\n",
    "slope = diff(q1)/diff(q2)\n",
    "int = q1[1]-slope*q2[1]\n",
    "qp2 = ggplot() +\n",
    "  geom_qq(aes(sample = lm.final$residuals), color = pcolor, cex = 2) +\n",
    "  geom_abline(intercept = int, slope = slope,\n",
    "              color = \"brown2\", size = 1, alpha = 0.8)+\n",
    "  ggtitle(\"QQ-Plot\") + ylab(\"Standardized Residuals\") + xlab(\"Theoretical Quantiles\") + \n",
    "  theme(plot.title = element_text(color=\"#993333\", size=16, face=\"bold\",hjust = 0.5),\n",
    "        axis.title.x = element_text(color=\"#993333\", size=14, face=\"bold\"),\n",
    "        axis.title.y = element_text(color=\"#993333\", size=14, face=\"bold\"))\n",
    "\n",
    "### influential points diag\n",
    "\n",
    "lm.stdres = stdres(lm.final)\n",
    "df = data.frame(fit = lm.final$fitted.values, str = lm.stdres)\n",
    "srpf1 = ggplot(df,aes(x = fit, y = str)) + geom_point(color = pcolor, cex = 2) +\n",
    "  ggtitle(\"Fitted Values v.s. Studentized Residuals\") +\n",
    "  xlab(\"Fitted Values\") + ylab(\"Studentized residuals\") +\n",
    "  theme( plot.title = element_text(color=\"#993333\", size=16, face=\"bold\",hjust = 0.5),\n",
    "         axis.title.x = element_text(color=\"#993333\", size=14, face=\"bold\"),\n",
    "         axis.title.y = element_text(color=\"#993333\", size=14, face=\"bold\"))\n",
    "lm.hats=hatvalues(lm.final)\n",
    "df = data.frame(x = 1:length(index), y = lm.hats)\n",
    "h0 = 4/246 # Rule of thumb for judging outliers\n",
    "srpf2 = ggplot(df,aes(x=x,xend=x,y=0,yend=y,label = index)) + geom_segment() +\n",
    "  annotate(\"text\", x=which(lm.hats>h0), y=lm.hats[lm.hats>h0] + 0.01,  label= index[which(lm.hats>h0)]) +\n",
    "  annotate(\"text\", x = 255, y = h0-0.007, label = expression(2*p/n)) +\n",
    "  geom_hline(yintercept=h0, linetype= \"dashed\", color = \"navyblue\", size=1) +\n",
    "  ggtitle(\"Leverage Value\") + xlab(\"Index\") + ylab(\"Leverage Value\") +\n",
    "  theme( plot.title = element_text(color=\"#993333\", size=16, face=\"bold\",hjust = 0.5),\n",
    "         axis.title.x = element_text(color=\"#993333\", size=14, face=\"bold\"),\n",
    "         axis.title.y = element_text(color=\"#993333\", size=14, face=\"bold\"))\n",
    "lm.dffits = dffits(lm.final)\n",
    "df = data.frame(x = 1:length(index), y = lm.dffits)\n",
    "d0 = 2*sqrt(2/246) # Rule of thumb for judging influential points\n",
    "srpf3 = ggplot(df,aes(x=x,xend=x,y=0,yend=y,label = index)) + geom_segment() +\n",
    "  annotate(\"text\", x = which(abs(lm.dffits)>d0), y=lm.dffits[abs(lm.dffits)>d0],  label= index[which(abs(lm.dffits)>d0)]) +\n",
    "  geom_hline(yintercept=c(-1*d0, 0, d0), linetype=c(\"dashed\",\"solid\",\"dashed\"),\n",
    "             color = \"navyblue\", size=1) +\n",
    "  annotate(\"text\", x = 255, y = d0-0.05, label = expression(2*sqrt(p/n))) +\n",
    "  ggtitle(\"DFFITS\") + xlab(\"Index\") + ylab(\"DFFITS\") +\n",
    "  theme( plot.title = element_text(color=\"#993333\", size=16, face=\"bold\",hjust = 0.5),\n",
    "         axis.title.x = element_text(color=\"#993333\", size=14, face=\"bold\"),\n",
    "         axis.title.y = element_text(color=\"#993333\", size=14, face=\"bold\"))\n",
    "lm.cooksD=cooks.distance(lm.final)\n",
    "df = data.frame(x = 1:length(index), y = lm.cooksD)\n",
    "c0 = qf(0.5, 2, 244)\n",
    "srpf4 = ggplot(df,aes(x=x,xend=x,y=0,yend=y,label = index)) + geom_segment() +\n",
    "  geom_hline(yintercept=c0, linetype= \"dashed\", color = \"navyblue\", size=1) +\n",
    "  annotate(\"text\", x = 255, y = c0-0.05, label = expression(F[paste(\"p,n-p\", sep=\"\")])) +\n",
    "  ggtitle(\"Cook's Distance\") + xlab(\"Index\") + ylab(\"Cook's Distance\") +\n",
    "  theme( plot.title = element_text(color=\"#993333\", size=16, face=\"bold\",hjust = 0.5),\n",
    "         axis.title.x = element_text(color=\"#993333\", size=14, face=\"bold\"),\n",
    "         axis.title.y = element_text(color=\"#993333\", size=14, face=\"bold\"))\n",
    "\n",
    "ggarrange(srpf1, qp2, srpf2, srpf3, ncol=2, nrow=2)"
   ]
  },
  {
   "cell_type": "markdown",
   "metadata": {},
   "source": [
    "### box and regression line"
   ]
  },
  {
   "cell_type": "code",
   "execution_count": 46,
   "metadata": {},
   "outputs": [
    {
     "data": {
      "image/png": "[encoded data removed]",
      "text/plain": [
       "plot without title"
      ]
     },
     "metadata": {},
     "output_type": "display_data"
    }
   ],
   "source": [
    "panel.box <- function(x, ...)\n",
    "{\n",
    "  usr <- par(\"usr\"); on.exit(par(usr))\n",
    "  par(usr = c(usr[3:4],0, 2 ))\n",
    "  #par(usr = c(min(x)-1.5*IQR(x),max(x)+1.5*IQR(x), 0,2 ))\n",
    "  boxplot(x,horizontal = TRUE, add=TRUE)\n",
    "}\n",
    "\n",
    "pairs(df,panel =function(x,y,...){\n",
    "  points(x,y,...)\n",
    "  abline(lm(y~x),col = 'red')\n",
    "},\n",
    "cex = 1.5,pch = 16, col = \"light blue\",\n",
    "diag.panel = panel.box, cex.labels = 2,font.labels = 2)"
   ]
  },
  {
   "cell_type": "code",
   "execution_count": 44,
   "metadata": {},
   "outputs": [
    {
     "data": {
      "image/png": "[encoded data removed]",
      "text/plain": [
       "plot without title"
      ]
     },
     "metadata": {},
     "output_type": "display_data"
    }
   ],
   "source": [
    "boxcox(lm.final)"
   ]
  }
 ],
 "metadata": {
  "kernelspec": {
   "display_name": "R",
   "language": "R",
   "name": "ir"
  },
  "language_info": {
   "codemirror_mode": "r",
   "file_extension": ".r",
   "mimetype": "text/x-r-source",
   "name": "R",
   "pygments_lexer": "r",
   "version": "3.6.1"
  }
 },
 "nbformat": 4,
 "nbformat_minor": 2
}
