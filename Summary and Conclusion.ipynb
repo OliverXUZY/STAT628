{
 "cells": [
  {
   "cell_type": "markdown",
   "metadata": {},
   "source": [
    "$\\textbf{Summary about Estimation}$"
   ]
  },
  {
   "cell_type": "markdown",
   "metadata": {},
   "source": [
    "The summary of our final model is shown as follows:"
   ]
  },
  {
   "cell_type": "markdown",
   "metadata": {},
   "source": [
    "| Coefficients | Estimate | Standard Error | p-value  | CI.lower  | CI.upper  |\n",
    "|:--------------:|:----------:|:--------------:|:----------:|:---:|:---:|\n",
    "| Intercept    |  -41.45  |      2.50      |  <2e-16  | -46.372  | -36.524  |\n",
    "| Weight       |   -0.12  |      0.02      | 3.13e-09 | -0.159  | -0.082  |\n",
    "| Abdomen      |   0.89   |      0.05      |  <2e-16  | 0.783  | 0.990  |\n",
    "| R^2=0.708    |"
   ]
  },
  {
   "cell_type": "markdown",
   "metadata": {},
   "source": [
    "From the summary we can see that all the coefficients of the variables are significant and the standard error of the coefficients are small. The lower bound and the upper bound of the 95% confidence interval is shown in the last two columns of the table, the CI's are relatively narrow. The $R^2$ is 0.708, which means our model explains 71% of the variation and we think this is a desirable number."
   ]
  },
  {
   "cell_type": "markdown",
   "metadata": {},
   "source": [
    "$\\textbf{Conclusion}$\n",
    "\n",
    "We find that the best way to predict one's bodyfat percentage is to use his weight and abdomen. If we denote bodyfat, weight and abdomen as b,w and a, the formula for calculating bodyfat percentage is $\\hat{\\text{b}}$ (%) = -42.63 -0.12 w (lbs) +0.89 a (cm). "
   ]
  },
  {
   "cell_type": "markdown",
   "metadata": {},
   "source": [
    "$\\textbf{Advantages and Disadvantages}$\n",
    "\n",
    "The basic advantage of our algorithm is that it's really simple and easy to calculate. Also, the two data, weight and abdomen, are easy to obtain, so it is of practical use, especially for doctors and normal users.Another advantage is that the standard error of the residuals are small, which means the variation of our prediction will be small.\n",
    "\n",
    "However, this model also has its demerits which is the strong multicollinearty in the model. If we draw a plot about the two explanatory variables abdomen and weight we can find a high positive correlation between them. As a result, the normal inference procedure no longer makes sense and it's difficult to interpret the coefficients as the effect of weight and abdomen on bodyfat, since while we change one of them, the other can't be held constant. For doctors and normal users, they still can use the formula get the prediction of the bodyfat. Moreover, they maybe do not need or care about the details behind the algorithm. So this formula is at least accurate and useful for the doctors and the public."
   ]
  }
 ],
 "metadata": {
  "kernelspec": {
   "display_name": "R",
   "language": "R",
   "name": "ir"
  },
  "language_info": {
   "codemirror_mode": "r",
   "file_extension": ".r",
   "mimetype": "text/x-r-source",
   "name": "R",
   "pygments_lexer": "r",
   "version": "3.6.1"
  }
 },
 "nbformat": 4,
 "nbformat_minor": 2
}
