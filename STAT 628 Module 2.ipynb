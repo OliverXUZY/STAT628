{
 "cells": [
  {
   "cell_type": "markdown",
   "metadata": {},
   "source": [
    "# 1. Data Processing"
   ]
  },
  {
   "cell_type": "markdown",
   "metadata": {},
   "source": [
    "## 1.1. Read Data"
   ]
  },
  {
   "cell_type": "code",
   "execution_count": 1,
   "metadata": {},
   "outputs": [
    {
     "data": {
      "text/html": [
       "<table>\n",
       "<thead><tr><th scope=col>BODYFAT</th><th scope=col>AGE</th><th scope=col>WEIGHT</th><th scope=col>HEIGHT</th><th scope=col>ADIPOSITY</th><th scope=col>NECK</th><th scope=col>CHEST</th><th scope=col>ABDOMEN</th><th scope=col>HIP</th><th scope=col>THIGH</th><th scope=col>KNEE</th><th scope=col>ANKLE</th><th scope=col>BICEPS</th><th scope=col>FOREARM</th><th scope=col>WRIST</th></tr></thead>\n",
       "<tbody>\n",
       "\t<tr><td>12.6  </td><td>23    </td><td>154.25</td><td>67.75 </td><td>23.7  </td><td>36.2  </td><td> 93.1 </td><td> 85.2 </td><td> 94.5 </td><td>59.0  </td><td>37.3  </td><td>21.9  </td><td>32.0  </td><td>27.4  </td><td>17.1  </td></tr>\n",
       "\t<tr><td> 6.9  </td><td>22    </td><td>173.25</td><td>72.25 </td><td>23.4  </td><td>38.5  </td><td> 93.6 </td><td> 83.0 </td><td> 98.7 </td><td>58.7  </td><td>37.3  </td><td>23.4  </td><td>30.5  </td><td>28.9  </td><td>18.2  </td></tr>\n",
       "\t<tr><td>24.6  </td><td>22    </td><td>154.00</td><td>66.25 </td><td>24.7  </td><td>34.0  </td><td> 95.8 </td><td> 87.9 </td><td> 99.2 </td><td>59.6  </td><td>38.9  </td><td>24.0  </td><td>28.8  </td><td>25.2  </td><td>16.6  </td></tr>\n",
       "\t<tr><td>10.9  </td><td>26    </td><td>184.75</td><td>72.25 </td><td>24.9  </td><td>37.4  </td><td>101.8 </td><td> 86.4 </td><td>101.2 </td><td>60.1  </td><td>37.3  </td><td>22.8  </td><td>32.4  </td><td>29.4  </td><td>18.2  </td></tr>\n",
       "\t<tr><td>27.8  </td><td>24    </td><td>184.25</td><td>71.25 </td><td>25.6  </td><td>34.4  </td><td> 97.3 </td><td>100.0 </td><td>101.9 </td><td>63.2  </td><td>42.2  </td><td>24.0  </td><td>32.2  </td><td>27.7  </td><td>17.7  </td></tr>\n",
       "\t<tr><td>20.6  </td><td>24    </td><td>210.25</td><td>74.75 </td><td>26.5  </td><td>39.0  </td><td>104.5 </td><td> 94.4 </td><td>107.8 </td><td>66.0  </td><td>42.0  </td><td>25.6  </td><td>35.7  </td><td>30.6  </td><td>18.8  </td></tr>\n",
       "</tbody>\n",
       "</table>\n"
      ],
      "text/latex": [
       "\\begin{tabular}{r|lllllllllllllll}\n",
       " BODYFAT & AGE & WEIGHT & HEIGHT & ADIPOSITY & NECK & CHEST & ABDOMEN & HIP & THIGH & KNEE & ANKLE & BICEPS & FOREARM & WRIST\\\\\n",
       "\\hline\n",
       "\t 12.6   & 23     & 154.25 & 67.75  & 23.7   & 36.2   &  93.1  &  85.2  &  94.5  & 59.0   & 37.3   & 21.9   & 32.0   & 27.4   & 17.1  \\\\\n",
       "\t  6.9   & 22     & 173.25 & 72.25  & 23.4   & 38.5   &  93.6  &  83.0  &  98.7  & 58.7   & 37.3   & 23.4   & 30.5   & 28.9   & 18.2  \\\\\n",
       "\t 24.6   & 22     & 154.00 & 66.25  & 24.7   & 34.0   &  95.8  &  87.9  &  99.2  & 59.6   & 38.9   & 24.0   & 28.8   & 25.2   & 16.6  \\\\\n",
       "\t 10.9   & 26     & 184.75 & 72.25  & 24.9   & 37.4   & 101.8  &  86.4  & 101.2  & 60.1   & 37.3   & 22.8   & 32.4   & 29.4   & 18.2  \\\\\n",
       "\t 27.8   & 24     & 184.25 & 71.25  & 25.6   & 34.4   &  97.3  & 100.0  & 101.9  & 63.2   & 42.2   & 24.0   & 32.2   & 27.7   & 17.7  \\\\\n",
       "\t 20.6   & 24     & 210.25 & 74.75  & 26.5   & 39.0   & 104.5  &  94.4  & 107.8  & 66.0   & 42.0   & 25.6   & 35.7   & 30.6   & 18.8  \\\\\n",
       "\\end{tabular}\n"
      ],
      "text/markdown": [
       "\n",
       "| BODYFAT | AGE | WEIGHT | HEIGHT | ADIPOSITY | NECK | CHEST | ABDOMEN | HIP | THIGH | KNEE | ANKLE | BICEPS | FOREARM | WRIST |\n",
       "|---|---|---|---|---|---|---|---|---|---|---|---|---|---|---|\n",
       "| 12.6   | 23     | 154.25 | 67.75  | 23.7   | 36.2   |  93.1  |  85.2  |  94.5  | 59.0   | 37.3   | 21.9   | 32.0   | 27.4   | 17.1   |\n",
       "|  6.9   | 22     | 173.25 | 72.25  | 23.4   | 38.5   |  93.6  |  83.0  |  98.7  | 58.7   | 37.3   | 23.4   | 30.5   | 28.9   | 18.2   |\n",
       "| 24.6   | 22     | 154.00 | 66.25  | 24.7   | 34.0   |  95.8  |  87.9  |  99.2  | 59.6   | 38.9   | 24.0   | 28.8   | 25.2   | 16.6   |\n",
       "| 10.9   | 26     | 184.75 | 72.25  | 24.9   | 37.4   | 101.8  |  86.4  | 101.2  | 60.1   | 37.3   | 22.8   | 32.4   | 29.4   | 18.2   |\n",
       "| 27.8   | 24     | 184.25 | 71.25  | 25.6   | 34.4   |  97.3  | 100.0  | 101.9  | 63.2   | 42.2   | 24.0   | 32.2   | 27.7   | 17.7   |\n",
       "| 20.6   | 24     | 210.25 | 74.75  | 26.5   | 39.0   | 104.5  |  94.4  | 107.8  | 66.0   | 42.0   | 25.6   | 35.7   | 30.6   | 18.8   |\n",
       "\n"
      ],
      "text/plain": [
       "  BODYFAT AGE WEIGHT HEIGHT ADIPOSITY NECK CHEST ABDOMEN HIP   THIGH KNEE ANKLE\n",
       "1 12.6    23  154.25 67.75  23.7      36.2  93.1  85.2    94.5 59.0  37.3 21.9 \n",
       "2  6.9    22  173.25 72.25  23.4      38.5  93.6  83.0    98.7 58.7  37.3 23.4 \n",
       "3 24.6    22  154.00 66.25  24.7      34.0  95.8  87.9    99.2 59.6  38.9 24.0 \n",
       "4 10.9    26  184.75 72.25  24.9      37.4 101.8  86.4   101.2 60.1  37.3 22.8 \n",
       "5 27.8    24  184.25 71.25  25.6      34.4  97.3 100.0   101.9 63.2  42.2 24.0 \n",
       "6 20.6    24  210.25 74.75  26.5      39.0 104.5  94.4   107.8 66.0  42.0 25.6 \n",
       "  BICEPS FOREARM WRIST\n",
       "1 32.0   27.4    17.1 \n",
       "2 30.5   28.9    18.2 \n",
       "3 28.8   25.2    16.6 \n",
       "4 32.4   29.4    18.2 \n",
       "5 32.2   27.7    17.7 \n",
       "6 35.7   30.6    18.8 "
      ]
     },
     "metadata": {},
     "output_type": "display_data"
    }
   ],
   "source": [
    "rm(list =ls())\n",
    "library(MASS)\n",
    "\n",
    "data = read.csv(\"BodyFat.csv\")\n",
    "data = data[c(-1,-3)] # Remove indexes and density\n",
    "head(data)"
   ]
  },
  {
   "cell_type": "code",
   "execution_count": 2,
   "metadata": {},
   "outputs": [
    {
     "data": {
      "text/plain": [
       "    BODYFAT           AGE            WEIGHT          HEIGHT     \n",
       " Min.   : 0.00   Min.   :22.00   Min.   :118.5   Min.   :29.50  \n",
       " 1st Qu.:12.80   1st Qu.:35.75   1st Qu.:159.0   1st Qu.:68.25  \n",
       " Median :19.00   Median :43.00   Median :176.5   Median :70.00  \n",
       " Mean   :18.94   Mean   :44.88   Mean   :178.9   Mean   :70.15  \n",
       " 3rd Qu.:24.60   3rd Qu.:54.00   3rd Qu.:197.0   3rd Qu.:72.25  \n",
       " Max.   :45.10   Max.   :81.00   Max.   :363.1   Max.   :77.75  \n",
       "   ADIPOSITY          NECK           CHEST           ABDOMEN      \n",
       " Min.   :18.10   Min.   :31.10   Min.   : 79.30   Min.   : 69.40  \n",
       " 1st Qu.:23.10   1st Qu.:36.40   1st Qu.: 94.35   1st Qu.: 84.58  \n",
       " Median :25.05   Median :38.00   Median : 99.65   Median : 90.95  \n",
       " Mean   :25.44   Mean   :37.99   Mean   :100.82   Mean   : 92.56  \n",
       " 3rd Qu.:27.32   3rd Qu.:39.42   3rd Qu.:105.38   3rd Qu.: 99.33  \n",
       " Max.   :48.90   Max.   :51.20   Max.   :136.20   Max.   :148.10  \n",
       "      HIP            THIGH            KNEE           ANKLE          BICEPS     \n",
       " Min.   : 85.0   Min.   :47.20   Min.   :33.00   Min.   :19.1   Min.   :24.80  \n",
       " 1st Qu.: 95.5   1st Qu.:56.00   1st Qu.:36.98   1st Qu.:22.0   1st Qu.:30.20  \n",
       " Median : 99.3   Median :59.00   Median :38.50   Median :22.8   Median :32.05  \n",
       " Mean   : 99.9   Mean   :59.41   Mean   :38.59   Mean   :23.1   Mean   :32.27  \n",
       " 3rd Qu.:103.5   3rd Qu.:62.35   3rd Qu.:39.92   3rd Qu.:24.0   3rd Qu.:34.33  \n",
       " Max.   :147.7   Max.   :87.30   Max.   :49.10   Max.   :33.9   Max.   :45.00  \n",
       "    FOREARM          WRIST      \n",
       " Min.   :21.00   Min.   :15.80  \n",
       " 1st Qu.:27.30   1st Qu.:17.60  \n",
       " Median :28.70   Median :18.30  \n",
       " Mean   :28.66   Mean   :18.23  \n",
       " 3rd Qu.:30.00   3rd Qu.:18.80  \n",
       " Max.   :34.90   Max.   :21.40  "
      ]
     },
     "metadata": {},
     "output_type": "display_data"
    }
   ],
   "source": [
    "summary(data)"
   ]
  },
  {
   "cell_type": "code",
   "execution_count": 3,
   "metadata": {},
   "outputs": [],
   "source": [
    "RMIndex = which(data[,1]==0 | data[,3]==max(data[,3]) | data[,4]==min(data[,4]) | data[,6]==max(data[,6]) | data[,7]>125 | \n",
    "                data[,8]==max(data[,8]) | data[,9]>120 | data[,10]==max(data[,10]) | data[,11]==max(data[,11]) | \n",
    "                data[,11]==max(data[,11]) | data[,12]>29 | data[,13]==max(data[,13]))"
   ]
  },
  {
   "cell_type": "code",
   "execution_count": 4,
   "metadata": {},
   "outputs": [
    {
     "data": {
      "text/html": [
       "<table>\n",
       "<thead><tr><th></th><th scope=col>BODYFAT</th><th scope=col>AGE</th><th scope=col>WEIGHT</th><th scope=col>HEIGHT</th><th scope=col>ADIPOSITY</th><th scope=col>NECK</th><th scope=col>CHEST</th><th scope=col>ABDOMEN</th><th scope=col>HIP</th><th scope=col>THIGH</th><th scope=col>KNEE</th><th scope=col>ANKLE</th><th scope=col>BICEPS</th><th scope=col>FOREARM</th><th scope=col>WRIST</th></tr></thead>\n",
       "<tbody>\n",
       "\t<tr><th scope=row>31</th><td>12.3  </td><td>32    </td><td>182.00</td><td>73.75 </td><td>23.6  </td><td>38.7  </td><td>100.5 </td><td> 88.7 </td><td> 99.8 </td><td>57.5  </td><td>38.7  </td><td>33.9  </td><td>32.5  </td><td>27.7  </td><td>18.4  </td></tr>\n",
       "\t<tr><th scope=row>39</th><td>33.8  </td><td>46    </td><td>363.15</td><td>72.25 </td><td>48.9  </td><td>51.2  </td><td>136.2 </td><td>148.1 </td><td>147.7 </td><td>87.3  </td><td>49.1  </td><td>29.6  </td><td>45.0  </td><td>29.0  </td><td>21.4  </td></tr>\n",
       "\t<tr><th scope=row>41</th><td>33.1  </td><td>45    </td><td>262.75</td><td>68.75 </td><td>39.1  </td><td>43.2  </td><td>128.3 </td><td>126.2 </td><td>125.6 </td><td>72.5  </td><td>39.6  </td><td>26.6  </td><td>36.4  </td><td>32.7  </td><td>21.4  </td></tr>\n",
       "\t<tr><th scope=row>42</th><td>31.7  </td><td>44    </td><td>205.00</td><td>29.50 </td><td>29.9  </td><td>36.6  </td><td>106.0 </td><td>104.3 </td><td>115.5 </td><td>70.6  </td><td>42.5  </td><td>23.7  </td><td>33.6  </td><td>28.7  </td><td>17.4  </td></tr>\n",
       "\t<tr><th scope=row>86</th><td>25.8  </td><td>67    </td><td>167.00</td><td>67.50 </td><td>26.0  </td><td>36.5  </td><td> 98.9 </td><td> 89.7 </td><td> 96.2 </td><td>54.7  </td><td>37.8  </td><td>33.7  </td><td>32.4  </td><td>27.7  </td><td>18.2  </td></tr>\n",
       "\t<tr><th scope=row>182</th><td> 0.0  </td><td>40    </td><td>118.50</td><td>68.00 </td><td>18.1  </td><td>33.8  </td><td> 79.3 </td><td> 69.4 </td><td> 85.0 </td><td>47.2  </td><td>33.5  </td><td>20.2  </td><td>27.7  </td><td>24.6  </td><td>16.5  </td></tr>\n",
       "</tbody>\n",
       "</table>\n"
      ],
      "text/latex": [
       "\\begin{tabular}{r|lllllllllllllll}\n",
       "  & BODYFAT & AGE & WEIGHT & HEIGHT & ADIPOSITY & NECK & CHEST & ABDOMEN & HIP & THIGH & KNEE & ANKLE & BICEPS & FOREARM & WRIST\\\\\n",
       "\\hline\n",
       "\t31 & 12.3   & 32     & 182.00 & 73.75  & 23.6   & 38.7   & 100.5  &  88.7  &  99.8  & 57.5   & 38.7   & 33.9   & 32.5   & 27.7   & 18.4  \\\\\n",
       "\t39 & 33.8   & 46     & 363.15 & 72.25  & 48.9   & 51.2   & 136.2  & 148.1  & 147.7  & 87.3   & 49.1   & 29.6   & 45.0   & 29.0   & 21.4  \\\\\n",
       "\t41 & 33.1   & 45     & 262.75 & 68.75  & 39.1   & 43.2   & 128.3  & 126.2  & 125.6  & 72.5   & 39.6   & 26.6   & 36.4   & 32.7   & 21.4  \\\\\n",
       "\t42 & 31.7   & 44     & 205.00 & 29.50  & 29.9   & 36.6   & 106.0  & 104.3  & 115.5  & 70.6   & 42.5   & 23.7   & 33.6   & 28.7   & 17.4  \\\\\n",
       "\t86 & 25.8   & 67     & 167.00 & 67.50  & 26.0   & 36.5   &  98.9  &  89.7  &  96.2  & 54.7   & 37.8   & 33.7   & 32.4   & 27.7   & 18.2  \\\\\n",
       "\t182 &  0.0   & 40     & 118.50 & 68.00  & 18.1   & 33.8   &  79.3  &  69.4  &  85.0  & 47.2   & 33.5   & 20.2   & 27.7   & 24.6   & 16.5  \\\\\n",
       "\\end{tabular}\n"
      ],
      "text/markdown": [
       "\n",
       "| <!--/--> | BODYFAT | AGE | WEIGHT | HEIGHT | ADIPOSITY | NECK | CHEST | ABDOMEN | HIP | THIGH | KNEE | ANKLE | BICEPS | FOREARM | WRIST |\n",
       "|---|---|---|---|---|---|---|---|---|---|---|---|---|---|---|---|\n",
       "| 31 | 12.3   | 32     | 182.00 | 73.75  | 23.6   | 38.7   | 100.5  |  88.7  |  99.8  | 57.5   | 38.7   | 33.9   | 32.5   | 27.7   | 18.4   |\n",
       "| 39 | 33.8   | 46     | 363.15 | 72.25  | 48.9   | 51.2   | 136.2  | 148.1  | 147.7  | 87.3   | 49.1   | 29.6   | 45.0   | 29.0   | 21.4   |\n",
       "| 41 | 33.1   | 45     | 262.75 | 68.75  | 39.1   | 43.2   | 128.3  | 126.2  | 125.6  | 72.5   | 39.6   | 26.6   | 36.4   | 32.7   | 21.4   |\n",
       "| 42 | 31.7   | 44     | 205.00 | 29.50  | 29.9   | 36.6   | 106.0  | 104.3  | 115.5  | 70.6   | 42.5   | 23.7   | 33.6   | 28.7   | 17.4   |\n",
       "| 86 | 25.8   | 67     | 167.00 | 67.50  | 26.0   | 36.5   |  98.9  |  89.7  |  96.2  | 54.7   | 37.8   | 33.7   | 32.4   | 27.7   | 18.2   |\n",
       "| 182 |  0.0   | 40     | 118.50 | 68.00  | 18.1   | 33.8   |  79.3  |  69.4  |  85.0  | 47.2   | 33.5   | 20.2   | 27.7   | 24.6   | 16.5   |\n",
       "\n"
      ],
      "text/plain": [
       "    BODYFAT AGE WEIGHT HEIGHT ADIPOSITY NECK CHEST ABDOMEN HIP   THIGH KNEE\n",
       "31  12.3    32  182.00 73.75  23.6      38.7 100.5  88.7    99.8 57.5  38.7\n",
       "39  33.8    46  363.15 72.25  48.9      51.2 136.2 148.1   147.7 87.3  49.1\n",
       "41  33.1    45  262.75 68.75  39.1      43.2 128.3 126.2   125.6 72.5  39.6\n",
       "42  31.7    44  205.00 29.50  29.9      36.6 106.0 104.3   115.5 70.6  42.5\n",
       "86  25.8    67  167.00 67.50  26.0      36.5  98.9  89.7    96.2 54.7  37.8\n",
       "182  0.0    40  118.50 68.00  18.1      33.8  79.3  69.4    85.0 47.2  33.5\n",
       "    ANKLE BICEPS FOREARM WRIST\n",
       "31  33.9  32.5   27.7    18.4 \n",
       "39  29.6  45.0   29.0    21.4 \n",
       "41  26.6  36.4   32.7    21.4 \n",
       "42  23.7  33.6   28.7    17.4 \n",
       "86  33.7  32.4   27.7    18.2 \n",
       "182 20.2  27.7   24.6    16.5 "
      ]
     },
     "metadata": {},
     "output_type": "display_data"
    }
   ],
   "source": [
    "data[RMIndex,]"
   ]
  },
  {
   "cell_type": "code",
   "execution_count": 5,
   "metadata": {},
   "outputs": [
    {
     "data": {
      "text/html": [
       "<table>\n",
       "<thead><tr><th></th><th scope=col>BODYFAT</th><th scope=col>AGE</th><th scope=col>WEIGHT</th><th scope=col>HEIGHT</th><th scope=col>ADIPOSITY</th><th scope=col>NECK</th><th scope=col>CHEST</th><th scope=col>ABDOMEN</th><th scope=col>HIP</th><th scope=col>THIGH</th><th scope=col>KNEE</th><th scope=col>ANKLE</th><th scope=col>BICEPS</th><th scope=col>FOREARM</th><th scope=col>WRIST</th></tr></thead>\n",
       "<tbody>\n",
       "\t<tr><th scope=row>42</th><td>31.7 </td><td>44   </td><td>205  </td><td>29.5 </td><td>29.9 </td><td>36.6 </td><td>106  </td><td>104.3</td><td>115.5</td><td>70.6 </td><td>42.5 </td><td>23.7 </td><td>33.6 </td><td>28.7 </td><td>17.4 </td></tr>\n",
       "</tbody>\n",
       "</table>\n"
      ],
      "text/latex": [
       "\\begin{tabular}{r|lllllllllllllll}\n",
       "  & BODYFAT & AGE & WEIGHT & HEIGHT & ADIPOSITY & NECK & CHEST & ABDOMEN & HIP & THIGH & KNEE & ANKLE & BICEPS & FOREARM & WRIST\\\\\n",
       "\\hline\n",
       "\t42 & 31.7  & 44    & 205   & 29.5  & 29.9  & 36.6  & 106   & 104.3 & 115.5 & 70.6  & 42.5  & 23.7  & 33.6  & 28.7  & 17.4 \\\\\n",
       "\\end{tabular}\n"
      ],
      "text/markdown": [
       "\n",
       "| <!--/--> | BODYFAT | AGE | WEIGHT | HEIGHT | ADIPOSITY | NECK | CHEST | ABDOMEN | HIP | THIGH | KNEE | ANKLE | BICEPS | FOREARM | WRIST |\n",
       "|---|---|---|---|---|---|---|---|---|---|---|---|---|---|---|---|\n",
       "| 42 | 31.7  | 44    | 205   | 29.5  | 29.9  | 36.6  | 106   | 104.3 | 115.5 | 70.6  | 42.5  | 23.7  | 33.6  | 28.7  | 17.4  |\n",
       "\n"
      ],
      "text/plain": [
       "   BODYFAT AGE WEIGHT HEIGHT ADIPOSITY NECK CHEST ABDOMEN HIP   THIGH KNEE\n",
       "42 31.7    44  205    29.5   29.9      36.6 106   104.3   115.5 70.6  42.5\n",
       "   ANKLE BICEPS FOREARM WRIST\n",
       "42 23.7  33.6   28.7    17.4 "
      ]
     },
     "metadata": {},
     "output_type": "display_data"
    }
   ],
   "source": [
    "data[42, ]"
   ]
  },
  {
   "cell_type": "code",
   "execution_count": 6,
   "metadata": {},
   "outputs": [
    {
     "data": {
      "text/html": [
       "69.4289268948277"
      ],
      "text/latex": [
       "69.4289268948277"
      ],
      "text/markdown": [
       "69.4289268948277"
      ],
      "text/plain": [
       "[1] 69.42893"
      ]
     },
     "metadata": {},
     "output_type": "display_data"
    }
   ],
   "source": [
    "# 1kg = 0.4535922921969lbs\n",
    "# test \n",
    "weight1 <- 154.25 * 0.4535922921969\n",
    "height1 <- 67.75 * 0.0254\n",
    "bmi <- weight1 / height1^2\n",
    "\n",
    "weight42 <- 205 * 0.4535922921969\n",
    "height42 <- sqrt(weight42 / 29.9) \n",
    "data[42, 4] <- height42 / 0.0254 \n",
    "data[42, 4]"
   ]
  },
  {
   "cell_type": "code",
   "execution_count": 7,
   "metadata": {},
   "outputs": [
    {
     "data": {
      "text/html": [
       "<ol class=list-inline>\n",
       "\t<li>31</li>\n",
       "\t<li>39</li>\n",
       "\t<li>41</li>\n",
       "\t<li>86</li>\n",
       "\t<li>182</li>\n",
       "\t<li>216</li>\n",
       "</ol>\n"
      ],
      "text/latex": [
       "\\begin{enumerate*}\n",
       "\\item 31\n",
       "\\item 39\n",
       "\\item 41\n",
       "\\item 86\n",
       "\\item 182\n",
       "\\item 216\n",
       "\\end{enumerate*}\n"
      ],
      "text/markdown": [
       "1. 31\n",
       "2. 39\n",
       "3. 41\n",
       "4. 86\n",
       "5. 182\n",
       "6. 216\n",
       "\n",
       "\n"
      ],
      "text/plain": [
       "[1]  31  39  41  86 182 216"
      ]
     },
     "metadata": {},
     "output_type": "display_data"
    }
   ],
   "source": [
    "set <- c(31, 39, 41, 86, 182) \n",
    "#data <- data[-set, ]\n",
    "RMIndex = c(set,216)\n",
    "RMIndex"
   ]
  },
  {
   "cell_type": "code",
   "execution_count": 8,
   "metadata": {},
   "outputs": [
    {
     "data": {
      "text/html": [
       "<ol class=list-inline>\n",
       "\t<li>252</li>\n",
       "\t<li>15</li>\n",
       "</ol>\n"
      ],
      "text/latex": [
       "\\begin{enumerate*}\n",
       "\\item 252\n",
       "\\item 15\n",
       "\\end{enumerate*}\n"
      ],
      "text/markdown": [
       "1. 252\n",
       "2. 15\n",
       "\n",
       "\n"
      ],
      "text/plain": [
       "[1] 252  15"
      ]
     },
     "metadata": {},
     "output_type": "display_data"
    }
   ],
   "source": [
    "dim(data)"
   ]
  },
  {
   "cell_type": "code",
   "execution_count": 9,
   "metadata": {},
   "outputs": [
    {
     "data": {
      "text/html": [
       "<ol class=list-inline>\n",
       "\t<li>'BODYFAT'</li>\n",
       "\t<li>'AGE'</li>\n",
       "\t<li>'WEIGHT'</li>\n",
       "\t<li>'HEIGHT'</li>\n",
       "\t<li>'ADIPOSITY'</li>\n",
       "\t<li>'NECK'</li>\n",
       "\t<li>'CHEST'</li>\n",
       "\t<li>'ABDOMEN'</li>\n",
       "\t<li>'HIP'</li>\n",
       "\t<li>'THIGH'</li>\n",
       "\t<li>'KNEE'</li>\n",
       "\t<li>'ANKLE'</li>\n",
       "\t<li>'BICEPS'</li>\n",
       "\t<li>'FOREARM'</li>\n",
       "\t<li>'WRIST'</li>\n",
       "</ol>\n"
      ],
      "text/latex": [
       "\\begin{enumerate*}\n",
       "\\item 'BODYFAT'\n",
       "\\item 'AGE'\n",
       "\\item 'WEIGHT'\n",
       "\\item 'HEIGHT'\n",
       "\\item 'ADIPOSITY'\n",
       "\\item 'NECK'\n",
       "\\item 'CHEST'\n",
       "\\item 'ABDOMEN'\n",
       "\\item 'HIP'\n",
       "\\item 'THIGH'\n",
       "\\item 'KNEE'\n",
       "\\item 'ANKLE'\n",
       "\\item 'BICEPS'\n",
       "\\item 'FOREARM'\n",
       "\\item 'WRIST'\n",
       "\\end{enumerate*}\n"
      ],
      "text/markdown": [
       "1. 'BODYFAT'\n",
       "2. 'AGE'\n",
       "3. 'WEIGHT'\n",
       "4. 'HEIGHT'\n",
       "5. 'ADIPOSITY'\n",
       "6. 'NECK'\n",
       "7. 'CHEST'\n",
       "8. 'ABDOMEN'\n",
       "9. 'HIP'\n",
       "10. 'THIGH'\n",
       "11. 'KNEE'\n",
       "12. 'ANKLE'\n",
       "13. 'BICEPS'\n",
       "14. 'FOREARM'\n",
       "15. 'WRIST'\n",
       "\n",
       "\n"
      ],
      "text/plain": [
       " [1] \"BODYFAT\"   \"AGE\"       \"WEIGHT\"    \"HEIGHT\"    \"ADIPOSITY\" \"NECK\"     \n",
       " [7] \"CHEST\"     \"ABDOMEN\"   \"HIP\"       \"THIGH\"     \"KNEE\"      \"ANKLE\"    \n",
       "[13] \"BICEPS\"    \"FOREARM\"   \"WRIST\"    "
      ]
     },
     "metadata": {},
     "output_type": "display_data"
    }
   ],
   "source": [
    "colnames(data)"
   ]
  },
  {
   "cell_type": "code",
   "execution_count": 10,
   "metadata": {
    "scrolled": false
   },
   "outputs": [
    {
     "data": {
      "image/png": "[encoded data removed]",
      "text/plain": [
       "Plot with title \"WRIST\""
      ]
     },
     "metadata": {},
     "output_type": "display_data"
    }
   ],
   "source": [
    "par(mfrow = c(3,5))\n",
    "for(i in 1:15){\n",
    "    plot(data[,i], main = colnames(data)[i], ylab = \"Value\")\n",
    "}\n",
    "par(mfrow = c(1,1))"
   ]
  },
  {
   "cell_type": "markdown",
   "metadata": {},
   "source": [
    "## 1.2. Simple Linear Regression"
   ]
  },
  {
   "cell_type": "code",
   "execution_count": 11,
   "metadata": {},
   "outputs": [
    {
     "data": {
      "text/plain": [
       "\n",
       "Call:\n",
       "lm(formula = BODYFAT ~ ., data = data[-RMIndex, ])\n",
       "\n",
       "Residuals:\n",
       "    Min      1Q  Median      3Q     Max \n",
       "-9.6498 -2.8212 -0.0284  2.6360  9.1439 \n",
       "\n",
       "Coefficients:\n",
       "             Estimate Std. Error t value Pr(>|t|)    \n",
       "(Intercept) -16.40562   38.42686  -0.427  0.66983    \n",
       "AGE           0.06034    0.03022   1.997  0.04703 *  \n",
       "WEIGHT       -0.06554    0.10712  -0.612  0.54126    \n",
       "HEIGHT        0.09855    0.53087   0.186  0.85289    \n",
       "ADIPOSITY     0.48342    0.77624   0.623  0.53405    \n",
       "NECK         -0.38189    0.21993  -1.736  0.08383 .  \n",
       "CHEST        -0.12945    0.10449  -1.239  0.21665    \n",
       "ABDOMEN       0.81526    0.08642   9.434  < 2e-16 ***\n",
       "HIP          -0.15242    0.13951  -1.093  0.27574    \n",
       "THIGH         0.18980    0.13895   1.366  0.17327    \n",
       "KNEE         -0.04911    0.24981  -0.197  0.84432    \n",
       "ANKLE        -0.06649    0.33893  -0.196  0.84465    \n",
       "BICEPS        0.11602    0.16134   0.719  0.47278    \n",
       "FOREARM       0.25556    0.19391   1.318  0.18882    \n",
       "WRIST        -1.44796    0.52213  -2.773  0.00601 ** \n",
       "---\n",
       "Signif. codes:  0 '***' 0.001 '**' 0.01 '*' 0.05 '.' 0.1 ' ' 1\n",
       "\n",
       "Residual standard error: 3.928 on 231 degrees of freedom\n",
       "Multiple R-squared:  0.7364,\tAdjusted R-squared:  0.7204 \n",
       "F-statistic: 46.09 on 14 and 231 DF,  p-value: < 2.2e-16\n"
      ]
     },
     "metadata": {},
     "output_type": "display_data"
    }
   ],
   "source": [
    "lm.naive = lm(BODYFAT~., data = data[-RMIndex,])\n",
    "summary(lm.naive)"
   ]
  },
  {
   "cell_type": "code",
   "execution_count": 12,
   "metadata": {
    "scrolled": true
   },
   "outputs": [
    {
     "data": {
      "image/png": "[encoded data removed]",
      "text/plain": [
       "Plot with title \"\""
      ]
     },
     "metadata": {},
     "output_type": "display_data"
    }
   ],
   "source": [
    "par(mfrow = c(2,2))\n",
    "plot(lm.naive)\n",
    "par(mfrow = c(1,1))"
   ]
  },
  {
   "cell_type": "markdown",
   "metadata": {},
   "source": [
    "## 1.3. Identify Outliers And Strong Influential Points"
   ]
  },
  {
   "cell_type": "markdown",
   "metadata": {},
   "source": [
    "### 1.3.1. Studentized Residual"
   ]
  },
  {
   "cell_type": "code",
   "execution_count": 13,
   "metadata": {},
   "outputs": [
    {
     "data": {
      "image/png": "[encoded data removed]",
      "text/plain": [
       "Plot with title \"Fitted Values v.s. Studentized Residuals\""
      ]
     },
     "metadata": {},
     "output_type": "display_data"
    }
   ],
   "source": [
    "index = 1:dim(data)[1]\n",
    "lm.stdres = stdres(lm.naive)\n",
    "plot(x = lm.naive$fitted.values, y = lm.stdres, ylab = \"Studentized residuals\", xlab = \"Fitted Values\", \n",
    "     main = \"Fitted Values v.s. Studentized Residuals\", pch = 20)\n",
    "#text(y = lm.stdres[which(abs(lm.stdres)>3)], x = lm.naive$fitted.values[which(abs(lm.stdres)>3)], \n",
    "#     labels = index[which(abs(lm.stdres)>3)], cex = 1, pos = 3)"
   ]
  },
  {
   "cell_type": "markdown",
   "metadata": {},
   "source": [
    "### 1.3.2. Leverage Value"
   ]
  },
  {
   "cell_type": "markdown",
   "metadata": {},
   "source": [
    "#### Set index manully"
   ]
  },
  {
   "cell_type": "code",
   "execution_count": 21,
   "metadata": {},
   "outputs": [],
   "source": [
    "index = 1:252\n",
    "index = index[-RMIndex]"
   ]
  },
  {
   "cell_type": "code",
   "execution_count": 15,
   "metadata": {},
   "outputs": [
    {
     "data": {
      "image/png": "[encoded data removed]",
      "text/plain": [
       "Plot with title \"Leverage\""
      ]
     },
     "metadata": {},
     "output_type": "display_data"
    }
   ],
   "source": [
    "lm.hats=hatvalues(lm.naive)\n",
    "plot(lm.hats, type = \"h\", ylim = c(0, 1), ylab = \"Leverage Value\", main = \"Leverage\") \n",
    "h0 = 28/252 # Rule of thumb for judging outliers\n",
    "text(y = lm.hats[lm.hats>h0], x = which(lm.hats>h0), labels = index[which(lm.hats>h0)], cex = 1, pos = 3)\n",
    "abline(h = h0, lty = 2)\n",
    "legend(\"topright\", legend = expression(2*p/n), lty = 2)"
   ]
  },
  {
   "cell_type": "markdown",
   "metadata": {},
   "source": [
    "### 1.3.3. DFFITS"
   ]
  },
  {
   "cell_type": "code",
   "execution_count": 16,
   "metadata": {},
   "outputs": [],
   "source": [
    "#lm.dffits = dffits(lm.naive)\n",
    "#dffit_index = as.numeric(names(lm.dffits))\n",
    "#dffit_index"
   ]
  },
  {
   "cell_type": "code",
   "execution_count": 17,
   "metadata": {},
   "outputs": [
    {
     "data": {
      "image/png": "[encoded data removed]",
      "text/plain": [
       "Plot with title \"DFFITS\""
      ]
     },
     "metadata": {},
     "output_type": "display_data"
    }
   ],
   "source": [
    "lm.dffits = dffits(lm.naive)\n",
    "plot(lm.dffits, type = \"h\", ylim = c(-3, 6), ylab = \"DFFITS\", main = \"DFFITS\")\n",
    "d0 = 2*sqrt(14/252) # Rule of thumb for judging influential points\n",
    "text(y = lm.dffits[abs(lm.dffits)>d0], x = which(abs(lm.dffits)>d0), labels = index[which(abs(lm.dffits)>d0)], cex = 1, pos = 3)\n",
    "abline(h = c(-1*d0, 0, d0), lty = c(2,1,2))\n",
    "legend(\"topright\", legend = expression(2*sqrt(p/n)), lty = 2)"
   ]
  },
  {
   "cell_type": "markdown",
   "metadata": {},
   "source": [
    "### 1.3.4. Cook's Distance"
   ]
  },
  {
   "cell_type": "code",
   "execution_count": 18,
   "metadata": {},
   "outputs": [
    {
     "data": {
      "image/png": "[encoded data removed]",
      "text/plain": [
       "Plot with title \"Cook's Distance\""
      ]
     },
     "metadata": {},
     "output_type": "display_data"
    }
   ],
   "source": [
    "lm.cooksD=cooks.distance(lm.naive)\n",
    "plot(lm.cooksD, type = \"h\", ylim = c(0, 1), ylab = \"Cook's Distance\", main = \"Cook's Distance\")\n",
    "c0 = qf(0.5, 14, 238)\n",
    "#text(y = lm.cooksD[lm.cooksD>c0], x = which(lm.cooksD>c0), labels = index[which(lm.cooksD>c0)], cex = 1, pos = 3)\n",
    "abline(h = c0, lty = 2)\n",
    "legend(\"topright\", legend = expression(F[paste(\"p,n-p\", sep=\"\")]), lty = 2)"
   ]
  },
  {
   "cell_type": "code",
   "execution_count": 19,
   "metadata": {
    "scrolled": false
   },
   "outputs": [
    {
     "data": {
      "text/html": [
       "<table>\n",
       "<thead><tr><th></th><th scope=col>BODYFAT</th><th scope=col>AGE</th><th scope=col>WEIGHT</th><th scope=col>HEIGHT</th><th scope=col>ADIPOSITY</th><th scope=col>NECK</th><th scope=col>CHEST</th><th scope=col>ABDOMEN</th><th scope=col>HIP</th><th scope=col>THIGH</th><th scope=col>KNEE</th><th scope=col>ANKLE</th><th scope=col>BICEPS</th><th scope=col>FOREARM</th><th scope=col>WRIST</th></tr></thead>\n",
       "<tbody>\n",
       "\t<tr><th scope=row>221</th><td>12.7  </td><td>54    </td><td>153.25</td><td>70.5  </td><td>24.5  </td><td>38.5  </td><td>99    </td><td>91.8  </td><td>96.2  </td><td>57.7  </td><td>38.1  </td><td>23.9  </td><td>31.4  </td><td>29.9  </td><td>18.9  </td></tr>\n",
       "</tbody>\n",
       "</table>\n"
      ],
      "text/latex": [
       "\\begin{tabular}{r|lllllllllllllll}\n",
       "  & BODYFAT & AGE & WEIGHT & HEIGHT & ADIPOSITY & NECK & CHEST & ABDOMEN & HIP & THIGH & KNEE & ANKLE & BICEPS & FOREARM & WRIST\\\\\n",
       "\\hline\n",
       "\t221 & 12.7   & 54     & 153.25 & 70.5   & 24.5   & 38.5   & 99     & 91.8   & 96.2   & 57.7   & 38.1   & 23.9   & 31.4   & 29.9   & 18.9  \\\\\n",
       "\\end{tabular}\n"
      ],
      "text/markdown": [
       "\n",
       "| <!--/--> | BODYFAT | AGE | WEIGHT | HEIGHT | ADIPOSITY | NECK | CHEST | ABDOMEN | HIP | THIGH | KNEE | ANKLE | BICEPS | FOREARM | WRIST |\n",
       "|---|---|---|---|---|---|---|---|---|---|---|---|---|---|---|---|\n",
       "| 221 | 12.7   | 54     | 153.25 | 70.5   | 24.5   | 38.5   | 99     | 91.8   | 96.2   | 57.7   | 38.1   | 23.9   | 31.4   | 29.9   | 18.9   |\n",
       "\n"
      ],
      "text/plain": [
       "    BODYFAT AGE WEIGHT HEIGHT ADIPOSITY NECK CHEST ABDOMEN HIP  THIGH KNEE\n",
       "221 12.7    54  153.25 70.5   24.5      38.5 99    91.8    96.2 57.7  38.1\n",
       "    ANKLE BICEPS FOREARM WRIST\n",
       "221 23.9  31.4   29.9    18.9 "
      ]
     },
     "metadata": {},
     "output_type": "display_data"
    }
   ],
   "source": [
    "data[index[which(lm.hats>h0 & abs(lm.dffits)>d0)],]"
   ]
  },
  {
   "cell_type": "markdown",
   "metadata": {},
   "source": [
    "These Points have both large leverage value and DFFITS."
   ]
  },
  {
   "cell_type": "code",
   "execution_count": 78,
   "metadata": {},
   "outputs": [
    {
     "data": {
      "text/plain": [
       "BODYFAT ~ AGE + WEIGHT + HEIGHT + ADIPOSITY + NECK + CHEST + \n",
       "    ABDOMEN + HIP + THIGH + KNEE + ANKLE + BICEPS + FOREARM + \n",
       "    WRIST"
      ]
     },
     "metadata": {},
     "output_type": "display_data"
    }
   ],
   "source": [
    "biggest = formula(lm(BODYFAT~., data[-RMIndex,]))\n",
    "biggest"
   ]
  },
  {
   "cell_type": "code",
   "execution_count": 80,
   "metadata": {
    "scrolled": false
   },
   "outputs": [
    {
     "name": "stdout",
     "output_type": "stream",
     "text": [
      "Start:  AIC=987.58\n",
      "BODYFAT ~ 1\n",
      "\n",
      "            Df Sum of Sq     RSS    AIC\n",
      "+ ABDOMEN    1    8991.7  4526.3 720.43\n",
      "+ ADIPOSITY  1    7186.6  6331.4 802.99\n",
      "+ CHEST      1    6291.1  7226.8 835.54\n",
      "+ HIP        1    5210.0  8307.9 869.83\n",
      "+ WEIGHT     1    4943.9  8574.1 877.59\n",
      "+ THIGH      1    4046.0  9472.0 902.09\n",
      "+ KNEE       1    3554.9  9963.0 914.52\n",
      "+ BICEPS     1    2995.3 10522.7 927.96\n",
      "+ NECK       1    2898.7 10619.2 930.21\n",
      "+ FOREARM    1    1649.9 11868.1 957.56\n",
      "+ WRIST      1    1292.3 12225.6 964.87\n",
      "+ AGE        1    1106.1 12411.9 968.59\n",
      "+ ANKLE      1    1024.3 12493.6 970.20\n",
      "<none>                   13518.0 987.58\n",
      "+ HEIGHT     1       0.6 13517.3 989.57\n",
      "\n",
      "Step:  AIC=720.43\n",
      "BODYFAT ~ ABDOMEN\n",
      "\n",
      "            Df Sum of Sq     RSS    AIC\n",
      "+ WEIGHT     1     581.8  3944.5 688.58\n",
      "+ WRIST      1     528.6  3997.7 691.88\n",
      "+ HEIGHT     1     464.5  4061.8 695.80\n",
      "+ NECK       1     372.3  4154.0 701.32\n",
      "+ ANKLE      1     314.6  4211.6 704.71\n",
      "+ KNEE       1     248.5  4277.8 708.54\n",
      "+ HIP        1     234.0  4292.3 709.37\n",
      "+ CHEST      1     202.4  4323.9 711.18\n",
      "+ AGE        1     102.0  4424.3 716.83\n",
      "+ FOREARM    1      92.4  4433.9 717.36\n",
      "+ BICEPS     1      91.3  4435.0 717.42\n",
      "+ THIGH      1      65.3  4461.0 718.86\n",
      "<none>                    4526.3 720.43\n",
      "+ ADIPOSITY  1      10.6  4515.7 721.85\n",
      "- ABDOMEN    1    8991.7 13518.0 987.58\n",
      "\n",
      "Step:  AIC=688.58\n",
      "BODYFAT ~ ABDOMEN + WEIGHT\n",
      "\n",
      "            Df Sum of Sq    RSS    AIC\n",
      "+ WRIST      1     159.4 3785.1 680.44\n",
      "+ THIGH      1      77.3 3867.1 685.71\n",
      "+ NECK       1      65.3 3879.2 686.48\n",
      "+ ADIPOSITY  1      37.1 3907.3 688.26\n",
      "+ HEIGHT     1      33.3 3911.1 688.50\n",
      "<none>                   3944.5 688.58\n",
      "+ BICEPS     1      28.2 3916.3 688.82\n",
      "+ FOREARM    1      13.7 3930.8 689.73\n",
      "+ CHEST      1      10.3 3934.1 689.94\n",
      "+ HIP        1       8.9 3935.5 690.03\n",
      "+ ANKLE      1       8.1 3936.3 690.08\n",
      "+ AGE        1       3.7 3940.7 690.35\n",
      "+ KNEE       1       0.0 3944.4 690.58\n",
      "- WEIGHT     1     581.8 4526.3 720.43\n",
      "- ABDOMEN    1    4629.6 8574.1 877.59\n",
      "\n",
      "Step:  AIC=680.44\n",
      "BODYFAT ~ ABDOMEN + WEIGHT + WRIST\n",
      "\n",
      "            Df Sum of Sq    RSS    AIC\n",
      "+ BICEPS     1      45.6 3739.5 679.46\n",
      "+ FOREARM    1      39.5 3745.5 679.86\n",
      "+ ADIPOSITY  1      37.6 3747.5 679.99\n",
      "+ THIGH      1      35.4 3749.7 680.13\n",
      "+ HEIGHT     1      33.6 3751.5 680.25\n",
      "<none>                   3785.1 680.44\n",
      "+ AGE        1      18.9 3766.2 681.21\n",
      "+ NECK       1      11.9 3773.2 681.67\n",
      "+ CHEST      1       5.8 3779.3 682.06\n",
      "+ KNEE       1       2.5 3782.6 682.28\n",
      "+ ANKLE      1       0.4 3784.7 682.41\n",
      "+ HIP        1       0.0 3785.1 682.44\n",
      "- WRIST      1     159.4 3944.5 688.58\n",
      "- WEIGHT     1     212.6 3997.7 691.88\n",
      "- ABDOMEN    1    4426.6 8211.7 868.96\n",
      "\n",
      "Step:  AIC=679.46\n",
      "BODYFAT ~ ABDOMEN + WEIGHT + WRIST + BICEPS\n",
      "\n",
      "            Df Sum of Sq    RSS    AIC\n",
      "<none>                   3739.5 679.46\n",
      "+ AGE        1      23.2 3716.3 679.92\n",
      "+ NECK       1      22.6 3716.9 679.97\n",
      "+ THIGH      1      18.7 3720.8 680.22\n",
      "+ FOREARM    1      17.8 3721.7 680.29\n",
      "+ ADIPOSITY  1      17.7 3721.8 680.29\n",
      "- BICEPS     1      45.6 3785.1 680.44\n",
      "+ HEIGHT     1      15.3 3724.2 680.45\n",
      "+ CHEST      1       9.9 3729.6 680.80\n",
      "+ KNEE       1       4.7 3734.8 681.15\n",
      "+ ANKLE      1       2.0 3737.5 681.33\n",
      "+ HIP        1       0.0 3739.5 681.46\n",
      "- WRIST      1     176.8 3916.3 688.82\n",
      "- WEIGHT     1     256.7 3996.2 693.79\n",
      "- ABDOMEN    1    4469.4 8208.9 870.88\n"
     ]
    },
    {
     "data": {
      "text/plain": [
       "\n",
       "Call:\n",
       "lm(formula = BODYFAT ~ ABDOMEN + WEIGHT + WRIST + BICEPS, data = data[-RMIndex, \n",
       "    ])\n",
       "\n",
       "Coefficients:\n",
       "(Intercept)      ABDOMEN       WEIGHT        WRIST       BICEPS  \n",
       "   -27.4582       0.8844      -0.1034      -1.3528       0.2405  \n"
      ]
     },
     "metadata": {},
     "output_type": "display_data"
    }
   ],
   "source": [
    "step(lm(BODYFAT~1, data = data[-RMIndex,]), direction = \"both\", scope = biggest)"
   ]
  },
  {
   "cell_type": "code",
   "execution_count": 82,
   "metadata": {},
   "outputs": [
    {
     "data": {
      "text/plain": [
       "\n",
       "Call:\n",
       "lm(formula = BODYFAT ~ ABDOMEN + WEIGHT + WRIST, data = data[-RMIndex, \n",
       "    ])\n",
       "\n",
       "Residuals:\n",
       "   Min     1Q Median     3Q    Max \n",
       "-8.923 -2.910 -0.401  2.994  9.270 \n",
       "\n",
       "Coefficients:\n",
       "             Estimate Std. Error t value Pr(>|t|)    \n",
       "(Intercept) -24.25349    6.27568  -3.865 0.000143 ***\n",
       "ABDOMEN       0.87755    0.05216  16.823  < 2e-16 ***\n",
       "WEIGHT       -0.08215    0.02228  -3.687 0.000280 ***\n",
       "WRIST        -1.27640    0.39988  -3.192 0.001600 ** \n",
       "---\n",
       "Signif. codes:  0 '***' 0.001 '**' 0.01 '*' 0.05 '.' 0.1 ' ' 1\n",
       "\n",
       "Residual standard error: 3.955 on 242 degrees of freedom\n",
       "Multiple R-squared:   0.72,\tAdjusted R-squared:  0.7165 \n",
       "F-statistic: 207.4 on 3 and 242 DF,  p-value: < 2.2e-16\n"
      ]
     },
     "metadata": {},
     "output_type": "display_data"
    }
   ],
   "source": [
    "summary(lm(BODYFAT~ABDOMEN+WEIGHT+WRIST, data[-RMIndex,]))"
   ]
  },
  {
   "cell_type": "code",
   "execution_count": 55,
   "metadata": {},
   "outputs": [
    {
     "data": {
      "text/html": [
       "<table>\n",
       "<thead><tr><th scope=col>BODYFAT</th><th scope=col>AGE</th><th scope=col>ADIPOSITY</th><th scope=col>NECK</th><th scope=col>CHEST</th><th scope=col>ABDOMEN</th><th scope=col>HIP</th><th scope=col>FOREARM</th><th scope=col>WRIST</th></tr></thead>\n",
       "<tbody>\n",
       "\t<tr><td>12.6 </td><td>23   </td><td>23.7 </td><td>36.2 </td><td> 93.1</td><td> 85.2</td><td> 94.5</td><td>27.4 </td><td>17.1 </td></tr>\n",
       "\t<tr><td> 6.9 </td><td>22   </td><td>23.4 </td><td>38.5 </td><td> 93.6</td><td> 83.0</td><td> 98.7</td><td>28.9 </td><td>18.2 </td></tr>\n",
       "\t<tr><td>24.6 </td><td>22   </td><td>24.7 </td><td>34.0 </td><td> 95.8</td><td> 87.9</td><td> 99.2</td><td>25.2 </td><td>16.6 </td></tr>\n",
       "\t<tr><td>10.9 </td><td>26   </td><td>24.9 </td><td>37.4 </td><td>101.8</td><td> 86.4</td><td>101.2</td><td>29.4 </td><td>18.2 </td></tr>\n",
       "\t<tr><td>27.8 </td><td>24   </td><td>25.6 </td><td>34.4 </td><td> 97.3</td><td>100.0</td><td>101.9</td><td>27.7 </td><td>17.7 </td></tr>\n",
       "\t<tr><td>20.6 </td><td>24   </td><td>26.5 </td><td>39.0 </td><td>104.5</td><td> 94.4</td><td>107.8</td><td>30.6 </td><td>18.8 </td></tr>\n",
       "</tbody>\n",
       "</table>\n"
      ],
      "text/latex": [
       "\\begin{tabular}{r|lllllllll}\n",
       " BODYFAT & AGE & ADIPOSITY & NECK & CHEST & ABDOMEN & HIP & FOREARM & WRIST\\\\\n",
       "\\hline\n",
       "\t 12.6  & 23    & 23.7  & 36.2  &  93.1 &  85.2 &  94.5 & 27.4  & 17.1 \\\\\n",
       "\t  6.9  & 22    & 23.4  & 38.5  &  93.6 &  83.0 &  98.7 & 28.9  & 18.2 \\\\\n",
       "\t 24.6  & 22    & 24.7  & 34.0  &  95.8 &  87.9 &  99.2 & 25.2  & 16.6 \\\\\n",
       "\t 10.9  & 26    & 24.9  & 37.4  & 101.8 &  86.4 & 101.2 & 29.4  & 18.2 \\\\\n",
       "\t 27.8  & 24    & 25.6  & 34.4  &  97.3 & 100.0 & 101.9 & 27.7  & 17.7 \\\\\n",
       "\t 20.6  & 24    & 26.5  & 39.0  & 104.5 &  94.4 & 107.8 & 30.6  & 18.8 \\\\\n",
       "\\end{tabular}\n"
      ],
      "text/markdown": [
       "\n",
       "| BODYFAT | AGE | ADIPOSITY | NECK | CHEST | ABDOMEN | HIP | FOREARM | WRIST |\n",
       "|---|---|---|---|---|---|---|---|---|\n",
       "| 12.6  | 23    | 23.7  | 36.2  |  93.1 |  85.2 |  94.5 | 27.4  | 17.1  |\n",
       "|  6.9  | 22    | 23.4  | 38.5  |  93.6 |  83.0 |  98.7 | 28.9  | 18.2  |\n",
       "| 24.6  | 22    | 24.7  | 34.0  |  95.8 |  87.9 |  99.2 | 25.2  | 16.6  |\n",
       "| 10.9  | 26    | 24.9  | 37.4  | 101.8 |  86.4 | 101.2 | 29.4  | 18.2  |\n",
       "| 27.8  | 24    | 25.6  | 34.4  |  97.3 | 100.0 | 101.9 | 27.7  | 17.7  |\n",
       "| 20.6  | 24    | 26.5  | 39.0  | 104.5 |  94.4 | 107.8 | 30.6  | 18.8  |\n",
       "\n"
      ],
      "text/plain": [
       "  BODYFAT AGE ADIPOSITY NECK CHEST ABDOMEN HIP   FOREARM WRIST\n",
       "1 12.6    23  23.7      36.2  93.1  85.2    94.5 27.4    17.1 \n",
       "2  6.9    22  23.4      38.5  93.6  83.0    98.7 28.9    18.2 \n",
       "3 24.6    22  24.7      34.0  95.8  87.9    99.2 25.2    16.6 \n",
       "4 10.9    26  24.9      37.4 101.8  86.4   101.2 29.4    18.2 \n",
       "5 27.8    24  25.6      34.4  97.3 100.0   101.9 27.7    17.7 \n",
       "6 20.6    24  26.5      39.0 104.5  94.4   107.8 30.6    18.8 "
      ]
     },
     "metadata": {},
     "output_type": "display_data"
    }
   ],
   "source": [
    "lm.step = lm(BODYFAT ~ AGE + ADIPOSITY + NECK + CHEST + ABDOMEN + HIP + FOREARM + WRIST, data = data[-RMIndex, ])\n",
    "data.mod = lm.step$model\n",
    "head(data.mod)"
   ]
  },
  {
   "cell_type": "code",
   "execution_count": 60,
   "metadata": {},
   "outputs": [
    {
     "data": {
      "text/html": [
       "<dl class=dl-horizontal>\n",
       "\t<dt>V1</dt>\n",
       "\t\t<dd>'ABDOMEN'</dd>\n",
       "\t<dt>V2</dt>\n",
       "\t\t<dd>'WRIST'</dd>\n",
       "\t<dt>R^2</dt>\n",
       "\t\t<dd>'0.704'</dd>\n",
       "</dl>\n"
      ],
      "text/latex": [
       "\\begin{description*}\n",
       "\\item[V1] 'ABDOMEN'\n",
       "\\item[V2] 'WRIST'\n",
       "\\item[R\\textbackslash{}textasciicircum\\{\\}2] '0.704'\n",
       "\\end{description*}\n"
      ],
      "text/markdown": [
       "V1\n",
       ":   'ABDOMEN'V2\n",
       ":   'WRIST'R^2\n",
       ":   '0.704'\n",
       "\n"
      ],
      "text/plain": [
       "       V1        V2       R^2 \n",
       "\"ABDOMEN\"   \"WRIST\"   \"0.704\" "
      ]
     },
     "metadata": {},
     "output_type": "display_data"
    }
   ],
   "source": [
    "results = matrix(rep(0, 28*3), ncol = 3, nrow = 28)\n",
    "colnames(results) = c(\"V1\", \"V2\", \"R^2\")\n",
    "k = 1\n",
    "for(i in 2:8){\n",
    "    s = i+1\n",
    "    for(j in s:9){\n",
    "        results[k, c(1,2)] = colnames(data.mod)[c(i,j)]\n",
    "        results[k, 3] = round(summary(lm(BODYFAT~., data = data.mod[,c(1,i,j)]))$r.squared, 3)\n",
    "        k = k+1\n",
    "    }\n",
    "}\n",
    "results[results[,3]==max(results[,3]),]"
   ]
  },
  {
   "cell_type": "code",
   "execution_count": 35,
   "metadata": {},
   "outputs": [
    {
     "data": {
      "text/html": [
       "<dl class=dl-horizontal>\n",
       "\t<dt>V1</dt>\n",
       "\t\t<dd>'WEIGHT'</dd>\n",
       "\t<dt>V2</dt>\n",
       "\t\t<dd>'ABDOMEN'</dd>\n",
       "\t<dt>R^2</dt>\n",
       "\t\t<dd>'0.708'</dd>\n",
       "</dl>\n"
      ],
      "text/latex": [
       "\\begin{description*}\n",
       "\\item[V1] 'WEIGHT'\n",
       "\\item[V2] 'ABDOMEN'\n",
       "\\item[R\\textbackslash{}textasciicircum\\{\\}2] '0.708'\n",
       "\\end{description*}\n"
      ],
      "text/markdown": [
       "V1\n",
       ":   'WEIGHT'V2\n",
       ":   'ABDOMEN'R^2\n",
       ":   '0.708'\n",
       "\n"
      ],
      "text/plain": [
       "       V1        V2       R^2 \n",
       " \"WEIGHT\" \"ABDOMEN\"   \"0.708\" "
      ]
     },
     "metadata": {},
     "output_type": "display_data"
    }
   ],
   "source": [
    "results = matrix(rep(0, 91*3), ncol = 3, nrow = 91)\n",
    "colnames(results) = c(\"V1\", \"V2\", \"R^2\")\n",
    "k = 1\n",
    "for(i in 2:14){\n",
    "    s = i+1\n",
    "    for(j in s:15){\n",
    "        results[k, c(1,2)] = colnames(data)[c(i,j)]\n",
    "        results[k, 3] = round(summary(lm(BODYFAT~., data = data[-RMIndex,c(1,i,j)]))$r.squared, 3)\n",
    "        k = k+1\n",
    "    }\n",
    "}\n",
    "results[results[,3]==max(results[,3]),]"
   ]
  },
  {
   "cell_type": "code",
   "execution_count": null,
   "metadata": {},
   "outputs": [],
   "source": [
    "##------------------------ scatterplot matrix\n",
    "require(SciViews)\n",
    "library(\"KernSmooth\") \n",
    "### box and regression line\n",
    "panel.box <- function(x, ...)\n",
    "{\n",
    "  usr <- par(\"usr\"); on.exit(par(usr))\n",
    "  par(usr = c(usr[3:4],0, 2 ))\n",
    "  #par(usr = c(min(x)-1.5*IQR(x),max(x)+1.5*IQR(x), 0,2 ))\n",
    "  boxplot(x,horizontal = TRUE, add=TRUE)\n",
    "}\n",
    "\n",
    "pairs(data,panel =function(x,y,...){\n",
    "  points(x,y,...)\n",
    "  abline(lm(y~x),col = 'red')\n",
    "},\n",
    "cex = 1.5,pch = 16, col = \"light blue\",\n",
    "diag.panel = panel.box, cex.labels = 2,font.labels = 2)\n",
    "\n",
    "\n",
    "\n",
    "AGE + ADIPOSITY + NECK + CHEST + ABDOMEN + HIP + FOREARM + \n",
    "    WRIST"
   ]
  },
  {
   "cell_type": "code",
   "execution_count": 68,
   "metadata": {},
   "outputs": [
    {
     "data": {
      "image/png": "[encoded data removed]",
      "text/plain": [
       "Plot with title \"Histogram of data[-RMIndex, 2]\""
      ]
     },
     "metadata": {},
     "output_type": "display_data"
    }
   ],
   "source": [
    "hist(data[-RMIndex, 2], breaks = 246)"
   ]
  },
  {
   "cell_type": "code",
   "execution_count": 83,
   "metadata": {},
   "outputs": [
    {
     "data": {
      "text/html": [
       "364"
      ],
      "text/latex": [
       "364"
      ],
      "text/markdown": [
       "364"
      ],
      "text/plain": [
       "[1] 364"
      ]
     },
     "metadata": {},
     "output_type": "display_data"
    }
   ],
   "source": [
    "14*13*12/1/2/3"
   ]
  },
  {
   "cell_type": "code",
   "execution_count": 84,
   "metadata": {},
   "outputs": [
    {
     "data": {
      "text/html": [
       "<dl class=dl-horizontal>\n",
       "\t<dt>V1</dt>\n",
       "\t\t<dd>'WEIGHT'</dd>\n",
       "\t<dt>V2</dt>\n",
       "\t\t<dd>'ABDOMEN'</dd>\n",
       "\t<dt>V3</dt>\n",
       "\t\t<dd>'WRIST'</dd>\n",
       "\t<dt>R^2</dt>\n",
       "\t\t<dd>'0.72'</dd>\n",
       "</dl>\n"
      ],
      "text/latex": [
       "\\begin{description*}\n",
       "\\item[V1] 'WEIGHT'\n",
       "\\item[V2] 'ABDOMEN'\n",
       "\\item[V3] 'WRIST'\n",
       "\\item[R\\textbackslash{}textasciicircum\\{\\}2] '0.72'\n",
       "\\end{description*}\n"
      ],
      "text/markdown": [
       "V1\n",
       ":   'WEIGHT'V2\n",
       ":   'ABDOMEN'V3\n",
       ":   'WRIST'R^2\n",
       ":   '0.72'\n",
       "\n"
      ],
      "text/plain": [
       "       V1        V2        V3       R^2 \n",
       " \"WEIGHT\" \"ABDOMEN\"   \"WRIST\"    \"0.72\" "
      ]
     },
     "metadata": {},
     "output_type": "display_data"
    }
   ],
   "source": [
    "results = matrix(rep(0, 364*4), ncol = 4, nrow = 364)\n",
    "colnames(results) = c(\"V1\", \"V2\", \"V3\", \"R^2\")\n",
    "k = 1\n",
    "for(i in 2:13){\n",
    "    s = i+1\n",
    "    for(j in s:14){\n",
    "        t = j+1\n",
    "        for(l in t:15){\n",
    "            results[k, c(1,2,3)] = colnames(data)[c(i,j,l)]\n",
    "            results[k, 4] = round(summary(lm(BODYFAT~., data = data[-RMIndex,c(1,i,j,l)]))$r.squared, 3)\n",
    "            k = k+1\n",
    "        }\n",
    "    }\n",
    "}\n",
    "results[results[,4]==max(results[,4]),]"
   ]
  },
  {
   "cell_type": "code",
   "execution_count": 86,
   "metadata": {
    "scrolled": false
   },
   "outputs": [
    {
     "data": {
      "text/plain": [
       "\n",
       "Call:\n",
       "lm(formula = BODYFAT ~ WEIGHT + ABDOMEN + WRIST, data = data[-RMIndex, \n",
       "    ])\n",
       "\n",
       "Residuals:\n",
       "   Min     1Q Median     3Q    Max \n",
       "-8.923 -2.910 -0.401  2.994  9.270 \n",
       "\n",
       "Coefficients:\n",
       "             Estimate Std. Error t value Pr(>|t|)    \n",
       "(Intercept) -24.25349    6.27568  -3.865 0.000143 ***\n",
       "WEIGHT       -0.08215    0.02228  -3.687 0.000280 ***\n",
       "ABDOMEN       0.87755    0.05216  16.823  < 2e-16 ***\n",
       "WRIST        -1.27640    0.39988  -3.192 0.001600 ** \n",
       "---\n",
       "Signif. codes:  0 '***' 0.001 '**' 0.01 '*' 0.05 '.' 0.1 ' ' 1\n",
       "\n",
       "Residual standard error: 3.955 on 242 degrees of freedom\n",
       "Multiple R-squared:   0.72,\tAdjusted R-squared:  0.7165 \n",
       "F-statistic: 207.4 on 3 and 242 DF,  p-value: < 2.2e-16\n"
      ]
     },
     "metadata": {},
     "output_type": "display_data"
    }
   ],
   "source": [
    "lm.final = lm(BODYFAT~WEIGHT+ABDOMEN+WRIST, data[-RMIndex,])\n",
    "summary(lm.final)"
   ]
  },
  {
   "cell_type": "code",
   "execution_count": 89,
   "metadata": {
    "scrolled": false
   },
   "outputs": [
    {
     "data": {
      "image/png": "[encoded data removed]",
      "text/plain": [
       "plot without title"
      ]
     },
     "metadata": {},
     "output_type": "display_data"
    }
   ],
   "source": [
    "boxcox(lm.final)"
   ]
  },
  {
   "cell_type": "code",
   "execution_count": 88,
   "metadata": {},
   "outputs": [
    {
     "data": {
      "image/png": "[encoded data removed]",
      "text/plain": [
       "Plot with title \"\""
      ]
     },
     "metadata": {},
     "output_type": "display_data"
    },
    {
     "data": {
      "image/png": "[encoded data removed]",
      "text/plain": [
       "Plot with title \"\""
      ]
     },
     "metadata": {},
     "output_type": "display_data"
    }
   ],
   "source": [
    "plot(lm.final, which = c(1,2))"
   ]
  },
  {
   "cell_type": "code",
   "execution_count": null,
   "metadata": {},
   "outputs": [],
   "source": []
  }
 ],
 "metadata": {
  "kernelspec": {
   "display_name": "R",
   "language": "R",
   "name": "ir"
  },
  "language_info": {
   "codemirror_mode": "r",
   "file_extension": ".r",
   "mimetype": "text/x-r-source",
   "name": "R",
   "pygments_lexer": "r",
   "version": "3.6.1"
  }
 },
 "nbformat": 4,
 "nbformat_minor": 2
}
