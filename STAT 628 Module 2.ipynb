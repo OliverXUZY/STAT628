{
 "cells": [
  {
   "cell_type": "markdown",
   "metadata": {},
   "source": [
    "# 1. Data Processing"
   ]
  },
  {
   "cell_type": "markdown",
   "metadata": {},
   "source": [
    "## 1.1. Read Data"
   ]
  },
  {
   "cell_type": "code",
<<<<<<< HEAD
   "execution_count": 20,
=======
   "execution_count": 21,
>>>>>>> 4cfdac3c5615adfec4dc250602c9c6e7aa34a655
   "metadata": {},
   "outputs": [
    {
     "data": {
      "text/html": [
       "<table>\n",
       "<caption>A data.frame: 6 × 15</caption>\n",
       "<thead>\n",
       "\t<tr><th scope=col>BODYFAT</th><th scope=col>AGE</th><th scope=col>WEIGHT</th><th scope=col>HEIGHT</th><th scope=col>ADIPOSITY</th><th scope=col>NECK</th><th scope=col>CHEST</th><th scope=col>ABDOMEN</th><th scope=col>HIP</th><th scope=col>THIGH</th><th scope=col>KNEE</th><th scope=col>ANKLE</th><th scope=col>BICEPS</th><th scope=col>FOREARM</th><th scope=col>WRIST</th></tr>\n",
       "\t<tr><th scope=col>&lt;dbl&gt;</th><th scope=col>&lt;int&gt;</th><th scope=col>&lt;dbl&gt;</th><th scope=col>&lt;dbl&gt;</th><th scope=col>&lt;dbl&gt;</th><th scope=col>&lt;dbl&gt;</th><th scope=col>&lt;dbl&gt;</th><th scope=col>&lt;dbl&gt;</th><th scope=col>&lt;dbl&gt;</th><th scope=col>&lt;dbl&gt;</th><th scope=col>&lt;dbl&gt;</th><th scope=col>&lt;dbl&gt;</th><th scope=col>&lt;dbl&gt;</th><th scope=col>&lt;dbl&gt;</th><th scope=col>&lt;dbl&gt;</th></tr>\n",
       "</thead>\n",
       "<tbody>\n",
       "\t<tr><td>12.6</td><td>23</td><td>154.25</td><td>67.75</td><td>23.7</td><td>36.2</td><td> 93.1</td><td> 85.2</td><td> 94.5</td><td>59.0</td><td>37.3</td><td>21.9</td><td>32.0</td><td>27.4</td><td>17.1</td></tr>\n",
       "\t<tr><td> 6.9</td><td>22</td><td>173.25</td><td>72.25</td><td>23.4</td><td>38.5</td><td> 93.6</td><td> 83.0</td><td> 98.7</td><td>58.7</td><td>37.3</td><td>23.4</td><td>30.5</td><td>28.9</td><td>18.2</td></tr>\n",
       "\t<tr><td>24.6</td><td>22</td><td>154.00</td><td>66.25</td><td>24.7</td><td>34.0</td><td> 95.8</td><td> 87.9</td><td> 99.2</td><td>59.6</td><td>38.9</td><td>24.0</td><td>28.8</td><td>25.2</td><td>16.6</td></tr>\n",
       "\t<tr><td>10.9</td><td>26</td><td>184.75</td><td>72.25</td><td>24.9</td><td>37.4</td><td>101.8</td><td> 86.4</td><td>101.2</td><td>60.1</td><td>37.3</td><td>22.8</td><td>32.4</td><td>29.4</td><td>18.2</td></tr>\n",
       "\t<tr><td>27.8</td><td>24</td><td>184.25</td><td>71.25</td><td>25.6</td><td>34.4</td><td> 97.3</td><td>100.0</td><td>101.9</td><td>63.2</td><td>42.2</td><td>24.0</td><td>32.2</td><td>27.7</td><td>17.7</td></tr>\n",
       "\t<tr><td>20.6</td><td>24</td><td>210.25</td><td>74.75</td><td>26.5</td><td>39.0</td><td>104.5</td><td> 94.4</td><td>107.8</td><td>66.0</td><td>42.0</td><td>25.6</td><td>35.7</td><td>30.6</td><td>18.8</td></tr>\n",
       "</tbody>\n",
       "</table>\n"
      ],
      "text/latex": [
       "A data.frame: 6 × 15\n",
       "\\begin{tabular}{r|lllllllllllllll}\n",
       " BODYFAT & AGE & WEIGHT & HEIGHT & ADIPOSITY & NECK & CHEST & ABDOMEN & HIP & THIGH & KNEE & ANKLE & BICEPS & FOREARM & WRIST\\\\\n",
       " <dbl> & <int> & <dbl> & <dbl> & <dbl> & <dbl> & <dbl> & <dbl> & <dbl> & <dbl> & <dbl> & <dbl> & <dbl> & <dbl> & <dbl>\\\\\n",
       "\\hline\n",
       "\t 12.6 & 23 & 154.25 & 67.75 & 23.7 & 36.2 &  93.1 &  85.2 &  94.5 & 59.0 & 37.3 & 21.9 & 32.0 & 27.4 & 17.1\\\\\n",
       "\t  6.9 & 22 & 173.25 & 72.25 & 23.4 & 38.5 &  93.6 &  83.0 &  98.7 & 58.7 & 37.3 & 23.4 & 30.5 & 28.9 & 18.2\\\\\n",
       "\t 24.6 & 22 & 154.00 & 66.25 & 24.7 & 34.0 &  95.8 &  87.9 &  99.2 & 59.6 & 38.9 & 24.0 & 28.8 & 25.2 & 16.6\\\\\n",
       "\t 10.9 & 26 & 184.75 & 72.25 & 24.9 & 37.4 & 101.8 &  86.4 & 101.2 & 60.1 & 37.3 & 22.8 & 32.4 & 29.4 & 18.2\\\\\n",
       "\t 27.8 & 24 & 184.25 & 71.25 & 25.6 & 34.4 &  97.3 & 100.0 & 101.9 & 63.2 & 42.2 & 24.0 & 32.2 & 27.7 & 17.7\\\\\n",
       "\t 20.6 & 24 & 210.25 & 74.75 & 26.5 & 39.0 & 104.5 &  94.4 & 107.8 & 66.0 & 42.0 & 25.6 & 35.7 & 30.6 & 18.8\\\\\n",
       "\\end{tabular}\n"
      ],
      "text/markdown": [
       "\n",
       "A data.frame: 6 × 15\n",
       "\n",
       "| BODYFAT &lt;dbl&gt; | AGE &lt;int&gt; | WEIGHT &lt;dbl&gt; | HEIGHT &lt;dbl&gt; | ADIPOSITY &lt;dbl&gt; | NECK &lt;dbl&gt; | CHEST &lt;dbl&gt; | ABDOMEN &lt;dbl&gt; | HIP &lt;dbl&gt; | THIGH &lt;dbl&gt; | KNEE &lt;dbl&gt; | ANKLE &lt;dbl&gt; | BICEPS &lt;dbl&gt; | FOREARM &lt;dbl&gt; | WRIST &lt;dbl&gt; |\n",
       "|---|---|---|---|---|---|---|---|---|---|---|---|---|---|---|\n",
       "| 12.6 | 23 | 154.25 | 67.75 | 23.7 | 36.2 |  93.1 |  85.2 |  94.5 | 59.0 | 37.3 | 21.9 | 32.0 | 27.4 | 17.1 |\n",
       "|  6.9 | 22 | 173.25 | 72.25 | 23.4 | 38.5 |  93.6 |  83.0 |  98.7 | 58.7 | 37.3 | 23.4 | 30.5 | 28.9 | 18.2 |\n",
       "| 24.6 | 22 | 154.00 | 66.25 | 24.7 | 34.0 |  95.8 |  87.9 |  99.2 | 59.6 | 38.9 | 24.0 | 28.8 | 25.2 | 16.6 |\n",
       "| 10.9 | 26 | 184.75 | 72.25 | 24.9 | 37.4 | 101.8 |  86.4 | 101.2 | 60.1 | 37.3 | 22.8 | 32.4 | 29.4 | 18.2 |\n",
       "| 27.8 | 24 | 184.25 | 71.25 | 25.6 | 34.4 |  97.3 | 100.0 | 101.9 | 63.2 | 42.2 | 24.0 | 32.2 | 27.7 | 17.7 |\n",
       "| 20.6 | 24 | 210.25 | 74.75 | 26.5 | 39.0 | 104.5 |  94.4 | 107.8 | 66.0 | 42.0 | 25.6 | 35.7 | 30.6 | 18.8 |\n",
       "\n"
      ],
      "text/plain": [
       "  BODYFAT AGE WEIGHT HEIGHT ADIPOSITY NECK CHEST ABDOMEN HIP   THIGH KNEE ANKLE\n",
       "1 12.6    23  154.25 67.75  23.7      36.2  93.1  85.2    94.5 59.0  37.3 21.9 \n",
       "2  6.9    22  173.25 72.25  23.4      38.5  93.6  83.0    98.7 58.7  37.3 23.4 \n",
       "3 24.6    22  154.00 66.25  24.7      34.0  95.8  87.9    99.2 59.6  38.9 24.0 \n",
       "4 10.9    26  184.75 72.25  24.9      37.4 101.8  86.4   101.2 60.1  37.3 22.8 \n",
       "5 27.8    24  184.25 71.25  25.6      34.4  97.3 100.0   101.9 63.2  42.2 24.0 \n",
       "6 20.6    24  210.25 74.75  26.5      39.0 104.5  94.4   107.8 66.0  42.0 25.6 \n",
       "  BICEPS FOREARM WRIST\n",
       "1 32.0   27.4    17.1 \n",
       "2 30.5   28.9    18.2 \n",
       "3 28.8   25.2    16.6 \n",
       "4 32.4   29.4    18.2 \n",
       "5 32.2   27.7    17.7 \n",
       "6 35.7   30.6    18.8 "
      ]
     },
     "metadata": {},
     "output_type": "display_data"
    }
   ],
   "source": [
    "rm(list =ls())\n",
    "library(MASS)\n",
    "\n",
    "data = read.csv(\"BodyFat.csv\")\n",
    "data = data[c(-1,-3),] # Rrmove indexes and density\n",
    "head(data)"
   ]
  },
  {
   "cell_type": "code",
<<<<<<< HEAD
   "execution_count": 21,
=======
   "execution_count": 22,
>>>>>>> 4cfdac3c5615adfec4dc250602c9c6e7aa34a655
   "metadata": {},
   "outputs": [
    {
     "data": {
      "text/plain": [
       "    BODYFAT           AGE            WEIGHT          HEIGHT     \n",
       " Min.   : 0.00   Min.   :22.00   Min.   :118.5   Min.   :29.50  \n",
       " 1st Qu.:12.80   1st Qu.:35.75   1st Qu.:159.0   1st Qu.:68.25  \n",
       " Median :19.00   Median :43.00   Median :176.5   Median :70.00  \n",
       " Mean   :18.94   Mean   :44.88   Mean   :178.9   Mean   :70.15  \n",
       " 3rd Qu.:24.60   3rd Qu.:54.00   3rd Qu.:197.0   3rd Qu.:72.25  \n",
       " Max.   :45.10   Max.   :81.00   Max.   :363.1   Max.   :77.75  \n",
       "   ADIPOSITY          NECK           CHEST           ABDOMEN      \n",
       " Min.   :18.10   Min.   :31.10   Min.   : 79.30   Min.   : 69.40  \n",
       " 1st Qu.:23.10   1st Qu.:36.40   1st Qu.: 94.35   1st Qu.: 84.58  \n",
       " Median :25.05   Median :38.00   Median : 99.65   Median : 90.95  \n",
       " Mean   :25.44   Mean   :37.99   Mean   :100.82   Mean   : 92.56  \n",
       " 3rd Qu.:27.32   3rd Qu.:39.42   3rd Qu.:105.38   3rd Qu.: 99.33  \n",
       " Max.   :48.90   Max.   :51.20   Max.   :136.20   Max.   :148.10  \n",
       "      HIP            THIGH            KNEE           ANKLE          BICEPS     \n",
       " Min.   : 85.0   Min.   :47.20   Min.   :33.00   Min.   :19.1   Min.   :24.80  \n",
       " 1st Qu.: 95.5   1st Qu.:56.00   1st Qu.:36.98   1st Qu.:22.0   1st Qu.:30.20  \n",
       " Median : 99.3   Median :59.00   Median :38.50   Median :22.8   Median :32.05  \n",
       " Mean   : 99.9   Mean   :59.41   Mean   :38.59   Mean   :23.1   Mean   :32.27  \n",
       " 3rd Qu.:103.5   3rd Qu.:62.35   3rd Qu.:39.92   3rd Qu.:24.0   3rd Qu.:34.33  \n",
       " Max.   :147.7   Max.   :87.30   Max.   :49.10   Max.   :33.9   Max.   :45.00  \n",
       "    FOREARM          WRIST      \n",
       " Min.   :21.00   Min.   :15.80  \n",
       " 1st Qu.:27.30   1st Qu.:17.60  \n",
       " Median :28.70   Median :18.30  \n",
       " Mean   :28.66   Mean   :18.23  \n",
       " 3rd Qu.:30.00   3rd Qu.:18.80  \n",
       " Max.   :34.90   Max.   :21.40  "
      ]
     },
     "metadata": {},
     "output_type": "display_data"
    }
   ],
   "source": [
    "summary(data)"
   ]
  },
  {
   "cell_type": "code",
<<<<<<< HEAD
   "execution_count": 22,
   "metadata": {
    "scrolled": false
   },
   "outputs": [
    {
     "data": {
      "image/png": "iVBORw0KGgoAAAANSUhEUgAAA0gAAANICAMAAADKOT/pAAAAMFBMVEUAAABNTU1oaGh8fHyM\njIyampqnp6eysrK9vb3Hx8fQ0NDZ2dnh4eHp6enw8PD////QFLu4AAAACXBIWXMAABJ0AAAS\ndAHeZh94AAAgAElEQVR4nO1djZrbOAhku/1vr3r/t71NYmCQJVm2sexsmK+3m41lMUYMIGXb\noxQIBHaDziYQCHwGhJACAQeEkAIBB4SQAgEHhJACAQeEkAIBB4SQAgEHhJACAQeEkAIBB4SQ\nAgEHhJACAQeEkAIBB4SQAgEHhJACAQeEkAIBB4SQAgEHhJACAQeEkAIBB4SQAgEHhJACAQeE\nkAIBB4SQAgEHhJACAQeEkAIBB4SQAgEHhJACAQfsExLd8eXn46ff70Tvf/T9998p/Udvj4tv\n9B9NmH5+05Hy7mi8Mb309xvR27e/SOkURh/4Qv89aKSb/74goQcp5Pq45eP7GZ4E81dkyaur\n4YhUp7DVqE1/vt4Y/5czhRCu2/IQEtGd0o/H6x/w/veUft6+pPT9Ywy68PfH99/pbCExixu/\nB/5cQEg/bv68pZ3/bu77MQtRw/VxywWFdD5LWV0IR0P1FrYQtb8n2fyXMYUQrmOvkG5ff90l\n+5fo1+01/dX3b6+/3L78/UisCZ33jb7TNzPLGRAWf+ntw+V/33Oap+AvvUsUvH8EIhC6vSxx\nnb6Ppm6FdDWWsroYjkr1x40aRu2Xm1L+fb3dY5lqCNfhIaTHt28Pwd7lO73/88bpTuCLymu6\n8+2jUtpZToCw+PZIXX+//r2AkD44/bst8y1N3nJUFqIlrtcT0gVYyupiOALVB02M2lvr9i8b\nkTCEG8b2UaUHi48M+mHoX7rz0BT0716qPjqVn1PDJzf+/iD+feqqzotcZfH2IH8uHcEtCL9+\ndBRfPxh+m4Voiev1hHQ+S11dDMesImHUfuzpvv8pMpUQrsNnj/QrlZ36+P7l7e0LjL69/PbR\nsfzl3u60yFUWplievUe6y+fWpb898nq2+yhyPUtISO1iLOerq9we+J1F6vtth/T9X5oJSUK4\nDh8hTfszw1aJ/L3vOFFIj1I1ZYPThAQs7hTmEXEWPhz6UeXf6d/bg9w8RHOu1xTSmSzz1U25\nkL7+SXmk/v52u6DHI8KUQ7gOj9bu349bb8dbnllrVyjpvya//sreHwtg8UUC9gqt3YeEvt37\nkrtj86apxPV6rd3pLGF1y63dHRi1d/z5CgGsAxc5ewjJbNt+QVf/e2reZrTep4d87yN5EIDF\ntDWeNSUn4ec9AG6hkO0tYRtfKP1XEtLpLGF1MRwzqhi107YORowW0s/8IHEqlG/TQUdO69+k\nf2B+ApDF47D2v58XEdLtQ6S/N49OH83KhdvLEtfrCelslri6GI4ZVYza7/T+bzqDGC8k6NGm\nT+CyD2SBhZD5NZ2AfH/0didFrmExkf9i9/an4cu0xbC//TG5ynB9jL+EkC7FElcXwzFPlRC1\nHztSquyRBgnp/bHXuf+yBXyU/P7bshAy79PvWvz36O1OClnL4vYLLY9fGrmCkL5Pnyh8zwg9\nSCHXx/gLCulklri6GI6znkOjNv37/mbPIIYJKRAI3BFCCgQcEEIKBBwQQgoEHBBCCgQcEEIK\nBBwQQgoEHBBCCgQcEEIKBBwQQgoEHBBCCgQcEEIKBBwQQgoEHBBCCgQcEEIKBBwQQgoEHBBC\nCgQcEEIKBBwQQgoEHBBCCgQcEEIKPD8u8M/VhJACTw+avTiRQyDwrAghBQIOCCEFAg74FEIi\nH3g8S/B8VZ6N2Ubx3C+kvRM4znK8heDpa+FAnq5SvbKQzCMOyEzLJHoMrOe0EsYr253rwGSr\nhTWsHcO8Y92P9OdpQiJzq3PeKExXtEBrLQ8V/Gp2xVkOQtVCtrBtJn7rTpXpRvnzLCFlz32O\nkGrO77CwC30817MrzXIUahYs66XYHSmkY/0ZQgohuVowrBcfIYS0e4JXbu06eT5/azdKSB8N\n5Ku2dumVDxt6BX/5w4bKgbMZRcULOIsLHarIZJQ/zxPSAbOUpx57DNo3zVrBrzbgMsuShXqK\nl0fD/7NsYfSJldN5ls8lpHuNf/4AvcosCxbqjVupEBVHfx5/fioh9W0691pwmuX5BU/i75J1\n7v1AcfMnDiH5TeA8y7MI6Rl4ti3Uiv+jLUjTpoX0u77d2iS68xwzSwhptQWfWWY8r7iXa1lg\ncRRMT2IR7UyaAxmRDj6a56BZ+uw8yeb4qYXkbuFYEIiDEvd5j2NoVZBISIaT6QhfTEitSnyp\nhX+Sw4bOzz32WHCZpW3BSEmEMxWqqQoZsRF/TSGkjRP40LiABTeeXZ977JjeZZa2BdUQnCnY\nv3ugKrLvN48qvHmOmSWEdMIsx1sYJSSsSInLkC1KxKUKh6ckfw7nOWaWENKKKejFWtC2BS4u\n0uSlWeWpvNbDvKdY965ZPtVhw7EWuB3Zj89x2EAp145uhUpXrZz4OO9wnoNm2W6nIa4Nk7nM\ncqiFWuRvnOophNRKoJk88r/Tvfh3vM0x+HG4opCKYy+18EdaeEEhNVv6hmAqIoJaJXspF55d\nz3DwLH17JPVFa4Id1ek8h/aT5o9AHLk8v5BS3tq1q5E9oTh03eshu2UyhxH3UfV0TPhqM+vT\nhNRPmj8pcSRz9T3nopBSYZPUVaRki+XCs+sZDp6l1041fVhnb6V9lkP7ST9Gfp6FXzVLsXLi\naZ0VTOWEofgh09G4mpCmA8vGBCEkF1xJSAunta1y04NaSLniekKK1u5THddun1pkUFVSRUvZ\n4V7tkzRnuoNm8TnMml72huR83HlCWnXY8GJCas2SN3G9ZSgX19F4RiH13zG76cTWrnuX+HoV\nqRXolEpbpGplKg/6RP4cL6TituQkh1J/laHp12GOxqWE1Hjitohmn9eWX4SQdkwwWkitJmJF\nlaHpAPxoXExIVSnBLwPV603pTXvG58Jz8RkGzPLSrR0VuVRu/2S/G7ZilmIWYpEtCGh+DGE+\n3v88/hwrJKrluLOE1H3YwGdOvqRKhp5klmklbYUB6SQVS3Y16YtP5M+hQqqnoLP2SCuE9Mla\nkd0WjCYylYB85FQi5UM/155zpJCKuyMnGn3G5+/27ntCSDMLs19Z0CKU+FOm6TMD29cluG8A\nzzGzuAppwS/lY4aGvDzROLXrMS7NyNF4GiFRqh2AJy71/Mt4krCkFnFa+jz+9BQSLfVJ0Nrx\nyOmt04TUexT36Xr63Rb4xBP7u8S/gZdYNExncjLc1N8N9JARCc8u+RhwGNE9QUd2l8ssKcIf\nDkXl1G6djkJIYEGLTeJ6k3hLdB9BkC0hX+rWyUtINHtRuOZjYceI7glW9GiZZ88TUu9hg+yO\nnVkVLF1olgULJOpRARV9lC83i8irwn82IfXuN/JqdF6Adp/a6b75MDTakw2TucyybCGXUaXI\niOdwnJ8/P5mQlvdIpaHSax+MsoVo7XZaMB1a3UHa09sxIaTiBP3HWiik/kK2B+WKxE3+4s28\ng3ZmVTJ1nVl6LMDq9fT22Rgnnk9z2NBHNNtsNufTLanjprNpssajS0jcA4aQZhbUfecJqWhp\nbKvct0NojDZ7JD2P6ZhQdp7nfD6jn4F03KyfjxyNpxOSfW85hx7Q2rUmyzomz6lXjkidQjKB\nuZAJtCLRFKU9NHYht0Biu+fmEFKXhb6ktDTLei5ULz9WtVvtDRWS/uJHmTM+pjls8NvE9/fK\nj46yv7XlNnA3xUVTF5rleAtu616dLGsjNxoc3NqR/nLifHBW022P7bws7cz0+HFNC/2qhw0X\n2MT3TlRLipcSUv9hA/8i1Xzq2mN4ntqtEFJi0XfPvGcdVuBKAbrGnzstOExVXstLtXblO+fi\nmjq74mdtuiMqzHJCRaIyzdrMesZ4MK4UoE8lpMWKtCdfO1ak2r6c7Dj+HQCav88pIZOe428M\nrBISF8POiUNIh1o4DNu1Y+LUx47sDqoOtVueXHIktSifBY7MPbCip1+jYLJfDsWVAvSVhWRj\nY4yQTGYvfDZzvwrVCBo8cm3tyuQr4ur9DCm9rpCe6LDB20K22kOExB8dJflFgVJBIpnGNHiN\npdoAmmasXDI/rzEpc1524Q+ZpTy154pd1p/HCak2mlQm3MHNPjBC6WQNHh9P9NDo4tluQfHH\nFTZfVUgrEtN2A8difGvX6rAoHwyXuApNIZwToMJfhsRgp7W/ItTg2S8k5tqnYO0+fXg2bzNT\nrL9/PsvSUA9/bsVYf6670axEvx3TcK2xZ3dJ1u98kfM5yftJ3lpxCL3Ec52Q+n+novbZ2Fae\nvZ/L7cqn/SMd/LkVTv50sbBvFgch6ckBv2RpJftrrDA/i2d9pl9aeF39wjX8sf+DJDg/ceRZ\nmY7sq41xEEJab2HfLB5C0tcyCedb/RvF0vph4ZKeaWimB65d7UL915428nwmIXUmpo34hEJK\ntQhca0I/6iTJ+yAkzHPT0HUOcuIp//hNl0XpRFcYrPPsE9KY1q7pzysdf3vF5yasEZKTCT1Z\nINghyQH5fQh3eyQlzOdx1/LsWxv8rQ7nZVnI9EMOG0618Hl4egjJHshJy2T/IxGVjJBtyo6I\nWcPT/tz7eQjskNwW/kqZ/lQLn4enJsfO/DyfwHQg+pksqYpk96Qnzo+dk2w9VvTKm3mWpukS\nkuzsVvX0Pjw3Iniut7BvFmr81Gci2xPLnkjKEpzcaRUilduG1m53r4w6WlgdLEhOPLnBXahI\nO+r0aH9uxefhmSfq9SZUSFM1IjyokxOHhJ/Zqrx0o7TO6nqeGWsR0pJ183vvPjyJrzT3SBvc\nsmDXb/xZrd2K8b0dh5Pd/ULSMwStOabFk13SNEZLgZxBjF941FFzOqu0A4WUL/wSMbyz025j\nipXjn0BIm+/I7u9ch2yPtMHQrCihmiiJjEjM6KdMcuPaXnkTz+I83GYxmdm4NIvu3Ty7KtKi\nwsWhhWHj/bkNl+dJvfG52x+8nFxdSLSlG3T84FPPIbJqdjCqFpgt/JldX55lHZdGJext7WSF\nqbTQJ/rzhFncLBTSaOrssX2ExH2aFqDHuywurU/yqYx+2ORCo48n/AgBC8VzPlL7v8IsO+jU\ndoaEYxr3P76YbFSe5SB8RiFJkNq7VwgJD7FWQtIiQWKXcwfu9fTjo/ImsNPuTp7mJ8p+gpN5\naxKdO5pnexixr7e2dsfz9JllDM+SM8e2dnr2JutrNCQ+0HO9bULayVNeW8FIhSyUCdLtUz7L\nHjJU0uwqC5KxMl/2bo734hNWpGJ5X33Y0B5VzwdQeqTzJ0ghfBSux3S6R1pLYw9MATL7Cu1H\nTfGZLm49bFjkUkl03Rb4cCTTUW8G3YtPKCQMjNWJ3mwVaqWzFUesDDiwA7mAmPibfFlHtIdn\n8zacIPtoiB+gMHH2pg9PEsMtnl1GZPWTtiVdPX0PzwXLDhjKc/luaUlmdanfjnZm7UHza5jK\nRURaxEBN8JtD8z1LJ1o8yzfk1ZSDj8NPeGFQ2rudearl6rVOIwR2KInzvfy50Insx4HrPrPQ\n1iFkI2gZNK677VAjkzWFJIEIP+X1aLrMqzJ/pJUO3eBReAZ7qiAUJSzN05HJZD48pRjuFBIl\n4CzrvkFIW9Z9Bc+m9f6RO9ed5mkyn97c9IhYuw3osbNbSBxy0r2hkHB3VJhnqJASssDjkHky\nz7ZIXjwp+17iOb+SX9IjHRTSytT9QkJKBR/iKKskwntWCIk7g/KoVolHGUFZkrpkalRlO7fC\nQS2e7dvkYaC1E3nLp13ZbfaxR/IszGeIwRnP4+WkoNkGdDPPKwlptz+l7a2OytzLX9cKaTVD\nzeFEsuUQKcM6Q4Wqbed8lqVJF5lLd2cUXqj9efoYynP+fpb2dLepyWFr5m5yuYKQdluo1oJp\nmEpHbtBNSaedJanLFqg0gWZCmQqbJahD2uRJTZB47sKWlCQ8zTTAF2lmRGbtwFCecwnbyMbM\nJC4u1tWtPJudiAeG8mx6RgSDPpbGvr8iNanKInYIiSkUhSSFi1t7SlmELPLduoBGDeCcrB75\nCGkvT1lU6GdyDwN13cqRebZDeDaCdj18eHZWzqZnKPcdx2VnYsLKtzCoPB+3EmRmmp11Y1eX\nZNVbCq2S2baEGITYiqKI5uGRd3tjeGpqwlXMiWi6BD2Vd3obeWrdq1zbDUeelensurd0ZDsV\nFlLvKahZnLoVNVa6liXzXEfEhw2mDkmMrhTSxhC1OpfgMFWzMHH23hCekzhajYW0cNMqyw+T\nBn14iu12pt8BP5616cy1+opIDiK8AXeeS+R6qFLjMulXpUCiI+zjky62lrHq5qvJev0yopBs\njyl5PVdNmuloDE/RULVRs+7UAqZZyoXnxYS0GJ9LQmp1pMQbeEyy0LEsUlumCaPqQrL1D1ol\n6JuQFsfyFNFDK5JJMqKjUjOcd3ZDeIKLUrmv4OSKOYr7ZNGYA8+LCamlguq+bRaUtXoA/XG2\nTVkppF17j5mxrChN6y31iUOZ1i/8Lp7TS8g6wB4LFT5EeZajeHJ11Gw0G0BMWco70Jw9xXae\n2D7MrvVbaBlfMXR19QJxmWispybuVbC/6/Rnq2vr45uEQ34BxKSy0cfTDLHCoft48hwlIUEr\nBcayBDGAJ6YXcZRhQBgkGujQNvRbXxpZjru0whPt6bsHNkc2GjCMT/42t6s1PhOSaGuRYAfN\n5QnK5KT5kLDg1Ck3ceh22t/LU19rayc9FFdLsLa1tdvFUxdcCGiCZM+RPINkBZMaBvD0gA/P\npRZ0SkfSpRWEQSZebRB0+Wm3PzClm/dFopmS+IkJQ9dnWRZ5CresFYIcP6tcW4S0j6dmHPQe\nM0osJFIhJSBerSHuPC81S1tIEm+F5DiNEynNepBKrZvb2QXWS769gCtpvuDEQq+U2q1kCrFv\neMoPhi44uK2jYUJi05aW+ksdLiUKGsGehXfgealZFoQkjqzFx2MwO9dOsGaPtBmwkJn1qfbY\n1pQS/JFw8V6WikP5pSR2fCN3cVGU44SE1Uiqu/b6SX3HrctjDXozqAPP681SXndNSIVlzsfO\nd1t9Fd5LSNyicU5MssacO811Xffp9V4aysW8KFxLmrvhjbkHRwtJGw8oRFy4YYDkSPYwtB/s\nzxcTktkezi/xtvP+o/g4H2ca5fXr7tbaJVhi2AvDeUKmbMmvfq1dl5CwQsqVebIq564RAarH\nDZaDCA2dy+9zrwfvH83zOrMsWeC8lGrLmjjT18rWQCHhBlhTp8oKNcW3aL4dKSTKiSSIXJXX\nrMRXJnaGtrxaY8x74lhp7KAh4YgJIRkLIgxJOOVRxQTWx9NFSLLkxCVSN0Oka8uX4D43GtM0\nlXyDFgg4wTua8GWmNJ9omJAk7UizLEonVo7oSN6TWhtCQgsaFbXTBsn0EAc8bNgeSReWMAqw\nDOX6gpUnHxoNgpm4aPYONMYgpFJBGtTaiU6ks9ciZGsVJyM5acjL7YE8rzPLkgXO8Mlkdkjk\nUN3JIInve+zsI5q1HrLt1esgbNhLaV/vQcNQar9J4Ep9BPkzjS6H4xAhSd1JXNc5rWoOKHV9\nIv9CBjiA53VmWbAA9UUrkvwx/gaXYjx0+NOjInE2FI0UDcvic4zAI3ktC2aSmXkYZqoNxiL6\nc2GWg4A5URp8WFzNVISBYDvSEBJYwHYO9uzyVV/cR2TZaqCQREmaR4u1UNO+PIg0J04OlTRe\n5InDjI4kDGVYhxwPghRq8U5efNjbmsIgH0Vrl1uw2yKzBWG9SDF/UMpKvGdrV0/00BclUfk0\ncT6emBPk1u4etBNVVZIdRfaCulkGnCskXUFRklQbu8KqrSlAXP1Z53mhWZoWsi5FRQM6EgdO\nI8DjVA8pa6eLTGO0rrSoGoooPI88FxYmLWFuqPQ1dQsFP4kD+2fxAqyxqsr0ntrdaeKU+JAS\n5kOmkUB9DLjM0raQP4StR0Zo0tjLmOm9QULSJoQrDCdF0huZKul42U35tiIrhVSwXt1ojFx4\nwiCYLTqnIXEor70jz/a6u1o4DKiTwruYnMB9sBsdJiTRSBJ9cH8hLYZpVyBEJH+OakU6FSsO\nLM9yJGxLYUp3vvD6XdqBENLMQpeOUi4bvNTF00VIusdAURC+hMfhL8zbsRVpQKz2jK2efA1Z\neNEGcMmElPBN6QWgxPtwmb0oXPOxcBgwvch71pfE2RzPbQoxu2Cni01J1kL0MYu2a0npEd4v\n3Z1hvYLGHjzySq3S2KFUHTZk4VNC87PsaSIgwR91cQhJLRQid94qY4JKeUnq4rn9SQq2k1WJ\ntHy2tZttoHbR6KbL5Jb7yHpBGsNTu7qJTl1HWQysWPg+MqUwFJ4eBlxmKU+tfprZafryMeCY\nirQ0ARGcwEpRgpCVAsW8socbJiRabiRbdWtEBsXMNClqLhvOYKT9sbx7LM+GuDZM5jJL0wJu\n4uHNWmYyOxN5zkFC4o0Oma+GvjgfdkjjKxL2wPWRjTgZ09PLynP1lnXOq5B4XN/wF9KBtXnU\nHinZ1FhMTNIdJ64HGglOQsIsWJhAuyZzfFSJRtMDrqKxC1qxl4y19lGDWibJRElTVL74XNxZ\nPppT3XgurLuHBZdZmhbYW7iocxFZtxIkXdfWrjFKbEJGxIUuPVrirQq0fkdDoq6ibx1Y3yG5\nh08lQLWfS7l38Zt0f9KViNPdBF+d7HmENM8HbR3JDv4AITWGYWtnGpNWvLKMBgspb4Nr3Ork\nhwkJsxGZYMCw4EwLI2bnODup1jrhpxGS5nZZ1bKEbC8lLu3k6bBHIlhLTooLSV8iwI3GIjTs\nlpVUL1pjhAS7TejVi62dFK8sJFx4polL8xn2Te4yS9MCpJ3JXMGZHLUzF4ObF+zsJ8qmdO+7\nMK+kUUcai8DN27KQGrP4cKlOJ7kwwTmDrHX2E3aBs7fd8PxCMptSKyLeZbKSTFGCTuvwJ5EN\nD/QgpXnNVi+lTEmjWjvwZ31gQ2lue48qD1AMbDhRW5BQUz5KfvTh2XqEC83StoAl5v6OVHvj\n64QRjJkpdfnTRUgcetpWznWE7+lmyo1GF88+IbX2dyMyaBKi7NEkP0JcQEudrLhCSHMLVkhY\nnvi9BEoCJ6dOf3q0drxB1lpY0pFREpcjwuuHwrRBzYHHCwn2QUXz0t1BLpUWWpoR6aR1ZwqL\nfzSeUEgJlZSNsn0y1iWb8Zfs7CFKIOfm1hT3RNnp0oEO1fwj8Xt2aye9b2mPxBriHGXpY8WC\nRbc1KYSUW8COV5yEgzS1g2s1qY5p7UjJ2Z3PbFj1rUGtnTTIzZGNSn6gkKD2iDSSpFIlBcKR\n7o7fVrm58Fx6hqvMsmzB+nYWpBy6+sp0AaMq0kQFm4/COGxJ8S0fGouw6aY5sHF5QEWavomc\npMeTEaZSSfPB3nfkufQMV5ll2QLqI3PndNm2yThoXGuXoOFIaSEOyxeHCWmxtcPkX5llP5e8\nsy1Y4ARZ7ph1J5WyEwhPni1cSkjavlcsZPqYCUk3SdANYH+9TGH3MyQ2h1WpYazW+R0M3Vos\nCam2z+NZfOjU8pwoodzYyShYdkq6/t48q7iSkFo7BKxIuv75CmuNh9zF2/6lvUDN9DpkCmpG\n6clCQk9Wh7Vbv2GtyOOLlpncsG5KuaEzw0JI2VvqLVu6ZVh+vkBQlIYJaWLaNfi81g7SUUtI\nswbaznI0REhYiwqEdJ35LukXu3p6H54Xm2WhVcY8OhsqA/AtLPqdHLZi3QS1EB2w8IjmqOMP\nG1qADKp9XXkg2RCaBnb29E48rzVLoyLdv0Bqmg80x57TPVKf+jlsxZUc2rQAG83WqGZB8jts\nqDJRIeG6l6ngBJRFzNG41Lo3EqR1C1VTJb9P9k7NTksU1rPeM8GJFWlWuIuj2gXJbeEXL5kM\nWh1ZEiIlPyEtB+heAy6zlKe23Em2yeUznvmjooKuJqQL7JEWRi1VLDc2C1dga5xqwpiJnog7\n+nF7DycLO6epFw59hpaOpL5T9l43z6FCqlfJMUJaztRLY8a1TJohKz39NJhmP/kdNjyLkCSu\nFnhm3bC5QoU0Ty0HNOxswtMIqb8gDahIHRZkV1zv0u0FKV2vKaRaq5u9rGek1spfTEintnY9\nx5hUz1nTAF9SbQssoxVCkqrky+UphFTuaPuEtJR8riakaus0ao+0YGjprGGskB55MrXzD5n+\no1W/tpDpPGzYfLjhK8fGKSi/rtec1iRuQnI8vVkswHvQ4kk9Qmoffo8Wkp5p1+zaDfKann4z\nCj7e3kt6rXt9urWC3xqfXU/iWOIr+XJAK7IokunG5pDBQuocfpQ/9YOXiuEmhy4Dm+460MJm\nf24XUiP7L011jpC62C6M+DwL3zt5TSUhpA12PDedR7Z2C0Jy+Jzycgt/uD87hHR+a+do4Vla\nu82bua6pG9O1f1d1tYXDcDV/9gjp7MMGVwvPctiwh8byNE/C83ALIxKTq4XDMIrnRZqdAx26\nbS9Xm8xlluMteCWm+myX4nm4hRFC8sFeGkrm/v3iPBceIXg+H0+PJ6GuH/pG7ScijX358uIP\nA3guIHj6YgjPzyek+hnSZXguIHj6IoS0kUjjr8J1/PAiC++A4Ll20Jo5LiCk2mnsZXguIHj6\nIoS0mUkIaQSC59pBa+Z4dYc6IHj6IoTkjODpi+C5dtCaOV7doQ4Inr54GiEFAi+PEFIg4IAQ\nUiDggBBSIOCAEFIg4IAQUiDggBBSIOCAEFIg4IAQUiDggBBSIOCA3UIq/j1cgiu1v6gLl6k+\nyg3BM3geyXPvU1BpEv4Hq29figPgRqpP44ng6YvgWRq/AyUL/D+sTy2ifPeJDg2e2xE8S4Z2\noGyhnyi1pnFE8PRF8CwZ2oHdRKcW1INLC8HTF8GzZGgHdhGlvsfxQPD0RfAsGdqBPURJX1za\nocGzYit4FgZvxA6iBK+u7NDgWTMWPEujt2E7UcL7L+zQ4FlC8CwO34GtH3iR/aTrsh/MBc/g\n2cPz2KcIBF4EIaRAwAEhpEDAASGkQMABIaRAwAEhpEDAASGkQMABIaRAwAEhpEDAASGkQMAB\nIaRAwAEhpEDAASGkQMABIaRAwAEhpEDAASGkQMABIaRAwAEhpEDAASGkQMABIaRAwAEhpNvL\nezMAACAASURBVEDAASGkQMABhwiJGj9dCcHTF6/MM4RU+elKCJ6+CCE5I3j64pV5HiUkevxv\n0W5fp3+oMsG/FHsRBE9fvDLPw4REE19+Nf13JX8GT2e8Ms/jKlLh2xUdWvoWPLfhlXkOEhL/\nG+SX8mfwdMYr8xxXkR4XLuXR4OmLV+YZrV3wdMMr8zxYSPC/l0n65lUQPH3xyjyv9HyBwNMi\nhBQIOCCEFAg4IIQUCDgghBQIOCCEFAg4IIQUCDgghBQIOCCEFAg4IIQUCDgghBQIOCCEFAg4\nIIQUCDgghBQIOCCEFAg4IIQUCDgghBQIOCCEFAg4IIQUCDgghBQIOCCEFAg4IIQUCDgghBQI\nOCCEFAg4IIQUCDgghBQIOCCEFAg4IIQUCDgghBQIOCCEFAg4IIQUCDgghBQIOCCEFAg4IIQU\nCDgghBQIOCCEFAg4IIQUCDgghBQIOCCEFAg4IIQUCDgghBQIOCCEFAg4IIQUCDgghBQIOCCE\nFAg4IIQUCDgghBQIOMBVSES/pu+3/ybc3vj9lejt+7/p0u0Nevc0vAozMjO+f24jvv0Hbw7K\nN2/0NhG64ctPff3+eyL//vH6z/T+B8P0H2XscRGGw3rUPsjZgMXMaab099ttyf8m+whrZvel\n+vZP+WkIfn+8evuP6Z2poxmZGd/fMmKwkG6Gfz8IPfATXn+/XfjxeP3j8f5NMb/mQtJFGI6y\nkB4PcjZaQpqCgv5cRUj01fB74O/dkX/fb+q5v32mjmZk0ozvl9uIf1/pm1wchG/0/WH0YfPX\nvT7xa/p7J/+LX9/K1MeFd8rY4yIMx1xIt59+0JcTuJQw8ctp/qW33/eg+HIVIX27aToPzG+P\nhPTf17+Pt8/U0YzMDbNQvPVM/zKnD8CHcN4IbN6/Ta9/3iQ2kf95K083Z98uf5ux10UYjrKQ\nzuFSQkVI3x6NwN88KNbM7EfybvuNk6jJ8P9wyEdX/69w8yBkZOS7ET59/zMbdDx+f+jj+31J\nHzZ/3hPOZP/frTxN5P89Muevj7G/P77mQtJFGI4nrUhvlaBYM7MLP+Xw55Y4Z107Dvnv7dHj\nnwRLBknqbujWLj2OI9LIgLxVkr/33o65/EpltT9e//sY+43+zb0tizAc1qP68+8TuJQgQspp\n4pBN+2JvIX2s7N+2kN7e/73de6dz0COk9PvbtPNMAwPyXnMeRYe5zE9EzOsvH63gl5K3eRGG\noyykr3+W7xyDlpDyQDhZSLq08rYtnO+33fJXT7OrUKviud/+fJ36kWEB+UvL0MPmvx9wInKX\n2RsTfmyKf9D3j+I+b+1kEYajske6DCqtnWavy7R2t07/R/mwAbZy7+fV+jmZ2ZJPWhu9UX6f\nhFQ+TvwNhw2/ptbtz71sloQ0LcJwPKmQpsOGWdVfM7MbR7H9Ne/nHoe2f7/c6tDj7b/TB48n\nYE5mtuTf6f2f7pBHxcK/yd5NxpPNn3oc+/ttfvx9T6Iz9rgIw/GkQnocf//381pC+tgCZXuO\n+Weg3887b1j+QPb2AOP3SL8ml3z/0IqQ+aXEvgP5H4kzae1o57EIw/GkQmK/fvl9JSGlX/PN\n+3v+WzknnjfMyeR8/31/0x3yqFh4nzzy30dvx03e49Tu/hJ/Reg38/rFG6qZkB6LMBzPKqT7\nrwjxr2SZod0ze1EMBF4ZIaRAwAEhpEDAASGkQMABIaRAwAEhpEDAASGkQMABIaRAwAEhpEDA\nASGkQMABIaRAwAEhpEDAASGkQMABIaRAwAEhpEDAASGkQMABIaRAwAEhpEAdm/5hqtdE+ChQ\nBc1eBGoIFwWqCCH1I1wUqCKE1I9wUaCKEFI/wkWBOuKwoRvho0DAASGkQBX34IiK1IXdPiIf\neDxL8HTmSYnFdG2ezWcYxHO/kPZO4DjL8RZei2dRSK4S+Dz+dBXSdu+OdWjw7J+lWpHwdfjT\nVUi0fbqhDg2evbN8RF6HkE7n2WnhUJ6OQqq5fN0sRyF4bpuIKuF3MZ4dFo7lGULaOMtRCJ6+\neEIhRYn3QPD0xbVau8ZJTWw6fRE8fXGpwwaavVg5gQ+NC1h4LZ6tj1GuxPN4CyEkZwtOPDsr\n/A4DLrO0prkUz8MthJCcLTjPcnl/1ue5Fs+jLYSQnC28mpCOtvB5eLoeNmzH53HoqllCSC6z\nHG/hyOPv+J2r/bOEkFxmOd6CZ2sXFcltlqjwvrMcb8FRSFQZHQ71RfD0RQjJGRfkWZzsgjwP\ntPB5eIaQzpglPuh0neV4C15C6vt1+h34PA7tm6bgzTi8OQSXElJKPb9OvwcHOvSaAVpz5/X9\n6Wrh8/DcbecZHXqJX7KsaPsZ/Xn2LMdbCCGVLNSKwbpZ9uM5hXTNCn+whRBSwUJtt7dulqPw\nfP48f5YrfC4XQto4y1F4Pn9eaJYTD8NeUEiXae0OtPBaPENIzrP0Wjj7sCE+RzpolhDSay18\na5pL8TzcQgjJbwLHWY634MWzPs+1eB5tIQ4b/CZwnOV4C8HT18LnOaYPIZ0wy/EWXozn/XfY\noiK5zXK8heDpa8FvltqHGiEkZwRPX1yJZwjJeZYrbDqvYeG1/BlCOmqW+HzGd5aL+zOEdNQs\nfg7NsnEI6SALO6eJw4ZjZnFbeMpuDCEdZOEwhJD2zOK18LN+4fMs/KpZQkjH27mUQ703xycL\n6ezfCXyWw4bjLTgJ6RFPr+hQkucu/TMLR4DMy632rurPY2Y53oKjkM4+Fembhqrxvv2w4f4v\nv7CcdpDrNGhfbaXtwuUKm/hrWHgxIQlHB55T9NCjLtz/rZIdFWKFXfvqVCE9y7ofb+EVhZR3\nRPM+v2frQfLENH3Z1Wr140qtXXHd499s2G7nWf5dO+JvTZ498Unw5dHe1P9BMl9c6bDhWRKo\nm4Wqw52ElNJz/Lt2PEvzb552dUx6vDDtEaYkfLGFNzcaCTowyX1WueZj4TCssVBfYD8hFe68\nYImn7HvJwnR6sDiTGcUyutbCZ/fZrtADZL6VLvkYOBArLDRSrK+QimOfz6F9hcUc0slO6VIL\nP7stO6g4FM+37n1DDxXSp/rHOvoqkvUqTbdda+Fnt50lpLP3cl4Wjm/tGp9GPqGQ+uwR7pQo\nK1HH4VKtXdte2fTWWQ5CtwX+hGPjLP2HDR5C2kG0b/qeymkUUp9Kzldo+nlPwPTjUocNvf7c\nV0gPRW/lbC+u5x7J4R9931M6ew10XKJFVcjnrxIk04sLC+mAWfr8+TRCai35wkN4Cml/Rdq1\nmVthYumKUUhxLE1bojRQSE6noL6/E9jtT/f5vdAp+KFC2jvBACEtGM9olKzSdDinv6pKfNe1\nWzu5ffxe7jkOG9paGdfadUyw5NDDW7u2bWDR+nx5+sSI+z8edfHDBrj7GQTvOkunheZpbbsX\nWCMkatrpMbG8gB6HDQ48p1/7KZAifmN2hrO6Iu3n2WOjdPf1eHrM0uLZ9femqJXoF3y2Qkhb\nW5fe0imjdu609vPMft2JCs8wJzn1eYN5dtkovTWU5w748KTZi8q1diL3ae0GCaneUfXb2x2g\n9y/y9yRS9hA1pdNC+ffmuXh70eFrDxteSUj1mnQpIfXcbwgT2fd77XlkeukEchdWXU3r7O7m\nuSwIHLH5Xzt6GSG1V3DBByuElDaeveIty/ebtW97oDrFLp7ER3IEybuc1ed2B/LsKvAkDYtQ\nW/83eR3WfTt8ePYJqX1cRGS/V2ep3b84wncCDUZbnPbS6DEM5rEBsq6r5i1a19pthc1sS4On\n0JCnodWVcyuGC6k5Td8/0tLTMm39i/UuQpJ/H2Q2W+OdM4RETAAq0oxVuRRQ1ckH8Jw4dZnT\nZ7rr6PHlxYRUnBrFZb81b2r/bbb6nZndfqI6gfz7IDMO8xRAEskbW7sdPPVLrgp1eKp1AFDI\njudpCXfcwE3e9GRH+tPpNzCmydaaXT0LumfJAiSjedgu3b1yfGEC+PdB8jYJ54SsiXdsMryJ\nZwL7lqr9tToeNN+/r870m3km0HTHHeJLTmcDee6CD8+WrCUrLpjiEyj52mO4PmJLBjX/0E5V\nSFIHZJ0pH7nK6nqej2+lO4GOLbB2VFdeK1rddEfnX+XVhISxsNnqcXd4zFKtSM1PiDqEpMmd\nHTqP5DXMNjkU/um3rL3T0JuehWChiZ9gg13fVgRjj0+9aLbVGC2k9imTDifzMq+2q60edofH\nLI3WrtX2LfrFhHDhvGaFkLY2vsT3JjkgzmNB7PAgaENL8m/bO+K4FqY0eSkrmuv3Hrt49iTS\nJD4Gdw7muQM+PE0OLF6rftIhs/Oay5eVPHf7AzuiVKg1MI5bOv5LCqB9n2Xp4GkSh3mN4Sju\nzO4femrX4xjoAbJUdTRK2XLXLDvQ7DbgZT1lc08ih2arOzUfIXE2xBRpftCWSUSUuL0fuPAa\nmVhwZn/3SGo8nEucIqRFe9wLTHeKO0fypB1+GZlACx0bjCLCtS/P0mNn86EmCgl36Zza9TRP\nTpRIXknF7rS7k6eEmWwteVJ1seqflLXUzTE89eVSQUrST6e598fwFB9twSCeWm8qExgnFliN\nqki4drxZT5AvCRaYMEATJv5DMbGSro2QJO6HdL/Hr0Tw4zKovKouvBRRm4ZKpySHAITUTjFa\n1FuzHAaSFW1UeFNU6zutBTs9bOr5QEqa4aHyEelABEsLoqmmi8Ye8HJqciMRl63m2tXBInCh\nGsMTGFcGTdVHJc5XqNTiHwA0mYnZjoNPR7L30xh/ygpXE/YylTVCagQ0zUfPSNgGLiVWFOGj\nsOKIyMpohUP3tHYSZaDplOtISUIBg6c8nicwSakwixYBybWW/mCeDcdARNDs/SH+NEoqG2wK\nifp4okaq/l8S0kSEC6Q8rqgEWjspTFAd1rR27T5i6T7J4GqW2TFhfc6M5Doh7eCpr1lHJv2j\nhjLGnCG8eDb6hb6KhBxxmvWJabM/yfikWilyv9tLa4VUt5O9sNcgb6IuuOwkCImkSwNxutah\nGzxqJGwELrxUUZwZpLKq6lx4dgUojlOdJBa/pHn2Oz/muojbs+7LFoEjunOrkLatuwYiMMhG\nccTm1VNrxDK/ZaKLDoXSqRVU2iiVkvzh65zLxjhUdzxKFr0nrPnBOBGo+F14dgVo4gQF+R6I\nsfeSOJTkntUVfp+QWga1C0BJ4TcHnkv3cXK3uWe6TnYsOFm+rxKSRFJx1EIGRcWrkCQMlBYs\nvIoprXJQi2frNgI5aDWSp1NZibYhE6yvSC2enULSbGT8x8kz52+XYhzPtj1OoOph/XnIuqs9\nYj55GsDXsND8okvAG6jxnSAu0ZERh9YpWHzmpw3VPhr9dKGrTA+doFDsdZQbZ7SVQmpxmb0o\nXGMSqCMsTpKiMNUmCYeRPBescYiIFJTtgHVXewUh2R9su0wYrl12eqVeHKTJmyeSnMiJHLwG\njQoPqk9dMLa0ZK3KSehPzfWQ1hMIiUxFEq+68FwMUE0vVvtp/lozvsbDGH92A8VDENL9s2wp\nRZlxXsusCJGw0tzEUSGZdE1FalIlqntU5KvJMWkImLQuzKV+ii+7HdXmOXtheZL0bWxbHku/\n8lJrL2jV78BzKUAxJfLyJ5PIzfLCgvPNTjxbN64wYD2rEePmz9aNdpWzuTDTS8wmu+NfU5GW\nqDZkyWXGthoTGc2cGgLCX9TUn0EXeHYJSaMPEgQ2diw2db7e5sOzeRtTS2her5kl50W2aXWd\n7e08O4eh51Xt9ueembbyxCpA+UUp5ZS495RehBe+iyeOWJJSRUhqV8qL1PE8nWvVwiSxsqev\n8mwLKSsDIH+acjqJsjnvSx6g6sQbeLYrknLCGFAqiYQ6u47Ey/LVhWfrpq57Zd1J3Tndhxu+\nI3lCrszXDwsUpiP0PcRD20431fK6i2HIMJjjMQ5RV3rX+oWvjm8KCZKMPBAZbwkteRYN9y1C\n2spz5kBeXs2gxotaj+CSC0+MwfxNIducmO9gIxIjkm8deLZvwVXOyelKJ0iZcEs3z96KlI+d\nEdXul0siOhwbUBwPW9B+bMv02LzheJst8QUIybciFYWEDtPspNnIehVKEGcn8zwuPFvTTDQ5\nB9XmkdCUGprknjEVKaHDsB5IlkpwBYI3SbfV408dsYmm0tEYlPXXLgVpy5csIvoNbuMpLk2y\nvKIYYIrlCehODH14NisSFGtwIjKx7oZgAG+78GzNw9lH40y+w02S1oQtD8xS2k6ejdskHYpZ\n1b020SDvJEwlw64Q0kaaQFQCzmpEnkGv6wPxf/0ObfPUZFLgCddg9fOkj8kT35JgceDZFhLk\nIg0C8LB6WYWfNHeuE9KOdSfjUBQTPh+pn5WkpqkBPK0qQM6QilRHUmf51s51p300Ib1w1CW7\n9MzW1iLJBd2K7+G5kOklH4EqyPDM0j/cknod2sOzLXiJN8KBRkhYIzUWIMs78WzfWhQSuglS\nlYhKhK8hvZ/ngj+TUBPLNoMmqKyQ9MGzyxT7nmT5GVQl5j2MTHA+iGvNwi9xmb0AghKepKsO\nCjfPADUJWXrxXHoGLUcQf+BhFZMmiLzkHs7TJEYkq+Y5AUF9T8WBe7nMXhSumZSvJVHIy5In\ncKM8QT+H7Q+RRaDKRdI6qkzDmuPahUYys5QdKjU7aeVOhrtVk3mS6sTO0GzJb8z0zu9hOTKX\nx/DUxCSVcjKNVYDQ7ZIDstK1m0v+onBNjJNJO7PcadQ2WEhQJ012R93oVdRXYsZ7aUxc8hfm\nmi5jkiI/86TJBvaCG8+FZ7DaNRqR0igJlvMRBoabP3HKCk/CuGO+OAMvNzyK9FGlibfwnL3I\neRrKpjOS1gg7aVQSX+vlsP0h1J1Jac1jFCIB3e/Z2pmkPOeZcE0TxoLVtcoJo9jmWhea5QDV\nfk5ZYuYnMxALp7eQWtNwheHmIreq5UmflKTYSt31pVn2pzia8yFkSe6K5qFqw6Kfw/aHIOFK\n0OnNoAWBnSnLMCTTE3zlcg3k4LVZeyGfILh3k+ngCc2kWWXIWCwl8LCzP+vzMC8p31kpSsZ/\n2gtoJHj6E1ZsfinhJQlVSJHqxmRSJ7p1kcL+Z5DcIrkpU5ANAi0N8PCDhQRkS81oUp7Yjvgt\nfCtAOf5wJJLT2ojRqYMW5veCKeKibX4Gdh64j8Tv5uJxBPMIJHg/Kzz2C96lwl8yt5/vYxqJ\nTfMI2N7LymvSF4ojFl5jkPSNnGmSDg4qOtnYOJpnMpa4zJuiiQLnJ9IAGOXPpGSYw/0SdB+6\n0hLCdqQTmVSrG+ixaWjeOGlGF3daUfXw3C8kDDzxb1YdSZfaKg0bmP2AeUs81Vn6hnUlCMl4\nTyQ/LNOjkthPIHfKHI8ZKg3iaQsiAR+z/CwqCVfVuleFV2EWrs0WuBKfphEhXXMM0wUOex9i\nCrEaPY1tiUXzrguNxWlMgGkczqq8JlUby7BchwITjr5lWfKPUoowemWWw3lOKVMiT7JlpqOi\nh/keJy51IUklJCU8Z6XMeJDNs10c9j8EIUVInfJF0hLoHSu718LX57GZ2vBETxOsMrb8U/Yc\nVpGwHD6+ZEs/S0aQ7AdVJKjSkCcNRSWK9XTiO0ZIapVjECPUfjdBC8THVCRcYcidJjeBU+VR\nNPkPa0XIvoEkDP0kZYCv1VfqCJ6qiGRSFQZpsi+HCwk9JQQSEpOChdHKGY1mC7KDC3+ptXbq\nK6k4mdzVk0ZfmEQ7OOx6CJG4GCV+LxmfqsQhXmVHcjSkQBOuJNfIJJxlfQ1RYHs0T1xYfsvk\npLzaa5LSHmSEP6XNQLfRnOWkLk30KbHnyYln5jBziTOM1XEC+npN8y2wHyUkto2ClvYkX2Vg\nCyneKzMt8NSVluAULzN9TkzKTZ8kObirg2dBSRlUV2n2DvEsR/O0jKB4w8KLu1M+WArp4Tzn\nxuGdlDmw0PR1JnoHISW7qOBNyFb4s8n7jzmGVCSzukI9KR0TBBoA6s+RFYk7y5TmeT5/YXrT\nNIanWeZC84mrLh2IhgE/4+E8ma0su/WmcSM+B5aFMa0d6NuoSnZCWgDAjVpkh7V2iQsLic+k\n85iJaJaXRvHEsgntaA4oXQm5jtzLsVJMP1okau6QZxxU4e/fQLjZ+iJTiVrjZDchifniNQL5\nJEjvEqmUEZO8ND1iL41dsE7K0420xPPYJH2yYZk+CQchXotPdT7Bmh/IE1xkXlW0ZBJodt9A\nIeFaF5onSJeJIBjYpY5Cqq2PqmFiKj0J5dGrPk+W+rCK9HjBPEX8rGoTprWwPZynukicXopV\nXBa8ltIgnmA2S0PlHg+Im0c4mOeMd4lokj8cCcafxRLStlMd1CMkrYSqqdluT4mDkgZVJObK\nzWbCL8JznnRlyEAhsTmRuMZu0jF6EUrsuFa5Vo5M+dGuxMRxX6bfzbPAXKjZTkT2ItoyjReS\nykh6kqSBAA5O0PVp+RpZ4h9fjZBglHpQ9T6f5UCe4r7JLxywCXtk1Bqph/nJhu2RskpeVJU6\n215NXQG6n+f0XU0ZcpCBCLynl11bO+gyKhNop0EyWtWHuTQpZ5XRMIdquGkxN8MkeRbT5pAA\ntQV+tqb4ozwRZNRBiYnyVQVu9pukdiu4NFJI4BNkAbQfrpc0hNR7/Nn7JFSbzihe11SvSkl/\nUFTnQjMyzKF5vSkbVqpaXFOnQ/fz5DVOefhxLcUlNmErOWoUTxSwZTqTEfDWl8MSKOFLWfyU\nRYCpRLbmdtrZxBCXFILPTklkXnA8aByL1I4CRqG6qpEaoKaaBxy08Lqf4AwkC6o0slRKMDxx\ng3IwT5SPxp3m+YL6TdM3LDHJV63gmsENA/C1PoprRVLLhQkIvlQGMRnCNzhKZuI7BOLFbL3L\nVDkA+FYRlhMZFHfOk1QguYdUYOI/9brpVXx4th5BF1SzYS6YZP/k+honJAi+LASS5ngts1ib\nHg7ttbM8CALLXtMLBbVlhQBnFKmPzEzZahZiWYPSZjNPIdHsBV6DwFNRsZshb8GjJBjVufD7\nnwF9aJo5w4xJgbDA9cPWXRcQVa6tRpJYNOVVf+61szioISRNmnmSJ72XUyjMiBHaQ2MXIB8Z\nX86GZYkqy7qeXCr+1FaO8432TwlcDBJKUkj5lQvP5jNIxeRslOtKwoJI6BkdjUyg8gNp2YEB\nGoVa7DVJ9fDcLyRNkRwFdnKJB1zsnNzAzKSLWlKSlMr8Pc8AXahIWq4JCpNUd6VDZqmlMJQn\ndgZomZfU1hqopcbfRkljhWRS1FxI+hgg+tRZObuFVBttK1JZSAnoaD5dTWMXxG+mc5svJeXU\nEr4xQkhavXH3M2eZpChxHpWwHSkkbegg+pQ9MFO5QwszhCe/LtZCqPy4MPwcs1mW7SyOKg2G\nDFht7TR8U/YQ62jsAT+Ctj/Tgs4Gtrg48YTMXbbAKwuamrEkeALCwHSrnC2YFpmL4bwEEVdJ\nzgdWbycJyTqUgwH4QIGazbJsZyNRgi+5b7A8SccC1cGNRgdPITFRKNWevlkOgRFX3g4Zy8xa\nqpGGwkAhoZSQPzZ2GJ5atHDcAJ78AozPDXNkgpIwmocISSmI1KsBmsseM8CxgMwiWXLrLPvJ\naAtUsYCdctaLkCZM0smSLIVjgC5WTm2PoTIlIaiHDZzDpCD0Zvrdj6DfMxHno2yvOdNVp53d\nRPkHTfe1Gwy5bsXvBVak7Snbh6eEemE6rNbQsM02x9NljWO44MnTvijzTFx/oIkTgRO3etwF\nHJBAuwSf0ZyPMp2+HTJaSNC5dZoeLCTT/2yfxYHLspC0F8n3wfwYuv3IFTROSMw2aYCCmnTH\nNIXxIULq4ClKKW1AEiuc5j/3RssRFak3UP0zU9vY4zt182vMsp/LgpCmiNP2yIzITr3mjcBg\nIQlN85b0p7ABgYo1licrWTdx2Tgy3/gWdW0vh62g/DWZFW3f2/KAMzKe27ZIw4QkV0vnW7iN\nt8vv7M9eIalg5sOksJqqcELlZHdpWZxzNWlW/NsVzocIaX2YjhVSoi7fLM2yg8zSYQMveK2C\nTterj+HHc2HvMb2uDEqaCUjFTnzP6IpEUOKLI1ViXImoN1hchdRdivxprLNQKwfrZjkEnKpl\nF5SKboXTsMYshxDMxCWncamcQAm7O20GqnXBgxNe0m+avYo8uVih4GFXtURhM/niBBs7phBS\nbkFqlkRdPq652fMN0JYFllFlE59S0jKg3R2o6ShYcVkhFcen2RNoczdcSOfO0tuKbC+d44Rk\nvxTHHd7aEfxXsfAIM3B7sSZhQcKfnYSks1Z5LjbD7NFZ6U99PD+VkHp6Zf7x4i3o0snrdKm6\nM/HjUlFSlumbp6G2MvB5Xl/L1MuzqmIlkaAqFqcp+rOzBfUV0uYMM1xIey0cBsmg7fy50JwO\nE5Jk+nprl92nJ+Fb24Iil0UhCdvVs3fd5Cqk7Z4JIc0sTAHXbESWZ9nPZUFIetggNbRj1v5j\n5V6efUI6rhPxFNJCljyUhp3lMwiJf6oqqcXFiScfcrUsrNcEVCOnVWn0laPW/VghdevfceG7\nDhu65vKYZTVo9sOCzZN5siI6ejrzsrUB3EKn1oCNWvdDW7v+PHXgwjfE1bztwPy2YDf7oW3z\nZJ7dcriEP/vGb+LpKqRMzStyjl9FWjoG7Z2pfM+FWjsYfiLP3jU+m+eq4Vt4+gqpcGmkkFZs\nOnumusLCL1XS03l2dh2n81wz/GpCGt7aOQrp07cieyEWOpvm03n2j79Aaze72Dv99YR09ia+\n/4bg2TS7+oYLHDZcYRY3IVUtHIvg6YtRPD+VkBwPG2oGXGY53kLw9LUwQkg+2EsjeAbPU3l6\nPAl1/dA36kgET18Ez7WD1szx6g51QPD0RQjJGcHTF8Fz7aA1c7y6Qx0QPH0RQnJG8PRF8Fw7\naM0cr+5QBwRPX4SQnBE8fRE81w5aM8erO9QBwdMXTyOkQODlEUIKBBwQQgoEHBBCCgQcEEIK\nBBwQQgoEHBBCCgQcEEIKBBwQQgoEHBBCCgQcsFtIxb+HS3Cl9hd14TLVR7kheAbPfGdkKwAA\nIABJREFUI3nufQoqTQL/c7byALiR6tN4Inj6IniWxu9AycKD3QJRvvtEhwbP7QieJUM7ULbQ\nT5Ra0zgiePoieJYM7cBuolML6sGlheDpi+BZMrQDu4hS3+N4IHj6IniWDO3AHqKkLy7t0OBZ\nsRU8C4M3YgdRgldXdmjwrBkLnqXR27CdKOH9F3Zo8CwheBaH78DWD7zIftJ12Q/mgmfw7OF5\n7FMEAi+CEFIg4IAQUiDggBBSIOCAEFIg4IAQUiDggBBSIOCAEFIg4IAQUiDggBBSIOCAEFIg\n4IAQUiDggBBSIOCAEFIg4IAQUiDggBBSIOCAEFIg4IAQUiDggBBSIOCAEFIg4IAQUiDggBBS\nIOCAQ4REjZ+uhODpi1fmGUKq/HQlBE9fhJCcETx98co8jxISPf63aLev0z9UmeBfir0Igqcv\nXpnnYUKiiS+/mv67kj+DpzNemedxFanw7YoOLX0LntvwyjwHCYn/DfJL+TN4OuOVeY6rSI8L\nl/Jo8PTFK/OM1i54uuGVeR4sJPjfyyR98yoInr54ZZ5Xer5A4GkRQgoEHBBCCgQcEEIKBBwQ\nQgoEHBBCCgQcEEIKBBwQQgoEHBBCCgQcEEIKBBwQQgoEHBBCCgQcEEIKBBwQQgoEHBBCCgQc\nEEIKBBwQQgoEHBBCCgQcEEIKBBwQQgoEHBBCCgQcEEIKBBwQQgoEHBBCCgQcEEIKBBwQQgoE\nHBBCCgQcEEIKBBwQQgoEHBBCCgQcEEIKBBwQQgoEHBBCCgQcEEIKBBwQQgoEHBBCCgQcEEIK\nBBwQQgoEHBBCCgQcEEIKBBwQQgoEHBBCCgQcEEIKBBwQQgoEHBBCCgQcEEIKBBwQQgoEHOAr\nJHpM95veb69/yXvEMC/Pwhu9TcyQ4f3lxJxHnkX2YfTLT2b3Qewr0dv3f6ngy8ewP7cB3/4b\nx27i9U70/gfeff+Zcr+pv82IG9f/xvn2y93gw95/9CVjk8CDZOn34Qgh3aPx4/XbP37vUkL6\n/WH8d5oxROY89FwhEckif3/8/PZf0Zc/Hw81DRjG7uPlj8erH/DujY3xG/jbjLhlsV/jfPvj\nZva/h4B/fjC2bNCDVxHSIxpvdL7ye0DpzFL0wDf6Tt8eVDKGwpyHnkX2YffXPZPfXv+9L/ff\nd1svp5c/PtLrR779GPDv6+PBhrC74e9dDh9q+Cvvfr+xMX4Df+OIu6/fxwnp783gJOp3+jPj\naz24mpa/kKZo/Hj9jf6kCwrpIzzf6EHFMlTmMvRUIT2+3b58u9em9N/XvyVfPvjfatG/IYTV\nyMTrJ33Xd7P1Nv7GEd/uD/dtnIvf6N8t6dzK5y1D5XytB88X0kfx/Mev3zijXklIvz9W/fu9\n18gYIvMJ5wrppzSaXyZmGSeoSB8B+f3PUHY3TLz+aRX69z2rmtbfMOLXx3u/P74Oc/G3D4Nf\n6edHF/L7VnZyvtaDpwvpv7dHx3yn8ocJX2mPdKtCf+8F3DI0zCecvUf6leYZvuDLW5TemqTH\nacQodinP6hP+WL+hv3HEv4/3vtGYGnrHTT4f1j6q0U1SGZuUefB0Ib29/3u718hJ5X+vJqR/\n943HPZVahpY5P8+5QnocLiwI6esjj/7+NkXFKHapKKQf2cmi8TeOSF8+Wr4vI4v+hzs/ys87\n/XsrsEnWg6cL6f2295QtPHvqQq3dL032lmHGPNlXYzG1HT+47XhrtXaKP19vPdYgdje8sZCm\n1u73W35ck/sbRvyg7/fDswGMH3j/2JHd2swf0jLP+IoHTxfS7eu7dsS/P1hfS0jv08K+lxgC\n8ztOPmyQJDRt6v+WDxtumKR2zmHDL9lz/CFumhm5v3XEn3v6H+jin3c935T9I835Wg9eQkh/\n5dg2fezuriWkf1PGubltzhCZp3S6kH5ypn8cM//9cquYZV9+7Jn/TecOo9il0vH3T91z3DH3\nt47IQ+No3D5E+nvjPH00a9lYD15CSLfqKe3J27X2SL+mA4XvHxFgGSLzs8mKXW5Aax/Iyh23\npxi3R5KXE68f+u7Xx9Eyc5z7m0fc6tm3sbnqy7Sxe4OnEDbWg9cQUrrt2qfXv64lpPfHeUK6\nbTstw8f1B/OzyXI7xKd2j1/FKfyKkN7y7/ubnDsczk5f339F6De8+xGP34Bjwd/TiJvjf40V\n0v2o+0NO3+d8U+bBk4UUCLwoQkiBgANCSIGAA0JIgYADQkiBgANCSIGAA0JIgYADQkiBgANC\nSIGAA0JIgYADQkiBgANCSIGAA0JIgYADQkiBgANCSIGAA0JIgYADQkiBgANCSIGAA0JIgYAD\nQkiBgANCSIGAA0JIgYADQkiBgANCSIGAA0JIJ+Du9PP+kczAAdi9luQDj2d5Gp6UWEzX5tl8\nhuBp7ewmuncCx1mOtzBASG4WjkXwdLaDE2xPMCMduicNjhXSc/hzeWh97FieR/rTU0i0fbqB\nDt3B0k1IHyvaIaTn8GfPyOrgoTwP9aejkGqhsW6Wo0D4Hb27yrQbz3vbXZrt2fzZN7A2emgn\nssNgCGlmIWO5MksdyHO2rX0Of/YNDCGtmeA5WhHa41xXnsXJns6fPSOjtVtn4jk2x0TZu8OF\n1DpVvaA/lwS/eH8cNriYGDfLBgvntHZUF/CV/Nkr+B0WXGY53kIIadHCaYcNTyCkZxH88RZC\nSM4WHHlWPi6/GM/nEPzhFkJIzhYutfdYO/XGqZ5C8AdbCCE5W3hJnvuE1OydP48/Q0gnzHK8\nhQN5rvx103trWB39efwZQjphluMtuB02UO2ve3Ra4NOK+qHpUfD7/XL+ha72oN1W9k7gOMvx\nFl6LJyVVwkYL9ylknq2z7MB+C9R1tBtCOmGW4y1cRkhSjZ5WSA32/nZ24wkc6jjL8RauI6Sp\nMRrf2nlZCCEdYeG1eNLsxUYLT33YEK3dARZejCfVZ3sdIcVhwwEWgucWC0/d2nXOEkI6YZbj\nLQzj2XO8/NyHDZ2zhJBOmOV4C6N4Us8WIoTkY2LcLMdbCJ7GwuNLvXPTsfMBjU+XPBFCckbw\n9AUVvtQHz39LiFpbJ0eEkJwRPH2hrV3XBy15AzjddKY/1/z20DMI6ZOV+GtYGHrY0FFZ7kMK\nf8f/RH+uqodPIKTPVuKvYWEsz+XcPv12g1XSqeveVUcXZ1kz4tgJzs9MJ8xyvIXL8cRfFCI5\nowghuU0QQjrEwvV46tkeFqITeHL5jNZus53LzNL6uzKX4rnGQqu/e1Qf0ZHePd6fGmwnHDZM\npfiYhX/Bw4ZWQr4Sz/LUs6DlFWzv6wk15CukFf5c6ugKMb78OdnCnHZQjcGlFv5JMv1TCwkt\nkBzatQIU9ZP9pYqrCamgGX28Pg5Lg55BSM8SoM/Cc8nC4y+iJ8ldy0KiSUzmkguX2nT11q42\nkc3DhbfaHJYGOQqpVD7Xz1KauDHdlQL0WXguWJh2PqKk5dZuFkQn+LO5l3tcnzF0E1Lf/8+n\nEyWXv1iAPkkLumCBhURcmuqDMUL9heTnT5pv2T1bu6Td8OYJ7A2FguuApxFScWq3f/UmDW/t\nsOBMl83/oIb4GyU7cJg/e/1K85zgeNhQM7lp4Q8U0pNl+uJkF+RZs0CcXlUh0zVWFwyFOyAw\nHde9Mh0hhY6ZSr9g6y0kp4U/rrUrm7tepv8c/5cHCd1phyQ9kWyZJIh1OKWEIe/4tHlLll+r\nhO+8+OQVyPP423fhDzts6P0HDU///w45/l8ejvyXuZt2ubkT8Ujl0UqlXIzulKBn2ijHe1tI\n9h7oUrMhXhWpb+F3ZH0/h7ZLPL/cas8tQL3+Lw+VaYa1dqAQ3qhTmrKZNHra2sEHT/WQ2sLl\n8a3d2hU6NlPGtCOl7H7Hf0WoY+F3xOdQIe1ZQccArXSb6yx0pI2DwE0Q7CrwR9jmSxzy8R5E\nq6uQivGuap7H5/zT4fkWyVtIywu/NT4df0XoqYTUWZGqa0h9T3sUuO5MaVwiEusO/5yMqFRu\nbjwp+164VHCVLVNzQlI0vf85rkOEBGuwGzR7Ubh2jdau10KVK/RL8laWLBzINE5Bpxo0O9Pm\nl1IKOBLlcySC/3x4th7BvMiFBDqafRgmqaGL5+4nMYu3SUd9il9Dprjw+HqzuVELT/gk1ccx\nkZB3KW5cytNNB1yTzFBt8smSXOBCpKfkJwip1NrZWkYmDo3rhwppU3z6CmnJ0EVmWbQgK7ws\npPI7Iyq8tnZJtXK/pHVKqw8fQFA24mg041OLEM0GcGR2bj08hdQeV5GZZ2vXtH+hWZYsgCaW\nWjt741AhsTL4gA5aNzKROY0g6Z60SJ2+7qrtcr3SHeA+O8vorEjmMMQqv0/xe/GkQqomoLm3\nB7d2SUrS1Lfpybb0GPJJLYyWxi8/HzsGs1CzV0neplmIQhUdKqSWcIFwcWAIyViwzXt/0bez\nOJBp/cqVKEPUhHugfA+VzEDtCY8GmZezuAMh4QAsqX2V009IprWYjSL9UhoYQrIWxF9Nr5Yn\nOLjCqyD4NabuxE2fdn7yFlawwUKqutK2dmYUR+vo1q695Ey48kAhJGPBpPiuQg/HuI57TqFR\n5KnySJlGQFr6ENIAYm3y4dl6BCFbdiVzqAiJaffZ2U1UqdTHEROL1m7JAgfg0tEWcYelo6YQ\n8HvampJti2GqElYdfhLzJqjNhefiM0xOnbSf+C3IP4XWDnrVsUJqbx2Vv6Q4/56+Zf9CsyxY\ngM8GqeVVFY1No6OExBKBkmQPEsxbkhyg8RvkT9QQ/rFZKjtswE/DVgmpb0/VmCA1Fp2dxr3x\n407gvcKgA8/NGMJTG6p266OpFdqk1a1dg2dbSFJSpHyaKoQ/JL0Owlsn+M3+JAw1SOR5UbT5\nXe5bK6TVC5BPkBoTQE7QeoRP2G/Xg+d2DOFp4nDRhmmgkvQxHjxbeY6XlHQIf+qSi0lLEIcx\nt00r9kjb/TllGvhRkw9esbt4fbw+f3oKKZME1hvSRzDCp26ijjx3YIyQksbfgpJsIXDnSeZb\nblqM6ibInjlAZdUH0ndXHTbs8idGpQreCEnExQ9M+NMYIRH6O5vQkE/qQ74zr69d9j65kNin\nJuPXbGBYjuUpJZPMn6lUSRc3O9Lj60tP58VTBKviVSELBaxSfJP0omuEhN3BOqJWGmZiVBKx\n4HUIqGuFwa08PTCIJ0murE6i+4zE1X4sT4wzFQ4kTUiTptVj6kSj/IlK1+wj2YrnNz4lfMRV\nQtoIXfNkkmJWnuR5TN7keu8U5k2eF5plyQJna17z0jCOYoLASImXYARPki+2/si+V4sPsAQM\n4slKn1iLabNDSupquaoOHiOkyjQzecDzwHs0y6bH4ImERBKk1QYINWRTmaTdATxFMdLPmdwp\nRQrqEuyRDk6gs5LJX7l9K+Yn/qLZYa2QNEus5lvZNOZvCqvZm2tau808V98BJjfMsp3nlMll\nKWfJR2Ij6QYpQZCsCtDt686KR6EkKalaquQhQG9Swo7nqZJWBeXpB4zwcCifaX1F2hBtePS6\n8JxFxUg6W2d0NbYLyaRZF6Pa+ZSuQZzNNz9QCnRM/r4Xz/YtohsoS9IgkbZREp26eaqkiKN4\nqnEpisU9BVZPW9HWCmkDUyC0ZHDOPOkqrLW6FpuFJGl2yyzl8ZLjCpchVU5xqYLT7UeC8ISp\nyvGxmefCHbJ0qmGmSBiJ8l3VxiliAE9t0EyhES3rKHAtD2W6g4SUpMpzYa8PzatSCCm7Bmts\npYJ9O1wAx2v/M8afkq1JrWtm1XpkGjkpW7SqtdvM02gIJa7ZCiSuQWoy2gohmdS3hqisJvTn\nMA/OKYnIPGcfUQeeRU5ddxK87r2rwbMpJJO2sd5IdMpbhN6EgjDMn0TIgeWN5UjVZBUvK388\nT6mHCcRkSrdelDCW77OAbvljD6AcgU2MPHiNdUsub8mg23gWOHXdqqN9eNLMD3Bt8ogGnLpX\n8r0N3YmjZNK0KeLWPkMSs7r2/IatRRKVlq/OcjBPU5SSZTeNmV/Pa1KHnd1EtQDagpmSDReT\nkGbZ9mCAGHYo141nlYQtfhijJvlLM2WrF8ftGH9Ch8R6ykSkxYiEX5bTBvCUV7MyKtVcKz1f\nMV7sFRJW4E1EpXQLS7hKOiJJLECt74/r3TyTsbweB/Kc3cGOgiXGxeX4FJ+KiKj78fbxVLFY\nRtDc8XDzRHYtjuKJFrC2zKSdDdCalOAp+uzsweQZ1gnw4cvsO3YENi6groMBAbi9IHnx5EBr\nW2Bv6XonCdIkyWvansqkaxLTnkfghQPZSuBpVbJ5Hxc/f9rDeCYkiSXcxAI702YK3TD12PEg\nCikRq5SU/GRSK6pLhx4Kk8k77c2H+fCETFK8Zn/EbbFEAuH1JNsQXvQB/pR6k1Q+Uo/sFwiC\nLCqHrDscINjclNUkzfZaAPnxeuzwq0bpbBRWTTPc2plWU3MS6RcS3huEtK/EK7FFM6WBPjx7\nhSQ+0sEQvZgx1adUm3gDz/ZtEGRw0mGjkJsQyV/IdgxPZgfGicuULrISgkeAPNFjBw0uDype\nyyQCgQKXiZODLPmW1m7lcMNT03efmTR7Yh+enUIy2UeEJJkSq5H41JVn+z5skiBcDaANUX5c\nOfsy2m6eacaKRCBasNCfphatbe10ovag8jVshyGXQwgot8TiFw+vdugGj67KgaQkZ7OssLfd\nn/LKtPQParK4nEG5zeKbuha+h+fSffOmyNSkKTxlGOZYSasDeCZoMWf1UngQMCU7tseum5Ak\nUIUYKl35iZBIY2GMkMrNWnWsZAQyV/rtNayR+Va6lDRUVdXJJlftWBJnKM1lLjxb94l0tRpB\nAhchSa6XZ8GHGrPuWoOy4gRtEjLFp+lNv9m6LQyqCUl8qW4CNjr/44UKHUpXN5Z4EhUvy3oX\nbzRvi4ig3nc7tIfnwm3ACsXP6R3igsMRm39Hf7ZvI6Nck+hBSdyCQIrXvm6N4a08i9CimThe\nVUYsvnpjUqa3gk1lAiEBDpMwmO4iGMxEs6u7IY9cEjzm9fl9s7JD+FXG+PBswQgJdZGnU0xd\npJ5dLaR9PCdrKHKMeeAjpDXTb9r0FMlI/ahf0rBTB2qzJIIx7mMxdQtpj9QTa4jfwvQzRQPX\nJSN+fPBO+ws8m0LS5c1nyXzH9HSohoMPz+atOoNmGsKEhZk/QWhK69Rv34OnlJekwazzQhxi\nyif92YFnO4FCx4kONFs5jWRbgDhG+ytSj0uLQ1gr0GbyFyiP6jYsVgtTF821RraFlDQL2Vnw\nljw9SAw/xvjwbN6obEVJvMRZzpfv6ujJxcN4JvGWUC6WBW5ODNdUXKgNPBeEZExCvoemSbLB\nLDJ7eUJRqA/GJSxMoLox2tebpoREMFXGbcVytnk2hcQZJ2/OlY15TpNdCYft5Nm8Te7FnMQ/\nSpfCgaBhQZLq0zCeCdwF2p7PLJmU48PMspdnO4FmoSvRCSJiR3MeEntQ5ZfodVGlGk0WMdSb\nkpSECxZSNLdqMVtLP9eo8pSCOKstGg2QDTIztubv5Vm/SehgxQFmsiFJ/Dhk3C2zOPBkMpVL\nwkeWF6RsQkLbFXgGN55tIc3f0T4PqhI8FT8K6H+ZXB/VuixVSNo95RKSxecYwGuVx22zXpXJ\nWLhaPfmFTgd10/CbPe1hPNUC1pdZMoKYTdgy2Yrgw3MpQHExdSIhlSA6JBzF1448NZ+UeQK3\niRQkIJCVPBKwk8K0RK2DppItT8CegkJoKw+BLzOF1XuxFpMGx8bCqwMl2/ODQYmvKMm2JDt5\ntm6CBTbdHfORR8x8OnGE8N/Ns0NIkNgTjIZ8rkkfM4Qrz8pou4QSm3wJqqPNpFKCtglpeXCt\nIqkoeCJSsqD6ZLmLZ2tTV1jUx+rTl6+Jx1DAGgl5KcXuM6th+3i2b8MEhMlWizoEJgaMViVH\nf7aEZHsQuQO4gmMx22t9cuHZvA2fRU3KYoK71X1aSSVuu+1so6kVCNU/y+6SK0VDoiaOgRXm\nFh6mPJ3mSlb04w2JVX7Tcte7qTLxBp5LN6rgk/5g8hHlz8M+h6q0n+dSYjJ+ImUkC53gJUcx\nZ7GaQjfwbN4I3zHHSNRpHrW8bALrtLOZppY+9SU4kzAggbDN/F2K7+HJPqpXJIhLjb4EPDh5\nWh2tFdIuf6qLmDUUUeHJxE1s8ttePHM34CX5ZqSNNRPngLVhB8MsO3maMCvzlBqEwkLKonxs\nPojyWeocFkcsTpCtu+hcmnfsR0wKWy2kRS7T95qQ0ElciThc9VFyotNj0uKC+jzDFHeQGadn\nUj+iE03NWimkTQTRLySUmcDE1USWrQTQnXjxbEyj/jELiD8SQnNUwuF7KPQBiWqW4RiFqIRL\nwtjW+f1oPDclICTvYW432R++YdEdICRJSfoH0hHrSMap8JWnnz9h3fJL+jXLmCnlDHAOJe0p\n+Po8GpmUvZvEzxCME7M0i5TtDDoBpQUSIoZidiWVLxwNLTfwnqYeFnnC4mlXnBwXvslTSruw\nUknn7kuzF7Og2cMlSbkuXlO1S2cENckMxm7BPOHB0HwDxrRLzkORuEOS1MAPsGRnN9EERGca\nMf2d8M9pDxGS1pYE/oFCQ0nW2HZQSSU3Qkhm2WVZrZ7V3aZgiYwchVQpcEYY2qtVtGG6AK2Z\nI4WExkpC0jZKYloffaiQEgYfqgWy5vRoGqkThyEOVZaiJg5FKeTgdSskGsXz8UVEK2VR2jnQ\njvFvQrp+XCq6hHQkUWmjdbo2e0Mr3agKrzrBd6ECyAhp93S8flmws5to0jxoao2sPbRKGKBQ\nCka1TEbOIiCOAig9xVyQRgmJMMrAm+Y/42BxbqssbOKSKtMRLptWmFwbhbWVdmBUYoJ4AxIi\no0SZixMIbaiQsiJp9AStCAaI6Ig4dI6GBqGW9VmnKakI/Cw646c9mmcmpITthxGQKZvI0y3T\nU/YdLxl/EHRAOHjJaYMqvGk6sj4TxKTDJGBHtnbTV05JeSZXgUnLYruQQUKSRi6hS6VKWd5E\n+eOIBn3IyPPPLiXDYHovZ1lgDtIa5c+ZnesKiYslqsOkTc3z0A1q9ey2s5foLPCYEDRV6lcW\nDz7cwVA+SVK3VTx3yFIys7wgOvTgkr2Aa9gRy3tGMHIVSEn1d61IzWcoLdvsverajqzwGHDa\nxSdsOWRAlvrNLMt2dhFVi7ZSag5INg5EUNpmDVt4qYJZiucf5KqoCb6YLnsXl/zFnCfUJNss\ns8CTeUtTBCbSA0FlK7P3KlQ4MNx5FQxpHdKV5Yuc88mOIQzrLp77hUQaX3b3i6GXy1yy57gM\nio0PbDZySBeVMPurv124zF7gNfANv2PEjn0elvvEbh0lpJU3lFq+MTyhEZrSDqZy9eK8tTN8\nF+3sI5q1khh3GDKkuZZvkwQwZuGtlAxVrEnYh+Yla2hrpz6EHEnKDdbe1q5Brd3q8XmGHywk\nbOVFSLC00jolcD7yXbSzj6gRkuRLEvbYRGHxUc6DMqh1ZBXsk8Iwt4VHncx5zozan7X/TLMl\n1y70aKy0YNPqxVo7+5b+yWZZtrOLqDTpQkMVA4mTY0B0xNVhVAYty4cru+halni2gUL2xxBU\nUdhWPRdRgjFahtDDlxeSxsvB4Oi0Tbuy0PeBJy+3pb9gx4EoSJjIkEl2kTV5cqyOy6C8ecj7\nOVCUODrZtzConcjAxia7JGynAbnqdYFVOfolDc3068aXGlkXLk27UGJK4rU6wrjEkUOEJF8J\n3pM6A1GAGieNAxcaHTxhC2QkYnZGSNW+m/yEJKFeDy2oP8CVU6i5QUXEueKKQiq376NaO11Y\n01+qR0FJslkBV58kpMS9nbR2HAhStbLaOcShoBrI8XnKx81Hwvf9WrsOISXLTt01j0dpkvPu\n4FD4eeJYoJBsLocmHt0qbkY3DhOSKY/ATYPTyEfSvRuNVTwxPgtIlA2Dh3Dj0hASpyERBpak\n0nQiNGnuQkhigZs67CnIrAAmShkuu45Onp5CgtfcZJqkqmVB9iBuNDp4QkzC94Q/c7ga13I7\n5dcytR7bnh/wSmsqqszILI8XUlvUaydzmaU8Na6xKCSZP1KwCONVWxdx+cDWTpUEhDKxQ6bV\nttWHxjJPyTDaweWFCPM/jJGGyY1n46lJpQD6FRbVCaH1i9Yus6AuvL8jUQqNtISwFC3jyZFC\n4k6ENQ7JNC+bxO3qCqIuPFU+5aYuUxXms2E8RQ6al1LeCZuxEzGSNRjD80KzLFmQsqM9hu6O\neNRMSOjJga0dlEWhzvyzVgVbehMtR0KdmRXJupZUTM0a4s1T6rYWwmTSZyq8lcfAAJ7XmWXR\nAiZsavgSYtTcNlJIxFmbjHkJSOzyOEwy4R0KEEapqYO3kBtBY0cF/x/AUzOheEceIB+JSpJq\nFEKaW5iCM6tIZpx2Tepr8bmTkLS0VCcAEjCSmzlJrlAoOTSHVSTUSPZVJcajQPwJ2I8LUOL9\nHF6j2Q8oNM1So4XU2L3lt9mRw3hinWlEXC0HOQqpZp2loT1QLniNVTMNp9BhQmJqEqMinmQ1\nDddRT2lNwOzhKXTzmmR0Mxsw+X+cP8vElu6i7OeDQQmDDP+YUTbDl2ZZttNFZklIukOaKclU\nIyFMeqGXxi6AySRCkW4IB2V+x03SMCGJNSAo/iMyA7B7sW4+nqcl1ncT5W8ciiy7lBOicdvJ\nQuIgTdhrAk2zZ0/YR3XT2IXpGeZbIztqcjZ41nR3o4VEWiFtVoUfDNUQUm5SXFm3JXGrfUl+\n/7KdPjL1DgzToQZqqZ03HPXUrp/GLqg/oWOjEk1TB7LubliAcjnETsS8pCy/mZFjhZT6HZOP\nHCak0vmCZUGQL80lcXPbTjefircw4DRSi6yhUmn6HB6gcvJB2bLmoYnEx2d67UGg6CA/OYgy\n74xNTPJDt70TDhtMBa8NMoc7mO9TZ57Y/iRmr87BRvKqwta2q8ShMjLTi9St04zPCss9WEj8\nI+VrmxUoLOpZABwKHwtDeHakQQ6Ho4WkZa86AR4gFzMUq1644k8DM71QzZw7awMcAAAFlklE\nQVSrWWnuFXlrdICaEwR9UwbS7O3SLNvJzGXsa2Hsui+MzDfycJuTkCodD04A+6PKlFY6uK33\nE1KDgQqm8MGWXjANkrlmZzkMM8nU9snNHOsY5pU4ejYhYcWpDS0N8T1sSPV1My1TrWzxkFJQ\nOLZ2NHtRuJYwQGxG1zbg2ABtgWY/NLi0fO3GpWzn6YQ0/bDN4vCKlFrHjHDYkL09WEhlh0rL\nOX3Zlpn2olSRakPrbFz9WT452jNva6GcUUygu2bZOiL1BagcEi+kyfLVwUKqNkty9LH5GHQv\nMiE1Knz3LLu5VLa8O6YlfemBR3fRbulTMwA7DOwdAaOaRM2mpz7LNYRUuV/6uu2nN3thF/5c\nIbXifbsFdK3fui90TNMPWzcRXkLqn6C9m6va81r4jsOG5Tn0DMTePVpI+BHIfFyTyoE820dK\nPRPIl9FCav56w6KFvSNWTbAQa9XnuN7C45PoqehlhNRwtOMH3Mccf7u3dp1C2t7ZDRdSD9V9\n9WJpbr+FNzvi2ce3u/CYqqenr/Ui7S7Z9RS0kj/2WPA+bOjk+bmElKdL/wAtT/eMrUh9i1S+\nWz/Cd/Rnpfh5Wtg/TV9Lv71UX621m0eAa8t0zMKfKKTmFHMdSS1yFVK5wF1KSMWpC+La7Jfh\nQlqkmsUP/3jphT+rp2/PUdLR9OzeH3A7H3+7z3K8hfFC6hmvHTIdIqT+he/MUO49/fxYUK+t\nnCm7k5LrYUOd1EoLrRb1UOyxsGbdhwsp28S7tnZrF359xLkt/NJfS+mcpdQmr55lE1YKvpbJ\nfLhQfZM0qhMZLyR7Z/2YzRk1H68OiKOw4Zh+tuF0rpyLtlcN3p02FuZffaln0u698elCcqLR\nZ61OYPssW+B0TF9/gBcTUmOeFxDS+a3IWa2dLNHeVqT6ABcT0sGt3YLlHbc+RWt3gVZky+87\nOID4q+thw/ZZtiAOG/zs+EzgOMvxFlxnec7PZ1wtfB6eIaQTZ4nPZz4Pz/1C8sFeGs/Fs9F6\nX4pn6xGCp7XjwbXrh75RRyJ4+iJ4rh20Zo5Xd6gDgqcvQkjOCJ6+CJ5rB62Z49Ud6oDg6YsQ\nkjOCpy+C59pBa+Z4dYc6IHj6IoTkjODpi+C5dtCaOV7doQ4Inr54GiEFAi+PEFIg4IAQUiDg\ngBBSIOCAEFIg4IAQUiDggBBSIOCAEFIg4IAQUiDggBBSIOCA3UIq/j1cgiu1v6gLl6k+yg3B\nM3geyXPvU1BpkgeDx5XiALiR6tN4Inj6IniWxu9AycKD3QJRvvtEhwbP7QieJUM7ULbQT5Ra\n0zgiePoieJYM7cBuolML6sGlheDpi+BZMrQDu4hS3+N4IHj6IniWDO3AHqKkLy7t0OBZsRU8\nC4M3YgdRgldXdmjwrBkLnqXR27CdKOH9F3Zo8CwheBaH78DWD7zIftJ12Q/mgmfw7OF57FME\nAi+CEFIg4IAQUiDggBBSIOCAEFIg4IAQUiDggBBSIOCAEFIg4IAQUiDggBBSIOCAEFIg4IAQ\nUiDggBBSIOCAEFIg4IAQUiDggBBSIOCAEFIg4IAQUiDggBBSIOCAEFIg4IAQUiDggBBSIOCA\nQ4REjZ+uhODpi1fmGUKq/HQlBE9fhJCcETx98co8jxISPf63aLev0z9UmeBfir0IgqcvXpnn\nYUKiiS+/mv67kj+DpzNemedxFanw7YoOLX0LntvwyjwHCYn/DfJL+TN4OuOVeY6rSI8Ll/Jo\n8PTFK/OM1i54uuGVeR4sJPjfyyR98yoInr54ZZ5Xer5A4GkRQgoEHBBCCgQcEEIKBBwQQgoE\nHBBCCgQcEEIKBBwQQgoEHBBCCgQcEEIKBBwQQgoEHBBCCgQcEEIKBBwQQgoEHBBCCgQcEEIK\nBBwQQgoEHBBCCgQcEEIKBBwQQgoEHPA/gzxQaGxnRU8AAAAASUVORK5CYII=",
      "text/plain": [
       "Plot with title \"WRIST\""
      ]
     },
     "metadata": {},
     "output_type": "display_data"
    }
   ],
   "source": [
    "par(mfrow = c(3,5))\n",
    "for(i in 1:15){\n",
    "    plot(data[,i], main = colnames(data)[i], ylab = \"Value\")\n",
    "}\n",
    "par(mfrow = c(1,1))"
   ]
  },
  {
   "cell_type": "code",
   "execution_count": 47,
   "metadata": {
    "scrolled": true
   },
=======
   "execution_count": 26,
   "metadata": {},
>>>>>>> 4cfdac3c5615adfec4dc250602c9c6e7aa34a655
   "outputs": [],
   "source": [
    "RMIndex = which(data[,1]==0 | data[,1]>40 | data[,3]==max(data[,3]) | data[,4]==min(data[,4]) | \n",
    "                data[,6]==max(data[,6]) | data[,7]>125 | data[,8]==max(data[,8]) | data[,9]>120 | \n",
    "                data[,10]==max(data[,10]) | data[,11]==max(data[,11]) | data[,11]==max(data[,11]) | \n",
    "                data[,12]>29 | data[,13]==max(data[,13]))"
   ]
  },
  {
   "cell_type": "code",
<<<<<<< HEAD
   "execution_count": 48,
=======
   "execution_count": 24,
>>>>>>> 4cfdac3c5615adfec4dc250602c9c6e7aa34a655
   "metadata": {},
   "outputs": [
    {
     "data": {
      "text/html": [
       "<table>\n",
       "<caption>A data.frame: 6 × 15</caption>\n",
       "<thead>\n",
       "\t<tr><th></th><th scope=col>BODYFAT</th><th scope=col>AGE</th><th scope=col>WEIGHT</th><th scope=col>HEIGHT</th><th scope=col>ADIPOSITY</th><th scope=col>NECK</th><th scope=col>CHEST</th><th scope=col>ABDOMEN</th><th scope=col>HIP</th><th scope=col>THIGH</th><th scope=col>KNEE</th><th scope=col>ANKLE</th><th scope=col>BICEPS</th><th scope=col>FOREARM</th><th scope=col>WRIST</th></tr>\n",
       "\t<tr><th></th><th scope=col>&lt;dbl&gt;</th><th scope=col>&lt;int&gt;</th><th scope=col>&lt;dbl&gt;</th><th scope=col>&lt;dbl&gt;</th><th scope=col>&lt;dbl&gt;</th><th scope=col>&lt;dbl&gt;</th><th scope=col>&lt;dbl&gt;</th><th scope=col>&lt;dbl&gt;</th><th scope=col>&lt;dbl&gt;</th><th scope=col>&lt;dbl&gt;</th><th scope=col>&lt;dbl&gt;</th><th scope=col>&lt;dbl&gt;</th><th scope=col>&lt;dbl&gt;</th><th scope=col>&lt;dbl&gt;</th><th scope=col>&lt;dbl&gt;</th></tr>\n",
       "</thead>\n",
       "<tbody>\n",
<<<<<<< HEAD
       "\t<tr><th scope=row>31</th><td>12.3  </td><td>32    </td><td>182.00</td><td>73.75 </td><td>23.6  </td><td>38.7  </td><td>100.5 </td><td> 88.7 </td><td> 99.8 </td><td>57.5  </td><td>38.7  </td><td>33.9  </td><td>32.5  </td><td>27.7  </td><td>18.4  </td></tr>\n",
       "\t<tr><th scope=row>39</th><td>33.8  </td><td>46    </td><td>363.15</td><td>72.25 </td><td>48.9  </td><td>51.2  </td><td>136.2 </td><td>148.1 </td><td>147.7 </td><td>87.3  </td><td>49.1  </td><td>29.6  </td><td>45.0  </td><td>29.0  </td><td>21.4  </td></tr>\n",
       "\t<tr><th scope=row>41</th><td>33.1  </td><td>45    </td><td>262.75</td><td>68.75 </td><td>39.1  </td><td>43.2  </td><td>128.3 </td><td>126.2 </td><td>125.6 </td><td>72.5  </td><td>39.6  </td><td>26.6  </td><td>36.4  </td><td>32.7  </td><td>21.4  </td></tr>\n",
       "\t<tr><th scope=row>74</th><td>13.7  </td><td>55    </td><td>125.00</td><td>64.00 </td><td>21.5  </td><td>33.2  </td><td> 87.7 </td><td> 76.0 </td><td> 88.6 </td><td>50.9  </td><td>35.4  </td><td>19.1  </td><td>29.3  </td><td>25.7  </td><td>16.9  </td></tr>\n",
       "\t<tr><th scope=row>86</th><td>25.8  </td><td>67    </td><td>167.00</td><td>67.50 </td><td>26.0  </td><td>36.5  </td><td> 98.9 </td><td> 89.7 </td><td> 96.2 </td><td>54.7  </td><td>37.8  </td><td>33.7  </td><td>32.4  </td><td>27.7  </td><td>18.2  </td></tr>\n",
       "\t<tr><th scope=row>182</th><td> 0.0  </td><td>40    </td><td>118.50</td><td>68.00 </td><td>18.1  </td><td>33.8  </td><td> 79.3 </td><td> 69.4 </td><td> 85.0 </td><td>47.2  </td><td>33.5  </td><td>20.2  </td><td>27.7  </td><td>24.6  </td><td>16.5  </td></tr>\n",
       "\t<tr><th scope=row>216</th><td>45.1  </td><td>51    </td><td>219.00</td><td>64.00 </td><td>37.6  </td><td>41.2  </td><td>119.8 </td><td>122.1 </td><td>112.8 </td><td>62.5  </td><td>36.9  </td><td>23.6  </td><td>34.7  </td><td>29.1  </td><td>18.4  </td></tr>\n",
=======
       "\t<tr><th scope=row>31</th><td>12.3</td><td>32</td><td>182.00</td><td>73.75</td><td>23.6</td><td>38.7</td><td>100.5</td><td> 88.7</td><td> 99.8</td><td>57.5</td><td>38.7</td><td>33.9</td><td>32.5</td><td>27.7</td><td>18.4</td></tr>\n",
       "\t<tr><th scope=row>39</th><td>33.8</td><td>46</td><td>363.15</td><td>72.25</td><td>48.9</td><td>51.2</td><td>136.2</td><td>148.1</td><td>147.7</td><td>87.3</td><td>49.1</td><td>29.6</td><td>45.0</td><td>29.0</td><td>21.4</td></tr>\n",
       "\t<tr><th scope=row>41</th><td>33.1</td><td>45</td><td>262.75</td><td>68.75</td><td>39.1</td><td>43.2</td><td>128.3</td><td>126.2</td><td>125.6</td><td>72.5</td><td>39.6</td><td>26.6</td><td>36.4</td><td>32.7</td><td>21.4</td></tr>\n",
       "\t<tr><th scope=row>42</th><td>31.7</td><td>44</td><td>205.00</td><td>29.50</td><td>29.9</td><td>36.6</td><td>106.0</td><td>104.3</td><td>115.5</td><td>70.6</td><td>42.5</td><td>23.7</td><td>33.6</td><td>28.7</td><td>17.4</td></tr>\n",
       "\t<tr><th scope=row>86</th><td>25.8</td><td>67</td><td>167.00</td><td>67.50</td><td>26.0</td><td>36.5</td><td> 98.9</td><td> 89.7</td><td> 96.2</td><td>54.7</td><td>37.8</td><td>33.7</td><td>32.4</td><td>27.7</td><td>18.2</td></tr>\n",
       "\t<tr><th scope=row>182</th><td> 0.0</td><td>40</td><td>118.50</td><td>68.00</td><td>18.1</td><td>33.8</td><td> 79.3</td><td> 69.4</td><td> 85.0</td><td>47.2</td><td>33.5</td><td>20.2</td><td>27.7</td><td>24.6</td><td>16.5</td></tr>\n",
>>>>>>> 4cfdac3c5615adfec4dc250602c9c6e7aa34a655
       "</tbody>\n",
       "</table>\n"
      ],
      "text/latex": [
       "A data.frame: 6 × 15\n",
       "\\begin{tabular}{r|lllllllllllllll}\n",
       "  & BODYFAT & AGE & WEIGHT & HEIGHT & ADIPOSITY & NECK & CHEST & ABDOMEN & HIP & THIGH & KNEE & ANKLE & BICEPS & FOREARM & WRIST\\\\\n",
       "  & <dbl> & <int> & <dbl> & <dbl> & <dbl> & <dbl> & <dbl> & <dbl> & <dbl> & <dbl> & <dbl> & <dbl> & <dbl> & <dbl> & <dbl>\\\\\n",
       "\\hline\n",
<<<<<<< HEAD
       "\t31 & 12.3   & 32     & 182.00 & 73.75  & 23.6   & 38.7   & 100.5  &  88.7  &  99.8  & 57.5   & 38.7   & 33.9   & 32.5   & 27.7   & 18.4  \\\\\n",
       "\t39 & 33.8   & 46     & 363.15 & 72.25  & 48.9   & 51.2   & 136.2  & 148.1  & 147.7  & 87.3   & 49.1   & 29.6   & 45.0   & 29.0   & 21.4  \\\\\n",
       "\t41 & 33.1   & 45     & 262.75 & 68.75  & 39.1   & 43.2   & 128.3  & 126.2  & 125.6  & 72.5   & 39.6   & 26.6   & 36.4   & 32.7   & 21.4  \\\\\n",
       "\t74 & 13.7   & 55     & 125.00 & 64.00  & 21.5   & 33.2   &  87.7  &  76.0  &  88.6  & 50.9   & 35.4   & 19.1   & 29.3   & 25.7   & 16.9  \\\\\n",
       "\t86 & 25.8   & 67     & 167.00 & 67.50  & 26.0   & 36.5   &  98.9  &  89.7  &  96.2  & 54.7   & 37.8   & 33.7   & 32.4   & 27.7   & 18.2  \\\\\n",
       "\t182 &  0.0   & 40     & 118.50 & 68.00  & 18.1   & 33.8   &  79.3  &  69.4  &  85.0  & 47.2   & 33.5   & 20.2   & 27.7   & 24.6   & 16.5  \\\\\n",
       "\t216 & 45.1   & 51     & 219.00 & 64.00  & 37.6   & 41.2   & 119.8  & 122.1  & 112.8  & 62.5   & 36.9   & 23.6   & 34.7   & 29.1   & 18.4  \\\\\n",
=======
       "\t31 & 12.3 & 32 & 182.00 & 73.75 & 23.6 & 38.7 & 100.5 &  88.7 &  99.8 & 57.5 & 38.7 & 33.9 & 32.5 & 27.7 & 18.4\\\\\n",
       "\t39 & 33.8 & 46 & 363.15 & 72.25 & 48.9 & 51.2 & 136.2 & 148.1 & 147.7 & 87.3 & 49.1 & 29.6 & 45.0 & 29.0 & 21.4\\\\\n",
       "\t41 & 33.1 & 45 & 262.75 & 68.75 & 39.1 & 43.2 & 128.3 & 126.2 & 125.6 & 72.5 & 39.6 & 26.6 & 36.4 & 32.7 & 21.4\\\\\n",
       "\t42 & 31.7 & 44 & 205.00 & 29.50 & 29.9 & 36.6 & 106.0 & 104.3 & 115.5 & 70.6 & 42.5 & 23.7 & 33.6 & 28.7 & 17.4\\\\\n",
       "\t86 & 25.8 & 67 & 167.00 & 67.50 & 26.0 & 36.5 &  98.9 &  89.7 &  96.2 & 54.7 & 37.8 & 33.7 & 32.4 & 27.7 & 18.2\\\\\n",
       "\t182 &  0.0 & 40 & 118.50 & 68.00 & 18.1 & 33.8 &  79.3 &  69.4 &  85.0 & 47.2 & 33.5 & 20.2 & 27.7 & 24.6 & 16.5\\\\\n",
>>>>>>> 4cfdac3c5615adfec4dc250602c9c6e7aa34a655
       "\\end{tabular}\n"
      ],
      "text/markdown": [
       "\n",
       "A data.frame: 6 × 15\n",
       "\n",
       "| <!--/--> | BODYFAT &lt;dbl&gt; | AGE &lt;int&gt; | WEIGHT &lt;dbl&gt; | HEIGHT &lt;dbl&gt; | ADIPOSITY &lt;dbl&gt; | NECK &lt;dbl&gt; | CHEST &lt;dbl&gt; | ABDOMEN &lt;dbl&gt; | HIP &lt;dbl&gt; | THIGH &lt;dbl&gt; | KNEE &lt;dbl&gt; | ANKLE &lt;dbl&gt; | BICEPS &lt;dbl&gt; | FOREARM &lt;dbl&gt; | WRIST &lt;dbl&gt; |\n",
       "|---|---|---|---|---|---|---|---|---|---|---|---|---|---|---|---|\n",
<<<<<<< HEAD
       "| 31 | 12.3   | 32     | 182.00 | 73.75  | 23.6   | 38.7   | 100.5  |  88.7  |  99.8  | 57.5   | 38.7   | 33.9   | 32.5   | 27.7   | 18.4   |\n",
       "| 39 | 33.8   | 46     | 363.15 | 72.25  | 48.9   | 51.2   | 136.2  | 148.1  | 147.7  | 87.3   | 49.1   | 29.6   | 45.0   | 29.0   | 21.4   |\n",
       "| 41 | 33.1   | 45     | 262.75 | 68.75  | 39.1   | 43.2   | 128.3  | 126.2  | 125.6  | 72.5   | 39.6   | 26.6   | 36.4   | 32.7   | 21.4   |\n",
       "| 74 | 13.7   | 55     | 125.00 | 64.00  | 21.5   | 33.2   |  87.7  |  76.0  |  88.6  | 50.9   | 35.4   | 19.1   | 29.3   | 25.7   | 16.9   |\n",
       "| 86 | 25.8   | 67     | 167.00 | 67.50  | 26.0   | 36.5   |  98.9  |  89.7  |  96.2  | 54.7   | 37.8   | 33.7   | 32.4   | 27.7   | 18.2   |\n",
       "| 182 |  0.0   | 40     | 118.50 | 68.00  | 18.1   | 33.8   |  79.3  |  69.4  |  85.0  | 47.2   | 33.5   | 20.2   | 27.7   | 24.6   | 16.5   |\n",
       "| 216 | 45.1   | 51     | 219.00 | 64.00  | 37.6   | 41.2   | 119.8  | 122.1  | 112.8  | 62.5   | 36.9   | 23.6   | 34.7   | 29.1   | 18.4   |\n",
=======
       "| 31 | 12.3 | 32 | 182.00 | 73.75 | 23.6 | 38.7 | 100.5 |  88.7 |  99.8 | 57.5 | 38.7 | 33.9 | 32.5 | 27.7 | 18.4 |\n",
       "| 39 | 33.8 | 46 | 363.15 | 72.25 | 48.9 | 51.2 | 136.2 | 148.1 | 147.7 | 87.3 | 49.1 | 29.6 | 45.0 | 29.0 | 21.4 |\n",
       "| 41 | 33.1 | 45 | 262.75 | 68.75 | 39.1 | 43.2 | 128.3 | 126.2 | 125.6 | 72.5 | 39.6 | 26.6 | 36.4 | 32.7 | 21.4 |\n",
       "| 42 | 31.7 | 44 | 205.00 | 29.50 | 29.9 | 36.6 | 106.0 | 104.3 | 115.5 | 70.6 | 42.5 | 23.7 | 33.6 | 28.7 | 17.4 |\n",
       "| 86 | 25.8 | 67 | 167.00 | 67.50 | 26.0 | 36.5 |  98.9 |  89.7 |  96.2 | 54.7 | 37.8 | 33.7 | 32.4 | 27.7 | 18.2 |\n",
       "| 182 |  0.0 | 40 | 118.50 | 68.00 | 18.1 | 33.8 |  79.3 |  69.4 |  85.0 | 47.2 | 33.5 | 20.2 | 27.7 | 24.6 | 16.5 |\n",
>>>>>>> 4cfdac3c5615adfec4dc250602c9c6e7aa34a655
       "\n"
      ],
      "text/plain": [
       "    BODYFAT AGE WEIGHT HEIGHT ADIPOSITY NECK CHEST ABDOMEN HIP   THIGH KNEE\n",
       "31  12.3    32  182.00 73.75  23.6      38.7 100.5  88.7    99.8 57.5  38.7\n",
       "39  33.8    46  363.15 72.25  48.9      51.2 136.2 148.1   147.7 87.3  49.1\n",
       "41  33.1    45  262.75 68.75  39.1      43.2 128.3 126.2   125.6 72.5  39.6\n",
       "74  13.7    55  125.00 64.00  21.5      33.2  87.7  76.0    88.6 50.9  35.4\n",
       "86  25.8    67  167.00 67.50  26.0      36.5  98.9  89.7    96.2 54.7  37.8\n",
       "182  0.0    40  118.50 68.00  18.1      33.8  79.3  69.4    85.0 47.2  33.5\n",
       "216 45.1    51  219.00 64.00  37.6      41.2 119.8 122.1   112.8 62.5  36.9\n",
       "    ANKLE BICEPS FOREARM WRIST\n",
       "31  33.9  32.5   27.7    18.4 \n",
       "39  29.6  45.0   29.0    21.4 \n",
       "41  26.6  36.4   32.7    21.4 \n",
       "74  19.1  29.3   25.7    16.9 \n",
       "86  33.7  32.4   27.7    18.2 \n",
       "182 20.2  27.7   24.6    16.5 \n",
       "216 23.6  34.7   29.1    18.4 "
      ]
     },
     "metadata": {},
     "output_type": "display_data"
    }
   ],
   "source": [
    "data[RMIndex,]"
   ]
  },
  {
   "cell_type": "code",
<<<<<<< HEAD
   "execution_count": 49,
=======
   "execution_count": 20,
   "metadata": {},
   "outputs": [
    {
     "data": {
      "text/html": [
       "<table>\n",
       "<caption>A data.frame: 1 × 15</caption>\n",
       "<thead>\n",
       "\t<tr><th></th><th scope=col>BODYFAT</th><th scope=col>AGE</th><th scope=col>WEIGHT</th><th scope=col>HEIGHT</th><th scope=col>ADIPOSITY</th><th scope=col>NECK</th><th scope=col>CHEST</th><th scope=col>ABDOMEN</th><th scope=col>HIP</th><th scope=col>THIGH</th><th scope=col>KNEE</th><th scope=col>ANKLE</th><th scope=col>BICEPS</th><th scope=col>FOREARM</th><th scope=col>WRIST</th></tr>\n",
       "\t<tr><th></th><th scope=col>&lt;dbl&gt;</th><th scope=col>&lt;int&gt;</th><th scope=col>&lt;dbl&gt;</th><th scope=col>&lt;dbl&gt;</th><th scope=col>&lt;dbl&gt;</th><th scope=col>&lt;dbl&gt;</th><th scope=col>&lt;dbl&gt;</th><th scope=col>&lt;dbl&gt;</th><th scope=col>&lt;dbl&gt;</th><th scope=col>&lt;dbl&gt;</th><th scope=col>&lt;dbl&gt;</th><th scope=col>&lt;dbl&gt;</th><th scope=col>&lt;dbl&gt;</th><th scope=col>&lt;dbl&gt;</th><th scope=col>&lt;dbl&gt;</th></tr>\n",
       "</thead>\n",
       "<tbody>\n",
       "\t<tr><th scope=row>42</th><td>31.7</td><td>44</td><td>205</td><td>69.42893</td><td>29.9</td><td>36.6</td><td>106</td><td>104.3</td><td>115.5</td><td>70.6</td><td>42.5</td><td>23.7</td><td>33.6</td><td>28.7</td><td>17.4</td></tr>\n",
       "</tbody>\n",
       "</table>\n"
      ],
      "text/latex": [
       "A data.frame: 1 × 15\n",
       "\\begin{tabular}{r|lllllllllllllll}\n",
       "  & BODYFAT & AGE & WEIGHT & HEIGHT & ADIPOSITY & NECK & CHEST & ABDOMEN & HIP & THIGH & KNEE & ANKLE & BICEPS & FOREARM & WRIST\\\\\n",
       "  & <dbl> & <int> & <dbl> & <dbl> & <dbl> & <dbl> & <dbl> & <dbl> & <dbl> & <dbl> & <dbl> & <dbl> & <dbl> & <dbl> & <dbl>\\\\\n",
       "\\hline\n",
       "\t42 & 31.7 & 44 & 205 & 69.42893 & 29.9 & 36.6 & 106 & 104.3 & 115.5 & 70.6 & 42.5 & 23.7 & 33.6 & 28.7 & 17.4\\\\\n",
       "\\end{tabular}\n"
      ],
      "text/markdown": [
       "\n",
       "A data.frame: 1 × 15\n",
       "\n",
       "| <!--/--> | BODYFAT &lt;dbl&gt; | AGE &lt;int&gt; | WEIGHT &lt;dbl&gt; | HEIGHT &lt;dbl&gt; | ADIPOSITY &lt;dbl&gt; | NECK &lt;dbl&gt; | CHEST &lt;dbl&gt; | ABDOMEN &lt;dbl&gt; | HIP &lt;dbl&gt; | THIGH &lt;dbl&gt; | KNEE &lt;dbl&gt; | ANKLE &lt;dbl&gt; | BICEPS &lt;dbl&gt; | FOREARM &lt;dbl&gt; | WRIST &lt;dbl&gt; |\n",
       "|---|---|---|---|---|---|---|---|---|---|---|---|---|---|---|---|\n",
       "| 42 | 31.7 | 44 | 205 | 69.42893 | 29.9 | 36.6 | 106 | 104.3 | 115.5 | 70.6 | 42.5 | 23.7 | 33.6 | 28.7 | 17.4 |\n",
       "\n"
      ],
      "text/plain": [
       "   BODYFAT AGE WEIGHT HEIGHT   ADIPOSITY NECK CHEST ABDOMEN HIP   THIGH KNEE\n",
       "42 31.7    44  205    69.42893 29.9      36.6 106   104.3   115.5 70.6  42.5\n",
       "   ANKLE BICEPS FOREARM WRIST\n",
       "42 23.7  33.6   28.7    17.4 "
      ]
     },
     "metadata": {},
     "output_type": "display_data"
    }
   ],
   "source": [
    "data[42, ]"
   ]
  },
  {
   "cell_type": "code",
   "execution_count": 16,
   "metadata": {},
   "outputs": [],
   "source": [
    "# 1kg = 0.4535922921969lbs\n",
    "# test \n",
    "weight1 <- 154.25 * 0.4535922921969\n",
    "height1 <- 67.75 * 0.0254\n",
    "bmi <- weight1 / height1^2\n",
    "\n",
    "weight42 <- 205 * 0.4535922921969\n",
    "height42 <- sqrt(weight42 / 29.9) \n",
    "data[42, 4] <- height42 / 0.0254 "
   ]
  },
  {
   "cell_type": "code",
   "execution_count": 28,
   "metadata": {},
   "outputs": [],
   "source": [
    "set <- c(31, 39, 41, 86, 182) \n",
    "data <- data[-set, ]"
   ]
  },
  {
   "cell_type": "code",
   "execution_count": 30,
   "metadata": {},
   "outputs": [
    {
     "data": {
      "text/html": [
       "<table>\n",
       "<caption>A data.frame: 1 × 15</caption>\n",
       "<thead>\n",
       "\t<tr><th></th><th scope=col>BODYFAT</th><th scope=col>AGE</th><th scope=col>WEIGHT</th><th scope=col>HEIGHT</th><th scope=col>ADIPOSITY</th><th scope=col>NECK</th><th scope=col>CHEST</th><th scope=col>ABDOMEN</th><th scope=col>HIP</th><th scope=col>THIGH</th><th scope=col>KNEE</th><th scope=col>ANKLE</th><th scope=col>BICEPS</th><th scope=col>FOREARM</th><th scope=col>WRIST</th></tr>\n",
       "\t<tr><th></th><th scope=col>&lt;dbl&gt;</th><th scope=col>&lt;int&gt;</th><th scope=col>&lt;dbl&gt;</th><th scope=col>&lt;dbl&gt;</th><th scope=col>&lt;dbl&gt;</th><th scope=col>&lt;dbl&gt;</th><th scope=col>&lt;dbl&gt;</th><th scope=col>&lt;dbl&gt;</th><th scope=col>&lt;dbl&gt;</th><th scope=col>&lt;dbl&gt;</th><th scope=col>&lt;dbl&gt;</th><th scope=col>&lt;dbl&gt;</th><th scope=col>&lt;dbl&gt;</th><th scope=col>&lt;dbl&gt;</th><th scope=col>&lt;dbl&gt;</th></tr>\n",
       "</thead>\n",
       "<tbody>\n",
       "\t<tr><th scope=row>187</th><td>23</td><td>41</td><td>232.75</td><td>74.25</td><td>29.7</td><td>41.9</td><td>117.5</td><td>109.3</td><td>108.8</td><td>67.7</td><td>41.3</td><td>24.7</td><td>37.2</td><td>31.8</td><td>20</td></tr>\n",
       "</tbody>\n",
       "</table>\n"
      ],
      "text/latex": [
       "A data.frame: 1 × 15\n",
       "\\begin{tabular}{r|lllllllllllllll}\n",
       "  & BODYFAT & AGE & WEIGHT & HEIGHT & ADIPOSITY & NECK & CHEST & ABDOMEN & HIP & THIGH & KNEE & ANKLE & BICEPS & FOREARM & WRIST\\\\\n",
       "  & <dbl> & <int> & <dbl> & <dbl> & <dbl> & <dbl> & <dbl> & <dbl> & <dbl> & <dbl> & <dbl> & <dbl> & <dbl> & <dbl> & <dbl>\\\\\n",
       "\\hline\n",
       "\t187 & 23 & 41 & 232.75 & 74.25 & 29.7 & 41.9 & 117.5 & 109.3 & 108.8 & 67.7 & 41.3 & 24.7 & 37.2 & 31.8 & 20\\\\\n",
       "\\end{tabular}\n"
      ],
      "text/markdown": [
       "\n",
       "A data.frame: 1 × 15\n",
       "\n",
       "| <!--/--> | BODYFAT &lt;dbl&gt; | AGE &lt;int&gt; | WEIGHT &lt;dbl&gt; | HEIGHT &lt;dbl&gt; | ADIPOSITY &lt;dbl&gt; | NECK &lt;dbl&gt; | CHEST &lt;dbl&gt; | ABDOMEN &lt;dbl&gt; | HIP &lt;dbl&gt; | THIGH &lt;dbl&gt; | KNEE &lt;dbl&gt; | ANKLE &lt;dbl&gt; | BICEPS &lt;dbl&gt; | FOREARM &lt;dbl&gt; | WRIST &lt;dbl&gt; |\n",
       "|---|---|---|---|---|---|---|---|---|---|---|---|---|---|---|---|\n",
       "| 187 | 23 | 41 | 232.75 | 74.25 | 29.7 | 41.9 | 117.5 | 109.3 | 108.8 | 67.7 | 41.3 | 24.7 | 37.2 | 31.8 | 20 |\n",
       "\n"
      ],
      "text/plain": [
       "    BODYFAT AGE WEIGHT HEIGHT ADIPOSITY NECK CHEST ABDOMEN HIP   THIGH KNEE\n",
       "187 23      41  232.75 74.25  29.7      41.9 117.5 109.3   108.8 67.7  41.3\n",
       "    ANKLE BICEPS FOREARM WRIST\n",
       "187 24.7  37.2   31.8    20   "
      ]
     },
     "metadata": {},
     "output_type": "display_data"
    }
   ],
   "source": []
  },
  {
   "cell_type": "code",
   "execution_count": 32,
>>>>>>> 4cfdac3c5615adfec4dc250602c9c6e7aa34a655
   "metadata": {},
   "outputs": [],
   "source": [
    "# 1kg = 0.4535922921969lbs\n",
    "# test \n",
    "weight1 <- 154.25 * 0.4535922921969\n",
    "height1 <- 67.75 * 0.0254\n",
    "bmi <- weight1 / height1^2\n",
    "\n",
    "weight42 <- 205 * 0.4535922921969\n",
    "height42 <- sqrt(weight42 / 29.9) \n",
    "data[42, 4] <- height42 / 0.0254"
   ]
  },
  {
   "cell_type": "code",
   "execution_count": 54,
   "metadata": {},
   "outputs": [],
   "source": [
    "RMIndex = c(31,39,41,86,182,216)"
   ]
  },
  {
   "cell_type": "code",
   "execution_count": 55,
   "metadata": {},
   "outputs": [
    {
     "data": {
      "image/png": "iVBORw0KGgoAAAANSUhEUgAAA0gAAANICAMAAADKOT/pAAAAMFBMVEUAAABNTU1oaGh8fHyM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",
      "text/plain": [
       "Plot with title \"WRIST\""
      ]
     },
     "metadata": {},
     "output_type": "display_data"
    }
   ],
   "source": [
    "par(mfrow = c(3,5))\n",
    "for(i in 1:15){\n",
    "    plot(data[-RMIndex,i], main = colnames(data)[i], ylab = \"Value\")\n",
    "}\n",
    "par(mfrow = c(1,1))"
   ]
  },
  {
   "cell_type": "markdown",
   "metadata": {},
   "source": [
    "## 1.2. Simple Linear Regression"
   ]
  },
  {
   "cell_type": "code",
   "execution_count": 56,
   "metadata": {},
   "outputs": [
    {
     "data": {
      "text/plain": [
       "\n",
       "Call:\n",
       "lm(formula = BODYFAT ~ ., data = data[-RMIndex, ])\n",
       "\n",
       "Residuals:\n",
       "    Min      1Q  Median      3Q     Max \n",
       "-9.6498 -2.8212 -0.0284  2.6360  9.1439 \n",
       "\n",
       "Coefficients:\n",
       "             Estimate Std. Error t value Pr(>|t|)    \n",
       "(Intercept) -16.40562   38.42686  -0.427  0.66983    \n",
       "AGE           0.06034    0.03022   1.997  0.04703 *  \n",
       "WEIGHT       -0.06554    0.10712  -0.612  0.54126    \n",
       "HEIGHT        0.09855    0.53087   0.186  0.85289    \n",
       "ADIPOSITY     0.48342    0.77624   0.623  0.53405    \n",
       "NECK         -0.38189    0.21993  -1.736  0.08383 .  \n",
       "CHEST        -0.12945    0.10449  -1.239  0.21665    \n",
       "ABDOMEN       0.81526    0.08642   9.434  < 2e-16 ***\n",
       "HIP          -0.15242    0.13951  -1.093  0.27574    \n",
       "THIGH         0.18980    0.13895   1.366  0.17327    \n",
       "KNEE         -0.04911    0.24981  -0.197  0.84432    \n",
       "ANKLE        -0.06649    0.33893  -0.196  0.84465    \n",
       "BICEPS        0.11602    0.16134   0.719  0.47278    \n",
       "FOREARM       0.25556    0.19391   1.318  0.18882    \n",
       "WRIST        -1.44796    0.52213  -2.773  0.00601 ** \n",
       "---\n",
       "Signif. codes:  0 '***' 0.001 '**' 0.01 '*' 0.05 '.' 0.1 ' ' 1\n",
       "\n",
       "Residual standard error: 3.928 on 231 degrees of freedom\n",
       "Multiple R-squared:  0.7364,\tAdjusted R-squared:  0.7204 \n",
       "F-statistic: 46.09 on 14 and 231 DF,  p-value: < 2.2e-16\n"
      ]
     },
     "metadata": {},
     "output_type": "display_data"
    }
   ],
   "source": [
    "lm.naive = lm(BODYFAT~., data = data[-RMIndex,])\n",
    "summary(lm.naive)"
   ]
  },
  {
   "cell_type": "code",
   "execution_count": 57,
   "metadata": {},
   "outputs": [
    {
     "data": {
      "text/html": [
       "<ol class=list-inline>\n",
       "\t<li>246</li>\n",
       "\t<li>15</li>\n",
       "</ol>\n"
      ],
      "text/latex": [
       "\\begin{enumerate*}\n",
       "\\item 246\n",
       "\\item 15\n",
       "\\end{enumerate*}\n"
      ],
      "text/markdown": [
       "1. 246\n",
       "2. 15\n",
       "\n",
       "\n"
      ],
      "text/plain": [
       "[1] 246  15"
      ]
     },
     "metadata": {},
     "output_type": "display_data"
    }
   ],
   "source": [
    "dim(lm.naive$model)"
   ]
  },
  {
   "cell_type": "code",
   "execution_count": 75,
   "metadata": {},
   "outputs": [
    {
     "data": {
      "image/png": "iVBORw0KGgoAAAANSUhEUgAAA0gAAANICAMAAADKOT/pAAAANlBMVEUAAABNTU1oaGh8fHyM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\nXvlHx84aRAIQAJEABEAkAAH+D7PfziPmDPFhAAAAAElFTkSuQmCC",
      "text/plain": [
       "Plot with title \"\""
      ]
     },
     "metadata": {},
     "output_type": "display_data"
    },
    {
     "data": {
      "image/png": "iVBORw0KGgoAAAANSUhEUgAAA0gAAANICAMAAADKOT/pAAAAM1BMVEUAAABNTU1oaGh8fHx/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",
      "text/plain": [
       "Plot with title \"\""
      ]
     },
     "metadata": {},
     "output_type": "display_data"
    }
   ],
   "source": [
    "plot(lm.naive, which = c(1,2))"
   ]
  },
  {
   "cell_type": "markdown",
   "metadata": {},
   "source": [
    "## 1.3. Identify Outliers And Strong Influential Points"
   ]
  },
  {
   "cell_type": "markdown",
   "metadata": {},
   "source": [
    "### 1.3.1. Studentized Residual"
   ]
  },
  {
   "cell_type": "code",
   "execution_count": 59,
   "metadata": {},
   "outputs": [
    {
     "data": {
      "image/png": "iVBORw0KGgoAAAANSUhEUgAAA0gAAANICAMAAADKOT/pAAAAMFBMVEUAAABNTU1oaGh8fHyM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",
      "text/plain": [
       "Plot with title \"Fitted Values v.s. Studentized Residuals\""
      ]
     },
     "metadata": {},
     "output_type": "display_data"
    }
   ],
   "source": [
    "lm.stdres = stdres(lm.naive)\n",
    "plot(x = lm.naive$fitted.values, y = lm.stdres, ylab = \"Studentized residuals\", xlab = \"Fitted Values\", \n",
    "     main = \"Fitted Values v.s. Studentized Residuals\", pch = 20)\n",
    "#text(y = lm.stdres[which(abs(lm.stdres)>3)], x = lm.naive$fitted.values[which(abs(lm.stdres)>3)], \n",
    "#     labels = index[which(abs(lm.stdres)>3)], cex = 1, pos = 3)"
   ]
  },
  {
   "cell_type": "markdown",
   "metadata": {},
   "source": [
    "### 1.3.2. Leverage Value"
   ]
  },
  {
   "cell_type": "code",
   "execution_count": 69,
   "metadata": {},
   "outputs": [
    {
     "data": {
      "image/png": "iVBORw0KGgoAAAANSUhEUgAAA0gAAANICAMAAADKOT/pAAAAMFBMVEUAAABNTU1oaGh8fHyM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\nSUVORK5CYII=",
      "text/plain": [
       "Plot with title \"Leverage\""
      ]
     },
     "metadata": {},
     "output_type": "display_data"
    }
   ],
   "source": [
    "indexes = 1:252\n",
    "indexes = indexes[-RMIndex]\n",
    "lm.hats=hatvalues(lm.naive)\n",
    "plot(lm.hats, type = \"h\", ylim = c(0, 1), ylab = \"Leverage Value\", main = \"Leverage\") \n",
    "h0 = 28/252 # Rule of thumb for judging outliers\n",
    "text(y = lm.hats[lm.hats>h0], x = which(lm.hats>h0), labels = indexes[which(lm.hats>h0)], cex = 1, pos = 3)\n",
    "abline(h = h0, lty = 2)\n",
    "legend(\"topright\", legend = expression(2*p/n), lty = 2)"
   ]
  },
  {
   "cell_type": "markdown",
   "metadata": {},
   "source": [
    "### 1.3.3. DFFITS"
   ]
  },
  {
   "cell_type": "code",
   "execution_count": 70,
   "metadata": {},
   "outputs": [
    {
     "data": {
      "image/png": "iVBORw0KGgoAAAANSUhEUgAAA0gAAANICAMAAADKOT/pAAAAbFBMVEUAAAAXFxcfHx8hISEl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",
      "text/plain": [
       "Plot with title \"DFFITS\""
      ]
     },
     "metadata": {},
     "output_type": "display_data"
    }
   ],
   "source": [
    "lm.dffits = dffits(lm.naive)\n",
    "plot(lm.dffits, type = \"h\", ylim = c(-3, 6), ylab = \"DFFITS\", main = \"DFFITS\")\n",
    "d0 = 2*sqrt(14/252) # Rule of thumb for judging influential points\n",
    "text(y = lm.dffits[abs(lm.dffits)>d0], x = which(abs(lm.dffits)>d0), labels = indexes[which(abs(lm.dffits)>d0)], \n",
    "     cex = 1, pos = 3)\n",
    "abline(h = c(-1*d0, 0, d0), lty = c(2,1,2))\n",
    "legend(\"topright\", legend = expression(2*sqrt(p/n)), lty = 2)"
   ]
  },
  {
   "cell_type": "markdown",
   "metadata": {},
   "source": [
    "### 1.3.4. Cook's Distance"
   ]
  },
  {
   "cell_type": "code",
   "execution_count": 71,
   "metadata": {},
   "outputs": [
    {
     "ename": "ERROR",
     "evalue": "Error in text.default(y = lm.cooksD[lm.cooksD > c0], x = which(lm.cooksD > : zero-length 'labels' specified\n",
     "output_type": "error",
     "traceback": [
      "Error in text.default(y = lm.cooksD[lm.cooksD > c0], x = which(lm.cooksD > : zero-length 'labels' specified\nTraceback:\n",
      "1. text(y = lm.cooksD[lm.cooksD > c0], x = which(lm.cooksD > c0), \n .     labels = indexes[which(lm.cooksD > c0)], cex = 1, pos = 3)",
      "2. text.default(y = lm.cooksD[lm.cooksD > c0], x = which(lm.cooksD > \n .     c0), labels = indexes[which(lm.cooksD > c0)], cex = 1, pos = 3)"
     ]
    },
    {
     "data": {
      "image/png": "iVBORw0KGgoAAAANSUhEUgAAA0gAAANICAMAAADKOT/pAAAAMFBMVEUAAABNTU1oaGh8fHyM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",
      "text/plain": [
       "Plot with title \"Cook's Distance\""
      ]
     },
     "metadata": {},
     "output_type": "display_data"
    }
   ],
   "source": [
    "lm.cooksD=cooks.distance(lm.naive)\n",
    "plot(lm.cooksD, type = \"h\", ylim = c(0, 1), ylab = \"Cook's Distance\", main = \"Cook's Distance\")\n",
    "c0 = qf(0.5, 14, 238)\n",
    "text(y = lm.cooksD[lm.cooksD>c0], x = which(lm.cooksD>c0), labels = indexes[which(lm.cooksD>c0)], cex = 1, pos = 3)\n",
    "abline(h = c0, lty = 2)\n",
    "legend(\"topright\", legend = expression(F[paste(\"p,n-p\", sep=\"\")]), lty = 2)"
   ]
  },
  {
   "cell_type": "code",
   "execution_count": 72,
   "metadata": {
    "scrolled": false
   },
   "outputs": [
    {
     "data": {
      "text/html": [
       "<table>\n",
       "<thead><tr><th></th><th scope=col>BODYFAT</th><th scope=col>AGE</th><th scope=col>WEIGHT</th><th scope=col>HEIGHT</th><th scope=col>ADIPOSITY</th><th scope=col>NECK</th><th scope=col>CHEST</th><th scope=col>ABDOMEN</th><th scope=col>HIP</th><th scope=col>THIGH</th><th scope=col>KNEE</th><th scope=col>ANKLE</th><th scope=col>BICEPS</th><th scope=col>FOREARM</th><th scope=col>WRIST</th></tr></thead>\n",
       "<tbody>\n",
       "\t<tr><th scope=row>221</th><td>12.7  </td><td>54    </td><td>153.25</td><td>70.5  </td><td>24.5  </td><td>38.5  </td><td>99    </td><td>91.8  </td><td>96.2  </td><td>57.7  </td><td>38.1  </td><td>23.9  </td><td>31.4  </td><td>29.9  </td><td>18.9  </td></tr>\n",
       "</tbody>\n",
       "</table>\n"
      ],
      "text/latex": [
       "\\begin{tabular}{r|lllllllllllllll}\n",
       "  & BODYFAT & AGE & WEIGHT & HEIGHT & ADIPOSITY & NECK & CHEST & ABDOMEN & HIP & THIGH & KNEE & ANKLE & BICEPS & FOREARM & WRIST\\\\\n",
       "\\hline\n",
       "\t221 & 12.7   & 54     & 153.25 & 70.5   & 24.5   & 38.5   & 99     & 91.8   & 96.2   & 57.7   & 38.1   & 23.9   & 31.4   & 29.9   & 18.9  \\\\\n",
       "\\end{tabular}\n"
      ],
      "text/markdown": [
       "\n",
       "| <!--/--> | BODYFAT | AGE | WEIGHT | HEIGHT | ADIPOSITY | NECK | CHEST | ABDOMEN | HIP | THIGH | KNEE | ANKLE | BICEPS | FOREARM | WRIST |\n",
       "|---|---|---|---|---|---|---|---|---|---|---|---|---|---|---|---|\n",
       "| 221 | 12.7   | 54     | 153.25 | 70.5   | 24.5   | 38.5   | 99     | 91.8   | 96.2   | 57.7   | 38.1   | 23.9   | 31.4   | 29.9   | 18.9   |\n",
       "\n"
      ],
      "text/plain": [
       "    BODYFAT AGE WEIGHT HEIGHT ADIPOSITY NECK CHEST ABDOMEN HIP  THIGH KNEE\n",
       "221 12.7    54  153.25 70.5   24.5      38.5 99    91.8    96.2 57.7  38.1\n",
       "    ANKLE BICEPS FOREARM WRIST\n",
       "221 23.9  31.4   29.9    18.9 "
      ]
     },
     "metadata": {},
     "output_type": "display_data"
    }
   ],
   "source": [
    "data[indexes[which(lm.hats>h0 & abs(lm.dffits)>d0)],]"
   ]
  },
  {
   "cell_type": "markdown",
   "metadata": {},
   "source": [
    "These Points have both large leverage value and DFFITS."
   ]
  },
  {
   "cell_type": "markdown",
   "metadata": {},
   "source": [
    "### 1.4 Model Fitting"
   ]
  },
  {
   "cell_type": "code",
   "execution_count": 36,
   "metadata": {
    "scrolled": false
   },
   "outputs": [
    {
     "name": "stdout",
     "output_type": "stream",
     "text": [
      "Start:  AIC=687.62\n",
      "BODYFAT ~ AGE + WEIGHT + HEIGHT + ADIPOSITY + NECK + CHEST + \n",
      "    ABDOMEN + HIP + THIGH + KNEE + ANKLE + BICEPS + FOREARM + \n",
      "    WRIST\n",
      "\n",
      "            Df Sum of Sq    RSS    AIC\n",
      "- HEIGHT     1      0.53 3564.4 685.66\n",
      "- ANKLE      1      0.59 3564.5 685.67\n",
      "- KNEE       1      0.60 3564.5 685.67\n",
      "- WEIGHT     1      5.78 3569.6 686.02\n",
      "- ADIPOSITY  1      5.98 3569.8 686.04\n",
      "- BICEPS     1      7.98 3571.8 686.17\n",
      "- HIP        1     18.42 3582.3 686.89\n",
      "- CHEST      1     23.68 3587.5 687.25\n",
      "- FOREARM    1     26.80 3590.7 687.47\n",
      "- THIGH      1     28.79 3592.7 687.60\n",
      "<none>                   3563.9 687.62\n",
      "- NECK       1     46.52 3610.4 688.81\n",
      "- AGE        1     61.51 3625.4 689.83\n",
      "- WRIST      1    118.65 3682.5 693.68\n",
      "- ABDOMEN    1   1372.97 4936.8 765.79\n",
      "\n",
      "Step:  AIC=685.66\n",
      "BODYFAT ~ AGE + WEIGHT + ADIPOSITY + NECK + CHEST + ABDOMEN + \n",
      "    HIP + THIGH + KNEE + ANKLE + BICEPS + FOREARM + WRIST\n",
      "\n",
      "            Df Sum of Sq    RSS    AIC\n",
      "- KNEE       1      0.51 3564.9 683.70\n",
      "- ANKLE      1      0.52 3564.9 683.70\n",
      "- BICEPS     1      8.01 3572.4 684.21\n",
      "- WEIGHT     1     15.84 3580.2 684.75\n",
      "- HIP        1     18.02 3582.4 684.90\n",
      "- CHEST      1     23.28 3587.7 685.26\n",
      "- ADIPOSITY  1     26.41 3590.8 685.48\n",
      "- FOREARM    1     27.51 3591.9 685.55\n",
      "- THIGH      1     28.34 3592.7 685.61\n",
      "<none>                   3564.4 685.66\n",
      "- NECK       1     46.91 3611.3 686.88\n",
      "- AGE        1     61.16 3625.6 687.85\n",
      "- WRIST      1    118.91 3683.3 691.73\n",
      "- ABDOMEN    1   1383.54 4947.9 764.34\n",
      "\n",
      "Step:  AIC=683.7\n",
      "BODYFAT ~ AGE + WEIGHT + ADIPOSITY + NECK + CHEST + ABDOMEN + \n",
      "    HIP + THIGH + ANKLE + BICEPS + FOREARM + WRIST\n",
      "\n",
      "            Df Sum of Sq    RSS    AIC\n",
      "- ANKLE      1      0.96 3565.9 681.76\n",
      "- BICEPS     1      8.27 3573.2 682.27\n",
      "- WEIGHT     1     18.10 3583.0 682.94\n",
      "- HIP        1     19.81 3584.7 683.06\n",
      "- CHEST      1     23.01 3587.9 683.28\n",
      "- ADIPOSITY  1     27.23 3592.1 683.57\n",
      "- FOREARM    1     27.33 3592.2 683.57\n",
      "- THIGH      1     27.93 3592.8 683.62\n",
      "<none>                   3564.9 683.70\n",
      "- NECK       1     46.42 3611.3 684.88\n",
      "- AGE        1     62.28 3627.2 685.96\n",
      "- WRIST      1    119.93 3684.8 689.84\n",
      "- ABDOMEN    1   1384.32 4949.2 762.41\n",
      "\n",
      "Step:  AIC=681.76\n",
      "BODYFAT ~ AGE + WEIGHT + ADIPOSITY + NECK + CHEST + ABDOMEN + \n",
      "    HIP + THIGH + BICEPS + FOREARM + WRIST\n",
      "\n",
      "            Df Sum of Sq    RSS    AIC\n",
      "- BICEPS     1      9.54 3575.4 680.42\n",
      "- HIP        1     19.07 3584.9 681.07\n",
      "- CHEST      1     22.36 3588.2 681.30\n",
      "- WEIGHT     1     23.73 3589.6 681.39\n",
      "- ADIPOSITY  1     26.49 3592.4 681.58\n",
      "- FOREARM    1     26.75 3592.6 681.60\n",
      "- THIGH      1     27.00 3592.9 681.62\n",
      "<none>                   3565.9 681.76\n",
      "- NECK       1     45.69 3611.6 682.89\n",
      "- AGE        1     65.00 3630.9 684.21\n",
      "- WRIST      1    150.35 3716.2 689.92\n",
      "- ABDOMEN    1   1422.24 4988.1 762.33\n",
      "\n",
      "Step:  AIC=680.42\n",
      "BODYFAT ~ AGE + WEIGHT + ADIPOSITY + NECK + CHEST + ABDOMEN + \n",
      "    HIP + THIGH + FOREARM + WRIST\n",
      "\n",
      "            Df Sum of Sq    RSS    AIC\n",
      "- WEIGHT     1     20.06 3595.5 679.80\n",
      "- CHEST      1     21.07 3596.5 679.87\n",
      "- HIP        1     21.25 3596.7 679.88\n",
      "<none>                   3575.4 680.42\n",
      "- ADIPOSITY  1     31.54 3606.9 680.58\n",
      "- THIGH      1     36.30 3611.7 680.90\n",
      "- FOREARM    1     39.18 3614.6 681.10\n",
      "- NECK       1     42.96 3618.4 681.36\n",
      "- AGE        1     67.64 3643.1 683.03\n",
      "- WRIST      1    147.31 3722.7 688.35\n",
      "- ABDOMEN    1   1417.97 4993.4 760.59\n",
      "\n",
      "Step:  AIC=679.8\n",
      "BODYFAT ~ AGE + ADIPOSITY + NECK + CHEST + ABDOMEN + HIP + THIGH + \n",
      "    FOREARM + WRIST\n",
      "\n",
      "            Df Sum of Sq    RSS    AIC\n",
      "- THIGH      1     28.09 3623.6 679.71\n",
      "<none>                   3595.5 679.80\n",
      "- FOREARM    1     31.03 3626.5 679.91\n",
      "- ADIPOSITY  1     49.43 3644.9 681.16\n",
      "- CHEST      1     57.30 3652.8 681.69\n",
      "- NECK       1     61.93 3657.4 682.00\n",
      "- HIP        1     65.70 3661.2 682.25\n",
      "- AGE        1     97.83 3693.3 684.40\n",
      "- WRIST      1    220.71 3816.2 692.45\n",
      "- ABDOMEN    1   1416.74 5012.2 759.52\n",
      "\n",
      "Step:  AIC=679.71\n",
      "BODYFAT ~ AGE + ADIPOSITY + NECK + CHEST + ABDOMEN + HIP + FOREARM + \n",
      "    WRIST\n",
      "\n",
      "            Df Sum of Sq    RSS    AIC\n",
      "<none>                   3623.6 679.71\n",
      "- FOREARM    1     33.23 3656.8 679.96\n",
      "- HIP        1     38.77 3662.3 680.33\n",
      "- NECK       1     52.09 3675.7 681.22\n",
      "- AGE        1     73.08 3696.6 682.62\n",
      "- CHEST      1     81.81 3705.4 683.20\n",
      "- ADIPOSITY  1     84.15 3707.7 683.36\n",
      "- WRIST      1    219.21 3842.8 692.16\n",
      "- ABDOMEN    1   1431.39 5055.0 759.61\n"
     ]
    },
    {
     "data": {
      "text/plain": [
       "\n",
       "Call:\n",
       "lm(formula = BODYFAT ~ AGE + ADIPOSITY + NECK + CHEST + ABDOMEN + \n",
       "    HIP + FOREARM + WRIST, data = data[-RMIndex, ])\n",
       "\n",
       "Coefficients:\n",
       "(Intercept)          AGE    ADIPOSITY         NECK        CHEST      ABDOMEN  \n",
       "    2.45759      0.05642      0.55902     -0.37720     -0.20494      0.79139  \n",
       "        HIP      FOREARM        WRIST  \n",
       "   -0.15426      0.26790     -1.68473  \n"
      ]
     },
     "metadata": {},
     "output_type": "display_data"
    }
   ],
   "source": [
    "step(lm.naive, direction = \"backward\")"
   ]
  },
  {
   "cell_type": "code",
   "execution_count": 37,
   "metadata": {},
   "outputs": [
    {
     "data": {
      "text/html": [
       "<table>\n",
       "<thead><tr><th scope=col>BODYFAT</th><th scope=col>AGE</th><th scope=col>ADIPOSITY</th><th scope=col>NECK</th><th scope=col>CHEST</th><th scope=col>ABDOMEN</th><th scope=col>HIP</th><th scope=col>FOREARM</th><th scope=col>WRIST</th></tr></thead>\n",
       "<tbody>\n",
       "\t<tr><td>12.6 </td><td>23   </td><td>23.7 </td><td>36.2 </td><td> 93.1</td><td> 85.2</td><td> 94.5</td><td>27.4 </td><td>17.1 </td></tr>\n",
       "\t<tr><td> 6.9 </td><td>22   </td><td>23.4 </td><td>38.5 </td><td> 93.6</td><td> 83.0</td><td> 98.7</td><td>28.9 </td><td>18.2 </td></tr>\n",
       "\t<tr><td>24.6 </td><td>22   </td><td>24.7 </td><td>34.0 </td><td> 95.8</td><td> 87.9</td><td> 99.2</td><td>25.2 </td><td>16.6 </td></tr>\n",
       "\t<tr><td>10.9 </td><td>26   </td><td>24.9 </td><td>37.4 </td><td>101.8</td><td> 86.4</td><td>101.2</td><td>29.4 </td><td>18.2 </td></tr>\n",
       "\t<tr><td>27.8 </td><td>24   </td><td>25.6 </td><td>34.4 </td><td> 97.3</td><td>100.0</td><td>101.9</td><td>27.7 </td><td>17.7 </td></tr>\n",
       "\t<tr><td>20.6 </td><td>24   </td><td>26.5 </td><td>39.0 </td><td>104.5</td><td> 94.4</td><td>107.8</td><td>30.6 </td><td>18.8 </td></tr>\n",
       "</tbody>\n",
       "</table>\n"
      ],
      "text/latex": [
       "\\begin{tabular}{r|lllllllll}\n",
       " BODYFAT & AGE & ADIPOSITY & NECK & CHEST & ABDOMEN & HIP & FOREARM & WRIST\\\\\n",
       "\\hline\n",
       "\t 12.6  & 23    & 23.7  & 36.2  &  93.1 &  85.2 &  94.5 & 27.4  & 17.1 \\\\\n",
       "\t  6.9  & 22    & 23.4  & 38.5  &  93.6 &  83.0 &  98.7 & 28.9  & 18.2 \\\\\n",
       "\t 24.6  & 22    & 24.7  & 34.0  &  95.8 &  87.9 &  99.2 & 25.2  & 16.6 \\\\\n",
       "\t 10.9  & 26    & 24.9  & 37.4  & 101.8 &  86.4 & 101.2 & 29.4  & 18.2 \\\\\n",
       "\t 27.8  & 24    & 25.6  & 34.4  &  97.3 & 100.0 & 101.9 & 27.7  & 17.7 \\\\\n",
       "\t 20.6  & 24    & 26.5  & 39.0  & 104.5 &  94.4 & 107.8 & 30.6  & 18.8 \\\\\n",
       "\\end{tabular}\n"
      ],
      "text/markdown": [
       "\n",
       "| BODYFAT | AGE | ADIPOSITY | NECK | CHEST | ABDOMEN | HIP | FOREARM | WRIST |\n",
       "|---|---|---|---|---|---|---|---|---|\n",
       "| 12.6  | 23    | 23.7  | 36.2  |  93.1 |  85.2 |  94.5 | 27.4  | 17.1  |\n",
       "|  6.9  | 22    | 23.4  | 38.5  |  93.6 |  83.0 |  98.7 | 28.9  | 18.2  |\n",
       "| 24.6  | 22    | 24.7  | 34.0  |  95.8 |  87.9 |  99.2 | 25.2  | 16.6  |\n",
       "| 10.9  | 26    | 24.9  | 37.4  | 101.8 |  86.4 | 101.2 | 29.4  | 18.2  |\n",
       "| 27.8  | 24    | 25.6  | 34.4  |  97.3 | 100.0 | 101.9 | 27.7  | 17.7  |\n",
       "| 20.6  | 24    | 26.5  | 39.0  | 104.5 |  94.4 | 107.8 | 30.6  | 18.8  |\n",
       "\n"
      ],
      "text/plain": [
       "  BODYFAT AGE ADIPOSITY NECK CHEST ABDOMEN HIP   FOREARM WRIST\n",
       "1 12.6    23  23.7      36.2  93.1  85.2    94.5 27.4    17.1 \n",
       "2  6.9    22  23.4      38.5  93.6  83.0    98.7 28.9    18.2 \n",
       "3 24.6    22  24.7      34.0  95.8  87.9    99.2 25.2    16.6 \n",
       "4 10.9    26  24.9      37.4 101.8  86.4   101.2 29.4    18.2 \n",
       "5 27.8    24  25.6      34.4  97.3 100.0   101.9 27.7    17.7 \n",
       "6 20.6    24  26.5      39.0 104.5  94.4   107.8 30.6    18.8 "
      ]
     },
     "metadata": {},
     "output_type": "display_data"
    }
   ],
   "source": [
    "lm.step = lm(BODYFAT ~ AGE + ADIPOSITY + NECK + CHEST + ABDOMEN + HIP + FOREARM + WRIST, data = data[-RMIndex, ])\n",
    "data.mod = lm.step$model\n",
    "head(data.mod)"
   ]
  },
  {
   "cell_type": "code",
   "execution_count": 38,
   "metadata": {},
   "outputs": [
    {
     "data": {
      "text/html": [
       "<table>\n",
       "<thead><tr><th scope=col>V1</th><th scope=col>V2</th><th scope=col>R^2</th></tr></thead>\n",
       "<tbody>\n",
       "\t<tr><td>AGE      </td><td>ADIPOSITY</td><td>0.571    </td></tr>\n",
       "\t<tr><td>AGE      </td><td>NECK     </td><td>0.268    </td></tr>\n",
       "\t<tr><td>AGE      </td><td>CHEST    </td><td>0.492    </td></tr>\n",
       "\t<tr><td>AGE      </td><td>ABDOMEN  </td><td>0.673    </td></tr>\n",
       "\t<tr><td>AGE      </td><td>HIP      </td><td>0.493    </td></tr>\n",
       "\t<tr><td>AGE      </td><td>FOREARM  </td><td>0.224    </td></tr>\n",
       "\t<tr><td>AGE      </td><td>WRIST    </td><td>0.145    </td></tr>\n",
       "\t<tr><td>ADIPOSITY</td><td>NECK     </td><td>0.545    </td></tr>\n",
       "\t<tr><td>ADIPOSITY</td><td>CHEST    </td><td>0.534    </td></tr>\n",
       "\t<tr><td>ADIPOSITY</td><td>ABDOMEN  </td><td>0.666    </td></tr>\n",
       "\t<tr><td>ADIPOSITY</td><td>HIP      </td><td>0.532    </td></tr>\n",
       "\t<tr><td>ADIPOSITY</td><td>FOREARM  </td><td>0.545    </td></tr>\n",
       "\t<tr><td>ADIPOSITY</td><td>WRIST    </td><td>0.554    </td></tr>\n",
       "\t<tr><td>NECK     </td><td>CHEST    </td><td>0.472    </td></tr>\n",
       "\t<tr><td>NECK     </td><td>ABDOMEN  </td><td>0.693    </td></tr>\n",
       "\t<tr><td>NECK     </td><td>HIP      </td><td>0.389    </td></tr>\n",
       "\t<tr><td>NECK     </td><td>FOREARM  </td><td>0.218    </td></tr>\n",
       "\t<tr><td>NECK     </td><td>WRIST    </td><td>0.216    </td></tr>\n",
       "\t<tr><td>CHEST    </td><td>ABDOMEN  </td><td>0.68     </td></tr>\n",
       "\t<tr><td>CHEST    </td><td>HIP      </td><td>0.48     </td></tr>\n",
       "\t<tr><td>CHEST    </td><td>FOREARM  </td><td>0.469    </td></tr>\n",
       "\t<tr><td>CHEST    </td><td>WRIST    </td><td>0.487    </td></tr>\n",
       "\t<tr><td>ABDOMEN  </td><td>HIP      </td><td>0.682    </td></tr>\n",
       "\t<tr><td>ABDOMEN  </td><td>FOREARM  </td><td>0.672    </td></tr>\n",
       "\t<tr><td>ABDOMEN  </td><td>WRIST    </td><td>0.704    </td></tr>\n",
       "\t<tr><td>HIP      </td><td>FOREARM  </td><td>0.386    </td></tr>\n",
       "\t<tr><td>HIP      </td><td>WRIST    </td><td>0.39     </td></tr>\n",
       "\t<tr><td>FOREARM  </td><td>WRIST    </td><td>0.139    </td></tr>\n",
       "</tbody>\n",
       "</table>\n"
      ],
      "text/latex": [
       "\\begin{tabular}{lll}\n",
       " V1 & V2 & R\\textasciicircum{}2\\\\\n",
       "\\hline\n",
       "\t AGE       & ADIPOSITY & 0.571    \\\\\n",
       "\t AGE       & NECK      & 0.268    \\\\\n",
       "\t AGE       & CHEST     & 0.492    \\\\\n",
       "\t AGE       & ABDOMEN   & 0.673    \\\\\n",
       "\t AGE       & HIP       & 0.493    \\\\\n",
       "\t AGE       & FOREARM   & 0.224    \\\\\n",
       "\t AGE       & WRIST     & 0.145    \\\\\n",
       "\t ADIPOSITY & NECK      & 0.545    \\\\\n",
       "\t ADIPOSITY & CHEST     & 0.534    \\\\\n",
       "\t ADIPOSITY & ABDOMEN   & 0.666    \\\\\n",
       "\t ADIPOSITY & HIP       & 0.532    \\\\\n",
       "\t ADIPOSITY & FOREARM   & 0.545    \\\\\n",
       "\t ADIPOSITY & WRIST     & 0.554    \\\\\n",
       "\t NECK      & CHEST     & 0.472    \\\\\n",
       "\t NECK      & ABDOMEN   & 0.693    \\\\\n",
       "\t NECK      & HIP       & 0.389    \\\\\n",
       "\t NECK      & FOREARM   & 0.218    \\\\\n",
       "\t NECK      & WRIST     & 0.216    \\\\\n",
       "\t CHEST     & ABDOMEN   & 0.68     \\\\\n",
       "\t CHEST     & HIP       & 0.48     \\\\\n",
       "\t CHEST     & FOREARM   & 0.469    \\\\\n",
       "\t CHEST     & WRIST     & 0.487    \\\\\n",
       "\t ABDOMEN   & HIP       & 0.682    \\\\\n",
       "\t ABDOMEN   & FOREARM   & 0.672    \\\\\n",
       "\t ABDOMEN   & WRIST     & 0.704    \\\\\n",
       "\t HIP       & FOREARM   & 0.386    \\\\\n",
       "\t HIP       & WRIST     & 0.39     \\\\\n",
       "\t FOREARM   & WRIST     & 0.139    \\\\\n",
       "\\end{tabular}\n"
      ],
      "text/markdown": [
       "\n",
       "| V1 | V2 | R^2 |\n",
       "|---|---|---|\n",
       "| AGE       | ADIPOSITY | 0.571     |\n",
       "| AGE       | NECK      | 0.268     |\n",
       "| AGE       | CHEST     | 0.492     |\n",
       "| AGE       | ABDOMEN   | 0.673     |\n",
       "| AGE       | HIP       | 0.493     |\n",
       "| AGE       | FOREARM   | 0.224     |\n",
       "| AGE       | WRIST     | 0.145     |\n",
       "| ADIPOSITY | NECK      | 0.545     |\n",
       "| ADIPOSITY | CHEST     | 0.534     |\n",
       "| ADIPOSITY | ABDOMEN   | 0.666     |\n",
       "| ADIPOSITY | HIP       | 0.532     |\n",
       "| ADIPOSITY | FOREARM   | 0.545     |\n",
       "| ADIPOSITY | WRIST     | 0.554     |\n",
       "| NECK      | CHEST     | 0.472     |\n",
       "| NECK      | ABDOMEN   | 0.693     |\n",
       "| NECK      | HIP       | 0.389     |\n",
       "| NECK      | FOREARM   | 0.218     |\n",
       "| NECK      | WRIST     | 0.216     |\n",
       "| CHEST     | ABDOMEN   | 0.68      |\n",
       "| CHEST     | HIP       | 0.48      |\n",
       "| CHEST     | FOREARM   | 0.469     |\n",
       "| CHEST     | WRIST     | 0.487     |\n",
       "| ABDOMEN   | HIP       | 0.682     |\n",
       "| ABDOMEN   | FOREARM   | 0.672     |\n",
       "| ABDOMEN   | WRIST     | 0.704     |\n",
       "| HIP       | FOREARM   | 0.386     |\n",
       "| HIP       | WRIST     | 0.39      |\n",
       "| FOREARM   | WRIST     | 0.139     |\n",
       "\n"
      ],
      "text/plain": [
       "      V1        V2        R^2  \n",
       " [1,] AGE       ADIPOSITY 0.571\n",
       " [2,] AGE       NECK      0.268\n",
       " [3,] AGE       CHEST     0.492\n",
       " [4,] AGE       ABDOMEN   0.673\n",
       " [5,] AGE       HIP       0.493\n",
       " [6,] AGE       FOREARM   0.224\n",
       " [7,] AGE       WRIST     0.145\n",
       " [8,] ADIPOSITY NECK      0.545\n",
       " [9,] ADIPOSITY CHEST     0.534\n",
       "[10,] ADIPOSITY ABDOMEN   0.666\n",
       "[11,] ADIPOSITY HIP       0.532\n",
       "[12,] ADIPOSITY FOREARM   0.545\n",
       "[13,] ADIPOSITY WRIST     0.554\n",
       "[14,] NECK      CHEST     0.472\n",
       "[15,] NECK      ABDOMEN   0.693\n",
       "[16,] NECK      HIP       0.389\n",
       "[17,] NECK      FOREARM   0.218\n",
       "[18,] NECK      WRIST     0.216\n",
       "[19,] CHEST     ABDOMEN   0.68 \n",
       "[20,] CHEST     HIP       0.48 \n",
       "[21,] CHEST     FOREARM   0.469\n",
       "[22,] CHEST     WRIST     0.487\n",
       "[23,] ABDOMEN   HIP       0.682\n",
       "[24,] ABDOMEN   FOREARM   0.672\n",
       "[25,] ABDOMEN   WRIST     0.704\n",
       "[26,] HIP       FOREARM   0.386\n",
       "[27,] HIP       WRIST     0.39 \n",
       "[28,] FOREARM   WRIST     0.139"
      ]
     },
     "metadata": {},
     "output_type": "display_data"
    }
   ],
   "source": [
    "results = matrix(rep(0, 28*3), ncol = 3, nrow = 28)\n",
    "colnames(results) = c(\"V1\", \"V2\", \"R^2\")\n",
    "k = 1\n",
    "for(i in 2:8){\n",
    "    s = i+1\n",
    "    for(j in s:9){\n",
    "        results[k, c(1,2)] = colnames(data.mod)[c(i,j)]\n",
    "        results[k, 3] = round(summary(lm(BODYFAT~., data = data.mod[,c(1,i,j)]))$r.squared, 3)\n",
    "        k = k+1\n",
    "    }\n",
    "}\n",
    "results"
   ]
  }
 ],
 "metadata": {
  "kernelspec": {
   "display_name": "R",
   "language": "R",
   "name": "ir"
  },
  "language_info": {
   "codemirror_mode": "r",
   "file_extension": ".r",
   "mimetype": "text/x-r-source",
   "name": "R",
   "pygments_lexer": "r",
   "version": "3.6.0"
  }
 },
 "nbformat": 4,
 "nbformat_minor": 2
}
