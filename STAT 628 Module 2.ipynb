{
 "cells": [
  {
   "cell_type": "markdown",
   "metadata": {},
   "source": [
    "# 1. Data Processing"
   ]
  },
  {
   "cell_type": "markdown",
   "metadata": {},
   "source": [
    "The first part of our analysis is to read in the bodyfat data and do some data cleaning and manipulation. We basically use some numerical methods and graphical methods."
   ]
  },
  {
   "cell_type": "markdown",
   "metadata": {},
   "source": [
    "## 1.1. Read Data"
   ]
  },
  {
   "cell_type": "markdown",
   "metadata": {},
   "source": [
    ">First of all, we read in \"BodyFat.csv\" as our raw dataset. Two columns, IDNO and DENSITY, are removed since we won't consider these two variables as explanatory variables in our model. "
   ]
  },
  {
   "cell_type": "code",
   "execution_count": 46,
   "metadata": {
    "scrolled": true
   },
   "outputs": [
    {
     "data": {
      "text/html": [
       "<table>\n",
       "<caption>A data.frame: 6 × 15</caption>\n",
       "<thead>\n",
       "\t<tr><th scope=col>BODYFAT</th><th scope=col>AGE</th><th scope=col>WEIGHT</th><th scope=col>HEIGHT</th><th scope=col>ADIPOSITY</th><th scope=col>NECK</th><th scope=col>CHEST</th><th scope=col>ABDOMEN</th><th scope=col>HIP</th><th scope=col>THIGH</th><th scope=col>KNEE</th><th scope=col>ANKLE</th><th scope=col>BICEPS</th><th scope=col>FOREARM</th><th scope=col>WRIST</th></tr>\n",
       "\t<tr><th scope=col>&lt;dbl&gt;</th><th scope=col>&lt;int&gt;</th><th scope=col>&lt;dbl&gt;</th><th scope=col>&lt;dbl&gt;</th><th scope=col>&lt;dbl&gt;</th><th scope=col>&lt;dbl&gt;</th><th scope=col>&lt;dbl&gt;</th><th scope=col>&lt;dbl&gt;</th><th scope=col>&lt;dbl&gt;</th><th scope=col>&lt;dbl&gt;</th><th scope=col>&lt;dbl&gt;</th><th scope=col>&lt;dbl&gt;</th><th scope=col>&lt;dbl&gt;</th><th scope=col>&lt;dbl&gt;</th><th scope=col>&lt;dbl&gt;</th></tr>\n",
       "</thead>\n",
       "<tbody>\n",
       "\t<tr><td>12.6</td><td>23</td><td>154.25</td><td>67.75</td><td>23.7</td><td>36.2</td><td> 93.1</td><td> 85.2</td><td> 94.5</td><td>59.0</td><td>37.3</td><td>21.9</td><td>32.0</td><td>27.4</td><td>17.1</td></tr>\n",
       "\t<tr><td> 6.9</td><td>22</td><td>173.25</td><td>72.25</td><td>23.4</td><td>38.5</td><td> 93.6</td><td> 83.0</td><td> 98.7</td><td>58.7</td><td>37.3</td><td>23.4</td><td>30.5</td><td>28.9</td><td>18.2</td></tr>\n",
       "\t<tr><td>24.6</td><td>22</td><td>154.00</td><td>66.25</td><td>24.7</td><td>34.0</td><td> 95.8</td><td> 87.9</td><td> 99.2</td><td>59.6</td><td>38.9</td><td>24.0</td><td>28.8</td><td>25.2</td><td>16.6</td></tr>\n",
       "\t<tr><td>10.9</td><td>26</td><td>184.75</td><td>72.25</td><td>24.9</td><td>37.4</td><td>101.8</td><td> 86.4</td><td>101.2</td><td>60.1</td><td>37.3</td><td>22.8</td><td>32.4</td><td>29.4</td><td>18.2</td></tr>\n",
       "\t<tr><td>27.8</td><td>24</td><td>184.25</td><td>71.25</td><td>25.6</td><td>34.4</td><td> 97.3</td><td>100.0</td><td>101.9</td><td>63.2</td><td>42.2</td><td>24.0</td><td>32.2</td><td>27.7</td><td>17.7</td></tr>\n",
       "\t<tr><td>20.6</td><td>24</td><td>210.25</td><td>74.75</td><td>26.5</td><td>39.0</td><td>104.5</td><td> 94.4</td><td>107.8</td><td>66.0</td><td>42.0</td><td>25.6</td><td>35.7</td><td>30.6</td><td>18.8</td></tr>\n",
       "</tbody>\n",
       "</table>\n"
      ],
      "text/latex": [
       "A data.frame: 6 × 15\n",
       "\\begin{tabular}{r|lllllllllllllll}\n",
       " BODYFAT & AGE & WEIGHT & HEIGHT & ADIPOSITY & NECK & CHEST & ABDOMEN & HIP & THIGH & KNEE & ANKLE & BICEPS & FOREARM & WRIST\\\\\n",
       " <dbl> & <int> & <dbl> & <dbl> & <dbl> & <dbl> & <dbl> & <dbl> & <dbl> & <dbl> & <dbl> & <dbl> & <dbl> & <dbl> & <dbl>\\\\\n",
       "\\hline\n",
       "\t 12.6 & 23 & 154.25 & 67.75 & 23.7 & 36.2 &  93.1 &  85.2 &  94.5 & 59.0 & 37.3 & 21.9 & 32.0 & 27.4 & 17.1\\\\\n",
       "\t  6.9 & 22 & 173.25 & 72.25 & 23.4 & 38.5 &  93.6 &  83.0 &  98.7 & 58.7 & 37.3 & 23.4 & 30.5 & 28.9 & 18.2\\\\\n",
       "\t 24.6 & 22 & 154.00 & 66.25 & 24.7 & 34.0 &  95.8 &  87.9 &  99.2 & 59.6 & 38.9 & 24.0 & 28.8 & 25.2 & 16.6\\\\\n",
       "\t 10.9 & 26 & 184.75 & 72.25 & 24.9 & 37.4 & 101.8 &  86.4 & 101.2 & 60.1 & 37.3 & 22.8 & 32.4 & 29.4 & 18.2\\\\\n",
       "\t 27.8 & 24 & 184.25 & 71.25 & 25.6 & 34.4 &  97.3 & 100.0 & 101.9 & 63.2 & 42.2 & 24.0 & 32.2 & 27.7 & 17.7\\\\\n",
       "\t 20.6 & 24 & 210.25 & 74.75 & 26.5 & 39.0 & 104.5 &  94.4 & 107.8 & 66.0 & 42.0 & 25.6 & 35.7 & 30.6 & 18.8\\\\\n",
       "\\end{tabular}\n"
      ],
      "text/markdown": [
       "\n",
       "A data.frame: 6 × 15\n",
       "\n",
       "| BODYFAT &lt;dbl&gt; | AGE &lt;int&gt; | WEIGHT &lt;dbl&gt; | HEIGHT &lt;dbl&gt; | ADIPOSITY &lt;dbl&gt; | NECK &lt;dbl&gt; | CHEST &lt;dbl&gt; | ABDOMEN &lt;dbl&gt; | HIP &lt;dbl&gt; | THIGH &lt;dbl&gt; | KNEE &lt;dbl&gt; | ANKLE &lt;dbl&gt; | BICEPS &lt;dbl&gt; | FOREARM &lt;dbl&gt; | WRIST &lt;dbl&gt; |\n",
       "|---|---|---|---|---|---|---|---|---|---|---|---|---|---|---|\n",
       "| 12.6 | 23 | 154.25 | 67.75 | 23.7 | 36.2 |  93.1 |  85.2 |  94.5 | 59.0 | 37.3 | 21.9 | 32.0 | 27.4 | 17.1 |\n",
       "|  6.9 | 22 | 173.25 | 72.25 | 23.4 | 38.5 |  93.6 |  83.0 |  98.7 | 58.7 | 37.3 | 23.4 | 30.5 | 28.9 | 18.2 |\n",
       "| 24.6 | 22 | 154.00 | 66.25 | 24.7 | 34.0 |  95.8 |  87.9 |  99.2 | 59.6 | 38.9 | 24.0 | 28.8 | 25.2 | 16.6 |\n",
       "| 10.9 | 26 | 184.75 | 72.25 | 24.9 | 37.4 | 101.8 |  86.4 | 101.2 | 60.1 | 37.3 | 22.8 | 32.4 | 29.4 | 18.2 |\n",
       "| 27.8 | 24 | 184.25 | 71.25 | 25.6 | 34.4 |  97.3 | 100.0 | 101.9 | 63.2 | 42.2 | 24.0 | 32.2 | 27.7 | 17.7 |\n",
       "| 20.6 | 24 | 210.25 | 74.75 | 26.5 | 39.0 | 104.5 |  94.4 | 107.8 | 66.0 | 42.0 | 25.6 | 35.7 | 30.6 | 18.8 |\n",
       "\n"
      ],
      "text/plain": [
       "  BODYFAT AGE WEIGHT HEIGHT ADIPOSITY NECK CHEST ABDOMEN HIP   THIGH KNEE ANKLE\n",
       "1 12.6    23  154.25 67.75  23.7      36.2  93.1  85.2    94.5 59.0  37.3 21.9 \n",
       "2  6.9    22  173.25 72.25  23.4      38.5  93.6  83.0    98.7 58.7  37.3 23.4 \n",
       "3 24.6    22  154.00 66.25  24.7      34.0  95.8  87.9    99.2 59.6  38.9 24.0 \n",
       "4 10.9    26  184.75 72.25  24.9      37.4 101.8  86.4   101.2 60.1  37.3 22.8 \n",
       "5 27.8    24  184.25 71.25  25.6      34.4  97.3 100.0   101.9 63.2  42.2 24.0 \n",
       "6 20.6    24  210.25 74.75  26.5      39.0 104.5  94.4   107.8 66.0  42.0 25.6 \n",
       "  BICEPS FOREARM WRIST\n",
       "1 32.0   27.4    17.1 \n",
       "2 30.5   28.9    18.2 \n",
       "3 28.8   25.2    16.6 \n",
       "4 32.4   29.4    18.2 \n",
       "5 32.2   27.7    17.7 \n",
       "6 35.7   30.6    18.8 "
      ]
     },
     "metadata": {},
     "output_type": "display_data"
    }
   ],
   "source": [
    "rm(list =ls())\n",
    "library(MASS)\n",
    "\n",
    "data = read.csv(\"BodyFat.csv\")\n",
    "data = data[c(-1,-3)] # Remove indexes and density\n",
    "head(data) # check the first six lines of the data"
   ]
  },
  {
   "cell_type": "markdown",
   "metadata": {},
   "source": [
    ">Next, we use the summary function to get the quantiles of the variables. Also, we draw scatter plots to see the distribution. They are shown as follows:"
   ]
  },
  {
   "cell_type": "code",
   "execution_count": 47,
   "metadata": {},
   "outputs": [
    {
     "data": {
      "text/html": [
       "<ol class=list-inline>\n",
       "\t<li>252</li>\n",
       "\t<li>15</li>\n",
       "</ol>\n"
      ],
      "text/latex": [
       "\\begin{enumerate*}\n",
       "\\item 252\n",
       "\\item 15\n",
       "\\end{enumerate*}\n"
      ],
      "text/markdown": [
       "1. 252\n",
       "2. 15\n",
       "\n",
       "\n"
      ],
      "text/plain": [
       "[1] 252  15"
      ]
     },
     "metadata": {},
     "output_type": "display_data"
    }
   ],
   "source": [
    "dim(data)"
   ]
  },
  {
   "cell_type": "code",
   "execution_count": 48,
   "metadata": {},
   "outputs": [
    {
     "data": {
      "text/html": [
       "<ol class=list-inline>\n",
       "\t<li>'BODYFAT'</li>\n",
       "\t<li>'AGE'</li>\n",
       "\t<li>'WEIGHT'</li>\n",
       "\t<li>'HEIGHT'</li>\n",
       "\t<li>'ADIPOSITY'</li>\n",
       "\t<li>'NECK'</li>\n",
       "\t<li>'CHEST'</li>\n",
       "\t<li>'ABDOMEN'</li>\n",
       "\t<li>'HIP'</li>\n",
       "\t<li>'THIGH'</li>\n",
       "\t<li>'KNEE'</li>\n",
       "\t<li>'ANKLE'</li>\n",
       "\t<li>'BICEPS'</li>\n",
       "\t<li>'FOREARM'</li>\n",
       "\t<li>'WRIST'</li>\n",
       "</ol>\n"
      ],
      "text/latex": [
       "\\begin{enumerate*}\n",
       "\\item 'BODYFAT'\n",
       "\\item 'AGE'\n",
       "\\item 'WEIGHT'\n",
       "\\item 'HEIGHT'\n",
       "\\item 'ADIPOSITY'\n",
       "\\item 'NECK'\n",
       "\\item 'CHEST'\n",
       "\\item 'ABDOMEN'\n",
       "\\item 'HIP'\n",
       "\\item 'THIGH'\n",
       "\\item 'KNEE'\n",
       "\\item 'ANKLE'\n",
       "\\item 'BICEPS'\n",
       "\\item 'FOREARM'\n",
       "\\item 'WRIST'\n",
       "\\end{enumerate*}\n"
      ],
      "text/markdown": [
       "1. 'BODYFAT'\n",
       "2. 'AGE'\n",
       "3. 'WEIGHT'\n",
       "4. 'HEIGHT'\n",
       "5. 'ADIPOSITY'\n",
       "6. 'NECK'\n",
       "7. 'CHEST'\n",
       "8. 'ABDOMEN'\n",
       "9. 'HIP'\n",
       "10. 'THIGH'\n",
       "11. 'KNEE'\n",
       "12. 'ANKLE'\n",
       "13. 'BICEPS'\n",
       "14. 'FOREARM'\n",
       "15. 'WRIST'\n",
       "\n",
       "\n"
      ],
      "text/plain": [
       " [1] \"BODYFAT\"   \"AGE\"       \"WEIGHT\"    \"HEIGHT\"    \"ADIPOSITY\" \"NECK\"     \n",
       " [7] \"CHEST\"     \"ABDOMEN\"   \"HIP\"       \"THIGH\"     \"KNEE\"      \"ANKLE\"    \n",
       "[13] \"BICEPS\"    \"FOREARM\"   \"WRIST\"    "
      ]
     },
     "metadata": {},
     "output_type": "display_data"
    }
   ],
   "source": [
    "colnames(data)"
   ]
  },
  {
   "cell_type": "code",
   "execution_count": 49,
   "metadata": {
    "scrolled": true
   },
   "outputs": [
    {
     "data": {
      "text/plain": [
       "    BODYFAT           AGE            WEIGHT          HEIGHT     \n",
       " Min.   : 0.00   Min.   :22.00   Min.   :118.5   Min.   :29.50  \n",
       " 1st Qu.:12.80   1st Qu.:35.75   1st Qu.:159.0   1st Qu.:68.25  \n",
       " Median :19.00   Median :43.00   Median :176.5   Median :70.00  \n",
       " Mean   :18.94   Mean   :44.88   Mean   :178.9   Mean   :70.15  \n",
       " 3rd Qu.:24.60   3rd Qu.:54.00   3rd Qu.:197.0   3rd Qu.:72.25  \n",
       " Max.   :45.10   Max.   :81.00   Max.   :363.1   Max.   :77.75  \n",
       "   ADIPOSITY          NECK           CHEST           ABDOMEN      \n",
       " Min.   :18.10   Min.   :31.10   Min.   : 79.30   Min.   : 69.40  \n",
       " 1st Qu.:23.10   1st Qu.:36.40   1st Qu.: 94.35   1st Qu.: 84.58  \n",
       " Median :25.05   Median :38.00   Median : 99.65   Median : 90.95  \n",
       " Mean   :25.44   Mean   :37.99   Mean   :100.82   Mean   : 92.56  \n",
       " 3rd Qu.:27.32   3rd Qu.:39.42   3rd Qu.:105.38   3rd Qu.: 99.33  \n",
       " Max.   :48.90   Max.   :51.20   Max.   :136.20   Max.   :148.10  \n",
       "      HIP            THIGH            KNEE           ANKLE          BICEPS     \n",
       " Min.   : 85.0   Min.   :47.20   Min.   :33.00   Min.   :19.1   Min.   :24.80  \n",
       " 1st Qu.: 95.5   1st Qu.:56.00   1st Qu.:36.98   1st Qu.:22.0   1st Qu.:30.20  \n",
       " Median : 99.3   Median :59.00   Median :38.50   Median :22.8   Median :32.05  \n",
       " Mean   : 99.9   Mean   :59.41   Mean   :38.59   Mean   :23.1   Mean   :32.27  \n",
       " 3rd Qu.:103.5   3rd Qu.:62.35   3rd Qu.:39.92   3rd Qu.:24.0   3rd Qu.:34.33  \n",
       " Max.   :147.7   Max.   :87.30   Max.   :49.10   Max.   :33.9   Max.   :45.00  \n",
       "    FOREARM          WRIST      \n",
       " Min.   :21.00   Min.   :15.80  \n",
       " 1st Qu.:27.30   1st Qu.:17.60  \n",
       " Median :28.70   Median :18.30  \n",
       " Mean   :28.66   Mean   :18.23  \n",
       " 3rd Qu.:30.00   3rd Qu.:18.80  \n",
       " Max.   :34.90   Max.   :21.40  "
      ]
     },
     "metadata": {},
     "output_type": "display_data"
    }
   ],
   "source": [
    "summary(data)"
   ]
  },
  {
   "cell_type": "code",
   "execution_count": 50,
   "metadata": {
    "scrolled": false
   },
   "outputs": [
    {
     "data": {
      "image/png": "[encoded data removed]",
      "text/plain": [
       "Plot with title \"WRIST\""
      ]
     },
     "metadata": {},
     "output_type": "display_data"
    }
   ],
   "source": [
    "par(mfrow = c(3,5))\n",
    "for(i in 1:15){\n",
    "    plot(data[,i], main = colnames(data)[i], ylab = \"Value\")\n",
    "}\n",
    "par(mfrow = c(1,1))"
   ]
  },
  {
   "cell_type": "markdown",
   "metadata": {},
   "source": [
    "> It seems that there are some extremely small/large values and abnormal values, so we mark these observations as potential outliers. We also check them to see whether we can do some remedies."
   ]
  },
  {
   "cell_type": "code",
   "execution_count": 51,
   "metadata": {},
   "outputs": [],
   "source": [
    "RMIndex = which(data[,1]==0 | data[,1]==max(data[,1]) | data[,3]==max(data[,3]) | data[,4]==min(data[,4]) | data[,6]==max(data[,6]) | data[,7]>125 | \n",
    "                data[,8]==max(data[,8]) | data[,9]>120 | data[,10]==max(data[,10]) | data[,11]==max(data[,11]) | \n",
    "                data[,11]==max(data[,11]) | data[,12]>29 | data[,13]==max(data[,13]))"
   ]
  },
  {
   "cell_type": "code",
   "execution_count": 52,
   "metadata": {},
   "outputs": [
    {
     "data": {
      "text/html": [
       "<table>\n",
       "<caption>A data.frame: 7 × 15</caption>\n",
       "<thead>\n",
       "\t<tr><th></th><th scope=col>BODYFAT</th><th scope=col>AGE</th><th scope=col>WEIGHT</th><th scope=col>HEIGHT</th><th scope=col>ADIPOSITY</th><th scope=col>NECK</th><th scope=col>CHEST</th><th scope=col>ABDOMEN</th><th scope=col>HIP</th><th scope=col>THIGH</th><th scope=col>KNEE</th><th scope=col>ANKLE</th><th scope=col>BICEPS</th><th scope=col>FOREARM</th><th scope=col>WRIST</th></tr>\n",
       "\t<tr><th></th><th scope=col>&lt;dbl&gt;</th><th scope=col>&lt;int&gt;</th><th scope=col>&lt;dbl&gt;</th><th scope=col>&lt;dbl&gt;</th><th scope=col>&lt;dbl&gt;</th><th scope=col>&lt;dbl&gt;</th><th scope=col>&lt;dbl&gt;</th><th scope=col>&lt;dbl&gt;</th><th scope=col>&lt;dbl&gt;</th><th scope=col>&lt;dbl&gt;</th><th scope=col>&lt;dbl&gt;</th><th scope=col>&lt;dbl&gt;</th><th scope=col>&lt;dbl&gt;</th><th scope=col>&lt;dbl&gt;</th><th scope=col>&lt;dbl&gt;</th></tr>\n",
       "</thead>\n",
       "<tbody>\n",
       "\t<tr><th scope=row>31</th><td>12.3</td><td>32</td><td>182.00</td><td>73.75</td><td>23.6</td><td>38.7</td><td>100.5</td><td> 88.7</td><td> 99.8</td><td>57.5</td><td>38.7</td><td>33.9</td><td>32.5</td><td>27.7</td><td>18.4</td></tr>\n",
       "\t<tr><th scope=row>39</th><td>33.8</td><td>46</td><td>363.15</td><td>72.25</td><td>48.9</td><td>51.2</td><td>136.2</td><td>148.1</td><td>147.7</td><td>87.3</td><td>49.1</td><td>29.6</td><td>45.0</td><td>29.0</td><td>21.4</td></tr>\n",
       "\t<tr><th scope=row>41</th><td>33.1</td><td>45</td><td>262.75</td><td>68.75</td><td>39.1</td><td>43.2</td><td>128.3</td><td>126.2</td><td>125.6</td><td>72.5</td><td>39.6</td><td>26.6</td><td>36.4</td><td>32.7</td><td>21.4</td></tr>\n",
       "\t<tr><th scope=row>42</th><td>31.7</td><td>44</td><td>205.00</td><td>29.50</td><td>29.9</td><td>36.6</td><td>106.0</td><td>104.3</td><td>115.5</td><td>70.6</td><td>42.5</td><td>23.7</td><td>33.6</td><td>28.7</td><td>17.4</td></tr>\n",
       "\t<tr><th scope=row>86</th><td>25.8</td><td>67</td><td>167.00</td><td>67.50</td><td>26.0</td><td>36.5</td><td> 98.9</td><td> 89.7</td><td> 96.2</td><td>54.7</td><td>37.8</td><td>33.7</td><td>32.4</td><td>27.7</td><td>18.2</td></tr>\n",
       "\t<tr><th scope=row>182</th><td> 0.0</td><td>40</td><td>118.50</td><td>68.00</td><td>18.1</td><td>33.8</td><td> 79.3</td><td> 69.4</td><td> 85.0</td><td>47.2</td><td>33.5</td><td>20.2</td><td>27.7</td><td>24.6</td><td>16.5</td></tr>\n",
       "\t<tr><th scope=row>216</th><td>45.1</td><td>51</td><td>219.00</td><td>64.00</td><td>37.6</td><td>41.2</td><td>119.8</td><td>122.1</td><td>112.8</td><td>62.5</td><td>36.9</td><td>23.6</td><td>34.7</td><td>29.1</td><td>18.4</td></tr>\n",
       "</tbody>\n",
       "</table>\n"
      ],
      "text/latex": [
       "A data.frame: 7 × 15\n",
       "\\begin{tabular}{r|lllllllllllllll}\n",
       "  & BODYFAT & AGE & WEIGHT & HEIGHT & ADIPOSITY & NECK & CHEST & ABDOMEN & HIP & THIGH & KNEE & ANKLE & BICEPS & FOREARM & WRIST\\\\\n",
       "  & <dbl> & <int> & <dbl> & <dbl> & <dbl> & <dbl> & <dbl> & <dbl> & <dbl> & <dbl> & <dbl> & <dbl> & <dbl> & <dbl> & <dbl>\\\\\n",
       "\\hline\n",
       "\t31 & 12.3 & 32 & 182.00 & 73.75 & 23.6 & 38.7 & 100.5 &  88.7 &  99.8 & 57.5 & 38.7 & 33.9 & 32.5 & 27.7 & 18.4\\\\\n",
       "\t39 & 33.8 & 46 & 363.15 & 72.25 & 48.9 & 51.2 & 136.2 & 148.1 & 147.7 & 87.3 & 49.1 & 29.6 & 45.0 & 29.0 & 21.4\\\\\n",
       "\t41 & 33.1 & 45 & 262.75 & 68.75 & 39.1 & 43.2 & 128.3 & 126.2 & 125.6 & 72.5 & 39.6 & 26.6 & 36.4 & 32.7 & 21.4\\\\\n",
       "\t42 & 31.7 & 44 & 205.00 & 29.50 & 29.9 & 36.6 & 106.0 & 104.3 & 115.5 & 70.6 & 42.5 & 23.7 & 33.6 & 28.7 & 17.4\\\\\n",
       "\t86 & 25.8 & 67 & 167.00 & 67.50 & 26.0 & 36.5 &  98.9 &  89.7 &  96.2 & 54.7 & 37.8 & 33.7 & 32.4 & 27.7 & 18.2\\\\\n",
       "\t182 &  0.0 & 40 & 118.50 & 68.00 & 18.1 & 33.8 &  79.3 &  69.4 &  85.0 & 47.2 & 33.5 & 20.2 & 27.7 & 24.6 & 16.5\\\\\n",
       "\t216 & 45.1 & 51 & 219.00 & 64.00 & 37.6 & 41.2 & 119.8 & 122.1 & 112.8 & 62.5 & 36.9 & 23.6 & 34.7 & 29.1 & 18.4\\\\\n",
       "\\end{tabular}\n"
      ],
      "text/markdown": [
       "\n",
       "A data.frame: 7 × 15\n",
       "\n",
       "| <!--/--> | BODYFAT &lt;dbl&gt; | AGE &lt;int&gt; | WEIGHT &lt;dbl&gt; | HEIGHT &lt;dbl&gt; | ADIPOSITY &lt;dbl&gt; | NECK &lt;dbl&gt; | CHEST &lt;dbl&gt; | ABDOMEN &lt;dbl&gt; | HIP &lt;dbl&gt; | THIGH &lt;dbl&gt; | KNEE &lt;dbl&gt; | ANKLE &lt;dbl&gt; | BICEPS &lt;dbl&gt; | FOREARM &lt;dbl&gt; | WRIST &lt;dbl&gt; |\n",
       "|---|---|---|---|---|---|---|---|---|---|---|---|---|---|---|---|\n",
       "| 31 | 12.3 | 32 | 182.00 | 73.75 | 23.6 | 38.7 | 100.5 |  88.7 |  99.8 | 57.5 | 38.7 | 33.9 | 32.5 | 27.7 | 18.4 |\n",
       "| 39 | 33.8 | 46 | 363.15 | 72.25 | 48.9 | 51.2 | 136.2 | 148.1 | 147.7 | 87.3 | 49.1 | 29.6 | 45.0 | 29.0 | 21.4 |\n",
       "| 41 | 33.1 | 45 | 262.75 | 68.75 | 39.1 | 43.2 | 128.3 | 126.2 | 125.6 | 72.5 | 39.6 | 26.6 | 36.4 | 32.7 | 21.4 |\n",
       "| 42 | 31.7 | 44 | 205.00 | 29.50 | 29.9 | 36.6 | 106.0 | 104.3 | 115.5 | 70.6 | 42.5 | 23.7 | 33.6 | 28.7 | 17.4 |\n",
       "| 86 | 25.8 | 67 | 167.00 | 67.50 | 26.0 | 36.5 |  98.9 |  89.7 |  96.2 | 54.7 | 37.8 | 33.7 | 32.4 | 27.7 | 18.2 |\n",
       "| 182 |  0.0 | 40 | 118.50 | 68.00 | 18.1 | 33.8 |  79.3 |  69.4 |  85.0 | 47.2 | 33.5 | 20.2 | 27.7 | 24.6 | 16.5 |\n",
       "| 216 | 45.1 | 51 | 219.00 | 64.00 | 37.6 | 41.2 | 119.8 | 122.1 | 112.8 | 62.5 | 36.9 | 23.6 | 34.7 | 29.1 | 18.4 |\n",
       "\n"
      ],
      "text/plain": [
       "    BODYFAT AGE WEIGHT HEIGHT ADIPOSITY NECK CHEST ABDOMEN HIP   THIGH KNEE\n",
       "31  12.3    32  182.00 73.75  23.6      38.7 100.5  88.7    99.8 57.5  38.7\n",
       "39  33.8    46  363.15 72.25  48.9      51.2 136.2 148.1   147.7 87.3  49.1\n",
       "41  33.1    45  262.75 68.75  39.1      43.2 128.3 126.2   125.6 72.5  39.6\n",
       "42  31.7    44  205.00 29.50  29.9      36.6 106.0 104.3   115.5 70.6  42.5\n",
       "86  25.8    67  167.00 67.50  26.0      36.5  98.9  89.7    96.2 54.7  37.8\n",
       "182  0.0    40  118.50 68.00  18.1      33.8  79.3  69.4    85.0 47.2  33.5\n",
       "216 45.1    51  219.00 64.00  37.6      41.2 119.8 122.1   112.8 62.5  36.9\n",
       "    ANKLE BICEPS FOREARM WRIST\n",
       "31  33.9  32.5   27.7    18.4 \n",
       "39  29.6  45.0   29.0    21.4 \n",
       "41  26.6  36.4   32.7    21.4 \n",
       "42  23.7  33.6   28.7    17.4 \n",
       "86  33.7  32.4   27.7    18.2 \n",
       "182 20.2  27.7   24.6    16.5 \n",
       "216 23.6  34.7   29.1    18.4 "
      ]
     },
     "metadata": {},
     "output_type": "display_data"
    }
   ],
   "source": [
    "data[RMIndex,]"
   ]
  },
  {
   "cell_type": "markdown",
   "metadata": {},
   "source": [
    ">The 42th observation has a really small height value. After referring to his weight and BMI, we find that this should be a mis-measurement and we correct this by using the formula $BMI=\\frac{weight}{height^2}$ ($kg/m^2$). "
   ]
  },
  {
   "cell_type": "code",
   "execution_count": 53,
   "metadata": {},
   "outputs": [
    {
     "data": {
      "text/html": [
       "<table>\n",
       "<caption>A data.frame: 1 × 15</caption>\n",
       "<thead>\n",
       "\t<tr><th></th><th scope=col>BODYFAT</th><th scope=col>AGE</th><th scope=col>WEIGHT</th><th scope=col>HEIGHT</th><th scope=col>ADIPOSITY</th><th scope=col>NECK</th><th scope=col>CHEST</th><th scope=col>ABDOMEN</th><th scope=col>HIP</th><th scope=col>THIGH</th><th scope=col>KNEE</th><th scope=col>ANKLE</th><th scope=col>BICEPS</th><th scope=col>FOREARM</th><th scope=col>WRIST</th></tr>\n",
       "\t<tr><th></th><th scope=col>&lt;dbl&gt;</th><th scope=col>&lt;int&gt;</th><th scope=col>&lt;dbl&gt;</th><th scope=col>&lt;dbl&gt;</th><th scope=col>&lt;dbl&gt;</th><th scope=col>&lt;dbl&gt;</th><th scope=col>&lt;dbl&gt;</th><th scope=col>&lt;dbl&gt;</th><th scope=col>&lt;dbl&gt;</th><th scope=col>&lt;dbl&gt;</th><th scope=col>&lt;dbl&gt;</th><th scope=col>&lt;dbl&gt;</th><th scope=col>&lt;dbl&gt;</th><th scope=col>&lt;dbl&gt;</th><th scope=col>&lt;dbl&gt;</th></tr>\n",
       "</thead>\n",
       "<tbody>\n",
       "\t<tr><th scope=row>42</th><td>31.7</td><td>44</td><td>205</td><td>29.5</td><td>29.9</td><td>36.6</td><td>106</td><td>104.3</td><td>115.5</td><td>70.6</td><td>42.5</td><td>23.7</td><td>33.6</td><td>28.7</td><td>17.4</td></tr>\n",
       "</tbody>\n",
       "</table>\n"
      ],
      "text/latex": [
       "A data.frame: 1 × 15\n",
       "\\begin{tabular}{r|lllllllllllllll}\n",
       "  & BODYFAT & AGE & WEIGHT & HEIGHT & ADIPOSITY & NECK & CHEST & ABDOMEN & HIP & THIGH & KNEE & ANKLE & BICEPS & FOREARM & WRIST\\\\\n",
       "  & <dbl> & <int> & <dbl> & <dbl> & <dbl> & <dbl> & <dbl> & <dbl> & <dbl> & <dbl> & <dbl> & <dbl> & <dbl> & <dbl> & <dbl>\\\\\n",
       "\\hline\n",
       "\t42 & 31.7 & 44 & 205 & 29.5 & 29.9 & 36.6 & 106 & 104.3 & 115.5 & 70.6 & 42.5 & 23.7 & 33.6 & 28.7 & 17.4\\\\\n",
       "\\end{tabular}\n"
      ],
      "text/markdown": [
       "\n",
       "A data.frame: 1 × 15\n",
       "\n",
       "| <!--/--> | BODYFAT &lt;dbl&gt; | AGE &lt;int&gt; | WEIGHT &lt;dbl&gt; | HEIGHT &lt;dbl&gt; | ADIPOSITY &lt;dbl&gt; | NECK &lt;dbl&gt; | CHEST &lt;dbl&gt; | ABDOMEN &lt;dbl&gt; | HIP &lt;dbl&gt; | THIGH &lt;dbl&gt; | KNEE &lt;dbl&gt; | ANKLE &lt;dbl&gt; | BICEPS &lt;dbl&gt; | FOREARM &lt;dbl&gt; | WRIST &lt;dbl&gt; |\n",
       "|---|---|---|---|---|---|---|---|---|---|---|---|---|---|---|---|\n",
       "| 42 | 31.7 | 44 | 205 | 29.5 | 29.9 | 36.6 | 106 | 104.3 | 115.5 | 70.6 | 42.5 | 23.7 | 33.6 | 28.7 | 17.4 |\n",
       "\n"
      ],
      "text/plain": [
       "   BODYFAT AGE WEIGHT HEIGHT ADIPOSITY NECK CHEST ABDOMEN HIP   THIGH KNEE\n",
       "42 31.7    44  205    29.5   29.9      36.6 106   104.3   115.5 70.6  42.5\n",
       "   ANKLE BICEPS FOREARM WRIST\n",
       "42 23.7  33.6   28.7    17.4 "
      ]
     },
     "metadata": {},
     "output_type": "display_data"
    }
   ],
   "source": [
    "data[42, ]"
   ]
  },
  {
   "cell_type": "code",
   "execution_count": 54,
   "metadata": {},
   "outputs": [
    {
     "data": {
      "text/html": [
       "69.4289268948277"
      ],
      "text/latex": [
       "69.4289268948277"
      ],
      "text/markdown": [
       "69.4289268948277"
      ],
      "text/plain": [
       "[1] 69.42893"
      ]
     },
     "metadata": {},
     "output_type": "display_data"
    }
   ],
   "source": [
    "# 1kg = 0.4535922921969lbs\n",
    "# test \n",
    "weight1 <- 154.25 * 0.4535922921969\n",
    "height1 <- 67.75 * 0.0254\n",
    "bmi <- weight1 / height1^2\n",
    "\n",
    "weight42 <- 205 * 0.4535922921969\n",
    "height42 <- sqrt(weight42 / 29.9) \n",
    "data[42, 4] <- height42 / 0.0254 \n",
    "data[42, 4]"
   ]
  },
  {
   "cell_type": "markdown",
   "metadata": {},
   "source": [
    "> For all other potential outliers, they all have their own problems and there's no desirable way to fix them. We simply drop them from the dataset."
   ]
  },
  {
   "cell_type": "code",
   "execution_count": 55,
   "metadata": {},
   "outputs": [],
   "source": [
    "data[163,5]=27.4\n",
    "data[221,5]=21.7"
   ]
  },
  {
   "cell_type": "code",
   "execution_count": 56,
   "metadata": {},
   "outputs": [],
   "source": [
    "RMIndex <- c(31, 39, 41, 86, 182, 216) "
   ]
  },
  {
   "cell_type": "markdown",
   "metadata": {},
   "source": [
    "## 1.2. Simple Linear Regression"
   ]
  },
  {
   "cell_type": "markdown",
   "metadata": {},
   "source": [
    "> After deleting outliers, we fit a simple linear model using all the variables we have. This is considered as our full model and we draw the residuals plot and normal Q-Q plot to check whether model assumptions are valid."
   ]
  },
  {
   "cell_type": "code",
   "execution_count": 57,
   "metadata": {},
   "outputs": [
    {
     "data": {
      "text/plain": [
       "\n",
       "Call:\n",
       "lm(formula = BODYFAT ~ ., data = data[-RMIndex, ])\n",
       "\n",
       "Residuals:\n",
       "    Min      1Q  Median      3Q     Max \n",
       "-9.4304 -2.7957 -0.0862  2.6487  9.0257 \n",
       "\n",
       "Coefficients:\n",
       "             Estimate Std. Error t value Pr(>|t|)    \n",
       "(Intercept) -69.91138   55.01748  -1.271  0.20511    \n",
       "AGE           0.06260    0.03016   2.076  0.03904 *  \n",
       "WEIGHT       -0.21524    0.15387  -1.399  0.16319    \n",
       "HEIGHT        0.89059    0.78144   1.140  0.25560    \n",
       "ADIPOSITY     1.61426    1.11284   1.451  0.14825    \n",
       "NECK         -0.37497    0.21916  -1.711  0.08843 .  \n",
       "CHEST        -0.13901    0.10263  -1.354  0.17691    \n",
       "ABDOMEN       0.80743    0.08537   9.458  < 2e-16 ***\n",
       "HIP          -0.17923    0.14027  -1.278  0.20263    \n",
       "THIGH         0.19078    0.13840   1.378  0.16939    \n",
       "KNEE         -0.02814    0.24872  -0.113  0.91002    \n",
       "ANKLE        -0.05908    0.33596  -0.176  0.86056    \n",
       "BICEPS        0.12077    0.16050   0.752  0.45252    \n",
       "FOREARM       0.23895    0.19305   1.238  0.21706    \n",
       "WRIST        -1.49557    0.52086  -2.871  0.00447 ** \n",
       "---\n",
       "Signif. codes:  0 '***' 0.001 '**' 0.01 '*' 0.05 '.' 0.1 ' ' 1\n",
       "\n",
       "Residual standard error: 3.913 on 231 degrees of freedom\n",
       "Multiple R-squared:  0.7383,\tAdjusted R-squared:  0.7224 \n",
       "F-statistic: 46.55 on 14 and 231 DF,  p-value: < 2.2e-16\n"
      ]
     },
     "metadata": {},
     "output_type": "display_data"
    }
   ],
   "source": [
    "lm.naive = lm(BODYFAT~., data = data[-RMIndex,])\n",
    "summary(lm.naive)"
   ]
  },
  {
   "cell_type": "code",
   "execution_count": 58,
   "metadata": {
    "scrolled": true
   },
   "outputs": [
    {
     "data": {
      "image/png": "[encoded data removed]",
      "text/plain": [
       "Plot with title \"\""
      ]
     },
     "metadata": {},
     "output_type": "display_data"
    },
    {
     "data": {
      "image/png": "[encoded data removed]",
      "text/plain": [
       "Plot with title \"\""
      ]
     },
     "metadata": {},
     "output_type": "display_data"
    }
   ],
   "source": [
    "plot(lm.naive,which=c(1,2))"
   ]
  },
  {
   "cell_type": "markdown",
   "metadata": {},
   "source": [
    "## 1.3. Identify Strong Influential Points"
   ]
  },
  {
   "cell_type": "markdown",
   "metadata": {},
   "source": [
    "> Since we merely filtered out the outliers before by looking at the data, we need to use the full model to identify whether there are missing outliers or influential points. The diagnostic methods include studentized residuals, leverage value, dffits, and cook's distance."
   ]
  },
  {
   "cell_type": "markdown",
   "metadata": {},
   "source": [
    "### 1.3.1. Studentized Residual"
   ]
  },
  {
   "cell_type": "code",
   "execution_count": 59,
   "metadata": {},
   "outputs": [
    {
     "data": {
      "image/png": "[encoded data removed]",
      "text/plain": [
       "Plot with title \"Fitted Values v.s. Studentized Residuals\""
      ]
     },
     "metadata": {},
     "output_type": "display_data"
    }
   ],
   "source": [
    "index = 1:dim(data)[1]\n",
    "lm.stdres = stdres(lm.naive)\n",
    "plot(x = lm.naive$fitted.values, y = lm.stdres, ylab = \"Studentized residuals\", xlab = \"Fitted Values\", \n",
    "     main = \"Fitted Values v.s. Studentized Residuals\", pch = 20)\n",
    "#text(y = lm.stdres[which(abs(lm.stdres)>3)], x = lm.naive$fitted.values[which(abs(lm.stdres)>3)], \n",
    "#     labels = index[which(abs(lm.stdres)>3)], cex = 1, pos = 3)"
   ]
  },
  {
   "cell_type": "markdown",
   "metadata": {},
   "source": [
    "### 1.3.2. Leverage Value"
   ]
  },
  {
   "cell_type": "markdown",
   "metadata": {},
   "source": [
    "#### Set index manully"
   ]
  },
  {
   "cell_type": "code",
   "execution_count": 60,
   "metadata": {},
   "outputs": [],
   "source": [
    "index = 1:252\n",
    "index = index[-RMIndex]"
   ]
  },
  {
   "cell_type": "code",
   "execution_count": 61,
   "metadata": {},
   "outputs": [
    {
     "data": {
      "image/png": "[encoded data removed]",
      "text/plain": [
       "Plot with title \"Leverage\""
      ]
     },
     "metadata": {},
     "output_type": "display_data"
    }
   ],
   "source": [
    "lm.hats=hatvalues(lm.naive)\n",
    "plot(lm.hats, type = \"h\", ylim = c(0, 1), ylab = \"Leverage Value\", main = \"Leverage\") \n",
    "h0 = 28/252 # Rule of thumb for judging outliers\n",
    "text(y = lm.hats[lm.hats>h0], x = which(lm.hats>h0), labels = index[which(lm.hats>h0)], cex = 1, pos = 3)\n",
    "abline(h = h0, lty = 2)\n",
    "legend(\"topright\", legend = expression(2*p/n), lty = 2)"
   ]
  },
  {
   "cell_type": "markdown",
   "metadata": {},
   "source": [
    "### 1.3.3. DFFITS"
   ]
  },
  {
   "cell_type": "code",
   "execution_count": 62,
   "metadata": {},
   "outputs": [],
   "source": [
    "#lm.dffits = dffits(lm.naive)\n",
    "#dffit_index = as.numeric(names(lm.dffits))\n",
    "#dffit_index"
   ]
  },
  {
   "cell_type": "code",
   "execution_count": 63,
   "metadata": {},
   "outputs": [
    {
     "data": {
      "image/png": "[encoded data removed]",
      "text/plain": [
       "Plot with title \"DFFITS\""
      ]
     },
     "metadata": {},
     "output_type": "display_data"
    }
   ],
   "source": [
    "lm.dffits = dffits(lm.naive)\n",
    "plot(lm.dffits, type = \"h\", ylim = c(-3, 6), ylab = \"DFFITS\", main = \"DFFITS\")\n",
    "d0 = 2*sqrt(14/252) # Rule of thumb for judging influential points\n",
    "text(y = lm.dffits[abs(lm.dffits)>d0], x = which(abs(lm.dffits)>d0), labels = index[which(abs(lm.dffits)>d0)], cex = 1, pos = 3)\n",
    "abline(h = c(-1*d0, 0, d0), lty = c(2,1,2))\n",
    "legend(\"topright\", legend = expression(2*sqrt(p/n)), lty = 2)"
   ]
  },
  {
   "cell_type": "markdown",
   "metadata": {},
   "source": [
    "### 1.3.4. Cook's Distance"
   ]
  },
  {
   "cell_type": "code",
   "execution_count": 64,
   "metadata": {},
   "outputs": [
    {
     "data": {
      "image/png": "[encoded data removed]",
      "text/plain": [
       "Plot with title \"Cook's Distance\""
      ]
     },
     "metadata": {},
     "output_type": "display_data"
    }
   ],
   "source": [
    "lm.cooksD=cooks.distance(lm.naive)\n",
    "plot(lm.cooksD, type = \"h\", ylim = c(0, 1), ylab = \"Cook's Distance\", main = \"Cook's Distance\")\n",
    "c0 = qf(0.5, 14, 238)\n",
    "#text(y = lm.cooksD[lm.cooksD>c0], x = which(lm.cooksD>c0), labels = index[which(lm.cooksD>c0)], cex = 1, pos = 3)\n",
    "abline(h = c0, lty = 2)\n",
    "legend(\"topright\", legend = expression(F[paste(\"p,n-p\", sep=\"\")]), lty = 2)"
   ]
  },
  {
   "cell_type": "markdown",
   "metadata": {},
   "source": [
    "> The 221th observation seems to be an influential point with large leverage value and DFFITS. However, we think its data values are reasonable and we should not delete this observation."
   ]
  },
  {
   "cell_type": "code",
   "execution_count": 65,
   "metadata": {
    "scrolled": false
   },
   "outputs": [
    {
     "data": {
      "text/html": [
       "<table>\n",
       "<caption>A data.frame: 2 × 15</caption>\n",
       "<thead>\n",
       "\t<tr><th></th><th scope=col>BODYFAT</th><th scope=col>AGE</th><th scope=col>WEIGHT</th><th scope=col>HEIGHT</th><th scope=col>ADIPOSITY</th><th scope=col>NECK</th><th scope=col>CHEST</th><th scope=col>ABDOMEN</th><th scope=col>HIP</th><th scope=col>THIGH</th><th scope=col>KNEE</th><th scope=col>ANKLE</th><th scope=col>BICEPS</th><th scope=col>FOREARM</th><th scope=col>WRIST</th></tr>\n",
       "\t<tr><th></th><th scope=col>&lt;dbl&gt;</th><th scope=col>&lt;int&gt;</th><th scope=col>&lt;dbl&gt;</th><th scope=col>&lt;dbl&gt;</th><th scope=col>&lt;dbl&gt;</th><th scope=col>&lt;dbl&gt;</th><th scope=col>&lt;dbl&gt;</th><th scope=col>&lt;dbl&gt;</th><th scope=col>&lt;dbl&gt;</th><th scope=col>&lt;dbl&gt;</th><th scope=col>&lt;dbl&gt;</th><th scope=col>&lt;dbl&gt;</th><th scope=col>&lt;dbl&gt;</th><th scope=col>&lt;dbl&gt;</th><th scope=col>&lt;dbl&gt;</th></tr>\n",
       "</thead>\n",
       "<tbody>\n",
       "\t<tr><th scope=row>54</th><td> 7.1</td><td>49</td><td>152.75</td><td>73.5</td><td>19.9</td><td>35.1</td><td>93.3</td><td>79.6</td><td>91.6</td><td>52.6</td><td>37.6</td><td>22.6</td><td>38.5</td><td>27.4</td><td>18.5</td></tr>\n",
       "\t<tr><th scope=row>221</th><td>12.7</td><td>54</td><td>153.25</td><td>70.5</td><td>21.7</td><td>38.5</td><td>99.0</td><td>91.8</td><td>96.2</td><td>57.7</td><td>38.1</td><td>23.9</td><td>31.4</td><td>29.9</td><td>18.9</td></tr>\n",
       "</tbody>\n",
       "</table>\n"
      ],
      "text/latex": [
       "A data.frame: 2 × 15\n",
       "\\begin{tabular}{r|lllllllllllllll}\n",
       "  & BODYFAT & AGE & WEIGHT & HEIGHT & ADIPOSITY & NECK & CHEST & ABDOMEN & HIP & THIGH & KNEE & ANKLE & BICEPS & FOREARM & WRIST\\\\\n",
       "  & <dbl> & <int> & <dbl> & <dbl> & <dbl> & <dbl> & <dbl> & <dbl> & <dbl> & <dbl> & <dbl> & <dbl> & <dbl> & <dbl> & <dbl>\\\\\n",
       "\\hline\n",
       "\t54 &  7.1 & 49 & 152.75 & 73.5 & 19.9 & 35.1 & 93.3 & 79.6 & 91.6 & 52.6 & 37.6 & 22.6 & 38.5 & 27.4 & 18.5\\\\\n",
       "\t221 & 12.7 & 54 & 153.25 & 70.5 & 21.7 & 38.5 & 99.0 & 91.8 & 96.2 & 57.7 & 38.1 & 23.9 & 31.4 & 29.9 & 18.9\\\\\n",
       "\\end{tabular}\n"
      ],
      "text/markdown": [
       "\n",
       "A data.frame: 2 × 15\n",
       "\n",
       "| <!--/--> | BODYFAT &lt;dbl&gt; | AGE &lt;int&gt; | WEIGHT &lt;dbl&gt; | HEIGHT &lt;dbl&gt; | ADIPOSITY &lt;dbl&gt; | NECK &lt;dbl&gt; | CHEST &lt;dbl&gt; | ABDOMEN &lt;dbl&gt; | HIP &lt;dbl&gt; | THIGH &lt;dbl&gt; | KNEE &lt;dbl&gt; | ANKLE &lt;dbl&gt; | BICEPS &lt;dbl&gt; | FOREARM &lt;dbl&gt; | WRIST &lt;dbl&gt; |\n",
       "|---|---|---|---|---|---|---|---|---|---|---|---|---|---|---|---|\n",
       "| 54 |  7.1 | 49 | 152.75 | 73.5 | 19.9 | 35.1 | 93.3 | 79.6 | 91.6 | 52.6 | 37.6 | 22.6 | 38.5 | 27.4 | 18.5 |\n",
       "| 221 | 12.7 | 54 | 153.25 | 70.5 | 21.7 | 38.5 | 99.0 | 91.8 | 96.2 | 57.7 | 38.1 | 23.9 | 31.4 | 29.9 | 18.9 |\n",
       "\n"
      ],
      "text/plain": [
       "    BODYFAT AGE WEIGHT HEIGHT ADIPOSITY NECK CHEST ABDOMEN HIP  THIGH KNEE\n",
       "54   7.1    49  152.75 73.5   19.9      35.1 93.3  79.6    91.6 52.6  37.6\n",
       "221 12.7    54  153.25 70.5   21.7      38.5 99.0  91.8    96.2 57.7  38.1\n",
       "    ANKLE BICEPS FOREARM WRIST\n",
       "54  22.6  38.5   27.4    18.5 \n",
       "221 23.9  31.4   29.9    18.9 "
      ]
     },
     "metadata": {},
     "output_type": "display_data"
    }
   ],
   "source": [
    "data[index[which(lm.hats>h0 & abs(lm.dffits)>d0)],]"
   ]
  },
  {
   "cell_type": "markdown",
   "metadata": {},
   "source": [
    "# 2. Model Selection"
   ]
  },
  {
   "cell_type": "markdown",
   "metadata": {},
   "source": [
    "## 2.1 Forward AIC Selection"
   ]
  },
  {
   "cell_type": "code",
   "execution_count": 66,
   "metadata": {},
   "outputs": [
    {
     "data": {
      "text/plain": [
       "BODYFAT ~ AGE + WEIGHT + HEIGHT + ADIPOSITY + NECK + CHEST + \n",
       "    ABDOMEN + HIP + THIGH + KNEE + ANKLE + BICEPS + FOREARM + \n",
       "    WRIST"
      ]
     },
     "metadata": {},
     "output_type": "display_data"
    }
   ],
   "source": [
    "biggest = formula(lm(BODYFAT~., data[-RMIndex,]))\n",
    "biggest"
   ]
  },
  {
   "cell_type": "code",
   "execution_count": 67,
   "metadata": {
    "scrolled": false
   },
   "outputs": [
    {
     "name": "stdout",
     "output_type": "stream",
     "text": [
      "Start:  AIC=987.58\n",
      "BODYFAT ~ 1\n",
      "\n",
      "            Df Sum of Sq     RSS    AIC\n",
      "+ ABDOMEN    1    8991.7  4526.3 720.43\n",
      "+ ADIPOSITY  1    7141.0  6376.9 804.76\n",
      "+ CHEST      1    6291.1  7226.8 835.54\n",
      "+ HIP        1    5210.0  8307.9 869.83\n",
      "+ WEIGHT     1    4943.9  8574.1 877.59\n",
      "+ THIGH      1    4046.0  9472.0 902.09\n",
      "+ KNEE       1    3554.9  9963.0 914.52\n",
      "+ BICEPS     1    2995.3 10522.7 927.96\n",
      "+ NECK       1    2898.7 10619.2 930.21\n",
      "+ FOREARM    1    1649.9 11868.1 957.56\n",
      "+ WRIST      1    1292.3 12225.6 964.87\n",
      "+ AGE        1    1106.1 12411.9 968.59\n",
      "+ ANKLE      1    1024.3 12493.6 970.20\n",
      "<none>                   13518.0 987.58\n",
      "+ HEIGHT     1       0.6 13517.3 989.57\n",
      "\n",
      "Step:  AIC=720.43\n",
      "BODYFAT ~ ABDOMEN\n",
      "\n",
      "            Df Sum of Sq     RSS    AIC\n",
      "+ WEIGHT     1     581.8  3944.5 688.58\n",
      "+ WRIST      1     528.6  3997.7 691.88\n",
      "+ HEIGHT     1     464.5  4061.8 695.80\n",
      "+ NECK       1     372.3  4154.0 701.32\n",
      "+ ANKLE      1     314.6  4211.6 704.71\n",
      "+ KNEE       1     248.5  4277.8 708.54\n",
      "+ HIP        1     234.0  4292.3 709.37\n",
      "+ CHEST      1     202.4  4323.9 711.18\n",
      "+ AGE        1     102.0  4424.3 716.83\n",
      "+ FOREARM    1      92.4  4433.9 717.36\n",
      "+ BICEPS     1      91.3  4435.0 717.42\n",
      "+ THIGH      1      65.3  4461.0 718.86\n",
      "<none>                    4526.3 720.43\n",
      "+ ADIPOSITY  1      10.2  4516.1 721.88\n",
      "- ABDOMEN    1    8991.7 13518.0 987.58\n",
      "\n",
      "Step:  AIC=688.58\n",
      "BODYFAT ~ ABDOMEN + WEIGHT\n",
      "\n",
      "            Df Sum of Sq    RSS    AIC\n",
      "+ WRIST      1     159.4 3785.1 680.44\n",
      "+ THIGH      1      77.3 3867.1 685.71\n",
      "+ NECK       1      65.3 3879.2 686.48\n",
      "+ ADIPOSITY  1      42.9 3901.5 687.89\n",
      "+ HEIGHT     1      33.3 3911.1 688.50\n",
      "<none>                   3944.5 688.58\n",
      "+ BICEPS     1      28.2 3916.3 688.82\n",
      "+ FOREARM    1      13.7 3930.8 689.73\n",
      "+ CHEST      1      10.3 3934.1 689.94\n",
      "+ HIP        1       8.9 3935.5 690.03\n",
      "+ ANKLE      1       8.1 3936.3 690.08\n",
      "+ AGE        1       3.7 3940.7 690.35\n",
      "+ KNEE       1       0.0 3944.4 690.58\n",
      "- WEIGHT     1     581.8 4526.3 720.43\n",
      "- ABDOMEN    1    4629.6 8574.1 877.59\n",
      "\n",
      "Step:  AIC=680.44\n",
      "BODYFAT ~ ABDOMEN + WEIGHT + WRIST\n",
      "\n",
      "            Df Sum of Sq    RSS    AIC\n",
      "+ BICEPS     1      45.6 3739.5 679.46\n",
      "+ ADIPOSITY  1      43.4 3741.6 679.60\n",
      "+ FOREARM    1      39.5 3745.5 679.86\n",
      "+ THIGH      1      35.4 3749.7 680.13\n",
      "+ HEIGHT     1      33.6 3751.5 680.25\n",
      "<none>                   3785.1 680.44\n",
      "+ AGE        1      18.9 3766.2 681.21\n",
      "+ NECK       1      11.9 3773.2 681.67\n",
      "+ CHEST      1       5.8 3779.3 682.06\n",
      "+ KNEE       1       2.5 3782.6 682.28\n",
      "+ ANKLE      1       0.4 3784.7 682.41\n",
      "+ HIP        1       0.0 3785.1 682.44\n",
      "- WRIST      1     159.4 3944.5 688.58\n",
      "- WEIGHT     1     212.6 3997.7 691.88\n",
      "- ABDOMEN    1    4426.6 8211.7 868.96\n",
      "\n",
      "Step:  AIC=679.46\n",
      "BODYFAT ~ ABDOMEN + WEIGHT + WRIST + BICEPS\n",
      "\n",
      "            Df Sum of Sq    RSS    AIC\n",
      "<none>                   3739.5 679.46\n",
      "+ AGE        1      23.2 3716.3 679.92\n",
      "+ NECK       1      22.6 3716.9 679.97\n",
      "+ ADIPOSITY  1      22.5 3717.0 679.98\n",
      "+ THIGH      1      18.7 3720.8 680.22\n",
      "+ FOREARM    1      17.8 3721.7 680.29\n",
      "- BICEPS     1      45.6 3785.1 680.44\n",
      "+ HEIGHT     1      15.3 3724.2 680.45\n",
      "+ CHEST      1       9.9 3729.6 680.80\n",
      "+ KNEE       1       4.7 3734.8 681.15\n",
      "+ ANKLE      1       2.0 3737.5 681.33\n",
      "+ HIP        1       0.0 3739.5 681.46\n",
      "- WRIST      1     176.8 3916.3 688.82\n",
      "- WEIGHT     1     256.7 3996.2 693.79\n",
      "- ABDOMEN    1    4469.4 8208.9 870.88\n"
     ]
    },
    {
     "data": {
      "text/plain": [
       "\n",
       "Call:\n",
       "lm(formula = BODYFAT ~ ABDOMEN + WEIGHT + WRIST + BICEPS, data = data[-RMIndex, \n",
       "    ])\n",
       "\n",
       "Coefficients:\n",
       "(Intercept)      ABDOMEN       WEIGHT        WRIST       BICEPS  \n",
       "   -27.4582       0.8844      -0.1034      -1.3528       0.2405  \n"
      ]
     },
     "metadata": {},
     "output_type": "display_data"
    }
   ],
   "source": [
    "step(lm(BODYFAT~1, data = data[-RMIndex,]), direction = \"both\", scope = biggest)"
   ]
  },
  {
   "cell_type": "code",
   "execution_count": 73,
   "metadata": {},
   "outputs": [
    {
     "data": {
      "text/plain": [
       "\n",
       "Call:\n",
       "lm(formula = BODYFAT ~ ABDOMEN + WEIGHT + WRIST, data = data[-RMIndex, \n",
       "    ])\n",
       "\n",
       "Residuals:\n",
       "   Min     1Q Median     3Q    Max \n",
       "-8.923 -2.910 -0.401  2.994  9.270 \n",
       "\n",
       "Coefficients:\n",
       "             Estimate Std. Error t value Pr(>|t|)    \n",
       "(Intercept) -24.25349    6.27568  -3.865 0.000143 ***\n",
       "ABDOMEN       0.87755    0.05216  16.823  < 2e-16 ***\n",
       "WEIGHT       -0.08215    0.02228  -3.687 0.000280 ***\n",
       "WRIST        -1.27640    0.39988  -3.192 0.001600 ** \n",
       "---\n",
       "Signif. codes:  0 '***' 0.001 '**' 0.01 '*' 0.05 '.' 0.1 ' ' 1\n",
       "\n",
       "Residual standard error: 3.955 on 242 degrees of freedom\n",
       "Multiple R-squared:   0.72,\tAdjusted R-squared:  0.7165 \n",
       "F-statistic: 207.4 on 3 and 242 DF,  p-value: < 2.2e-16\n"
      ]
     },
     "metadata": {},
     "output_type": "display_data"
    },
    {
     "data": {
      "text/plain": [
       "\n",
       "Call:\n",
       "lm(formula = BODYFAT ~ ABDOMEN + WEIGHT + WRIST + BICEPS, data = data[-RMIndex, \n",
       "    ])\n",
       "\n",
       "Residuals:\n",
       "    Min      1Q  Median      3Q     Max \n",
       "-9.1651 -2.7679 -0.1429  2.9713  8.7217 \n",
       "\n",
       "Coefficients:\n",
       "             Estimate Std. Error t value Pr(>|t|)    \n",
       "(Intercept) -27.45821    6.52438  -4.209 3.63e-05 ***\n",
       "ABDOMEN       0.88435    0.05211  16.972  < 2e-16 ***\n",
       "WEIGHT       -0.10338    0.02541  -4.068 6.44e-05 ***\n",
       "WRIST        -1.35279    0.40077  -3.375 0.000859 ***\n",
       "BICEPS        0.24048    0.14031   1.714 0.087828 .  \n",
       "---\n",
       "Signif. codes:  0 '***' 0.001 '**' 0.01 '*' 0.05 '.' 0.1 ' ' 1\n",
       "\n",
       "Residual standard error: 3.939 on 241 degrees of freedom\n",
       "Multiple R-squared:  0.7234,\tAdjusted R-squared:  0.7188 \n",
       "F-statistic: 157.5 on 4 and 241 DF,  p-value: < 2.2e-16\n"
      ]
     },
     "metadata": {},
     "output_type": "display_data"
    }
   ],
   "source": [
    "summary(lm(BODYFAT~ABDOMEN+WEIGHT+WRIST, data[-RMIndex,]))\n",
    "summary(lm(BODYFAT~ABDOMEN+WEIGHT+WRIST+BICEPS, data[-RMIndex,]))"
   ]
  },
  {
   "cell_type": "code",
   "execution_count": 69,
   "metadata": {},
   "outputs": [
    {
     "data": {
      "text/html": [
       "<table>\n",
       "<caption>A data.frame: 6 × 9</caption>\n",
       "<thead>\n",
       "\t<tr><th scope=col>BODYFAT</th><th scope=col>AGE</th><th scope=col>ADIPOSITY</th><th scope=col>NECK</th><th scope=col>CHEST</th><th scope=col>ABDOMEN</th><th scope=col>HIP</th><th scope=col>FOREARM</th><th scope=col>WRIST</th></tr>\n",
       "\t<tr><th scope=col>&lt;dbl&gt;</th><th scope=col>&lt;int&gt;</th><th scope=col>&lt;dbl&gt;</th><th scope=col>&lt;dbl&gt;</th><th scope=col>&lt;dbl&gt;</th><th scope=col>&lt;dbl&gt;</th><th scope=col>&lt;dbl&gt;</th><th scope=col>&lt;dbl&gt;</th><th scope=col>&lt;dbl&gt;</th></tr>\n",
       "</thead>\n",
       "<tbody>\n",
       "\t<tr><td>12.6</td><td>23</td><td>23.7</td><td>36.2</td><td> 93.1</td><td> 85.2</td><td> 94.5</td><td>27.4</td><td>17.1</td></tr>\n",
       "\t<tr><td> 6.9</td><td>22</td><td>23.4</td><td>38.5</td><td> 93.6</td><td> 83.0</td><td> 98.7</td><td>28.9</td><td>18.2</td></tr>\n",
       "\t<tr><td>24.6</td><td>22</td><td>24.7</td><td>34.0</td><td> 95.8</td><td> 87.9</td><td> 99.2</td><td>25.2</td><td>16.6</td></tr>\n",
       "\t<tr><td>10.9</td><td>26</td><td>24.9</td><td>37.4</td><td>101.8</td><td> 86.4</td><td>101.2</td><td>29.4</td><td>18.2</td></tr>\n",
       "\t<tr><td>27.8</td><td>24</td><td>25.6</td><td>34.4</td><td> 97.3</td><td>100.0</td><td>101.9</td><td>27.7</td><td>17.7</td></tr>\n",
       "\t<tr><td>20.6</td><td>24</td><td>26.5</td><td>39.0</td><td>104.5</td><td> 94.4</td><td>107.8</td><td>30.6</td><td>18.8</td></tr>\n",
       "</tbody>\n",
       "</table>\n"
      ],
      "text/latex": [
       "A data.frame: 6 × 9\n",
       "\\begin{tabular}{r|lllllllll}\n",
       " BODYFAT & AGE & ADIPOSITY & NECK & CHEST & ABDOMEN & HIP & FOREARM & WRIST\\\\\n",
       " <dbl> & <int> & <dbl> & <dbl> & <dbl> & <dbl> & <dbl> & <dbl> & <dbl>\\\\\n",
       "\\hline\n",
       "\t 12.6 & 23 & 23.7 & 36.2 &  93.1 &  85.2 &  94.5 & 27.4 & 17.1\\\\\n",
       "\t  6.9 & 22 & 23.4 & 38.5 &  93.6 &  83.0 &  98.7 & 28.9 & 18.2\\\\\n",
       "\t 24.6 & 22 & 24.7 & 34.0 &  95.8 &  87.9 &  99.2 & 25.2 & 16.6\\\\\n",
       "\t 10.9 & 26 & 24.9 & 37.4 & 101.8 &  86.4 & 101.2 & 29.4 & 18.2\\\\\n",
       "\t 27.8 & 24 & 25.6 & 34.4 &  97.3 & 100.0 & 101.9 & 27.7 & 17.7\\\\\n",
       "\t 20.6 & 24 & 26.5 & 39.0 & 104.5 &  94.4 & 107.8 & 30.6 & 18.8\\\\\n",
       "\\end{tabular}\n"
      ],
      "text/markdown": [
       "\n",
       "A data.frame: 6 × 9\n",
       "\n",
       "| BODYFAT &lt;dbl&gt; | AGE &lt;int&gt; | ADIPOSITY &lt;dbl&gt; | NECK &lt;dbl&gt; | CHEST &lt;dbl&gt; | ABDOMEN &lt;dbl&gt; | HIP &lt;dbl&gt; | FOREARM &lt;dbl&gt; | WRIST &lt;dbl&gt; |\n",
       "|---|---|---|---|---|---|---|---|---|\n",
       "| 12.6 | 23 | 23.7 | 36.2 |  93.1 |  85.2 |  94.5 | 27.4 | 17.1 |\n",
       "|  6.9 | 22 | 23.4 | 38.5 |  93.6 |  83.0 |  98.7 | 28.9 | 18.2 |\n",
       "| 24.6 | 22 | 24.7 | 34.0 |  95.8 |  87.9 |  99.2 | 25.2 | 16.6 |\n",
       "| 10.9 | 26 | 24.9 | 37.4 | 101.8 |  86.4 | 101.2 | 29.4 | 18.2 |\n",
       "| 27.8 | 24 | 25.6 | 34.4 |  97.3 | 100.0 | 101.9 | 27.7 | 17.7 |\n",
       "| 20.6 | 24 | 26.5 | 39.0 | 104.5 |  94.4 | 107.8 | 30.6 | 18.8 |\n",
       "\n"
      ],
      "text/plain": [
       "  BODYFAT AGE ADIPOSITY NECK CHEST ABDOMEN HIP   FOREARM WRIST\n",
       "1 12.6    23  23.7      36.2  93.1  85.2    94.5 27.4    17.1 \n",
       "2  6.9    22  23.4      38.5  93.6  83.0    98.7 28.9    18.2 \n",
       "3 24.6    22  24.7      34.0  95.8  87.9    99.2 25.2    16.6 \n",
       "4 10.9    26  24.9      37.4 101.8  86.4   101.2 29.4    18.2 \n",
       "5 27.8    24  25.6      34.4  97.3 100.0   101.9 27.7    17.7 \n",
       "6 20.6    24  26.5      39.0 104.5  94.4   107.8 30.6    18.8 "
      ]
     },
     "metadata": {},
     "output_type": "display_data"
    }
   ],
   "source": [
    "lm.step = lm(BODYFAT ~ AGE + ADIPOSITY + NECK + CHEST + ABDOMEN + HIP + FOREARM + WRIST, data = data[-RMIndex, ])\n",
    "data.mod = lm.step$model\n",
    "head(data.mod)"
   ]
  },
  {
   "cell_type": "code",
   "execution_count": 70,
   "metadata": {},
   "outputs": [
    {
     "data": {
      "text/html": [
       "<dl class=dl-horizontal>\n",
       "\t<dt>V1</dt>\n",
       "\t\t<dd>'ABDOMEN'</dd>\n",
       "\t<dt>V2</dt>\n",
       "\t\t<dd>'WRIST'</dd>\n",
       "\t<dt>R^2</dt>\n",
       "\t\t<dd>'0.704'</dd>\n",
       "</dl>\n"
      ],
      "text/latex": [
       "\\begin{description*}\n",
       "\\item[V1] 'ABDOMEN'\n",
       "\\item[V2] 'WRIST'\n",
       "\\item[R\\textbackslash{}textasciicircum\\{\\}2] '0.704'\n",
       "\\end{description*}\n"
      ],
      "text/markdown": [
       "V1\n",
       ":   'ABDOMEN'V2\n",
       ":   'WRIST'R^2\n",
       ":   '0.704'\n",
       "\n"
      ],
      "text/plain": [
       "       V1        V2       R^2 \n",
       "\"ABDOMEN\"   \"WRIST\"   \"0.704\" "
      ]
     },
     "metadata": {},
     "output_type": "display_data"
    }
   ],
   "source": [
    "results = matrix(rep(0, 28*3), ncol = 3, nrow = 28)\n",
    "colnames(results) = c(\"V1\", \"V2\", \"R^2\")\n",
    "k = 1\n",
    "for(i in 2:8){\n",
    "    s = i+1\n",
    "    for(j in s:9){\n",
    "        results[k, c(1,2)] = colnames(data.mod)[c(i,j)]\n",
    "        results[k, 3] = round(summary(lm(BODYFAT~., data = data.mod[,c(1,i,j)]))$r.squared, 3)\n",
    "        k = k+1\n",
    "    }\n",
    "}\n",
    "results[results[,3]==max(results[,3]),]"
   ]
  },
  {
   "cell_type": "code",
   "execution_count": 71,
   "metadata": {},
   "outputs": [
    {
     "data": {
      "text/html": [
       "<dl class=dl-horizontal>\n",
       "\t<dt>V1</dt>\n",
       "\t\t<dd>'WEIGHT'</dd>\n",
       "\t<dt>V2</dt>\n",
       "\t\t<dd>'ABDOMEN'</dd>\n",
       "\t<dt>R^2</dt>\n",
       "\t\t<dd>'0.708'</dd>\n",
       "</dl>\n"
      ],
      "text/latex": [
       "\\begin{description*}\n",
       "\\item[V1] 'WEIGHT'\n",
       "\\item[V2] 'ABDOMEN'\n",
       "\\item[R\\textbackslash{}textasciicircum\\{\\}2] '0.708'\n",
       "\\end{description*}\n"
      ],
      "text/markdown": [
       "V1\n",
       ":   'WEIGHT'V2\n",
       ":   'ABDOMEN'R^2\n",
       ":   '0.708'\n",
       "\n"
      ],
      "text/plain": [
       "       V1        V2       R^2 \n",
       " \"WEIGHT\" \"ABDOMEN\"   \"0.708\" "
      ]
     },
     "metadata": {},
     "output_type": "display_data"
    }
   ],
   "source": [
    "results = matrix(rep(0, 91*3), ncol = 3, nrow = 91)\n",
    "colnames(results) = c(\"V1\", \"V2\", \"R^2\")\n",
    "k = 1\n",
    "for(i in 2:14){\n",
    "    s = i+1\n",
    "    for(j in s:15){\n",
    "        results[k, c(1,2)] = colnames(data)[c(i,j)]\n",
    "        results[k, 3] = round(summary(lm(BODYFAT~., data = data[-RMIndex,c(1,i,j)]))$r.squared, 3)\n",
    "        k = k+1\n",
    "    }\n",
    "}\n",
    "results[results[,3]==max(results[,3]),]"
   ]
  },
  {
   "cell_type": "code",
   "execution_count": 72,
   "metadata": {},
   "outputs": [
    {
     "ename": "ERROR",
     "evalue": "Error in eval(expr, envir, enclos): object 'AGE' not found\n",
     "output_type": "error",
     "traceback": [
      "Error in eval(expr, envir, enclos): object 'AGE' not found\nTraceback:\n"
     ]
    },
    {
     "data": {
      "image/png": "[encoded data removed]",
      "text/plain": [
       "plot without title"
      ]
     },
     "metadata": {},
     "output_type": "display_data"
    }
   ],
   "source": [
    "##------------------------ scatterplot matrix\n",
    "require(SciViews)\n",
    "library(\"KernSmooth\") \n",
    "### box and regression line\n",
    "panel.box <- function(x, ...)\n",
    "{\n",
    "  usr <- par(\"usr\"); on.exit(par(usr))\n",
    "  par(usr = c(usr[3:4],0, 2 ))\n",
    "  #par(usr = c(min(x)-1.5*IQR(x),max(x)+1.5*IQR(x), 0,2 ))\n",
    "  boxplot(x,horizontal = TRUE, add=TRUE)\n",
    "}\n",
    "\n",
    "pairs(data,panel =function(x,y,...){\n",
    "  points(x,y,...)\n",
    "  abline(lm(y~x),col = 'red')\n",
    "},\n",
    "cex = 1.5,pch = 16, col = \"light blue\",\n",
    "diag.panel = panel.box, cex.labels = 2,font.labels = 2)\n",
    "\n",
    "\n",
    "\n",
    "AGE + ADIPOSITY + NECK + CHEST + ABDOMEN + HIP + FOREARM + \n",
    "    WRIST"
   ]
  },
  {
   "cell_type": "code",
   "execution_count": null,
   "metadata": {},
   "outputs": [],
   "source": [
    "hist(data[-RMIndex, 2], breaks = 246)"
   ]
  },
  {
   "cell_type": "code",
   "execution_count": null,
   "metadata": {},
   "outputs": [],
   "source": [
    "14*13*12/1/2/3"
   ]
  },
  {
   "cell_type": "code",
   "execution_count": null,
   "metadata": {},
   "outputs": [],
   "source": [
    "results = matrix(rep(0, 364*4), ncol = 4, nrow = 364)\n",
    "colnames(results) = c(\"V1\", \"V2\", \"V3\", \"R^2\")\n",
    "k = 1\n",
    "for(i in 2:13){\n",
    "    s = i+1\n",
    "    for(j in s:14){\n",
    "        t = j+1\n",
    "        for(l in t:15){\n",
    "            results[k, c(1,2,3)] = colnames(data)[c(i,j,l)]\n",
    "            results[k, 4] = round(summary(lm(BODYFAT~., data = data[-RMIndex,c(1,i,j,l)]))$r.squared, 3)\n",
    "            k = k+1\n",
    "        }\n",
    "    }\n",
    "}\n",
    "results[results[,4]==max(results[,4]),]"
   ]
  },
  {
   "cell_type": "code",
   "execution_count": null,
   "metadata": {
    "scrolled": false
   },
   "outputs": [],
   "source": [
    "lm.final = lm(BODYFAT~WEIGHT+ABDOMEN+WRIST, data[-RMIndex,])\n",
    "summary(lm.final)"
   ]
  },
  {
   "cell_type": "code",
   "execution_count": null,
   "metadata": {
    "scrolled": false
   },
   "outputs": [],
   "source": [
    "boxcox(lm.final)"
   ]
  },
  {
   "cell_type": "code",
   "execution_count": null,
   "metadata": {},
   "outputs": [],
   "source": [
    "plot(lm.final, which = c(1,2))"
   ]
  },
  {
   "cell_type": "code",
   "execution_count": null,
   "metadata": {},
   "outputs": [],
   "source": []
  }
 ],
 "metadata": {
  "kernelspec": {
   "display_name": "R",
   "language": "R",
   "name": "ir"
  },
  "language_info": {
   "codemirror_mode": "r",
   "file_extension": ".r",
   "mimetype": "text/x-r-source",
   "name": "R",
   "pygments_lexer": "r",
   "version": "3.6.1"
  }
 },
 "nbformat": 4,
 "nbformat_minor": 2
}
