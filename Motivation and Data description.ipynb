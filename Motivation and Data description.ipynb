{
 "cells": [
  {
   "cell_type": "markdown",
   "metadata": {},
   "source": [
    "### Motivation"
   ]
  },
  {
   "attachments": {},
   "cell_type": "markdown",
   "metadata": {},
   "source": [
    "Nowadays, as people's quality of life increase, more people pay more attention to their health. Body fat has been a critical factor to evaluate a person's health condition. In our project, we want to use the BODYFAT data to train a linear model in order to predict the body fat by selected features. To let it be convienient for people to calculate their body fat, we want to make our model involve in as less variables as possible.To sum up, our project aims to give people a quick and simple way to get an estimation of their body fat value. "
   ]
  },
  {
   "cell_type": "markdown",
   "metadata": {},
   "source": [
    "### Data description"
   ]
  },
  {
   "cell_type": "markdown",
   "metadata": {},
   "source": [
    "We use the body fat data with 252 observations and 17 variables. The 17 variables are: ID number, Body fat, density, age, weight, height, Adiposity, Neck, Chest, Abdomen, Hip, Thigh, Knee, Ankel, Biceps, Forearm, Wrist. In the 17 variables, we use the Body fat as the reponse variables. Since body fat is calculated by the density according to Folk, in the data, the density can explain over 90% variation of the body fat and, in addition, it is hard for people to measure their density, we exclude this variable from our data analysis. Finally, we have a objective variable and 15 candidate variables."
   ]
  },
  {
   "cell_type": "code",
   "execution_count": null,
   "metadata": {},
   "outputs": [],
   "source": []
  }
 ],
 "metadata": {
  "kernelspec": {
   "display_name": "Python 3",
   "language": "python",
   "name": "python3"
  },
  "language_info": {
   "codemirror_mode": {
    "name": "ipython",
    "version": 3
   },
   "file_extension": ".py",
   "mimetype": "text/x-python",
   "name": "python",
   "nbconvert_exporter": "python",
   "pygments_lexer": "ipython3",
   "version": "3.7.4"
  }
 },
 "nbformat": 4,
 "nbformat_minor": 2
}
