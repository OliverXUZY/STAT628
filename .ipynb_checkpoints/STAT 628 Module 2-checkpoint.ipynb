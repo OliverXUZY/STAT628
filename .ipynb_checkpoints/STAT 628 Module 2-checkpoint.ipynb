{
 "cells": [
  {
   "cell_type": "markdown",
   "metadata": {},
   "source": [
    "# 1. Data Processing"
   ]
  },
  {
   "cell_type": "markdown",
   "metadata": {},
   "source": [
    "## 1.1. Read Data"
   ]
  },
  {
   "cell_type": "code",
   "execution_count": 8,
   "metadata": {},
   "outputs": [
    {
     "data": {
      "text/html": [
       "<table>\n",
       "<thead><tr><th scope=col>BODYFAT</th><th scope=col>AGE</th><th scope=col>WEIGHT</th><th scope=col>HEIGHT</th><th scope=col>ADIPOSITY</th><th scope=col>NECK</th><th scope=col>CHEST</th><th scope=col>ABDOMEN</th><th scope=col>HIP</th><th scope=col>THIGH</th><th scope=col>KNEE</th><th scope=col>ANKLE</th><th scope=col>BICEPS</th><th scope=col>FOREARM</th><th scope=col>WRIST</th></tr></thead>\n",
       "<tbody>\n",
       "\t<tr><td>12.6  </td><td>23    </td><td>154.25</td><td>67.75 </td><td>23.7  </td><td>36.2  </td><td> 93.1 </td><td> 85.2 </td><td> 94.5 </td><td>59.0  </td><td>37.3  </td><td>21.9  </td><td>32.0  </td><td>27.4  </td><td>17.1  </td></tr>\n",
       "\t<tr><td> 6.9  </td><td>22    </td><td>173.25</td><td>72.25 </td><td>23.4  </td><td>38.5  </td><td> 93.6 </td><td> 83.0 </td><td> 98.7 </td><td>58.7  </td><td>37.3  </td><td>23.4  </td><td>30.5  </td><td>28.9  </td><td>18.2  </td></tr>\n",
       "\t<tr><td>24.6  </td><td>22    </td><td>154.00</td><td>66.25 </td><td>24.7  </td><td>34.0  </td><td> 95.8 </td><td> 87.9 </td><td> 99.2 </td><td>59.6  </td><td>38.9  </td><td>24.0  </td><td>28.8  </td><td>25.2  </td><td>16.6  </td></tr>\n",
       "\t<tr><td>10.9  </td><td>26    </td><td>184.75</td><td>72.25 </td><td>24.9  </td><td>37.4  </td><td>101.8 </td><td> 86.4 </td><td>101.2 </td><td>60.1  </td><td>37.3  </td><td>22.8  </td><td>32.4  </td><td>29.4  </td><td>18.2  </td></tr>\n",
       "\t<tr><td>27.8  </td><td>24    </td><td>184.25</td><td>71.25 </td><td>25.6  </td><td>34.4  </td><td> 97.3 </td><td>100.0 </td><td>101.9 </td><td>63.2  </td><td>42.2  </td><td>24.0  </td><td>32.2  </td><td>27.7  </td><td>17.7  </td></tr>\n",
       "\t<tr><td>20.6  </td><td>24    </td><td>210.25</td><td>74.75 </td><td>26.5  </td><td>39.0  </td><td>104.5 </td><td> 94.4 </td><td>107.8 </td><td>66.0  </td><td>42.0  </td><td>25.6  </td><td>35.7  </td><td>30.6  </td><td>18.8  </td></tr>\n",
       "</tbody>\n",
       "</table>\n"
      ],
      "text/latex": [
       "\\begin{tabular}{r|lllllllllllllll}\n",
       " BODYFAT & AGE & WEIGHT & HEIGHT & ADIPOSITY & NECK & CHEST & ABDOMEN & HIP & THIGH & KNEE & ANKLE & BICEPS & FOREARM & WRIST\\\\\n",
       "\\hline\n",
       "\t 12.6   & 23     & 154.25 & 67.75  & 23.7   & 36.2   &  93.1  &  85.2  &  94.5  & 59.0   & 37.3   & 21.9   & 32.0   & 27.4   & 17.1  \\\\\n",
       "\t  6.9   & 22     & 173.25 & 72.25  & 23.4   & 38.5   &  93.6  &  83.0  &  98.7  & 58.7   & 37.3   & 23.4   & 30.5   & 28.9   & 18.2  \\\\\n",
       "\t 24.6   & 22     & 154.00 & 66.25  & 24.7   & 34.0   &  95.8  &  87.9  &  99.2  & 59.6   & 38.9   & 24.0   & 28.8   & 25.2   & 16.6  \\\\\n",
       "\t 10.9   & 26     & 184.75 & 72.25  & 24.9   & 37.4   & 101.8  &  86.4  & 101.2  & 60.1   & 37.3   & 22.8   & 32.4   & 29.4   & 18.2  \\\\\n",
       "\t 27.8   & 24     & 184.25 & 71.25  & 25.6   & 34.4   &  97.3  & 100.0  & 101.9  & 63.2   & 42.2   & 24.0   & 32.2   & 27.7   & 17.7  \\\\\n",
       "\t 20.6   & 24     & 210.25 & 74.75  & 26.5   & 39.0   & 104.5  &  94.4  & 107.8  & 66.0   & 42.0   & 25.6   & 35.7   & 30.6   & 18.8  \\\\\n",
       "\\end{tabular}\n"
      ],
      "text/markdown": [
       "\n",
       "| BODYFAT | AGE | WEIGHT | HEIGHT | ADIPOSITY | NECK | CHEST | ABDOMEN | HIP | THIGH | KNEE | ANKLE | BICEPS | FOREARM | WRIST |\n",
       "|---|---|---|---|---|---|---|---|---|---|---|---|---|---|---|\n",
       "| 12.6   | 23     | 154.25 | 67.75  | 23.7   | 36.2   |  93.1  |  85.2  |  94.5  | 59.0   | 37.3   | 21.9   | 32.0   | 27.4   | 17.1   |\n",
       "|  6.9   | 22     | 173.25 | 72.25  | 23.4   | 38.5   |  93.6  |  83.0  |  98.7  | 58.7   | 37.3   | 23.4   | 30.5   | 28.9   | 18.2   |\n",
       "| 24.6   | 22     | 154.00 | 66.25  | 24.7   | 34.0   |  95.8  |  87.9  |  99.2  | 59.6   | 38.9   | 24.0   | 28.8   | 25.2   | 16.6   |\n",
       "| 10.9   | 26     | 184.75 | 72.25  | 24.9   | 37.4   | 101.8  |  86.4  | 101.2  | 60.1   | 37.3   | 22.8   | 32.4   | 29.4   | 18.2   |\n",
       "| 27.8   | 24     | 184.25 | 71.25  | 25.6   | 34.4   |  97.3  | 100.0  | 101.9  | 63.2   | 42.2   | 24.0   | 32.2   | 27.7   | 17.7   |\n",
       "| 20.6   | 24     | 210.25 | 74.75  | 26.5   | 39.0   | 104.5  |  94.4  | 107.8  | 66.0   | 42.0   | 25.6   | 35.7   | 30.6   | 18.8   |\n",
       "\n"
      ],
      "text/plain": [
       "  BODYFAT AGE WEIGHT HEIGHT ADIPOSITY NECK CHEST ABDOMEN HIP   THIGH KNEE ANKLE\n",
       "1 12.6    23  154.25 67.75  23.7      36.2  93.1  85.2    94.5 59.0  37.3 21.9 \n",
       "2  6.9    22  173.25 72.25  23.4      38.5  93.6  83.0    98.7 58.7  37.3 23.4 \n",
       "3 24.6    22  154.00 66.25  24.7      34.0  95.8  87.9    99.2 59.6  38.9 24.0 \n",
       "4 10.9    26  184.75 72.25  24.9      37.4 101.8  86.4   101.2 60.1  37.3 22.8 \n",
       "5 27.8    24  184.25 71.25  25.6      34.4  97.3 100.0   101.9 63.2  42.2 24.0 \n",
       "6 20.6    24  210.25 74.75  26.5      39.0 104.5  94.4   107.8 66.0  42.0 25.6 \n",
       "  BICEPS FOREARM WRIST\n",
       "1 32.0   27.4    17.1 \n",
       "2 30.5   28.9    18.2 \n",
       "3 28.8   25.2    16.6 \n",
       "4 32.4   29.4    18.2 \n",
       "5 32.2   27.7    17.7 \n",
       "6 35.7   30.6    18.8 "
      ]
     },
     "metadata": {},
     "output_type": "display_data"
    }
   ],
   "source": [
    "rm(list =ls())\n",
    "library(MASS)\n",
    "\n",
    "data = read.csv(\"BodyFat.csv\")\n",
    "data = data[c(-1,-3)] # Rrmove indexes and density\n",
    "head(data)"
   ]
  },
  {
   "cell_type": "code",
   "execution_count": 2,
   "metadata": {},
   "outputs": [
    {
     "data": {
      "text/plain": [
       "    BODYFAT           AGE            WEIGHT          HEIGHT     \n",
       " Min.   : 0.00   Min.   :22.00   Min.   :118.5   Min.   :29.50  \n",
       " 1st Qu.:12.80   1st Qu.:35.75   1st Qu.:159.0   1st Qu.:68.25  \n",
       " Median :19.00   Median :43.00   Median :176.5   Median :70.00  \n",
       " Mean   :18.94   Mean   :44.88   Mean   :178.9   Mean   :70.15  \n",
       " 3rd Qu.:24.60   3rd Qu.:54.00   3rd Qu.:197.0   3rd Qu.:72.25  \n",
       " Max.   :45.10   Max.   :81.00   Max.   :363.1   Max.   :77.75  \n",
       "   ADIPOSITY          NECK           CHEST           ABDOMEN      \n",
       " Min.   :18.10   Min.   :31.10   Min.   : 79.30   Min.   : 69.40  \n",
       " 1st Qu.:23.10   1st Qu.:36.40   1st Qu.: 94.35   1st Qu.: 84.58  \n",
       " Median :25.05   Median :38.00   Median : 99.65   Median : 90.95  \n",
       " Mean   :25.44   Mean   :37.99   Mean   :100.82   Mean   : 92.56  \n",
       " 3rd Qu.:27.32   3rd Qu.:39.42   3rd Qu.:105.38   3rd Qu.: 99.33  \n",
       " Max.   :48.90   Max.   :51.20   Max.   :136.20   Max.   :148.10  \n",
       "      HIP            THIGH            KNEE           ANKLE          BICEPS     \n",
       " Min.   : 85.0   Min.   :47.20   Min.   :33.00   Min.   :19.1   Min.   :24.80  \n",
       " 1st Qu.: 95.5   1st Qu.:56.00   1st Qu.:36.98   1st Qu.:22.0   1st Qu.:30.20  \n",
       " Median : 99.3   Median :59.00   Median :38.50   Median :22.8   Median :32.05  \n",
       " Mean   : 99.9   Mean   :59.41   Mean   :38.59   Mean   :23.1   Mean   :32.27  \n",
       " 3rd Qu.:103.5   3rd Qu.:62.35   3rd Qu.:39.92   3rd Qu.:24.0   3rd Qu.:34.33  \n",
       " Max.   :147.7   Max.   :87.30   Max.   :49.10   Max.   :33.9   Max.   :45.00  \n",
       "    FOREARM          WRIST      \n",
       " Min.   :21.00   Min.   :15.80  \n",
       " 1st Qu.:27.30   1st Qu.:17.60  \n",
       " Median :28.70   Median :18.30  \n",
       " Mean   :28.66   Mean   :18.23  \n",
       " 3rd Qu.:30.00   3rd Qu.:18.80  \n",
       " Max.   :34.90   Max.   :21.40  "
      ]
     },
     "metadata": {},
     "output_type": "display_data"
    }
   ],
   "source": [
    "summary(data)"
   ]
  },
  {
   "cell_type": "code",
   "execution_count": 52,
   "metadata": {},
   "outputs": [],
   "source": [
    "RMIndex = which(data[,1]==0 | data[,3]==max(data[,3]) | data[,4]==min(data[,4]) | data[,6]==max(data[,6]) | data[,7]>125 | \n",
    "                data[,8]==max(data[,8]) | data[,9]>120 | data[,10]==max(data[,10]) | data[,11]==max(data[,11]) | \n",
    "                data[,11]==max(data[,11]) | data[,12]>29 | data[,13]==max(data[,13]))"
   ]
  },
  {
   "cell_type": "code",
   "execution_count": 57,
   "metadata": {},
   "outputs": [
    {
     "data": {
      "text/html": [
       "<table>\n",
       "<thead><tr><th></th><th scope=col>BODYFAT</th><th scope=col>AGE</th><th scope=col>WEIGHT</th><th scope=col>HEIGHT</th><th scope=col>ADIPOSITY</th><th scope=col>NECK</th><th scope=col>CHEST</th><th scope=col>ABDOMEN</th><th scope=col>HIP</th><th scope=col>THIGH</th><th scope=col>KNEE</th><th scope=col>ANKLE</th><th scope=col>BICEPS</th><th scope=col>FOREARM</th><th scope=col>WRIST</th></tr></thead>\n",
       "<tbody>\n",
       "\t<tr><th scope=row>31</th><td>12.3  </td><td>32    </td><td>182.00</td><td>73.75 </td><td>23.6  </td><td>38.7  </td><td>100.5 </td><td> 88.7 </td><td> 99.8 </td><td>57.5  </td><td>38.7  </td><td>33.9  </td><td>32.5  </td><td>27.7  </td><td>18.4  </td></tr>\n",
       "\t<tr><th scope=row>39</th><td>33.8  </td><td>46    </td><td>363.15</td><td>72.25 </td><td>48.9  </td><td>51.2  </td><td>136.2 </td><td>148.1 </td><td>147.7 </td><td>87.3  </td><td>49.1  </td><td>29.6  </td><td>45.0  </td><td>29.0  </td><td>21.4  </td></tr>\n",
       "\t<tr><th scope=row>41</th><td>33.1  </td><td>45    </td><td>262.75</td><td>68.75 </td><td>39.1  </td><td>43.2  </td><td>128.3 </td><td>126.2 </td><td>125.6 </td><td>72.5  </td><td>39.6  </td><td>26.6  </td><td>36.4  </td><td>32.7  </td><td>21.4  </td></tr>\n",
       "\t<tr><th scope=row>42</th><td>31.7  </td><td>44    </td><td>205.00</td><td>29.50 </td><td>29.9  </td><td>36.6  </td><td>106.0 </td><td>104.3 </td><td>115.5 </td><td>70.6  </td><td>42.5  </td><td>23.7  </td><td>33.6  </td><td>28.7  </td><td>17.4  </td></tr>\n",
       "\t<tr><th scope=row>86</th><td>25.8  </td><td>67    </td><td>167.00</td><td>67.50 </td><td>26.0  </td><td>36.5  </td><td> 98.9 </td><td> 89.7 </td><td> 96.2 </td><td>54.7  </td><td>37.8  </td><td>33.7  </td><td>32.4  </td><td>27.7  </td><td>18.2  </td></tr>\n",
       "\t<tr><th scope=row>182</th><td> 0.0  </td><td>40    </td><td>118.50</td><td>68.00 </td><td>18.1  </td><td>33.8  </td><td> 79.3 </td><td> 69.4 </td><td> 85.0 </td><td>47.2  </td><td>33.5  </td><td>20.2  </td><td>27.7  </td><td>24.6  </td><td>16.5  </td></tr>\n",
       "</tbody>\n",
       "</table>\n"
      ],
      "text/latex": [
       "\\begin{tabular}{r|lllllllllllllll}\n",
       "  & BODYFAT & AGE & WEIGHT & HEIGHT & ADIPOSITY & NECK & CHEST & ABDOMEN & HIP & THIGH & KNEE & ANKLE & BICEPS & FOREARM & WRIST\\\\\n",
       "\\hline\n",
       "\t31 & 12.3   & 32     & 182.00 & 73.75  & 23.6   & 38.7   & 100.5  &  88.7  &  99.8  & 57.5   & 38.7   & 33.9   & 32.5   & 27.7   & 18.4  \\\\\n",
       "\t39 & 33.8   & 46     & 363.15 & 72.25  & 48.9   & 51.2   & 136.2  & 148.1  & 147.7  & 87.3   & 49.1   & 29.6   & 45.0   & 29.0   & 21.4  \\\\\n",
       "\t41 & 33.1   & 45     & 262.75 & 68.75  & 39.1   & 43.2   & 128.3  & 126.2  & 125.6  & 72.5   & 39.6   & 26.6   & 36.4   & 32.7   & 21.4  \\\\\n",
       "\t42 & 31.7   & 44     & 205.00 & 29.50  & 29.9   & 36.6   & 106.0  & 104.3  & 115.5  & 70.6   & 42.5   & 23.7   & 33.6   & 28.7   & 17.4  \\\\\n",
       "\t86 & 25.8   & 67     & 167.00 & 67.50  & 26.0   & 36.5   &  98.9  &  89.7  &  96.2  & 54.7   & 37.8   & 33.7   & 32.4   & 27.7   & 18.2  \\\\\n",
       "\t182 &  0.0   & 40     & 118.50 & 68.00  & 18.1   & 33.8   &  79.3  &  69.4  &  85.0  & 47.2   & 33.5   & 20.2   & 27.7   & 24.6   & 16.5  \\\\\n",
       "\\end{tabular}\n"
      ],
      "text/markdown": [
       "\n",
       "| <!--/--> | BODYFAT | AGE | WEIGHT | HEIGHT | ADIPOSITY | NECK | CHEST | ABDOMEN | HIP | THIGH | KNEE | ANKLE | BICEPS | FOREARM | WRIST |\n",
       "|---|---|---|---|---|---|---|---|---|---|---|---|---|---|---|---|\n",
       "| 31 | 12.3   | 32     | 182.00 | 73.75  | 23.6   | 38.7   | 100.5  |  88.7  |  99.8  | 57.5   | 38.7   | 33.9   | 32.5   | 27.7   | 18.4   |\n",
       "| 39 | 33.8   | 46     | 363.15 | 72.25  | 48.9   | 51.2   | 136.2  | 148.1  | 147.7  | 87.3   | 49.1   | 29.6   | 45.0   | 29.0   | 21.4   |\n",
       "| 41 | 33.1   | 45     | 262.75 | 68.75  | 39.1   | 43.2   | 128.3  | 126.2  | 125.6  | 72.5   | 39.6   | 26.6   | 36.4   | 32.7   | 21.4   |\n",
       "| 42 | 31.7   | 44     | 205.00 | 29.50  | 29.9   | 36.6   | 106.0  | 104.3  | 115.5  | 70.6   | 42.5   | 23.7   | 33.6   | 28.7   | 17.4   |\n",
       "| 86 | 25.8   | 67     | 167.00 | 67.50  | 26.0   | 36.5   |  98.9  |  89.7  |  96.2  | 54.7   | 37.8   | 33.7   | 32.4   | 27.7   | 18.2   |\n",
       "| 182 |  0.0   | 40     | 118.50 | 68.00  | 18.1   | 33.8   |  79.3  |  69.4  |  85.0  | 47.2   | 33.5   | 20.2   | 27.7   | 24.6   | 16.5   |\n",
       "\n"
      ],
      "text/plain": [
       "    BODYFAT AGE WEIGHT HEIGHT ADIPOSITY NECK CHEST ABDOMEN HIP   THIGH KNEE\n",
       "31  12.3    32  182.00 73.75  23.6      38.7 100.5  88.7    99.8 57.5  38.7\n",
       "39  33.8    46  363.15 72.25  48.9      51.2 136.2 148.1   147.7 87.3  49.1\n",
       "41  33.1    45  262.75 68.75  39.1      43.2 128.3 126.2   125.6 72.5  39.6\n",
       "42  31.7    44  205.00 29.50  29.9      36.6 106.0 104.3   115.5 70.6  42.5\n",
       "86  25.8    67  167.00 67.50  26.0      36.5  98.9  89.7    96.2 54.7  37.8\n",
       "182  0.0    40  118.50 68.00  18.1      33.8  79.3  69.4    85.0 47.2  33.5\n",
       "    ANKLE BICEPS FOREARM WRIST\n",
       "31  33.9  32.5   27.7    18.4 \n",
       "39  29.6  45.0   29.0    21.4 \n",
       "41  26.6  36.4   32.7    21.4 \n",
       "42  23.7  33.6   28.7    17.4 \n",
       "86  33.7  32.4   27.7    18.2 \n",
       "182 20.2  27.7   24.6    16.5 "
      ]
     },
     "metadata": {},
     "output_type": "display_data"
    }
   ],
   "source": [
    "data[RMIndex,]"
   ]
  },
  {
   "cell_type": "code",
   "execution_count": null,
   "metadata": {},
   "outputs": [],
   "source": []
  },
  {
   "cell_type": "code",
   "execution_count": 32,
   "metadata": {},
   "outputs": [
    {
     "data": {
      "text/html": [
       "<ol class=list-inline>\n",
       "\t<li>'BODYFAT'</li>\n",
       "\t<li>'AGE'</li>\n",
       "\t<li>'WEIGHT'</li>\n",
       "\t<li>'HEIGHT'</li>\n",
       "\t<li>'ADIPOSITY'</li>\n",
       "\t<li>'NECK'</li>\n",
       "\t<li>'CHEST'</li>\n",
       "\t<li>'ABDOMEN'</li>\n",
       "\t<li>'HIP'</li>\n",
       "\t<li>'THIGH'</li>\n",
       "\t<li>'KNEE'</li>\n",
       "\t<li>'ANKLE'</li>\n",
       "\t<li>'BICEPS'</li>\n",
       "\t<li>'FOREARM'</li>\n",
       "\t<li>'WRIST'</li>\n",
       "</ol>\n"
      ],
      "text/latex": [
       "\\begin{enumerate*}\n",
       "\\item 'BODYFAT'\n",
       "\\item 'AGE'\n",
       "\\item 'WEIGHT'\n",
       "\\item 'HEIGHT'\n",
       "\\item 'ADIPOSITY'\n",
       "\\item 'NECK'\n",
       "\\item 'CHEST'\n",
       "\\item 'ABDOMEN'\n",
       "\\item 'HIP'\n",
       "\\item 'THIGH'\n",
       "\\item 'KNEE'\n",
       "\\item 'ANKLE'\n",
       "\\item 'BICEPS'\n",
       "\\item 'FOREARM'\n",
       "\\item 'WRIST'\n",
       "\\end{enumerate*}\n"
      ],
      "text/markdown": [
       "1. 'BODYFAT'\n",
       "2. 'AGE'\n",
       "3. 'WEIGHT'\n",
       "4. 'HEIGHT'\n",
       "5. 'ADIPOSITY'\n",
       "6. 'NECK'\n",
       "7. 'CHEST'\n",
       "8. 'ABDOMEN'\n",
       "9. 'HIP'\n",
       "10. 'THIGH'\n",
       "11. 'KNEE'\n",
       "12. 'ANKLE'\n",
       "13. 'BICEPS'\n",
       "14. 'FOREARM'\n",
       "15. 'WRIST'\n",
       "\n",
       "\n"
      ],
      "text/plain": [
       " [1] \"BODYFAT\"   \"AGE\"       \"WEIGHT\"    \"HEIGHT\"    \"ADIPOSITY\" \"NECK\"     \n",
       " [7] \"CHEST\"     \"ABDOMEN\"   \"HIP\"       \"THIGH\"     \"KNEE\"      \"ANKLE\"    \n",
       "[13] \"BICEPS\"    \"FOREARM\"   \"WRIST\"    "
      ]
     },
     "metadata": {},
     "output_type": "display_data"
    }
   ],
   "source": [
    "colnames(data)"
   ]
  },
  {
   "cell_type": "code",
   "execution_count": 80,
   "metadata": {
    "scrolled": false
   },
   "outputs": [
    {
     "data": {
      "image/png": "[encoded data removed]",
      "text/plain": [
       "Plot with title \"WRIST\""
      ]
     },
     "metadata": {},
     "output_type": "display_data"
    }
   ],
   "source": [
    "par(mfrow = c(3,5))\n",
    "for(i in 1:15){\n",
    "    plot(data[,i], main = colnames(data)[i], ylab = \"Value\")\n",
    "}\n",
    "par(mfrow = c(1,1))"
   ]
  },
  {
   "cell_type": "markdown",
   "metadata": {},
   "source": [
    "## 1.2. Simple Linear Regression"
   ]
  },
  {
   "cell_type": "code",
   "execution_count": 58,
   "metadata": {},
   "outputs": [
    {
     "data": {
      "text/plain": [
       "\n",
       "Call:\n",
       "lm(formula = BODYFAT ~ ., data = data[-RMIndex, ])\n",
       "\n",
       "Residuals:\n",
       "    Min      1Q  Median      3Q     Max \n",
       "-9.6122 -2.8144 -0.1194  2.6547  9.0421 \n",
       "\n",
       "Coefficients:\n",
       "             Estimate Std. Error t value Pr(>|t|)    \n",
       "(Intercept) -23.31282   37.48098  -0.622  0.53456    \n",
       "AGE           0.05736    0.03042   1.886  0.06062 .  \n",
       "WEIGHT       -0.08606    0.10412  -0.827  0.40935    \n",
       "HEIGHT        0.22398    0.51062   0.439  0.66133    \n",
       "ADIPOSITY     0.71013    0.72808   0.975  0.33041    \n",
       "NECK         -0.36884    0.22051  -1.673  0.09574 .  \n",
       "CHEST        -0.14238    0.10348  -1.376  0.17017    \n",
       "ABDOMEN       0.81941    0.08678   9.442  < 2e-16 ***\n",
       "HIP          -0.15610    0.14120  -1.106  0.27008    \n",
       "THIGH         0.16625    0.13763   1.208  0.22831    \n",
       "KNEE         -0.09870    0.24395  -0.405  0.68615    \n",
       "ANKLE        -0.04853    0.33852  -0.143  0.88613    \n",
       "BICEPS        0.11535    0.16151   0.714  0.47584    \n",
       "FOREARM       0.23995    0.19336   1.241  0.21588    \n",
       "WRIST        -1.43144    0.52457  -2.729  0.00685 ** \n",
       "---\n",
       "Signif. codes:  0 '***' 0.001 '**' 0.01 '*' 0.05 '.' 0.1 ' ' 1\n",
       "\n",
       "Residual standard error: 3.931 on 231 degrees of freedom\n",
       "Multiple R-squared:  0.7458,\tAdjusted R-squared:  0.7303 \n",
       "F-statistic:  48.4 on 14 and 231 DF,  p-value: < 2.2e-16\n"
      ]
     },
     "metadata": {},
     "output_type": "display_data"
    }
   ],
   "source": [
    "lm.naive = lm(BODYFAT~., data = data[-RMIndex,])\n",
    "summary(lm.naive)"
   ]
  },
  {
   "cell_type": "code",
   "execution_count": 59,
   "metadata": {},
   "outputs": [
    {
     "data": {
      "image/png": "[encoded data removed]",
      "text/plain": [
       "Plot with title \"\""
      ]
     },
     "metadata": {},
     "output_type": "display_data"
    }
   ],
   "source": [
    "par(mfrow = c(2,2))\n",
    "plot(lm.naive)\n",
    "par(mfrow = c(1,1))"
   ]
  },
  {
   "cell_type": "markdown",
   "metadata": {},
   "source": [
    "## 1.3. Identify Outliers And Strong Influential Points"
   ]
  },
  {
   "cell_type": "markdown",
   "metadata": {},
   "source": [
    "### 1.3.1. Studentized Residual"
   ]
  },
  {
   "cell_type": "code",
   "execution_count": 75,
   "metadata": {},
   "outputs": [
    {
     "data": {
      "image/png": "[encoded data removed]",
      "text/plain": [
       "Plot with title \"Fitted Values v.s. Studentized Residuals\""
      ]
     },
     "metadata": {},
     "output_type": "display_data"
    }
   ],
   "source": [
    "index = 1:dim(data)[1]\n",
    "lm.stdres = stdres(lm.naive)\n",
    "plot(x = lm.naive$fitted.values, y = lm.stdres, ylab = \"Studentized residuals\", xlab = \"Fitted Values\", \n",
    "     main = \"Fitted Values v.s. Studentized Residuals\", pch = 20)\n",
    "#text(y = lm.stdres[which(abs(lm.stdres)>3)], x = lm.naive$fitted.values[which(abs(lm.stdres)>3)], \n",
    "#     labels = index[which(abs(lm.stdres)>3)], cex = 1, pos = 3)"
   ]
  },
  {
   "cell_type": "markdown",
   "metadata": {},
   "source": [
    "### 1.3.2. Leverage Value"
   ]
  },
  {
   "cell_type": "code",
   "execution_count": 71,
   "metadata": {},
   "outputs": [
    {
     "data": {
      "image/png": "[encoded data removed]",
      "text/plain": [
       "Plot with title \"Leverage\""
      ]
     },
     "metadata": {},
     "output_type": "display_data"
    }
   ],
   "source": [
    "lm.hats=hatvalues(lm.naive)\n",
    "plot(lm.hats, type = \"h\", ylim = c(0, 1), ylab = \"Leverage Value\", main = \"Leverage\") \n",
    "h0 = 28/252 # Rule of thumb for judging outliers\n",
    "text(y = lm.hats[lm.hats>h0], x = which(lm.hats>h0), labels = which(lm.hats>h0), cex = 1, pos = 3)\n",
    "abline(h = h0, lty = 2)\n",
    "legend(\"topright\", legend = expression(2*p/n), lty = 2)"
   ]
  },
  {
   "cell_type": "markdown",
   "metadata": {},
   "source": [
    "### 1.3.3. DFFITS"
   ]
  },
  {
   "cell_type": "code",
   "execution_count": 72,
   "metadata": {},
   "outputs": [
    {
     "data": {
      "image/png": "[encoded data removed]",
      "text/plain": [
       "Plot with title \"DFFITS\""
      ]
     },
     "metadata": {},
     "output_type": "display_data"
    }
   ],
   "source": [
    "lm.dffits = dffits(lm.naive)\n",
    "plot(lm.dffits, type = \"h\", ylim = c(-3, 6), ylab = \"DFFITS\", main = \"DFFITS\")\n",
    "d0 = 2*sqrt(14/252) # Rule of thumb for judging influential points\n",
    "text(y = lm.dffits[abs(lm.dffits)>d0], x = which(abs(lm.dffits)>d0), labels = which(abs(lm.dffits)>d0), cex = 1, pos = 3)\n",
    "abline(h = c(-1*d0, 0, d0), lty = c(2,1,2))\n",
    "legend(\"topright\", legend = expression(2*sqrt(p/n)), lty = 2)"
   ]
  },
  {
   "cell_type": "markdown",
   "metadata": {},
   "source": [
    "### 1.3.4. Cook's Distance"
   ]
  },
  {
   "cell_type": "code",
   "execution_count": 73,
   "metadata": {},
   "outputs": [
    {
     "ename": "ERROR",
     "evalue": "Error in text.default(y = lm.cooksD[lm.cooksD > c0], x = which(lm.cooksD > : zero-length 'labels' specified\n",
     "output_type": "error",
     "traceback": [
      "Error in text.default(y = lm.cooksD[lm.cooksD > c0], x = which(lm.cooksD > : zero-length 'labels' specified\nTraceback:\n",
      "1. text(y = lm.cooksD[lm.cooksD > c0], x = which(lm.cooksD > c0), \n .     labels = which(lm.cooksD > c0), cex = 1, pos = 3)",
      "2. text.default(y = lm.cooksD[lm.cooksD > c0], x = which(lm.cooksD > \n .     c0), labels = which(lm.cooksD > c0), cex = 1, pos = 3)"
     ]
    },
    {
     "data": {
      "image/png": "[encoded data removed]",
      "text/plain": [
       "Plot with title \"Cook's Distance\""
      ]
     },
     "metadata": {},
     "output_type": "display_data"
    }
   ],
   "source": [
    "lm.cooksD=cooks.distance(lm.naive)\n",
    "plot(lm.cooksD, type = \"h\", ylim = c(0, 1), ylab = \"Cook's Distance\", main = \"Cook's Distance\")\n",
    "c0 = qf(0.5, 14, 238)\n",
    "text(y = lm.cooksD[lm.cooksD>c0], x = which(lm.cooksD>c0), labels = which(lm.cooksD>c0), cex = 1, pos = 3)\n",
    "abline(h = c0, lty = 2)\n",
    "legend(\"topright\", legend = expression(F[paste(\"p,n-p\", sep=\"\")]), lty = 2)"
   ]
  },
  {
   "cell_type": "code",
   "execution_count": 74,
   "metadata": {
    "scrolled": false
   },
   "outputs": [
    {
     "data": {
      "text/html": [
       "<table>\n",
       "<thead><tr><th></th><th scope=col>BODYFAT</th><th scope=col>AGE</th><th scope=col>WEIGHT</th><th scope=col>HEIGHT</th><th scope=col>ADIPOSITY</th><th scope=col>NECK</th><th scope=col>CHEST</th><th scope=col>ABDOMEN</th><th scope=col>HIP</th><th scope=col>THIGH</th><th scope=col>KNEE</th><th scope=col>ANKLE</th><th scope=col>BICEPS</th><th scope=col>FOREARM</th><th scope=col>WRIST</th></tr></thead>\n",
       "<tbody>\n",
       "\t<tr><th scope=row>210</th><td>11.3  </td><td>47    </td><td>159.75</td><td>70.75 </td><td>22.5  </td><td>34.5  </td><td>92.9  </td><td>84.4  </td><td>94.0  </td><td>56.0  </td><td>38.2  </td><td>22.6  </td><td>29.0  </td><td>26.2  </td><td>17.6  </td></tr>\n",
       "\t<tr><th scope=row>215</th><td>19.3  </td><td>50    </td><td>172.75</td><td>73.00 </td><td>22.8  </td><td>37.4  </td><td>98.7  </td><td>87.6  </td><td>96.1  </td><td>57.1  </td><td>38.1  </td><td>21.8  </td><td>28.6  </td><td>26.7  </td><td>18.0  </td></tr>\n",
       "</tbody>\n",
       "</table>\n"
      ],
      "text/latex": [
       "\\begin{tabular}{r|lllllllllllllll}\n",
       "  & BODYFAT & AGE & WEIGHT & HEIGHT & ADIPOSITY & NECK & CHEST & ABDOMEN & HIP & THIGH & KNEE & ANKLE & BICEPS & FOREARM & WRIST\\\\\n",
       "\\hline\n",
       "\t210 & 11.3   & 47     & 159.75 & 70.75  & 22.5   & 34.5   & 92.9   & 84.4   & 94.0   & 56.0   & 38.2   & 22.6   & 29.0   & 26.2   & 17.6  \\\\\n",
       "\t215 & 19.3   & 50     & 172.75 & 73.00  & 22.8   & 37.4   & 98.7   & 87.6   & 96.1   & 57.1   & 38.1   & 21.8   & 28.6   & 26.7   & 18.0  \\\\\n",
       "\\end{tabular}\n"
      ],
      "text/markdown": [
       "\n",
       "| <!--/--> | BODYFAT | AGE | WEIGHT | HEIGHT | ADIPOSITY | NECK | CHEST | ABDOMEN | HIP | THIGH | KNEE | ANKLE | BICEPS | FOREARM | WRIST |\n",
       "|---|---|---|---|---|---|---|---|---|---|---|---|---|---|---|---|\n",
       "| 210 | 11.3   | 47     | 159.75 | 70.75  | 22.5   | 34.5   | 92.9   | 84.4   | 94.0   | 56.0   | 38.2   | 22.6   | 29.0   | 26.2   | 17.6   |\n",
       "| 215 | 19.3   | 50     | 172.75 | 73.00  | 22.8   | 37.4   | 98.7   | 87.6   | 96.1   | 57.1   | 38.1   | 21.8   | 28.6   | 26.7   | 18.0   |\n",
       "\n"
      ],
      "text/plain": [
       "    BODYFAT AGE WEIGHT HEIGHT ADIPOSITY NECK CHEST ABDOMEN HIP  THIGH KNEE\n",
       "210 11.3    47  159.75 70.75  22.5      34.5 92.9  84.4    94.0 56.0  38.2\n",
       "215 19.3    50  172.75 73.00  22.8      37.4 98.7  87.6    96.1 57.1  38.1\n",
       "    ANKLE BICEPS FOREARM WRIST\n",
       "210 22.6  29.0   26.2    17.6 \n",
       "215 21.8  28.6   26.7    18.0 "
      ]
     },
     "metadata": {},
     "output_type": "display_data"
    }
   ],
   "source": [
    "data[which(lm.hats>h0 & abs(lm.dffits)>d0),]"
   ]
  },
  {
   "cell_type": "markdown",
   "metadata": {},
   "source": [
    "These Points have both large leverage value and DFFITS."
   ]
  },
  {
   "cell_type": "code",
   "execution_count": 67,
   "metadata": {
    "scrolled": false
   },
   "outputs": [
    {
     "name": "stdout",
     "output_type": "stream",
     "text": [
      "Start:  AIC=688.07\n",
      "BODYFAT ~ AGE + WEIGHT + HEIGHT + ADIPOSITY + NECK + CHEST + \n",
      "    ABDOMEN + HIP + THIGH + KNEE + ANKLE + BICEPS + FOREARM + \n",
      "    WRIST\n",
      "\n",
      "            Df Sum of Sq    RSS    AIC\n",
      "- ANKLE      1      0.32 3570.6 686.09\n",
      "- KNEE       1      2.53 3572.8 686.24\n",
      "- HEIGHT     1      2.97 3573.3 686.27\n",
      "- BICEPS     1      7.88 3578.2 686.61\n",
      "- WEIGHT     1     10.56 3580.8 686.79\n",
      "- ADIPOSITY  1     14.70 3585.0 687.08\n",
      "- HIP        1     18.89 3589.2 687.36\n",
      "- THIGH      1     22.55 3592.8 687.62\n",
      "- FOREARM    1     23.80 3594.1 687.70\n",
      "<none>                   3570.3 688.07\n",
      "- CHEST      1     29.26 3599.5 688.07\n",
      "- NECK       1     43.24 3613.5 689.03\n",
      "- AGE        1     54.95 3625.2 689.82\n",
      "- WRIST      1    115.09 3685.4 693.87\n",
      "- ABDOMEN    1   1378.02 4948.3 766.36\n",
      "\n",
      "Step:  AIC=686.09\n",
      "BODYFAT ~ AGE + WEIGHT + HEIGHT + ADIPOSITY + NECK + CHEST + \n",
      "    ABDOMEN + HIP + THIGH + KNEE + BICEPS + FOREARM + WRIST\n",
      "\n",
      "            Df Sum of Sq    RSS    AIC\n",
      "- HEIGHT     1      2.82 3573.4 684.28\n",
      "- KNEE       1      3.34 3573.9 684.32\n",
      "- BICEPS     1      8.54 3579.1 684.68\n",
      "- WEIGHT     1     10.68 3581.3 684.82\n",
      "- ADIPOSITY  1     14.39 3585.0 685.08\n",
      "- HIP        1     18.59 3589.2 685.37\n",
      "- THIGH      1     22.27 3592.9 685.62\n",
      "- FOREARM    1     23.59 3594.2 685.71\n",
      "- CHEST      1     28.95 3599.5 686.08\n",
      "<none>                   3570.6 686.09\n",
      "- NECK       1     43.27 3613.9 687.05\n",
      "- AGE        1     58.43 3629.0 688.08\n",
      "- WRIST      1    135.93 3706.5 693.28\n",
      "- ABDOMEN    1   1408.60 4979.2 765.89\n",
      "\n",
      "Step:  AIC=684.28\n",
      "BODYFAT ~ AGE + WEIGHT + ADIPOSITY + NECK + CHEST + ABDOMEN + \n",
      "    HIP + THIGH + KNEE + BICEPS + FOREARM + WRIST\n",
      "\n",
      "            Df Sum of Sq    RSS    AIC\n",
      "- KNEE       1      3.02 3576.4 682.49\n",
      "- BICEPS     1      8.41 3581.8 682.86\n",
      "- WEIGHT     1     16.06 3589.5 683.39\n",
      "- HIP        1     17.39 3590.8 683.48\n",
      "- THIGH      1     20.63 3594.0 683.70\n",
      "- FOREARM    1     24.60 3598.0 683.97\n",
      "- CHEST      1     28.47 3601.9 684.24\n",
      "<none>                   3573.4 684.28\n",
      "- ADIPOSITY  1     39.88 3613.3 685.01\n",
      "- NECK       1     44.33 3617.8 685.32\n",
      "- AGE        1     56.94 3630.4 686.17\n",
      "- WRIST      1    135.53 3709.0 691.44\n",
      "- ABDOMEN    1   1421.99 4995.4 764.69\n",
      "\n",
      "Step:  AIC=682.49\n",
      "BODYFAT ~ AGE + WEIGHT + ADIPOSITY + NECK + CHEST + ABDOMEN + \n",
      "    HIP + THIGH + BICEPS + FOREARM + WRIST\n",
      "\n",
      "            Df Sum of Sq    RSS    AIC\n",
      "- BICEPS     1      9.57 3586.0 681.15\n",
      "- THIGH      1     17.90 3594.3 681.72\n",
      "- HIP        1     19.49 3595.9 681.83\n",
      "- WEIGHT     1     23.35 3599.8 682.09\n",
      "- FOREARM    1     23.67 3600.1 682.11\n",
      "- CHEST      1     27.66 3604.1 682.39\n",
      "<none>                   3576.4 682.49\n",
      "- NECK       1     41.93 3618.4 683.36\n",
      "- ADIPOSITY  1     42.92 3619.4 683.43\n",
      "- AGE        1     53.92 3630.4 684.17\n",
      "- WRIST      1    147.18 3723.6 690.41\n",
      "- ABDOMEN    1   1433.38 5009.8 763.40\n",
      "\n",
      "Step:  AIC=681.15\n",
      "BODYFAT ~ AGE + WEIGHT + ADIPOSITY + NECK + CHEST + ABDOMEN + \n",
      "    HIP + THIGH + FOREARM + WRIST\n",
      "\n",
      "            Df Sum of Sq    RSS    AIC\n",
      "- WEIGHT     1     19.74 3605.7 680.50\n",
      "- HIP        1     21.51 3607.5 680.62\n",
      "- THIGH      1     25.91 3611.9 680.92\n",
      "- CHEST      1     26.15 3612.2 680.94\n",
      "<none>                   3586.0 681.15\n",
      "- FOREARM    1     35.44 3621.5 681.57\n",
      "- NECK       1     39.40 3625.4 681.84\n",
      "- ADIPOSITY  1     49.59 3635.6 682.53\n",
      "- AGE        1     56.64 3642.6 683.00\n",
      "- WRIST      1    144.34 3730.3 688.86\n",
      "- ABDOMEN    1   1429.66 5015.7 761.69\n",
      "\n",
      "Step:  AIC=680.5\n",
      "BODYFAT ~ AGE + ADIPOSITY + NECK + CHEST + ABDOMEN + HIP + THIGH + \n",
      "    FOREARM + WRIST\n",
      "\n",
      "            Df Sum of Sq    RSS    AIC\n",
      "- THIGH      1     18.53 3624.3 679.76\n",
      "- FOREARM    1     27.65 3633.4 680.38\n",
      "<none>                   3605.7 680.50\n",
      "- NECK       1     56.84 3662.6 682.35\n",
      "- HIP        1     66.00 3671.7 682.96\n",
      "- CHEST      1     67.27 3673.0 683.05\n",
      "- ADIPOSITY  1     74.35 3680.1 683.52\n",
      "- AGE        1     82.45 3688.2 684.06\n",
      "- WRIST      1    214.30 3820.0 692.70\n",
      "- ABDOMEN    1   1427.39 5033.1 760.54\n",
      "\n",
      "Step:  AIC=679.76\n",
      "BODYFAT ~ AGE + ADIPOSITY + NECK + CHEST + ABDOMEN + HIP + FOREARM + \n",
      "    WRIST\n",
      "\n",
      "            Df Sum of Sq    RSS    AIC\n",
      "<none>                   3624.3 679.76\n",
      "- FOREARM    1     30.57 3654.8 679.83\n",
      "- HIP        1     47.48 3671.7 680.96\n",
      "- NECK       1     49.17 3673.4 681.07\n",
      "- AGE        1     65.31 3689.6 682.15\n",
      "- CHEST      1     85.43 3709.7 683.49\n",
      "- ADIPOSITY  1    100.79 3725.1 684.51\n",
      "- WRIST      1    211.01 3835.3 691.68\n",
      "- ABDOMEN    1   1439.99 5064.3 760.06\n"
     ]
    },
    {
     "data": {
      "text/plain": [
       "\n",
       "Call:\n",
       "lm(formula = BODYFAT ~ AGE + ADIPOSITY + NECK + CHEST + ABDOMEN + \n",
       "    HIP + FOREARM + WRIST, data = data[-RMIndex, ])\n",
       "\n",
       "Coefficients:\n",
       "(Intercept)          AGE    ADIPOSITY         NECK        CHEST      ABDOMEN  \n",
       "    3.27219      0.05378      0.59209     -0.36766     -0.20854      0.79711  \n",
       "        HIP      FOREARM        WRIST  \n",
       "   -0.17533      0.25567     -1.66325  \n"
      ]
     },
     "metadata": {},
     "output_type": "display_data"
    }
   ],
   "source": [
    "step(lm.naive, direction = \"backward\")"
   ]
  },
  {
   "cell_type": "code",
   "execution_count": 87,
   "metadata": {},
   "outputs": [
    {
     "data": {
      "text/html": [
       "<table>\n",
       "<thead><tr><th scope=col>BODYFAT</th><th scope=col>AGE</th><th scope=col>ADIPOSITY</th><th scope=col>NECK</th><th scope=col>CHEST</th><th scope=col>ABDOMEN</th><th scope=col>HIP</th><th scope=col>FOREARM</th><th scope=col>WRIST</th></tr></thead>\n",
       "<tbody>\n",
       "\t<tr><td>12.6 </td><td>23   </td><td>23.7 </td><td>36.2 </td><td> 93.1</td><td> 85.2</td><td> 94.5</td><td>27.4 </td><td>17.1 </td></tr>\n",
       "\t<tr><td> 6.9 </td><td>22   </td><td>23.4 </td><td>38.5 </td><td> 93.6</td><td> 83.0</td><td> 98.7</td><td>28.9 </td><td>18.2 </td></tr>\n",
       "\t<tr><td>24.6 </td><td>22   </td><td>24.7 </td><td>34.0 </td><td> 95.8</td><td> 87.9</td><td> 99.2</td><td>25.2 </td><td>16.6 </td></tr>\n",
       "\t<tr><td>10.9 </td><td>26   </td><td>24.9 </td><td>37.4 </td><td>101.8</td><td> 86.4</td><td>101.2</td><td>29.4 </td><td>18.2 </td></tr>\n",
       "\t<tr><td>27.8 </td><td>24   </td><td>25.6 </td><td>34.4 </td><td> 97.3</td><td>100.0</td><td>101.9</td><td>27.7 </td><td>17.7 </td></tr>\n",
       "\t<tr><td>20.6 </td><td>24   </td><td>26.5 </td><td>39.0 </td><td>104.5</td><td> 94.4</td><td>107.8</td><td>30.6 </td><td>18.8 </td></tr>\n",
       "</tbody>\n",
       "</table>\n"
      ],
      "text/latex": [
       "\\begin{tabular}{r|lllllllll}\n",
       " BODYFAT & AGE & ADIPOSITY & NECK & CHEST & ABDOMEN & HIP & FOREARM & WRIST\\\\\n",
       "\\hline\n",
       "\t 12.6  & 23    & 23.7  & 36.2  &  93.1 &  85.2 &  94.5 & 27.4  & 17.1 \\\\\n",
       "\t  6.9  & 22    & 23.4  & 38.5  &  93.6 &  83.0 &  98.7 & 28.9  & 18.2 \\\\\n",
       "\t 24.6  & 22    & 24.7  & 34.0  &  95.8 &  87.9 &  99.2 & 25.2  & 16.6 \\\\\n",
       "\t 10.9  & 26    & 24.9  & 37.4  & 101.8 &  86.4 & 101.2 & 29.4  & 18.2 \\\\\n",
       "\t 27.8  & 24    & 25.6  & 34.4  &  97.3 & 100.0 & 101.9 & 27.7  & 17.7 \\\\\n",
       "\t 20.6  & 24    & 26.5  & 39.0  & 104.5 &  94.4 & 107.8 & 30.6  & 18.8 \\\\\n",
       "\\end{tabular}\n"
      ],
      "text/markdown": [
       "\n",
       "| BODYFAT | AGE | ADIPOSITY | NECK | CHEST | ABDOMEN | HIP | FOREARM | WRIST |\n",
       "|---|---|---|---|---|---|---|---|---|\n",
       "| 12.6  | 23    | 23.7  | 36.2  |  93.1 |  85.2 |  94.5 | 27.4  | 17.1  |\n",
       "|  6.9  | 22    | 23.4  | 38.5  |  93.6 |  83.0 |  98.7 | 28.9  | 18.2  |\n",
       "| 24.6  | 22    | 24.7  | 34.0  |  95.8 |  87.9 |  99.2 | 25.2  | 16.6  |\n",
       "| 10.9  | 26    | 24.9  | 37.4  | 101.8 |  86.4 | 101.2 | 29.4  | 18.2  |\n",
       "| 27.8  | 24    | 25.6  | 34.4  |  97.3 | 100.0 | 101.9 | 27.7  | 17.7  |\n",
       "| 20.6  | 24    | 26.5  | 39.0  | 104.5 |  94.4 | 107.8 | 30.6  | 18.8  |\n",
       "\n"
      ],
      "text/plain": [
       "  BODYFAT AGE ADIPOSITY NECK CHEST ABDOMEN HIP   FOREARM WRIST\n",
       "1 12.6    23  23.7      36.2  93.1  85.2    94.5 27.4    17.1 \n",
       "2  6.9    22  23.4      38.5  93.6  83.0    98.7 28.9    18.2 \n",
       "3 24.6    22  24.7      34.0  95.8  87.9    99.2 25.2    16.6 \n",
       "4 10.9    26  24.9      37.4 101.8  86.4   101.2 29.4    18.2 \n",
       "5 27.8    24  25.6      34.4  97.3 100.0   101.9 27.7    17.7 \n",
       "6 20.6    24  26.5      39.0 104.5  94.4   107.8 30.6    18.8 "
      ]
     },
     "metadata": {},
     "output_type": "display_data"
    }
   ],
   "source": [
    "lm.step = lm(BODYFAT ~ AGE + ADIPOSITY + NECK + CHEST + ABDOMEN + HIP + FOREARM + WRIST, data = data[-RMIndex, ])\n",
    "data.mod = lm.step$model\n",
    "head(data.mod)"
   ]
  },
  {
   "cell_type": "code",
   "execution_count": 107,
   "metadata": {},
   "outputs": [
    {
     "data": {
      "text/html": [
       "<table>\n",
       "<thead><tr><th scope=col>V1</th><th scope=col>V2</th><th scope=col>R^2</th></tr></thead>\n",
       "<tbody>\n",
       "\t<tr><td>AGE      </td><td>ADIPOSITY</td><td>0.587    </td></tr>\n",
       "\t<tr><td>AGE      </td><td>NECK     </td><td>0.281    </td></tr>\n",
       "\t<tr><td>AGE      </td><td>CHEST    </td><td>0.504    </td></tr>\n",
       "\t<tr><td>AGE      </td><td>ABDOMEN  </td><td>0.683    </td></tr>\n",
       "\t<tr><td>AGE      </td><td>HIP      </td><td>0.496    </td></tr>\n",
       "\t<tr><td>AGE      </td><td>FOREARM  </td><td>0.222    </td></tr>\n",
       "\t<tr><td>AGE      </td><td>WRIST    </td><td>0.148    </td></tr>\n",
       "\t<tr><td>ADIPOSITY</td><td>NECK     </td><td>0.562    </td></tr>\n",
       "\t<tr><td>ADIPOSITY</td><td>CHEST    </td><td>0.551    </td></tr>\n",
       "\t<tr><td>ADIPOSITY</td><td>ABDOMEN  </td><td>0.676    </td></tr>\n",
       "\t<tr><td>ADIPOSITY</td><td>HIP      </td><td>0.549    </td></tr>\n",
       "\t<tr><td>ADIPOSITY</td><td>FOREARM  </td><td>0.563    </td></tr>\n",
       "\t<tr><td>ADIPOSITY</td><td>WRIST    </td><td>0.57     </td></tr>\n",
       "\t<tr><td>NECK     </td><td>CHEST    </td><td>0.484    </td></tr>\n",
       "\t<tr><td>NECK     </td><td>ABDOMEN  </td><td>0.702    </td></tr>\n",
       "\t<tr><td>NECK     </td><td>HIP      </td><td>0.393    </td></tr>\n",
       "\t<tr><td>NECK     </td><td>FOREARM  </td><td>0.23     </td></tr>\n",
       "\t<tr><td>NECK     </td><td>WRIST    </td><td>0.23     </td></tr>\n",
       "\t<tr><td>CHEST    </td><td>ABDOMEN  </td><td>0.69     </td></tr>\n",
       "\t<tr><td>CHEST    </td><td>HIP      </td><td>0.49     </td></tr>\n",
       "\t<tr><td>CHEST    </td><td>FOREARM  </td><td>0.483    </td></tr>\n",
       "\t<tr><td>CHEST    </td><td>WRIST    </td><td>0.5      </td></tr>\n",
       "\t<tr><td>ABDOMEN  </td><td>HIP      </td><td>0.696    </td></tr>\n",
       "\t<tr><td>ABDOMEN  </td><td>FOREARM  </td><td>0.683    </td></tr>\n",
       "\t<tr><td>ABDOMEN  </td><td>WRIST    </td><td>0.714    </td></tr>\n",
       "\t<tr><td>HIP      </td><td>FOREARM  </td><td>0.39     </td></tr>\n",
       "\t<tr><td>HIP      </td><td>WRIST    </td><td>0.395    </td></tr>\n",
       "\t<tr><td>FOREARM  </td><td>WRIST    </td><td>0.138    </td></tr>\n",
       "</tbody>\n",
       "</table>\n"
      ],
      "text/latex": [
       "\\begin{tabular}{lll}\n",
       " V1 & V2 & R\\textasciicircum{}2\\\\\n",
       "\\hline\n",
       "\t AGE       & ADIPOSITY & 0.587    \\\\\n",
       "\t AGE       & NECK      & 0.281    \\\\\n",
       "\t AGE       & CHEST     & 0.504    \\\\\n",
       "\t AGE       & ABDOMEN   & 0.683    \\\\\n",
       "\t AGE       & HIP       & 0.496    \\\\\n",
       "\t AGE       & FOREARM   & 0.222    \\\\\n",
       "\t AGE       & WRIST     & 0.148    \\\\\n",
       "\t ADIPOSITY & NECK      & 0.562    \\\\\n",
       "\t ADIPOSITY & CHEST     & 0.551    \\\\\n",
       "\t ADIPOSITY & ABDOMEN   & 0.676    \\\\\n",
       "\t ADIPOSITY & HIP       & 0.549    \\\\\n",
       "\t ADIPOSITY & FOREARM   & 0.563    \\\\\n",
       "\t ADIPOSITY & WRIST     & 0.57     \\\\\n",
       "\t NECK      & CHEST     & 0.484    \\\\\n",
       "\t NECK      & ABDOMEN   & 0.702    \\\\\n",
       "\t NECK      & HIP       & 0.393    \\\\\n",
       "\t NECK      & FOREARM   & 0.23     \\\\\n",
       "\t NECK      & WRIST     & 0.23     \\\\\n",
       "\t CHEST     & ABDOMEN   & 0.69     \\\\\n",
       "\t CHEST     & HIP       & 0.49     \\\\\n",
       "\t CHEST     & FOREARM   & 0.483    \\\\\n",
       "\t CHEST     & WRIST     & 0.5      \\\\\n",
       "\t ABDOMEN   & HIP       & 0.696    \\\\\n",
       "\t ABDOMEN   & FOREARM   & 0.683    \\\\\n",
       "\t ABDOMEN   & WRIST     & 0.714    \\\\\n",
       "\t HIP       & FOREARM   & 0.39     \\\\\n",
       "\t HIP       & WRIST     & 0.395    \\\\\n",
       "\t FOREARM   & WRIST     & 0.138    \\\\\n",
       "\\end{tabular}\n"
      ],
      "text/markdown": [
       "\n",
       "| V1 | V2 | R^2 |\n",
       "|---|---|---|\n",
       "| AGE       | ADIPOSITY | 0.587     |\n",
       "| AGE       | NECK      | 0.281     |\n",
       "| AGE       | CHEST     | 0.504     |\n",
       "| AGE       | ABDOMEN   | 0.683     |\n",
       "| AGE       | HIP       | 0.496     |\n",
       "| AGE       | FOREARM   | 0.222     |\n",
       "| AGE       | WRIST     | 0.148     |\n",
       "| ADIPOSITY | NECK      | 0.562     |\n",
       "| ADIPOSITY | CHEST     | 0.551     |\n",
       "| ADIPOSITY | ABDOMEN   | 0.676     |\n",
       "| ADIPOSITY | HIP       | 0.549     |\n",
       "| ADIPOSITY | FOREARM   | 0.563     |\n",
       "| ADIPOSITY | WRIST     | 0.57      |\n",
       "| NECK      | CHEST     | 0.484     |\n",
       "| NECK      | ABDOMEN   | 0.702     |\n",
       "| NECK      | HIP       | 0.393     |\n",
       "| NECK      | FOREARM   | 0.23      |\n",
       "| NECK      | WRIST     | 0.23      |\n",
       "| CHEST     | ABDOMEN   | 0.69      |\n",
       "| CHEST     | HIP       | 0.49      |\n",
       "| CHEST     | FOREARM   | 0.483     |\n",
       "| CHEST     | WRIST     | 0.5       |\n",
       "| ABDOMEN   | HIP       | 0.696     |\n",
       "| ABDOMEN   | FOREARM   | 0.683     |\n",
       "| ABDOMEN   | WRIST     | 0.714     |\n",
       "| HIP       | FOREARM   | 0.39      |\n",
       "| HIP       | WRIST     | 0.395     |\n",
       "| FOREARM   | WRIST     | 0.138     |\n",
       "\n"
      ],
      "text/plain": [
       "      V1        V2        R^2  \n",
       " [1,] AGE       ADIPOSITY 0.587\n",
       " [2,] AGE       NECK      0.281\n",
       " [3,] AGE       CHEST     0.504\n",
       " [4,] AGE       ABDOMEN   0.683\n",
       " [5,] AGE       HIP       0.496\n",
       " [6,] AGE       FOREARM   0.222\n",
       " [7,] AGE       WRIST     0.148\n",
       " [8,] ADIPOSITY NECK      0.562\n",
       " [9,] ADIPOSITY CHEST     0.551\n",
       "[10,] ADIPOSITY ABDOMEN   0.676\n",
       "[11,] ADIPOSITY HIP       0.549\n",
       "[12,] ADIPOSITY FOREARM   0.563\n",
       "[13,] ADIPOSITY WRIST     0.57 \n",
       "[14,] NECK      CHEST     0.484\n",
       "[15,] NECK      ABDOMEN   0.702\n",
       "[16,] NECK      HIP       0.393\n",
       "[17,] NECK      FOREARM   0.23 \n",
       "[18,] NECK      WRIST     0.23 \n",
       "[19,] CHEST     ABDOMEN   0.69 \n",
       "[20,] CHEST     HIP       0.49 \n",
       "[21,] CHEST     FOREARM   0.483\n",
       "[22,] CHEST     WRIST     0.5  \n",
       "[23,] ABDOMEN   HIP       0.696\n",
       "[24,] ABDOMEN   FOREARM   0.683\n",
       "[25,] ABDOMEN   WRIST     0.714\n",
       "[26,] HIP       FOREARM   0.39 \n",
       "[27,] HIP       WRIST     0.395\n",
       "[28,] FOREARM   WRIST     0.138"
      ]
     },
     "metadata": {},
     "output_type": "display_data"
    }
   ],
   "source": [
    "results = matrix(rep(0, 28*3), ncol = 3, nrow = 28)\n",
    "colnames(results) = c(\"V1\", \"V2\", \"R^2\")\n",
    "k = 1\n",
    "for(i in 2:8){\n",
    "    s = i+1\n",
    "    for(j in s:9){\n",
    "        results[k, c(1,2)] = colnames(data.mod)[c(i,j)]\n",
    "        results[k, 3] = round(summary(lm(BODYFAT~., data = data.mod[,c(1,i,j)]))$r.squared, 3)\n",
    "        k = k+1\n",
    "    }\n",
    "}\n",
    "results"
   ]
  }
 ],
 "metadata": {
  "kernelspec": {
   "display_name": "R",
   "language": "R",
   "name": "ir"
  },
  "language_info": {
   "codemirror_mode": "r",
   "file_extension": ".r",
   "mimetype": "text/x-r-source",
   "name": "R",
   "pygments_lexer": "r",
   "version": "3.6.0"
  }
 },
 "nbformat": 4,
 "nbformat_minor": 2
}
